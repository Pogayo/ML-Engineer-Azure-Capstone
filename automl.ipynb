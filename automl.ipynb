{
  "cells": [
    {
      "cell_type": "markdown",
      "source": [
        "# Automated ML\n",
        "\n",
        "TODO: Import Dependencies. In the cell below, import all the dependencies that you will need to complete the project."
      ],
      "metadata": {}
    },
    {
      "cell_type": "code",
      "source": [
        "from azureml.core import Workspace, Experiment\n",
        "\n",
        "from azureml.core.compute import ComputeTarget, AmlCompute\n",
        "from azureml.core.compute_target import ComputeTargetException\n",
        "\n",
        "from azureml.data.dataset_factory import TabularDatasetFactory\n",
        "from azureml.train.automl import AutoMLConfig\n",
        "\n",
        "from azureml.widgets import RunDetails\n",
        "\n",
        "import pandas as pd\n",
        "import numpy as np\n",
        "\n",
        "from sklearn.model_selection import train_test_split\n"
      ],
      "outputs": [],
      "execution_count": 1,
      "metadata": {
        "gather": {
          "logged": 1609919946284
        },
        "jupyter": {
          "outputs_hidden": false,
          "source_hidden": false
        },
        "nteract": {
          "transient": {
            "deleting": false
          }
        }
      }
    },
    {
      "cell_type": "markdown",
      "source": [
        "## Dataset\n",
        "\n",
        "### Overview\n",
        "TODO: In this markdown cell, give an overview of the dataset you are using. Also mention the task you will be performing.\n",
        "\n",
        "\n",
        "TODO: Get data. In the cell below, write code to access the data you will be using in this project. Remember that the dataset needs to be external."
      ],
      "metadata": {}
    },
    {
      "cell_type": "code",
      "source": [
        "ws = Workspace.from_config()\n",
        "\n",
        "# choose a name for experiment\n",
        "experiment_name = 'mental-health-classification'\n",
        "\n",
        "experiment=Experiment(ws, experiment_name)"
      ],
      "outputs": [
        {
          "output_type": "stream",
          "name": "stdout",
          "text": [
            "Performing interactive authentication. Please follow the instructions on the terminal.\n",
            "To sign in, use a web browser to open the page https://microsoft.com/devicelogin and enter the code EYPDDGZU8 to authenticate.\n",
            "You have logged in. Now let us find all the subscriptions to which you have access...\n",
            "Interactive authentication successfully completed.\n"
          ]
        }
      ],
      "execution_count": 2,
      "metadata": {
        "gather": {
          "logged": 1609919996883
        },
        "jupyter": {
          "outputs_hidden": false,
          "source_hidden": false
        },
        "nteract": {
          "transient": {
            "deleting": false
          }
        }
      }
    },
    {
      "cell_type": "markdown",
      "source": [
        "### Creating the compute"
      ],
      "metadata": {}
    },
    {
      "cell_type": "code",
      "source": [
        "cpu_cluster_name = \"cpu-cluster\"\n",
        "\n",
        "   # Verify that cluster does not exist already\n",
        "try:\n",
        "    cpu_cluster = ComputeTarget(workspace=ws, name=cpu_cluster_name)\n",
        "    print('Found existing cluster, use it.')\n",
        "except ComputeTargetException:\n",
        "    compute_config = AmlCompute.provisioning_configuration(vm_size='STANDARD_D2_V2',max_nodes=7)\n",
        "    cpu_cluster = ComputeTarget.create(ws, cpu_cluster_name, compute_config)\n",
        "\n",
        "cpu_cluster.wait_for_completion(show_output=True)"
      ],
      "outputs": [
        {
          "output_type": "stream",
          "name": "stdout",
          "text": [
            "Found existing cluster, use it.\n",
            "Succeeded\n",
            "AmlCompute wait for completion finished\n",
            "\n",
            "Minimum number of nodes requested have been provisioned\n"
          ]
        }
      ],
      "execution_count": 3,
      "metadata": {
        "gather": {
          "logged": 1609920003381
        }
      }
    },
    {
      "cell_type": "markdown",
      "source": [
        "### Data Preparation\n",
        "#### Access the data"
      ],
      "metadata": {}
    },
    {
      "cell_type": "code",
      "source": [
        "# Create a project_folder if it doesn't exist\n",
        "if not os.path.isdir('data'):\n",
        "    os.mkdir('data')\n",
        "    \n",
        "if not os.path.exists('project_folder'):\n",
        "    os.makedirs('project_folder')\n",
        "\n"
      ],
      "outputs": [],
      "execution_count": 4,
      "metadata": {
        "gather": {
          "logged": 1609920012115
        }
      }
    },
    {
      "cell_type": "code",
      "source": [
        "project_folder=\"./project_folder/\""
      ],
      "outputs": [],
      "execution_count": 5,
      "metadata": {
        "collapsed": true,
        "jupyter": {
          "source_hidden": false,
          "outputs_hidden": false
        },
        "nteract": {
          "transient": {
            "deleting": false
          }
        },
        "gather": {
          "logged": 1609920019832
        }
      }
    },
    {
      "cell_type": "code",
      "source": [
        "df = pd.read_csv(\"Train.csv\")\n",
        "train_data, valid_data = train_test_split(df, test_size=0.1, random_state=42)\n",
        "label = \"label\""
      ],
      "outputs": [],
      "execution_count": 6,
      "metadata": {
        "gather": {
          "logged": 1609920047063
        }
      }
    },
    {
      "cell_type": "code",
      "source": [
        "train_data.head()"
      ],
      "outputs": [
        {
          "output_type": "execute_result",
          "execution_count": 7,
          "data": {
            "text/plain": "           ID                                           text       label\n56   6T8HVMG3        what can I do to minimize my alcoholism     Alcohol\n335  458NTYKE  Had a problem with my personal looks,feel sad  Depression\n439  43COYA4O                 What is the benefit of alcohol     Alcohol\n292  V0C7LKYN               I am very nervous and bothered,   Depression\n611  BOHSNXCN           What should I do to stop alcoholism?     Alcohol",
            "text/html": "<div>\n<style scoped>\n    .dataframe tbody tr th:only-of-type {\n        vertical-align: middle;\n    }\n\n    .dataframe tbody tr th {\n        vertical-align: top;\n    }\n\n    .dataframe thead th {\n        text-align: right;\n    }\n</style>\n<table border=\"1\" class=\"dataframe\">\n  <thead>\n    <tr style=\"text-align: right;\">\n      <th></th>\n      <th>ID</th>\n      <th>text</th>\n      <th>label</th>\n    </tr>\n  </thead>\n  <tbody>\n    <tr>\n      <th>56</th>\n      <td>6T8HVMG3</td>\n      <td>what can I do to minimize my alcoholism</td>\n      <td>Alcohol</td>\n    </tr>\n    <tr>\n      <th>335</th>\n      <td>458NTYKE</td>\n      <td>Had a problem with my personal looks,feel sad</td>\n      <td>Depression</td>\n    </tr>\n    <tr>\n      <th>439</th>\n      <td>43COYA4O</td>\n      <td>What is the benefit of alcohol</td>\n      <td>Alcohol</td>\n    </tr>\n    <tr>\n      <th>292</th>\n      <td>V0C7LKYN</td>\n      <td>I am very nervous and bothered,</td>\n      <td>Depression</td>\n    </tr>\n    <tr>\n      <th>611</th>\n      <td>BOHSNXCN</td>\n      <td>What should I do to stop alcoholism?</td>\n      <td>Alcohol</td>\n    </tr>\n  </tbody>\n</table>\n</div>"
          },
          "metadata": {}
        }
      ],
      "execution_count": 7,
      "metadata": {
        "gather": {
          "logged": 1609920058417
        }
      }
    },
    {
      "cell_type": "code",
      "source": [
        "train=train_data.iloc[:, 1:]\n",
        "valid=valid_data.iloc[:, 1:]\n",
        "\n",
        "\n",
        "train.to_csv('data/train.csv', index=False)\n",
        "valid.to_csv('data/valid.csv', index=False)"
      ],
      "outputs": [],
      "execution_count": 13,
      "metadata": {
        "gather": {
          "logged": 1609920142042
        }
      }
    },
    {
      "cell_type": "code",
      "source": [
        "train.head()"
      ],
      "outputs": [
        {
          "output_type": "execute_result",
          "execution_count": 10,
          "data": {
            "text/plain": "                                              text       label\n56         what can I do to minimize my alcoholism     Alcohol\n335  Had a problem with my personal looks,feel sad  Depression\n439                 What is the benefit of alcohol     Alcohol\n292               I am very nervous and bothered,   Depression\n611           What should I do to stop alcoholism?     Alcohol",
            "text/html": "<div>\n<style scoped>\n    .dataframe tbody tr th:only-of-type {\n        vertical-align: middle;\n    }\n\n    .dataframe tbody tr th {\n        vertical-align: top;\n    }\n\n    .dataframe thead th {\n        text-align: right;\n    }\n</style>\n<table border=\"1\" class=\"dataframe\">\n  <thead>\n    <tr style=\"text-align: right;\">\n      <th></th>\n      <th>text</th>\n      <th>label</th>\n    </tr>\n  </thead>\n  <tbody>\n    <tr>\n      <th>56</th>\n      <td>what can I do to minimize my alcoholism</td>\n      <td>Alcohol</td>\n    </tr>\n    <tr>\n      <th>335</th>\n      <td>Had a problem with my personal looks,feel sad</td>\n      <td>Depression</td>\n    </tr>\n    <tr>\n      <th>439</th>\n      <td>What is the benefit of alcohol</td>\n      <td>Alcohol</td>\n    </tr>\n    <tr>\n      <th>292</th>\n      <td>I am very nervous and bothered,</td>\n      <td>Depression</td>\n    </tr>\n    <tr>\n      <th>611</th>\n      <td>What should I do to stop alcoholism?</td>\n      <td>Alcohol</td>\n    </tr>\n  </tbody>\n</table>\n</div>"
          },
          "metadata": {}
        }
      ],
      "execution_count": 10,
      "metadata": {
        "collapsed": true,
        "jupyter": {
          "source_hidden": false,
          "outputs_hidden": false
        },
        "nteract": {
          "transient": {
            "deleting": false
          }
        },
        "gather": {
          "logged": 1609920102602
        }
      }
    },
    {
      "cell_type": "code",
      "source": [
        "datastore=ws.get_default_datastore()"
      ],
      "outputs": [],
      "execution_count": 11,
      "metadata": {
        "gather": {
          "logged": 1609920111010
        }
      }
    },
    {
      "cell_type": "code",
      "source": [
        "datastore.upload(src_dir=\"./data\", target_path=\"mental_health_clf\", show_progress=True)"
      ],
      "outputs": [
        {
          "output_type": "stream",
          "name": "stdout",
          "text": [
            "Uploading an estimated of 3 files\n",
            "Target already exists. Skipping upload for mental_health_clf/test.csv\n",
            "Target already exists. Skipping upload for mental_health_clf/train.csv\n",
            "Uploading ./data/valid.csv\n",
            "Uploaded ./data/valid.csv, 1 files out of an estimated total of 1\n",
            "Uploaded 1 files\n"
          ]
        },
        {
          "output_type": "execute_result",
          "execution_count": 14,
          "data": {
            "text/plain": "$AZUREML_DATAREFERENCE_ddd459687f7246e486be4cee2bb34abe"
          },
          "metadata": {}
        }
      ],
      "execution_count": 14,
      "metadata": {
        "gather": {
          "logged": 1609920150591
        }
      }
    },
    {
      "cell_type": "code",
      "source": [
        "train_set =TabularDatasetFactory.from_delimited_files(path=datastore.path(\"mental_health_clf/train.csv\"))"
      ],
      "outputs": [],
      "execution_count": 15,
      "metadata": {
        "gather": {
          "logged": 1609920184156
        }
      }
    },
    {
      "cell_type": "markdown",
      "source": [
        "## AutoML Configuration\n",
        "\n",
        "TODO: Explain why you chose the automl settings and cofiguration you used below."
      ],
      "metadata": {}
    },
    {
      "cell_type": "code",
      "source": [
        "# TODO: Put your automl settings here\n",
        "import time\n",
        "automl_settings = {\n",
        "    \"name\": \"AutoML_mental_health\".format(time.time()),\n",
        "    \"enable_early_stopping\" : True,\n",
        "    \"experiment_timeout_minutes\" : 40,\n",
        "    \"iteration_timeout_minutes\": 10,\n",
        "    \"n_cross_validations\": 5,\n",
        "    \"primary_metric\": 'accuracy',\n",
        "    \"max_concurrent_iterations\": 10,\n",
        "}\n",
        "\n",
        "# TODO: Put your automl config here\n",
        "automl_config = AutoMLConfig(task=\"classification\",\n",
        "                             training_data=train_set,\n",
        "                             label_column_name=\"label\",\n",
        "                             compute_target=cpu_cluster,\n",
        "                             debug_log='automl_errors.log',\n",
        "                             path=project_folder,\n",
        "                             model_explainability=True,\n",
        "                             **automl_settings,\n",
        "                            )"
      ],
      "outputs": [],
      "execution_count": 16,
      "metadata": {
        "gather": {
          "logged": 1609920185976
        },
        "jupyter": {
          "outputs_hidden": false,
          "source_hidden": false
        },
        "nteract": {
          "transient": {
            "deleting": false
          }
        }
      }
    },
    {
      "cell_type": "code",
      "source": [
        "# TODO: Submit your experiment\n",
        "remote_run = experiment.submit(config=automl_config, show_output=True)"
      ],
      "outputs": [
        {
          "output_type": "stream",
          "name": "stdout",
          "text": [
            "Running on remote.\n",
            "No run_configuration provided, running on cpu-cluster with default configuration\n",
            "Running on remote compute: cpu-cluster\n",
            "Parent Run ID: AutoML_1e2f15f6-8fc8-4d3d-9050-a36fd6bdb60c\n",
            "\n",
            "Current status: FeaturesGeneration. Generating features for the dataset.\n",
            "Current status: DatasetBalancing. Performing class balancing sweeping\n",
            "Current status: ModelSelection. Beginning model selection.\n",
            "\n",
            "****************************************************************************************************\n",
            "DATA GUARDRAILS: \n",
            "\n",
            "TYPE:         Class balancing detection\n",
            "STATUS:       ALERTED\n",
            "DESCRIPTION:  To decrease model bias, please cancel the current run and fix balancing problem.\n",
            "              Learn more about imbalanced data: https://aka.ms/AutomatedMLImbalancedData\n",
            "DETAILS:      Imbalanced data can lead to a falsely perceived positive effect of a model's accuracy because the input data has bias towards one class.\n",
            "+---------------------------------+---------------------------------+--------------------------------------+\n",
            "|Size of the smallest class       |Name/Label of the smallest class |Number of samples in the training data|\n",
            "+=================================+=================================+======================================+\n",
            "|49                               |Drugs                            |554                                   |\n",
            "+---------------------------------+---------------------------------+--------------------------------------+\n",
            "\n",
            "****************************************************************************************************\n",
            "\n",
            "TYPE:         Missing feature values imputation\n",
            "STATUS:       PASSED\n",
            "DESCRIPTION:  No feature missing values were detected in the training data.\n",
            "              Learn more about missing value imputation: https://aka.ms/AutomatedMLFeaturization\n",
            "\n",
            "****************************************************************************************************\n",
            "\n",
            "TYPE:         High cardinality feature detection\n",
            "STATUS:       DONE\n",
            "DESCRIPTION:  High cardinality features were detected in your inputs and handled.\n",
            "              Learn more about high cardinality feature handling: https://aka.ms/AutomatedMLFeaturization\n",
            "DETAILS:      High cardinality features refer to columns that contain a large percentage of unique values.\n",
            "+---------------------------------+---------------------------------+\n",
            "|Column name                      |Column Content Type              |\n",
            "+=================================+=================================+\n",
            "|text                             |text                             |\n",
            "+---------------------------------+---------------------------------+\n",
            "\n",
            "****************************************************************************************************\n",
            "\n",
            "****************************************************************************************************\n",
            "ITERATION: The iteration being evaluated.\n",
            "PIPELINE: A summary description of the pipeline being evaluated.\n",
            "DURATION: Time taken for the current iteration.\n",
            "METRIC: The result of computing score on the fitted pipeline.\n",
            "BEST: The best observed score thus far.\n",
            "****************************************************************************************************\n",
            "\n",
            " ITERATION   PIPELINE                                       DURATION      METRIC      BEST\n",
            "         2   MaxAbsScaler RandomForest                      0:00:49       0.8322    0.8322\n",
            "         6   MaxAbsScaler LogisticRegression                0:00:53       0.8465    0.8465\n",
            "         7   MaxAbsScaler RandomForest                      0:01:26       0.8357    0.8465\n",
            "         4   MaxAbsScaler RandomForest                      0:00:57       0.7039    0.8465\n",
            "         3   MaxAbsScaler RandomForest                      0:03:29       0.6733    0.8465\n",
            "         5   MaxAbsScaler RandomForest                      0:03:28       0.7905    0.8465\n",
            "         9   SparseNormalizer XGBoostClassifier             0:03:32       0.8358    0.8465\n",
            "         0   MaxAbsScaler LightGBM                          0:03:41       0.7978    0.8465\n",
            "         8   StandardScalerWrapper LogisticRegression       0:03:35       0.8519    0.8519\n",
            "         1   MaxAbsScaler XGBoostClassifier                 0:04:07       0.8519    0.8519\n",
            "        13   StandardScalerWrapper LightGBM                 0:00:48       0.7472    0.8519\n",
            "        11   MaxAbsScaler LogisticRegression                0:01:01       0.8446    0.8519\n",
            "        14   MaxAbsScaler RandomForest                      0:01:01       0.7491    0.8519\n",
            "        16   SparseNormalizer XGBoostClassifier             0:00:55       0.8231    0.8519\n",
            "        10   StandardScalerWrapper XGBoostClassifier        0:04:19       0.8357    0.8519\n",
            "        12   MaxAbsScaler LogisticRegression                0:01:35       0.8429    0.8519\n",
            "        17   SparseNormalizer XGBoostClassifier             0:01:15       0.8574    0.8574\n",
            "        15   MaxAbsScaler RandomForest                      0:01:04       0.7509    0.8574\n",
            "        18   StandardScalerWrapper RandomForest             0:01:00       0.8339    0.8574\n",
            "        19   StandardScalerWrapper XGBoostClassifier        0:00:56       0.8520    0.8574\n",
            "        20   SparseNormalizer LightGBM                      0:00:51       0.7365    0.8574\n",
            "        21   StandardScalerWrapper LightGBM                 0:01:00       0.7437    0.8574\n",
            "        23   MaxAbsScaler LightGBM                          0:00:52       0.7365    0.8574\n",
            "        25   TruncatedSVDWrapper XGBoostClassifier          0:00:48       0.5794    0.8574\n",
            "        22   SparseNormalizer XGBoostClassifier             0:01:27       0.8447    0.8574\n",
            "        24   StandardScalerWrapper ExtremeRandomTrees       0:00:56       0.8159    0.8574\n",
            "        27   StandardScalerWrapper LightGBM                 0:00:50       0.7581    0.8574\n",
            "        26   TruncatedSVDWrapper XGBoostClassifier          0:01:13       0.8086    0.8574\n",
            "        28   MaxAbsScaler LightGBM                          0:00:53       0.7365    0.8574\n",
            "        30   TruncatedSVDWrapper XGBoostClassifier          0:00:58       0.5794    0.8574\n",
            "        29   SparseNormalizer XGBoostClassifier             0:01:05       0.8411    0.8574\n",
            "        33   MaxAbsScaler LightGBM                          0:01:04       0.7328    0.8574\n",
            "        34   SparseNormalizer XGBoostClassifier             0:00:53       0.5794    0.8574\n",
            "        35   SparseNormalizer LightGBM                      0:01:09       0.8357    0.8574\n",
            "        36   MaxAbsScaler LogisticRegression                0:00:50       0.8555    0.8574\n",
            "        31   SparseNormalizer XGBoostClassifier             0:01:57       0.8484    0.8574\n",
            "        37   MaxAbsScaler LogisticRegression                0:00:55       0.8501    0.8574\n",
            "        38   SparseNormalizer XGBoostClassifier             0:01:35       0.8429    0.8574\n",
            "        41   SparseNormalizer XGBoostClassifier             0:01:00       0.8286    0.8574\n",
            "        32   SparseNormalizer XGBoostClassifier             0:02:52       0.8465    0.8574\n",
            "        39   SparseNormalizer XGBoostClassifier             0:01:39       0.8519    0.8574\n",
            "        40   SparseNormalizer XGBoostClassifier             0:01:20       0.8447    0.8574\n",
            "        42   SparseNormalizer RandomForest                  0:00:53       0.8014    0.8574\n",
            "        43   StandardScalerWrapper ExtremeRandomTrees       0:00:53       0.6047    0.8574\n",
            "        44                                                  0:01:07          nan    0.8574\n",
            "        45                                                  0:00:59          nan    0.8574\n",
            "        46                                                  0:00:50          nan    0.8574\n",
            "        47    VotingEnsemble                                0:01:33       0.8628    0.8628\n",
            "        48    StackEnsemble                                 0:01:40       0.8519    0.8628\n"
          ]
        }
      ],
      "execution_count": 17,
      "metadata": {
        "gather": {
          "logged": 1609921836069
        },
        "jupyter": {
          "outputs_hidden": false,
          "source_hidden": false
        },
        "nteract": {
          "transient": {
            "deleting": false
          }
        }
      }
    },
    {
      "cell_type": "markdown",
      "source": [
        "## Run Details\n",
        "\n",
        "OPTIONAL: Write about the different models trained and their performance. Why do you think some models did better than others?\n",
        "\n",
        "TODO: In the cell below, use the `RunDetails` widget to show the different experiments."
      ],
      "metadata": {}
    },
    {
      "cell_type": "code",
      "source": [
        "RunDetails(remote_run).show()"
      ],
      "outputs": [
        {
          "output_type": "display_data",
          "data": {
            "text/plain": "_AutoMLWidget(widget_settings={'childWidgetDisplay': 'popup', 'send_telemetry': False, 'log_level': 'INFO', 's…",
            "application/vnd.jupyter.widget-view+json": {
              "version_major": 2,
              "version_minor": 0,
              "model_id": "f18b159ce9c84c5fb999907403c50a9d"
            }
          },
          "metadata": {}
        },
        {
          "output_type": "display_data",
          "data": {
            "application/aml.mini.widget.v1": "{\"status\": \"Completed\", \"workbench_run_details_uri\": \"https://ml.azure.com/experiments/mental-health-classification/runs/AutoML_1e2f15f6-8fc8-4d3d-9050-a36fd6bdb60c?wsid=/subscriptions/61c5c3f0-6dc7-4ed9-a7f3-c704b20e3b30/resourcegroups/aml-quickstarts-133599/workspaces/quick-starts-ws-133599\", \"run_id\": \"AutoML_1e2f15f6-8fc8-4d3d-9050-a36fd6bdb60c\", \"run_properties\": {\"run_id\": \"AutoML_1e2f15f6-8fc8-4d3d-9050-a36fd6bdb60c\", \"created_utc\": \"2021-01-06T08:03:16.963701Z\", \"properties\": {\"num_iterations\": \"1000\", \"training_type\": \"TrainFull\", \"acquisition_function\": \"EI\", \"primary_metric\": \"accuracy\", \"train_split\": \"0\", \"acquisition_parameter\": \"0\", \"num_cross_validation\": \"5\", \"target\": \"cpu-cluster\", \"AMLSettingsJsonString\": \"{\\\"path\\\":null,\\\"name\\\":\\\"AutoML_mental_health\\\",\\\"subscription_id\\\":\\\"61c5c3f0-6dc7-4ed9-a7f3-c704b20e3b30\\\",\\\"resource_group\\\":\\\"aml-quickstarts-133599\\\",\\\"workspace_name\\\":\\\"quick-starts-ws-133599\\\",\\\"region\\\":\\\"southcentralus\\\",\\\"compute_target\\\":\\\"cpu-cluster\\\",\\\"spark_service\\\":null,\\\"azure_service\\\":\\\"remote\\\",\\\"many_models\\\":false,\\\"pipeline_fetch_max_batch_size\\\":1,\\\"iterations\\\":1000,\\\"primary_metric\\\":\\\"accuracy\\\",\\\"task_type\\\":\\\"classification\\\",\\\"data_script\\\":null,\\\"validation_size\\\":0.0,\\\"n_cross_validations\\\":5,\\\"y_min\\\":null,\\\"y_max\\\":null,\\\"num_classes\\\":null,\\\"featurization\\\":\\\"auto\\\",\\\"_ignore_package_version_incompatibilities\\\":false,\\\"is_timeseries\\\":false,\\\"max_cores_per_iteration\\\":1,\\\"max_concurrent_iterations\\\":10,\\\"iteration_timeout_minutes\\\":10,\\\"mem_in_mb\\\":null,\\\"enforce_time_on_windows\\\":false,\\\"experiment_timeout_minutes\\\":40,\\\"experiment_exit_score\\\":null,\\\"whitelist_models\\\":null,\\\"blacklist_algos\\\":[\\\"TensorFlowLinearClassifier\\\",\\\"TensorFlowDNN\\\"],\\\"supported_models\\\":[\\\"BernoulliNaiveBayes\\\",\\\"KNN\\\",\\\"ExtremeRandomTrees\\\",\\\"MultinomialNaiveBayes\\\",\\\"GradientBoosting\\\",\\\"LinearSVM\\\",\\\"SGD\\\",\\\"TensorFlowLinearClassifier\\\",\\\"LightGBM\\\",\\\"LogisticRegression\\\",\\\"RandomForest\\\",\\\"XGBoostClassifier\\\",\\\"TensorFlowDNN\\\",\\\"DecisionTree\\\",\\\"SVM\\\",\\\"AveragedPerceptronClassifier\\\"],\\\"auto_blacklist\\\":true,\\\"blacklist_samples_reached\\\":false,\\\"exclude_nan_labels\\\":true,\\\"verbosity\\\":20,\\\"_debug_log\\\":\\\"azureml_automl.log\\\",\\\"show_warnings\\\":false,\\\"model_explainability\\\":true,\\\"service_url\\\":null,\\\"sdk_url\\\":null,\\\"sdk_packages\\\":null,\\\"enable_onnx_compatible_models\\\":false,\\\"enable_split_onnx_featurizer_estimator_models\\\":false,\\\"vm_type\\\":\\\"STANDARD_D2_V2\\\",\\\"telemetry_verbosity\\\":20,\\\"send_telemetry\\\":true,\\\"enable_dnn\\\":false,\\\"scenario\\\":\\\"SDK-1.13.0\\\",\\\"environment_label\\\":null,\\\"force_text_dnn\\\":false,\\\"enable_feature_sweeping\\\":true,\\\"enable_early_stopping\\\":true,\\\"early_stopping_n_iters\\\":10,\\\"metrics\\\":null,\\\"enable_ensembling\\\":true,\\\"enable_stack_ensembling\\\":true,\\\"ensemble_iterations\\\":15,\\\"enable_tf\\\":false,\\\"enable_subsampling\\\":null,\\\"subsample_seed\\\":null,\\\"enable_nimbusml\\\":false,\\\"enable_streaming\\\":false,\\\"force_streaming\\\":false,\\\"track_child_runs\\\":true,\\\"allowed_private_models\\\":[],\\\"label_column_name\\\":\\\"label\\\",\\\"weight_column_name\\\":null,\\\"cv_split_column_names\\\":null,\\\"enable_local_managed\\\":false,\\\"_local_managed_run_id\\\":null,\\\"cost_mode\\\":1,\\\"lag_length\\\":0,\\\"metric_operation\\\":\\\"maximize\\\",\\\"preprocess\\\":true}\", \"DataPrepJsonString\": \"{\\\\\\\"training_data\\\\\\\": \\\\\\\"{\\\\\\\\\\\\\\\"blocks\\\\\\\\\\\\\\\": [{\\\\\\\\\\\\\\\"id\\\\\\\\\\\\\\\": \\\\\\\\\\\\\\\"dc4edfe3-2706-4a75-a1d7-ed7e447a7677\\\\\\\\\\\\\\\", \\\\\\\\\\\\\\\"type\\\\\\\\\\\\\\\": \\\\\\\\\\\\\\\"Microsoft.DPrep.GetDatastoreFilesBlock\\\\\\\\\\\\\\\", \\\\\\\\\\\\\\\"arguments\\\\\\\\\\\\\\\": {\\\\\\\\\\\\\\\"datastores\\\\\\\\\\\\\\\": [{\\\\\\\\\\\\\\\"datastoreName\\\\\\\\\\\\\\\": \\\\\\\\\\\\\\\"workspaceblobstore\\\\\\\\\\\\\\\", \\\\\\\\\\\\\\\"path\\\\\\\\\\\\\\\": \\\\\\\\\\\\\\\"mental_health_clf/train.csv\\\\\\\\\\\\\\\", \\\\\\\\\\\\\\\"resourceGroup\\\\\\\\\\\\\\\": \\\\\\\\\\\\\\\"aml-quickstarts-133599\\\\\\\\\\\\\\\", \\\\\\\\\\\\\\\"subscription\\\\\\\\\\\\\\\": \\\\\\\\\\\\\\\"61c5c3f0-6dc7-4ed9-a7f3-c704b20e3b30\\\\\\\\\\\\\\\", \\\\\\\\\\\\\\\"workspaceName\\\\\\\\\\\\\\\": \\\\\\\\\\\\\\\"quick-starts-ws-133599\\\\\\\\\\\\\\\"}]}, \\\\\\\\\\\\\\\"localData\\\\\\\\\\\\\\\": {}, \\\\\\\\\\\\\\\"isEnabled\\\\\\\\\\\\\\\": true, \\\\\\\\\\\\\\\"name\\\\\\\\\\\\\\\": null, \\\\\\\\\\\\\\\"annotation\\\\\\\\\\\\\\\": null}, {\\\\\\\\\\\\\\\"id\\\\\\\\\\\\\\\": \\\\\\\\\\\\\\\"68c16628-e392-413c-87eb-db96957f679f\\\\\\\\\\\\\\\", \\\\\\\\\\\\\\\"type\\\\\\\\\\\\\\\": \\\\\\\\\\\\\\\"Microsoft.DPrep.ParseDelimitedBlock\\\\\\\\\\\\\\\", \\\\\\\\\\\\\\\"arguments\\\\\\\\\\\\\\\": {\\\\\\\\\\\\\\\"columnHeadersMode\\\\\\\\\\\\\\\": 3, \\\\\\\\\\\\\\\"fileEncoding\\\\\\\\\\\\\\\": 0, \\\\\\\\\\\\\\\"handleQuotedLineBreaks\\\\\\\\\\\\\\\": false, \\\\\\\\\\\\\\\"preview\\\\\\\\\\\\\\\": false, \\\\\\\\\\\\\\\"separator\\\\\\\\\\\\\\\": \\\\\\\\\\\\\\\",\\\\\\\\\\\\\\\", \\\\\\\\\\\\\\\"skipRows\\\\\\\\\\\\\\\": 0, \\\\\\\\\\\\\\\"skipRowsMode\\\\\\\\\\\\\\\": 0}, \\\\\\\\\\\\\\\"localData\\\\\\\\\\\\\\\": {}, \\\\\\\\\\\\\\\"isEnabled\\\\\\\\\\\\\\\": true, \\\\\\\\\\\\\\\"name\\\\\\\\\\\\\\\": null, \\\\\\\\\\\\\\\"annotation\\\\\\\\\\\\\\\": null}, {\\\\\\\\\\\\\\\"id\\\\\\\\\\\\\\\": \\\\\\\\\\\\\\\"f4325869-f47d-4970-a080-f5f605a067ef\\\\\\\\\\\\\\\", \\\\\\\\\\\\\\\"type\\\\\\\\\\\\\\\": \\\\\\\\\\\\\\\"Microsoft.DPrep.DropColumnsBlock\\\\\\\\\\\\\\\", \\\\\\\\\\\\\\\"arguments\\\\\\\\\\\\\\\": {\\\\\\\\\\\\\\\"columns\\\\\\\\\\\\\\\": {\\\\\\\\\\\\\\\"type\\\\\\\\\\\\\\\": 0, \\\\\\\\\\\\\\\"details\\\\\\\\\\\\\\\": {\\\\\\\\\\\\\\\"selectedColumns\\\\\\\\\\\\\\\": [\\\\\\\\\\\\\\\"Path\\\\\\\\\\\\\\\"]}}}, \\\\\\\\\\\\\\\"localData\\\\\\\\\\\\\\\": {}, \\\\\\\\\\\\\\\"isEnabled\\\\\\\\\\\\\\\": true, \\\\\\\\\\\\\\\"name\\\\\\\\\\\\\\\": null, \\\\\\\\\\\\\\\"annotation\\\\\\\\\\\\\\\": null}, {\\\\\\\\\\\\\\\"id\\\\\\\\\\\\\\\": \\\\\\\\\\\\\\\"8feb6d0c-ca8c-416a-8cb6-4ab6ad30c542\\\\\\\\\\\\\\\", \\\\\\\\\\\\\\\"type\\\\\\\\\\\\\\\": \\\\\\\\\\\\\\\"Microsoft.DPrep.SetColumnTypesBlock\\\\\\\\\\\\\\\", \\\\\\\\\\\\\\\"arguments\\\\\\\\\\\\\\\": {\\\\\\\\\\\\\\\"columnConversion\\\\\\\\\\\\\\\": [{\\\\\\\\\\\\\\\"column\\\\\\\\\\\\\\\": {\\\\\\\\\\\\\\\"type\\\\\\\\\\\\\\\": 2, \\\\\\\\\\\\\\\"details\\\\\\\\\\\\\\\": {\\\\\\\\\\\\\\\"selectedColumn\\\\\\\\\\\\\\\": \\\\\\\\\\\\\\\"text\\\\\\\\\\\\\\\"}}, \\\\\\\\\\\\\\\"typeProperty\\\\\\\\\\\\\\\": 0}, {\\\\\\\\\\\\\\\"column\\\\\\\\\\\\\\\": {\\\\\\\\\\\\\\\"type\\\\\\\\\\\\\\\": 2, \\\\\\\\\\\\\\\"details\\\\\\\\\\\\\\\": {\\\\\\\\\\\\\\\"selectedColumn\\\\\\\\\\\\\\\": \\\\\\\\\\\\\\\"label\\\\\\\\\\\\\\\"}}, \\\\\\\\\\\\\\\"typeProperty\\\\\\\\\\\\\\\": 0}]}, \\\\\\\\\\\\\\\"localData\\\\\\\\\\\\\\\": {}, \\\\\\\\\\\\\\\"isEnabled\\\\\\\\\\\\\\\": true, \\\\\\\\\\\\\\\"name\\\\\\\\\\\\\\\": null, \\\\\\\\\\\\\\\"annotation\\\\\\\\\\\\\\\": null}], \\\\\\\\\\\\\\\"inspectors\\\\\\\\\\\\\\\": [], \\\\\\\\\\\\\\\"meta\\\\\\\\\\\\\\\": {\\\\\\\\\\\\\\\"savedDatasetId\\\\\\\\\\\\\\\": \\\\\\\\\\\\\\\"e615a22c-0064-494e-996e-0f54f91f49b9\\\\\\\\\\\\\\\", \\\\\\\\\\\\\\\"datasetType\\\\\\\\\\\\\\\": \\\\\\\\\\\\\\\"tabular\\\\\\\\\\\\\\\", \\\\\\\\\\\\\\\"subscriptionId\\\\\\\\\\\\\\\": \\\\\\\\\\\\\\\"61c5c3f0-6dc7-4ed9-a7f3-c704b20e3b30\\\\\\\\\\\\\\\", \\\\\\\\\\\\\\\"workspaceId\\\\\\\\\\\\\\\": \\\\\\\\\\\\\\\"eee06498-db7e-4013-a564-8e45ea309962\\\\\\\\\\\\\\\", \\\\\\\\\\\\\\\"workspaceLocation\\\\\\\\\\\\\\\": \\\\\\\\\\\\\\\"southcentralus\\\\\\\\\\\\\\\"}}\\\\\\\", \\\\\\\"activities\\\\\\\": 0}\", \"EnableSubsampling\": null, \"runTemplate\": \"AutoML\", \"azureml.runsource\": \"automl\", \"display_task_type\": \"classification\", \"dependencies_versions\": \"{\\\"azureml-widgets\\\": \\\"1.19.0\\\", \\\"azureml-train\\\": \\\"1.19.0\\\", \\\"azureml-train-restclients-hyperdrive\\\": \\\"1.19.0\\\", \\\"azureml-train-core\\\": \\\"1.19.0\\\", \\\"azureml-train-automl\\\": \\\"1.19.0\\\", \\\"azureml-train-automl-runtime\\\": \\\"1.19.0\\\", \\\"azureml-train-automl-client\\\": \\\"1.19.0\\\", \\\"azureml-tensorboard\\\": \\\"1.19.0\\\", \\\"azureml-telemetry\\\": \\\"1.19.0\\\", \\\"azureml-sdk\\\": \\\"1.19.0\\\", \\\"azureml-samples\\\": \\\"0+unknown\\\", \\\"azureml-pipeline\\\": \\\"1.19.0\\\", \\\"azureml-pipeline-steps\\\": \\\"1.19.0\\\", \\\"azureml-pipeline-core\\\": \\\"1.19.0\\\", \\\"azureml-opendatasets\\\": \\\"1.19.0\\\", \\\"azureml-model-management-sdk\\\": \\\"1.0.1b6.post1\\\", \\\"azureml-mlflow\\\": \\\"1.19.0\\\", \\\"azureml-interpret\\\": \\\"1.19.0\\\", \\\"azureml-explain-model\\\": \\\"1.19.0\\\", \\\"azureml-defaults\\\": \\\"1.19.0\\\", \\\"azureml-dataset-runtime\\\": \\\"1.19.0\\\", \\\"azureml-dataprep\\\": \\\"2.6.1\\\", \\\"azureml-dataprep-rslex\\\": \\\"1.4.0\\\", \\\"azureml-dataprep-native\\\": \\\"26.0.0\\\", \\\"azureml-datadrift\\\": \\\"1.19.0\\\", \\\"azureml-core\\\": \\\"1.19.0\\\", \\\"azureml-contrib-services\\\": \\\"1.19.0\\\", \\\"azureml-contrib-server\\\": \\\"1.19.0\\\", \\\"azureml-contrib-reinforcementlearning\\\": \\\"1.19.0\\\", \\\"azureml-contrib-pipeline-steps\\\": \\\"1.19.0\\\", \\\"azureml-contrib-notebook\\\": \\\"1.19.0\\\", \\\"azureml-contrib-interpret\\\": \\\"1.19.0\\\", \\\"azureml-contrib-gbdt\\\": \\\"1.19.0\\\", \\\"azureml-contrib-fairness\\\": \\\"1.19.0\\\", \\\"azureml-contrib-dataset\\\": \\\"1.19.0\\\", \\\"azureml-cli-common\\\": \\\"1.19.0\\\", \\\"azureml-automl-runtime\\\": \\\"1.19.0\\\", \\\"azureml-automl-core\\\": \\\"1.19.0\\\", \\\"azureml-accel-models\\\": \\\"1.19.0\\\"}\", \"_aml_system_scenario_identification\": \"Remote.Parent\", \"ClientType\": \"SDK\", \"environment_cpu_name\": \"AzureML-AutoML\", \"environment_cpu_label\": \"prod\", \"environment_gpu_name\": \"AzureML-AutoML-GPU\", \"environment_gpu_label\": \"prod\", \"root_attribution\": \"automl\", \"attribution\": \"AutoML\", \"Orchestrator\": \"AutoML\", \"CancelUri\": \"https://southcentralus.experiments.azureml.net/jasmine/v1.0/subscriptions/61c5c3f0-6dc7-4ed9-a7f3-c704b20e3b30/resourceGroups/aml-quickstarts-133599/providers/Microsoft.MachineLearningServices/workspaces/quick-starts-ws-133599/experimentids/d59e3a73-6d24-498b-87e0-a930006a7899/cancel/AutoML_1e2f15f6-8fc8-4d3d-9050-a36fd6bdb60c\", \"ClientSdkVersion\": \"1.19.0\", \"snapshotId\": \"00000000-0000-0000-0000-000000000000\", \"SetupRunId\": \"AutoML_1e2f15f6-8fc8-4d3d-9050-a36fd6bdb60c_setup\", \"SetupRunContainerId\": \"dcid.AutoML_1e2f15f6-8fc8-4d3d-9050-a36fd6bdb60c_setup\", \"FeaturizationRunJsonPath\": \"featurizer_container.json\", \"FeaturizationRunId\": \"AutoML_1e2f15f6-8fc8-4d3d-9050-a36fd6bdb60c_featurize\", \"ProblemInfoJsonString\": \"{\\\"dataset_num_categorical\\\": 0, \\\"is_sparse\\\": true, \\\"subsampling\\\": false, \\\"dataset_classes\\\": 4, \\\"dataset_features\\\": 5090, \\\"dataset_samples\\\": 554, \\\"single_frequency_class_detected\\\": false}\", \"ModelExplainRunId\": \"AutoML_1e2f15f6-8fc8-4d3d-9050-a36fd6bdb60c_ModelExplain\"}, \"tags\": {\"model_explain_run\": \"best_run\", \"_aml_system_azureml.automlComponent\": \"AutoML\", \"pipeline_id\": \"\", \"score\": \"\", \"predicted_cost\": \"\", \"fit_time\": \"\", \"training_percent\": \"\", \"iteration\": \"\", \"run_preprocessor\": \"\", \"run_algorithm\": \"\", \"dynamic_whitelisting_iterations\": \"<25>;<30>;<34>;<40>;<45>;\", \"automl_best_child_run_id\": \"AutoML_1e2f15f6-8fc8-4d3d-9050-a36fd6bdb60c_47\", \"model_explain_best_run_child_id\": \"AutoML_1e2f15f6-8fc8-4d3d-9050-a36fd6bdb60c_47\"}, \"end_time_utc\": \"2021-01-06T08:30:23.51486Z\", \"status\": \"Completed\", \"log_files\": {}, \"log_groups\": [], \"run_duration\": \"0:27:06\"}, \"child_runs\": [{\"run_id\": \"AutoML_1e2f15f6-8fc8-4d3d-9050-a36fd6bdb60c_0\", \"run_number\": 115, \"metric\": null, \"status\": \"Completed\", \"run_type\": \"azureml.scriptrun\", \"training_percent\": \"100\", \"start_time\": \"2021-01-06T08:18:43.510979Z\", \"end_time\": \"2021-01-06T08:22:24.817884Z\", \"created_time\": \"2021-01-06T08:14:47.020588Z\", \"created_time_dt\": \"2021-01-06T08:14:47.020588Z\", \"duration\": \"0:07:37\", \"iteration\": \"0\", \"goal\": \"accuracy_max\", \"run_name\": \"MaxAbsScaler, LightGBM\", \"run_properties\": \"copy=True\", \"primary_metric\": 0.79780508, \"best_metric\": 0.79780508}, {\"run_id\": \"AutoML_1e2f15f6-8fc8-4d3d-9050-a36fd6bdb60c_9\", \"run_number\": 116, \"metric\": null, \"status\": \"Completed\", \"run_type\": \"azureml.scriptrun\", \"training_percent\": \"100\", \"start_time\": \"2021-01-06T08:18:43.921966Z\", \"end_time\": \"2021-01-06T08:22:16.069347Z\", \"created_time\": \"2021-01-06T08:14:47.043993Z\", \"created_time_dt\": \"2021-01-06T08:14:47.043993Z\", \"duration\": \"0:07:29\", \"iteration\": \"9\", \"goal\": \"accuracy_max\", \"run_name\": \"SparseNormalizer, XGBoostClassifier\", \"run_properties\": \"<azureml.automl.runtime.shared.model_wrappers.SparseNormalizer object at 0x7fa14d60e748\", \"primary_metric\": 0.83575758, \"best_metric\": 0.85192465}, {\"run_id\": \"AutoML_1e2f15f6-8fc8-4d3d-9050-a36fd6bdb60c_8\", \"run_number\": 117, \"metric\": null, \"status\": \"Completed\", \"run_type\": \"azureml.scriptrun\", \"training_percent\": \"100\", \"start_time\": \"2021-01-06T08:18:43.122863Z\", \"end_time\": \"2021-01-06T08:22:17.938977Z\", \"created_time\": \"2021-01-06T08:14:47.052159Z\", \"created_time_dt\": \"2021-01-06T08:14:47.052159Z\", \"duration\": \"0:07:30\", \"iteration\": \"8\", \"goal\": \"accuracy_max\", \"run_name\": \"StandardScalerWrapper, LogisticRegression\", \"run_properties\": \"<azureml.automl.runtime.shared.model_wrappers.StandardScalerWrapper object at 0x7f82a4c42d30\", \"primary_metric\": 0.85190827, \"best_metric\": 0.85192465}, {\"run_id\": \"AutoML_1e2f15f6-8fc8-4d3d-9050-a36fd6bdb60c_7\", \"run_number\": 118, \"metric\": null, \"status\": \"Completed\", \"run_type\": \"azureml.scriptrun\", \"training_percent\": \"100\", \"start_time\": \"2021-01-06T08:16:50.630088Z\", \"end_time\": \"2021-01-06T08:18:16.450081Z\", \"created_time\": \"2021-01-06T08:14:47.05877Z\", \"created_time_dt\": \"2021-01-06T08:14:47.05877Z\", \"duration\": \"0:03:29\", \"iteration\": \"7\", \"goal\": \"accuracy_max\", \"run_name\": \"MaxAbsScaler, RandomForest\", \"run_properties\": \"copy=True\", \"primary_metric\": 0.83569206, \"best_metric\": 0.85192465}, {\"run_id\": \"AutoML_1e2f15f6-8fc8-4d3d-9050-a36fd6bdb60c_2\", \"run_number\": 119, \"metric\": null, \"status\": \"Completed\", \"run_type\": \"azureml.scriptrun\", \"training_percent\": \"100\", \"start_time\": \"2021-01-06T08:14:58.228526Z\", \"end_time\": \"2021-01-06T08:15:47.093915Z\", \"created_time\": \"2021-01-06T08:14:47.052093Z\", \"created_time_dt\": \"2021-01-06T08:14:47.052093Z\", \"duration\": \"0:01:00\", \"iteration\": \"2\", \"goal\": \"accuracy_max\", \"run_name\": \"MaxAbsScaler, RandomForest\", \"run_properties\": \"copy=True\", \"primary_metric\": 0.83215397, \"best_metric\": 0.85192465}, {\"run_id\": \"AutoML_1e2f15f6-8fc8-4d3d-9050-a36fd6bdb60c_4\", \"run_number\": 120, \"metric\": null, \"status\": \"Completed\", \"run_type\": \"azureml.scriptrun\", \"training_percent\": \"100\", \"start_time\": \"2021-01-06T08:18:19.403507Z\", \"end_time\": \"2021-01-06T08:19:16.199356Z\", \"created_time\": \"2021-01-06T08:14:47.053902Z\", \"created_time_dt\": \"2021-01-06T08:14:47.053902Z\", \"duration\": \"0:04:29\", \"iteration\": \"4\", \"goal\": \"accuracy_max\", \"run_name\": \"MaxAbsScaler, RandomForest\", \"run_properties\": \"copy=True\", \"primary_metric\": 0.70386568, \"best_metric\": 0.85192465}, {\"run_id\": \"AutoML_1e2f15f6-8fc8-4d3d-9050-a36fd6bdb60c_1\", \"run_number\": 121, \"metric\": null, \"status\": \"Completed\", \"run_type\": \"azureml.scriptrun\", \"training_percent\": \"100\", \"start_time\": \"2021-01-06T08:18:50.792258Z\", \"end_time\": \"2021-01-06T08:22:57.823923Z\", \"created_time\": \"2021-01-06T08:14:47.082184Z\", \"created_time_dt\": \"2021-01-06T08:14:47.082184Z\", \"duration\": \"0:08:10\", \"iteration\": \"1\", \"goal\": \"accuracy_max\", \"run_name\": \"MaxAbsScaler, XGBoostClassifier\", \"run_properties\": \"copy=True\", \"primary_metric\": 0.85192465, \"best_metric\": 0.85192465}, {\"run_id\": \"AutoML_1e2f15f6-8fc8-4d3d-9050-a36fd6bdb60c_6\", \"run_number\": 122, \"metric\": null, \"status\": \"Completed\", \"run_type\": \"azureml.scriptrun\", \"training_percent\": \"100\", \"start_time\": \"2021-01-06T08:15:51.038557Z\", \"end_time\": \"2021-01-06T08:16:44.349884Z\", \"created_time\": \"2021-01-06T08:14:47.105763Z\", \"created_time_dt\": \"2021-01-06T08:14:47.105763Z\", \"duration\": \"0:01:57\", \"iteration\": \"6\", \"goal\": \"accuracy_max\", \"run_name\": \"MaxAbsScaler, LogisticRegression\", \"run_properties\": \"copy=True\", \"primary_metric\": 0.84647011, \"best_metric\": 0.85192465}, {\"run_id\": \"AutoML_1e2f15f6-8fc8-4d3d-9050-a36fd6bdb60c_5\", \"run_number\": 123, \"metric\": null, \"status\": \"Completed\", \"run_type\": \"azureml.scriptrun\", \"training_percent\": \"100\", \"start_time\": \"2021-01-06T08:18:47.826661Z\", \"end_time\": \"2021-01-06T08:22:16.088485Z\", \"created_time\": \"2021-01-06T08:14:47.070124Z\", \"created_time_dt\": \"2021-01-06T08:14:47.070124Z\", \"duration\": \"0:07:29\", \"iteration\": \"5\", \"goal\": \"accuracy_max\", \"run_name\": \"MaxAbsScaler, RandomForest\", \"run_properties\": \"copy=True\", \"primary_metric\": 0.79049959, \"best_metric\": 0.85192465}, {\"run_id\": \"AutoML_1e2f15f6-8fc8-4d3d-9050-a36fd6bdb60c_3\", \"run_number\": 124, \"metric\": null, \"status\": \"Completed\", \"run_type\": \"azureml.scriptrun\", \"training_percent\": \"100\", \"start_time\": \"2021-01-06T08:18:48.333914Z\", \"end_time\": \"2021-01-06T08:22:17.203145Z\", \"created_time\": \"2021-01-06T08:14:47.076978Z\", \"created_time_dt\": \"2021-01-06T08:14:47.076978Z\", \"duration\": \"0:07:30\", \"iteration\": \"3\", \"goal\": \"accuracy_max\", \"run_name\": \"MaxAbsScaler, RandomForest\", \"run_properties\": \"copy=True\", \"primary_metric\": 0.67331695, \"best_metric\": 0.85192465}, {\"run_id\": \"AutoML_1e2f15f6-8fc8-4d3d-9050-a36fd6bdb60c_10\", \"run_number\": 125, \"metric\": null, \"status\": \"Completed\", \"run_type\": \"azureml.scriptrun\", \"training_percent\": \"100\", \"start_time\": \"2021-01-06T08:19:22.668337Z\", \"end_time\": \"2021-01-06T08:23:41.29937Z\", \"created_time\": \"2021-01-06T08:15:53.418797Z\", \"created_time_dt\": \"2021-01-06T08:15:53.418797Z\", \"duration\": \"0:07:47\", \"iteration\": \"10\", \"goal\": \"accuracy_max\", \"run_name\": \"StandardScalerWrapper, XGBoostClassifier\", \"run_properties\": \"<azureml.automl.runtime.shared.model_wrappers.StandardScalerWrapper object at 0x7f42406dbc88\", \"primary_metric\": 0.8356593, \"best_metric\": 0.85192465}, {\"run_id\": \"AutoML_1e2f15f6-8fc8-4d3d-9050-a36fd6bdb60c_11\", \"run_number\": 126, \"metric\": null, \"status\": \"Completed\", \"run_type\": \"azureml.scriptrun\", \"training_percent\": \"100\", \"start_time\": \"2021-01-06T08:22:16.359492Z\", \"end_time\": \"2021-01-06T08:23:16.938671Z\", \"created_time\": \"2021-01-06T08:16:46.920431Z\", \"created_time_dt\": \"2021-01-06T08:16:46.920431Z\", \"duration\": \"0:06:30\", \"iteration\": \"11\", \"goal\": \"accuracy_max\", \"run_name\": \"MaxAbsScaler, LogisticRegression\", \"run_properties\": \"copy=True\", \"primary_metric\": 0.84463554, \"best_metric\": 0.85192465}, {\"run_id\": \"AutoML_1e2f15f6-8fc8-4d3d-9050-a36fd6bdb60c_12\", \"run_number\": 127, \"metric\": null, \"status\": \"Completed\", \"run_type\": \"azureml.scriptrun\", \"training_percent\": \"100\", \"start_time\": \"2021-01-06T08:22:17.757922Z\", \"end_time\": \"2021-01-06T08:23:53.050557Z\", \"created_time\": \"2021-01-06T08:18:18.971296Z\", \"created_time_dt\": \"2021-01-06T08:18:18.971296Z\", \"duration\": \"0:05:34\", \"iteration\": \"12\", \"goal\": \"accuracy_max\", \"run_name\": \"MaxAbsScaler, LogisticRegression\", \"run_properties\": \"copy=True\", \"primary_metric\": 0.84285012, \"best_metric\": 0.85192465}, {\"run_id\": \"AutoML_1e2f15f6-8fc8-4d3d-9050-a36fd6bdb60c_13\", \"run_number\": 128, \"metric\": null, \"status\": \"Completed\", \"run_type\": \"azureml.scriptrun\", \"training_percent\": \"100\", \"start_time\": \"2021-01-06T08:22:25.083118Z\", \"end_time\": \"2021-01-06T08:23:12.998162Z\", \"created_time\": \"2021-01-06T08:19:18.370239Z\", \"created_time_dt\": \"2021-01-06T08:19:18.370239Z\", \"duration\": \"0:03:54\", \"iteration\": \"13\", \"goal\": \"accuracy_max\", \"run_name\": \"StandardScalerWrapper, LightGBM\", \"run_properties\": \"<azureml.automl.runtime.shared.model_wrappers.StandardScalerWrapper object at 0x7faaf5a2dda0\", \"primary_metric\": 0.74722359, \"best_metric\": 0.85192465}, {\"run_id\": \"AutoML_1e2f15f6-8fc8-4d3d-9050-a36fd6bdb60c_14\", \"run_number\": 129, \"metric\": null, \"status\": \"Completed\", \"run_type\": \"azureml.scriptrun\", \"training_percent\": \"100\", \"start_time\": \"2021-01-06T08:22:30.759219Z\", \"end_time\": \"2021-01-06T08:23:31.546846Z\", \"created_time\": \"2021-01-06T08:22:19.210236Z\", \"created_time_dt\": \"2021-01-06T08:22:19.210236Z\", \"duration\": \"0:01:12\", \"iteration\": \"14\", \"goal\": \"accuracy_max\", \"run_name\": \"MaxAbsScaler, RandomForest\", \"run_properties\": \"copy=True\", \"primary_metric\": 0.74912367, \"best_metric\": 0.85192465}, {\"run_id\": \"AutoML_1e2f15f6-8fc8-4d3d-9050-a36fd6bdb60c_15\", \"run_number\": 130, \"metric\": null, \"status\": \"Completed\", \"run_type\": \"azureml.scriptrun\", \"training_percent\": \"100\", \"start_time\": \"2021-01-06T08:23:17.664208Z\", \"end_time\": \"2021-01-06T08:24:21.65548Z\", \"created_time\": \"2021-01-06T08:22:19.346932Z\", \"created_time_dt\": \"2021-01-06T08:22:19.346932Z\", \"duration\": \"0:02:02\", \"iteration\": \"15\", \"goal\": \"accuracy_max\", \"run_name\": \"MaxAbsScaler, RandomForest\", \"run_properties\": \"copy=True\", \"primary_metric\": 0.75090909, \"best_metric\": 0.85192465}, {\"run_id\": \"AutoML_1e2f15f6-8fc8-4d3d-9050-a36fd6bdb60c_17\", \"run_number\": 131, \"metric\": null, \"status\": \"Completed\", \"run_type\": \"azureml.scriptrun\", \"training_percent\": \"100\", \"start_time\": \"2021-01-06T08:23:01.497248Z\", \"end_time\": \"2021-01-06T08:24:16.900014Z\", \"created_time\": \"2021-01-06T08:22:24.53883Z\", \"created_time_dt\": \"2021-01-06T08:22:24.53883Z\", \"duration\": \"0:01:52\", \"iteration\": \"17\", \"goal\": \"accuracy_max\", \"run_name\": \"SparseNormalizer, XGBoostClassifier\", \"run_properties\": \"<azureml.automl.runtime.shared.model_wrappers.SparseNormalizer object at 0x7f2a156ddf28\", \"primary_metric\": 0.8573792, \"best_metric\": 0.8573792}, {\"run_id\": \"AutoML_1e2f15f6-8fc8-4d3d-9050-a36fd6bdb60c_16\", \"run_number\": 132, \"metric\": null, \"status\": \"Completed\", \"run_type\": \"azureml.scriptrun\", \"training_percent\": \"100\", \"start_time\": \"2021-01-06T08:22:34.313639Z\", \"end_time\": \"2021-01-06T08:23:29.385442Z\", \"created_time\": \"2021-01-06T08:22:24.544355Z\", \"created_time_dt\": \"2021-01-06T08:22:24.544355Z\", \"duration\": \"0:01:04\", \"iteration\": \"16\", \"goal\": \"accuracy_max\", \"run_name\": \"SparseNormalizer, XGBoostClassifier\", \"run_properties\": \"<azureml.automl.runtime.shared.model_wrappers.SparseNormalizer object at 0x7fa9bc032e48\", \"primary_metric\": 0.82309582, \"best_metric\": 0.85192465}, {\"run_id\": \"AutoML_1e2f15f6-8fc8-4d3d-9050-a36fd6bdb60c_18\", \"run_number\": 133, \"metric\": null, \"status\": \"Completed\", \"run_type\": \"azureml.scriptrun\", \"training_percent\": \"100\", \"start_time\": \"2021-01-06T08:23:21.650562Z\", \"end_time\": \"2021-01-06T08:24:21.157879Z\", \"created_time\": \"2021-01-06T08:22:28.769784Z\", \"created_time_dt\": \"2021-01-06T08:22:28.769784Z\", \"duration\": \"0:01:52\", \"iteration\": \"18\", \"goal\": \"accuracy_max\", \"run_name\": \"StandardScalerWrapper, RandomForest\", \"run_properties\": \"<azureml.automl.runtime.shared.model_wrappers.StandardScalerWrapper object at 0x7fd86c116470\", \"primary_metric\": 0.83385749, \"best_metric\": 0.8573792}, {\"run_id\": \"AutoML_1e2f15f6-8fc8-4d3d-9050-a36fd6bdb60c_19\", \"run_number\": 134, \"metric\": null, \"status\": \"Completed\", \"run_type\": \"azureml.scriptrun\", \"training_percent\": \"100\", \"start_time\": \"2021-01-06T08:23:32.041888Z\", \"end_time\": \"2021-01-06T08:24:28.30519Z\", \"created_time\": \"2021-01-06T08:23:00.57048Z\", \"created_time_dt\": \"2021-01-06T08:23:00.57048Z\", \"duration\": \"0:01:27\", \"iteration\": \"19\", \"goal\": \"accuracy_max\", \"run_name\": \"StandardScalerWrapper, XGBoostClassifier\", \"run_properties\": \"<azureml.automl.runtime.shared.model_wrappers.StandardScalerWrapper object at 0x7f9e4195eba8\", \"primary_metric\": 0.85195741, \"best_metric\": 0.8573792}, {\"run_id\": \"AutoML_1e2f15f6-8fc8-4d3d-9050-a36fd6bdb60c_20\", \"run_number\": 135, \"metric\": null, \"status\": \"Completed\", \"run_type\": \"azureml.scriptrun\", \"training_percent\": \"100\", \"start_time\": \"2021-01-06T08:23:34.998455Z\", \"end_time\": \"2021-01-06T08:24:26.357642Z\", \"created_time\": \"2021-01-06T08:23:15.371757Z\", \"created_time_dt\": \"2021-01-06T08:23:15.371757Z\", \"duration\": \"0:01:10\", \"iteration\": \"20\", \"goal\": \"accuracy_max\", \"run_name\": \"SparseNormalizer, LightGBM\", \"run_properties\": \"<azureml.automl.runtime.shared.model_wrappers.SparseNormalizer object at 0x7f1f403d8ba8\", \"primary_metric\": 0.73646192, \"best_metric\": 0.8573792}, {\"run_id\": \"AutoML_1e2f15f6-8fc8-4d3d-9050-a36fd6bdb60c_21\", \"run_number\": 136, \"metric\": null, \"status\": \"Completed\", \"run_type\": \"azureml.scriptrun\", \"training_percent\": \"100\", \"start_time\": \"2021-01-06T08:23:43.611392Z\", \"end_time\": \"2021-01-06T08:24:43.519463Z\", \"created_time\": \"2021-01-06T08:23:19.591124Z\", \"created_time_dt\": \"2021-01-06T08:23:19.591124Z\", \"duration\": \"0:01:23\", \"iteration\": \"21\", \"goal\": \"accuracy_max\", \"run_name\": \"StandardScalerWrapper, LightGBM\", \"run_properties\": \"<azureml.automl.runtime.shared.model_wrappers.StandardScalerWrapper object at 0x7ff09613a710\", \"primary_metric\": 0.74366912, \"best_metric\": 0.8573792}, {\"run_id\": \"AutoML_1e2f15f6-8fc8-4d3d-9050-a36fd6bdb60c_22\", \"run_number\": 137, \"metric\": null, \"status\": \"Completed\", \"run_type\": \"azureml.scriptrun\", \"training_percent\": \"100\", \"start_time\": \"2021-01-06T08:23:53.586368Z\", \"end_time\": \"2021-01-06T08:25:20.367946Z\", \"created_time\": \"2021-01-06T08:23:31.70064Z\", \"created_time_dt\": \"2021-01-06T08:23:31.70064Z\", \"duration\": \"0:01:48\", \"iteration\": \"22\", \"goal\": \"accuracy_max\", \"run_name\": \"SparseNormalizer, XGBoostClassifier\", \"run_properties\": \"<azureml.automl.runtime.shared.model_wrappers.SparseNormalizer object at 0x7f858b5ed1d0\", \"primary_metric\": 0.84473382, \"best_metric\": 0.8573792}, {\"run_id\": \"AutoML_1e2f15f6-8fc8-4d3d-9050-a36fd6bdb60c_23\", \"run_number\": 138, \"metric\": null, \"status\": \"Completed\", \"run_type\": \"azureml.scriptrun\", \"training_percent\": \"100\", \"start_time\": \"2021-01-06T08:24:19.728442Z\", \"end_time\": \"2021-01-06T08:25:11.715416Z\", \"created_time\": \"2021-01-06T08:23:37.695105Z\", \"created_time_dt\": \"2021-01-06T08:23:37.695105Z\", \"duration\": \"0:01:34\", \"iteration\": \"23\", \"goal\": \"accuracy_max\", \"run_name\": \"MaxAbsScaler, LightGBM\", \"run_properties\": \"copy=True\", \"primary_metric\": 0.73646192, \"best_metric\": 0.8573792}, {\"run_id\": \"AutoML_1e2f15f6-8fc8-4d3d-9050-a36fd6bdb60c_24\", \"run_number\": 139, \"metric\": null, \"status\": \"Completed\", \"run_type\": \"azureml.scriptrun\", \"training_percent\": \"100\", \"start_time\": \"2021-01-06T08:24:23.668978Z\", \"end_time\": \"2021-01-06T08:25:20.153912Z\", \"created_time\": \"2021-01-06T08:23:43.560106Z\", \"created_time_dt\": \"2021-01-06T08:23:43.560106Z\", \"duration\": \"0:01:36\", \"iteration\": \"24\", \"goal\": \"accuracy_max\", \"run_name\": \"StandardScalerWrapper, ExtremeRandomTrees\", \"run_properties\": \"<azureml.automl.runtime.shared.model_wrappers.StandardScalerWrapper object at 0x7efe2dcbef28\", \"primary_metric\": 0.81588862, \"best_metric\": 0.8573792}, {\"run_id\": \"AutoML_1e2f15f6-8fc8-4d3d-9050-a36fd6bdb60c_25\", \"run_number\": 140, \"metric\": null, \"status\": \"Completed\", \"run_type\": \"azureml.scriptrun\", \"training_percent\": \"100\", \"start_time\": \"2021-01-06T08:24:24.242589Z\", \"end_time\": \"2021-01-06T08:25:12.697776Z\", \"created_time\": \"2021-01-06T08:23:56.245812Z\", \"created_time_dt\": \"2021-01-06T08:23:56.245812Z\", \"duration\": \"0:01:16\", \"iteration\": \"25\", \"goal\": \"accuracy_max\", \"run_name\": \"TruncatedSVDWrapper, XGBoostClassifier\", \"run_properties\": \"n_components=0.8510526315789474, random_state=None\", \"primary_metric\": 0.57944308, \"best_metric\": 0.8573792}, {\"run_id\": \"AutoML_1e2f15f6-8fc8-4d3d-9050-a36fd6bdb60c_26\", \"run_number\": 141, \"metric\": null, \"status\": \"Completed\", \"run_type\": \"azureml.scriptrun\", \"training_percent\": \"100\", \"start_time\": \"2021-01-06T08:24:30.493456Z\", \"end_time\": \"2021-01-06T08:25:43.664309Z\", \"created_time\": \"2021-01-06T08:24:19.214537Z\", \"created_time_dt\": \"2021-01-06T08:24:19.214537Z\", \"duration\": \"0:01:24\", \"iteration\": \"26\", \"goal\": \"accuracy_max\", \"run_name\": \"TruncatedSVDWrapper, XGBoostClassifier\", \"run_properties\": \"n_components=0.3563157894736842, random_state=None\", \"primary_metric\": 0.80861589, \"best_metric\": 0.8573792}, {\"run_id\": \"AutoML_1e2f15f6-8fc8-4d3d-9050-a36fd6bdb60c_27\", \"run_number\": 142, \"metric\": null, \"status\": \"Completed\", \"run_type\": \"azureml.scriptrun\", \"training_percent\": \"100\", \"start_time\": \"2021-01-06T08:24:34.710229Z\", \"end_time\": \"2021-01-06T08:25:25.031996Z\", \"created_time\": \"2021-01-06T08:24:24.352675Z\", \"created_time_dt\": \"2021-01-06T08:24:24.352675Z\", \"duration\": \"0:01:00\", \"iteration\": \"27\", \"goal\": \"accuracy_max\", \"run_name\": \"StandardScalerWrapper, LightGBM\", \"run_properties\": \"<azureml.automl.runtime.shared.model_wrappers.StandardScalerWrapper object at 0x7f758918e0b8\", \"primary_metric\": 0.7581163, \"best_metric\": 0.8573792}, {\"run_id\": \"AutoML_1e2f15f6-8fc8-4d3d-9050-a36fd6bdb60c_28\", \"run_number\": 143, \"metric\": null, \"status\": \"Completed\", \"run_type\": \"azureml.scriptrun\", \"training_percent\": \"100\", \"start_time\": \"2021-01-06T08:24:48.658945Z\", \"end_time\": \"2021-01-06T08:25:42.142643Z\", \"created_time\": \"2021-01-06T08:24:24.559389Z\", \"created_time_dt\": \"2021-01-06T08:24:24.559389Z\", \"duration\": \"0:01:17\", \"iteration\": \"28\", \"goal\": \"accuracy_max\", \"run_name\": \"MaxAbsScaler, LightGBM\", \"run_properties\": \"copy=True\", \"primary_metric\": 0.73646192, \"best_metric\": 0.8573792}, {\"run_id\": \"AutoML_1e2f15f6-8fc8-4d3d-9050-a36fd6bdb60c_29\", \"run_number\": 144, \"metric\": null, \"status\": \"Completed\", \"run_type\": \"azureml.scriptrun\", \"training_percent\": \"100\", \"start_time\": \"2021-01-06T08:25:16.808498Z\", \"end_time\": \"2021-01-06T08:26:21.940185Z\", \"created_time\": \"2021-01-06T08:24:29.146846Z\", \"created_time_dt\": \"2021-01-06T08:24:29.146846Z\", \"duration\": \"0:01:52\", \"iteration\": \"29\", \"goal\": \"accuracy_max\", \"run_name\": \"SparseNormalizer, XGBoostClassifier\", \"run_properties\": \"<azureml.automl.runtime.shared.model_wrappers.SparseNormalizer object at 0x7f4b7a82fda0\", \"primary_metric\": 0.84109746, \"best_metric\": 0.8573792}, {\"run_id\": \"AutoML_1e2f15f6-8fc8-4d3d-9050-a36fd6bdb60c_30\", \"run_number\": 145, \"metric\": null, \"status\": \"Completed\", \"run_type\": \"azureml.scriptrun\", \"training_percent\": \"100\", \"start_time\": \"2021-01-06T08:25:15.27717Z\", \"end_time\": \"2021-01-06T08:26:13.352504Z\", \"created_time\": \"2021-01-06T08:24:35.364474Z\", \"created_time_dt\": \"2021-01-06T08:24:35.364474Z\", \"duration\": \"0:01:37\", \"iteration\": \"30\", \"goal\": \"accuracy_max\", \"run_name\": \"TruncatedSVDWrapper, XGBoostClassifier\", \"run_properties\": \"n_components=0.5047368421052632, random_state=None\", \"primary_metric\": 0.57944308, \"best_metric\": 0.8573792}, {\"run_id\": \"AutoML_1e2f15f6-8fc8-4d3d-9050-a36fd6bdb60c_31\", \"run_number\": 146, \"metric\": null, \"status\": \"Completed\", \"run_type\": \"azureml.scriptrun\", \"training_percent\": \"100\", \"start_time\": \"2021-01-06T08:25:20.834981Z\", \"end_time\": \"2021-01-06T08:27:17.493836Z\", \"created_time\": \"2021-01-06T08:24:46.533082Z\", \"created_time_dt\": \"2021-01-06T08:24:46.533082Z\", \"duration\": \"0:02:30\", \"iteration\": \"31\", \"goal\": \"accuracy_max\", \"run_name\": \"SparseNormalizer, XGBoostClassifier\", \"run_properties\": \"<azureml.automl.runtime.shared.model_wrappers.SparseNormalizer object at 0x7fd316557320\", \"primary_metric\": 0.84835381, \"best_metric\": 0.8573792}, {\"run_id\": \"AutoML_1e2f15f6-8fc8-4d3d-9050-a36fd6bdb60c_32\", \"run_number\": 147, \"metric\": null, \"status\": \"Canceled\", \"run_type\": \"azureml.scriptrun\", \"training_percent\": \"100\", \"start_time\": \"2021-01-06T08:25:26.276306Z\", \"end_time\": \"2021-01-06T08:28:18.678753Z\", \"created_time\": \"2021-01-06T08:25:14.026077Z\", \"created_time_dt\": \"2021-01-06T08:25:14.026077Z\", \"duration\": \"0:03:04\", \"iteration\": \"32\", \"goal\": \"accuracy_max\", \"run_name\": \"SparseNormalizer, XGBoostClassifier\", \"run_properties\": \"<azureml.automl.runtime.shared.model_wrappers.SparseNormalizer object at 0x7f2715695780\", \"primary_metric\": 0.84650287, \"best_metric\": 0.8573792}, {\"run_id\": \"AutoML_1e2f15f6-8fc8-4d3d-9050-a36fd6bdb60c_33\", \"run_number\": 148, \"metric\": null, \"status\": \"Completed\", \"run_type\": \"azureml.scriptrun\", \"training_percent\": \"100\", \"start_time\": \"2021-01-06T08:25:30.166258Z\", \"end_time\": \"2021-01-06T08:26:34.453947Z\", \"created_time\": \"2021-01-06T08:25:18.674891Z\", \"created_time_dt\": \"2021-01-06T08:25:18.674891Z\", \"duration\": \"0:01:15\", \"iteration\": \"33\", \"goal\": \"accuracy_max\", \"run_name\": \"MaxAbsScaler, LightGBM\", \"run_properties\": \"copy=True\", \"primary_metric\": 0.73279279, \"best_metric\": 0.8573792}, {\"run_id\": \"AutoML_1e2f15f6-8fc8-4d3d-9050-a36fd6bdb60c_35\", \"run_number\": 149, \"metric\": null, \"status\": \"Completed\", \"run_type\": \"azureml.scriptrun\", \"training_percent\": \"100\", \"start_time\": \"2021-01-06T08:25:47.676487Z\", \"end_time\": \"2021-01-06T08:26:56.612009Z\", \"created_time\": \"2021-01-06T08:25:24.149495Z\", \"created_time_dt\": \"2021-01-06T08:25:24.149495Z\", \"duration\": \"0:01:32\", \"iteration\": \"35\", \"goal\": \"accuracy_max\", \"run_name\": \"SparseNormalizer, LightGBM\", \"run_properties\": \"<azureml.automl.runtime.shared.model_wrappers.SparseNormalizer object at 0x7f4abf33a358\", \"primary_metric\": 0.83569206, \"best_metric\": 0.8573792}, {\"run_id\": \"AutoML_1e2f15f6-8fc8-4d3d-9050-a36fd6bdb60c_34\", \"run_number\": 150, \"metric\": null, \"status\": \"Completed\", \"run_type\": \"azureml.scriptrun\", \"training_percent\": \"100\", \"start_time\": \"2021-01-06T08:25:45.306392Z\", \"end_time\": \"2021-01-06T08:26:38.419785Z\", \"created_time\": \"2021-01-06T08:25:24.153548Z\", \"created_time_dt\": \"2021-01-06T08:25:24.153548Z\", \"duration\": \"0:01:14\", \"iteration\": \"34\", \"goal\": \"accuracy_max\", \"run_name\": \"SparseNormalizer, XGBoostClassifier\", \"run_properties\": \"<azureml.automl.runtime.shared.model_wrappers.SparseNormalizer object at 0x7f1e10679e48\", \"primary_metric\": 0.57944308, \"best_metric\": 0.8573792}, {\"run_id\": \"AutoML_1e2f15f6-8fc8-4d3d-9050-a36fd6bdb60c_36\", \"run_number\": 151, \"metric\": null, \"status\": \"Completed\", \"run_type\": \"azureml.scriptrun\", \"training_percent\": \"100\", \"start_time\": \"2021-01-06T08:26:18.558467Z\", \"end_time\": \"2021-01-06T08:27:08.568584Z\", \"created_time\": \"2021-01-06T08:25:28.243119Z\", \"created_time_dt\": \"2021-01-06T08:25:28.243119Z\", \"duration\": \"0:01:40\", \"iteration\": \"36\", \"goal\": \"accuracy_max\", \"run_name\": \"MaxAbsScaler, LogisticRegression\", \"run_properties\": \"copy=True\", \"primary_metric\": 0.85554464, \"best_metric\": 0.8573792}, {\"run_id\": \"AutoML_1e2f15f6-8fc8-4d3d-9050-a36fd6bdb60c_37\", \"run_number\": 152, \"metric\": null, \"status\": \"Completed\", \"run_type\": \"azureml.scriptrun\", \"training_percent\": \"100\", \"start_time\": \"2021-01-06T08:26:26.238892Z\", \"end_time\": \"2021-01-06T08:27:21.731487Z\", \"created_time\": \"2021-01-06T08:25:44.563285Z\", \"created_time_dt\": \"2021-01-06T08:25:44.563285Z\", \"duration\": \"0:01:37\", \"iteration\": \"37\", \"goal\": \"accuracy_max\", \"run_name\": \"MaxAbsScaler, LogisticRegression\", \"run_properties\": \"copy=True\", \"primary_metric\": 0.85007371, \"best_metric\": 0.8573792}, {\"run_id\": \"AutoML_1e2f15f6-8fc8-4d3d-9050-a36fd6bdb60c_38\", \"run_number\": 153, \"metric\": null, \"status\": \"Completed\", \"run_type\": \"azureml.scriptrun\", \"training_percent\": \"100\", \"start_time\": \"2021-01-06T08:26:36.237586Z\", \"end_time\": \"2021-01-06T08:28:11.237648Z\", \"created_time\": \"2021-01-06T08:25:48.784575Z\", \"created_time_dt\": \"2021-01-06T08:25:48.784575Z\", \"duration\": \"0:02:22\", \"iteration\": \"38\", \"goal\": \"accuracy_max\", \"run_name\": \"SparseNormalizer, XGBoostClassifier\", \"run_properties\": \"<azureml.automl.runtime.shared.model_wrappers.SparseNormalizer object at 0x7fce3df89400\", \"primary_metric\": 0.84293202, \"best_metric\": 0.8573792}, {\"run_id\": \"AutoML_1e2f15f6-8fc8-4d3d-9050-a36fd6bdb60c_39\", \"run_number\": 154, \"metric\": null, \"status\": \"Canceled\", \"run_type\": \"azureml.scriptrun\", \"training_percent\": \"100\", \"start_time\": \"2021-01-06T08:26:42.762391Z\", \"end_time\": \"2021-01-06T08:28:21.464287Z\", \"created_time\": \"2021-01-06T08:26:19.996497Z\", \"created_time_dt\": \"2021-01-06T08:26:19.996497Z\", \"duration\": \"0:02:01\", \"iteration\": \"39\", \"goal\": \"accuracy_max\", \"run_name\": \"SparseNormalizer, XGBoostClassifier\", \"run_properties\": \"<azureml.automl.runtime.shared.model_wrappers.SparseNormalizer object at 0x7f7438cbad30\", \"primary_metric\": 0.85194103, \"best_metric\": 0.8573792}, {\"run_id\": \"AutoML_1e2f15f6-8fc8-4d3d-9050-a36fd6bdb60c_40\", \"run_number\": 155, \"metric\": null, \"status\": \"Canceled\", \"run_type\": \"azureml.scriptrun\", \"training_percent\": \"100\", \"start_time\": \"2021-01-06T08:26:58.52944Z\", \"end_time\": \"2021-01-06T08:28:18.867857Z\", \"created_time\": \"2021-01-06T08:26:26.801704Z\", \"created_time_dt\": \"2021-01-06T08:26:26.801704Z\", \"duration\": \"0:01:52\", \"iteration\": \"40\", \"goal\": \"accuracy_max\", \"run_name\": \"SparseNormalizer, XGBoostClassifier\", \"run_properties\": \"<azureml.automl.runtime.shared.model_wrappers.SparseNormalizer object at 0x7f834229c978\", \"primary_metric\": 0.84470106, \"best_metric\": 0.8573792}, {\"run_id\": \"AutoML_1e2f15f6-8fc8-4d3d-9050-a36fd6bdb60c_41\", \"run_number\": 156, \"metric\": null, \"status\": \"Completed\", \"run_type\": \"azureml.scriptrun\", \"training_percent\": \"100\", \"start_time\": \"2021-01-06T08:27:11.142374Z\", \"end_time\": \"2021-01-06T08:28:10.712382Z\", \"created_time\": \"2021-01-06T08:26:37.171233Z\", \"created_time_dt\": \"2021-01-06T08:26:37.171233Z\", \"duration\": \"0:01:33\", \"iteration\": \"41\", \"goal\": \"accuracy_max\", \"run_name\": \"SparseNormalizer, XGBoostClassifier\", \"run_properties\": \"<azureml.automl.runtime.shared.model_wrappers.SparseNormalizer object at 0x7f6b04c87ba8\", \"primary_metric\": 0.82855037, \"best_metric\": 0.8573792}, {\"run_id\": \"AutoML_1e2f15f6-8fc8-4d3d-9050-a36fd6bdb60c_42\", \"run_number\": 157, \"metric\": null, \"status\": \"Canceled\", \"run_type\": \"azureml.scriptrun\", \"training_percent\": \"100\", \"start_time\": \"2021-01-06T08:27:21.762192Z\", \"end_time\": \"2021-01-06T08:28:15.138224Z\", \"created_time\": \"2021-01-06T08:26:43.617941Z\", \"created_time_dt\": \"2021-01-06T08:26:43.617941Z\", \"duration\": \"0:01:31\", \"iteration\": \"42\", \"goal\": \"accuracy_max\", \"run_name\": \"SparseNormalizer, RandomForest\", \"run_properties\": \"<azureml.automl.runtime.shared.model_wrappers.SparseNormalizer object at 0x7f303751a438\", \"primary_metric\": 0.80135954, \"best_metric\": 0.8573792}, {\"run_id\": \"AutoML_1e2f15f6-8fc8-4d3d-9050-a36fd6bdb60c_43\", \"run_number\": 158, \"metric\": null, \"status\": \"Canceled\", \"run_type\": \"azureml.scriptrun\", \"training_percent\": \"100\", \"start_time\": \"2021-01-06T08:27:22.74604Z\", \"end_time\": \"2021-01-06T08:28:15.256487Z\", \"created_time\": \"2021-01-06T08:26:58.976845Z\", \"created_time_dt\": \"2021-01-06T08:26:58.976845Z\", \"duration\": \"0:01:16\", \"iteration\": \"43\", \"goal\": \"accuracy_max\", \"run_name\": \"StandardScalerWrapper, ExtremeRandomTrees\", \"run_properties\": \"<azureml.automl.runtime.shared.model_wrappers.StandardScalerWrapper object at 0x7fd757555f28\", \"primary_metric\": 0.60473382, \"best_metric\": 0.8573792}, {\"run_id\": \"AutoML_1e2f15f6-8fc8-4d3d-9050-a36fd6bdb60c_44\", \"run_number\": 159, \"metric\": null, \"status\": \"Canceled\", \"run_type\": \"azureml.scriptrun\", \"training_percent\": \"100\", \"start_time\": \"2021-01-06T08:27:12.361383Z\", \"end_time\": \"2021-01-06T08:28:19.65664Z\", \"created_time\": \"2021-01-06T08:27:12.361383Z\", \"created_time_dt\": \"2021-01-06T08:27:12.361383Z\", \"duration\": \"0:01:07\", \"iteration\": \"44\", \"goal\": null, \"run_name\": \"Canceled\", \"run_properties\": null}, {\"run_id\": \"AutoML_1e2f15f6-8fc8-4d3d-9050-a36fd6bdb60c_45\", \"run_number\": 160, \"metric\": null, \"status\": \"Canceled\", \"run_type\": \"azureml.scriptrun\", \"training_percent\": \"100\", \"start_time\": \"2021-01-06T08:27:20.819158Z\", \"end_time\": \"2021-01-06T08:28:19.630904Z\", \"created_time\": \"2021-01-06T08:27:20.819158Z\", \"created_time_dt\": \"2021-01-06T08:27:20.819158Z\", \"duration\": \"0:00:58\", \"iteration\": \"45\", \"goal\": null, \"run_name\": \"Canceled\", \"run_properties\": null}, {\"run_id\": \"AutoML_1e2f15f6-8fc8-4d3d-9050-a36fd6bdb60c_46\", \"run_number\": 161, \"metric\": null, \"status\": \"Canceled\", \"run_type\": \"azureml.scriptrun\", \"training_percent\": \"100\", \"start_time\": \"2021-01-06T08:27:27.759122Z\", \"end_time\": \"2021-01-06T08:28:17.869132Z\", \"created_time\": \"2021-01-06T08:27:27.759122Z\", \"created_time_dt\": \"2021-01-06T08:27:27.759122Z\", \"duration\": \"0:00:50\", \"iteration\": \"46\", \"goal\": null, \"run_name\": \"Canceled\", \"run_properties\": null}, {\"run_id\": \"AutoML_1e2f15f6-8fc8-4d3d-9050-a36fd6bdb60c_47\", \"run_number\": 162, \"metric\": null, \"status\": \"Completed\", \"run_type\": \"azureml.scriptrun\", \"training_percent\": \"100\", \"start_time\": \"2021-01-06T08:28:33.890997Z\", \"end_time\": \"2021-01-06T08:30:07.351304Z\", \"created_time\": \"2021-01-06T08:28:22.791676Z\", \"created_time_dt\": \"2021-01-06T08:28:22.791676Z\", \"duration\": \"0:01:44\", \"iteration\": \"47\", \"goal\": \"accuracy_max\", \"run_name\": \"VotingEnsemble\", \"run_properties\": \"classification_labels=None,\\n                              estimators=[('17',\\n                                           Pipeline(memory=None,\\n                                                    steps=[('sparsenormalizer',\\n                                                            <azureml.automl.runtime.shared.model_wrappers.SparseNormalizer object at 0x7f870430a668>\", \"primary_metric\": 0.86280098, \"best_metric\": 0.86280098}, {\"run_id\": \"AutoML_1e2f15f6-8fc8-4d3d-9050-a36fd6bdb60c_48\", \"run_number\": 163, \"metric\": null, \"status\": \"Completed\", \"run_type\": \"azureml.scriptrun\", \"training_percent\": \"100\", \"start_time\": \"2021-01-06T08:28:35.015607Z\", \"end_time\": \"2021-01-06T08:30:15.017507Z\", \"created_time\": \"2021-01-06T08:28:22.9629Z\", \"created_time_dt\": \"2021-01-06T08:28:22.9629Z\", \"duration\": \"0:01:52\", \"iteration\": \"48\", \"goal\": \"accuracy_max\", \"run_name\": \"StackEnsemble\", \"run_properties\": \"base_learners=[('17',\\n                                        Pipeline(memory=None,\\n                                                 steps=[('sparsenormalizer',\\n                                                         <azureml.automl.runtime.shared.model_wrappers.SparseNormalizer object at 0x7f2500b896a0>\", \"primary_metric\": 0.85192465, \"best_metric\": 0.86280098}], \"children_metrics\": {\"categories\": [0], \"series\": {\"log_loss\": [{\"categories\": [\"0\", \"1\", \"2\", \"3\", \"4\", \"5\", \"6\", \"7\", \"8\", \"9\", \"10\", \"11\", \"12\", \"13\", \"14\", \"15\", \"16\", \"17\", \"18\", \"19\", \"20\", \"21\", \"22\", \"23\", \"24\", \"25\", \"26\", \"27\", \"28\", \"29\", \"30\", \"31\", \"32\", \"33\", \"34\", \"35\", \"36\", \"37\", \"38\", \"39\", \"40\", \"41\", \"42\", \"43\", \"47\", \"48\"], \"mode\": \"markers\", \"name\": \"log_loss\", \"stepped\": false, \"type\": \"scatter\", \"data\": [0.6454826394312672, 0.4502787036787847, 0.5569488644862166, 0.9124275571116958, 1.2081238031657082, 0.7844530755652823, 0.47104948580750755, 0.46494852484333843, 0.4896017930449874, 0.5094035982108737, 0.5325430854482516, 0.4530136713571828, 0.5249024132191733, 0.6305215412552605, 0.6531478639539985, 0.6462091350945351, 0.8158263382209284, 0.4876684407161803, 0.5014274012277992, 0.43772719777103913, 0.7927944164205044, 0.7813456283021638, 0.452466570819257, 0.7081307272343816, 0.5806829951278362, 1.1105309731756345, 0.5574046306780394, 0.7375184862952062, 0.8145090371573481, 0.48404411550961657, 1.1106988277118994, 0.4489769822811952, 0.49534624518850495, 0.8110857125383826, 1.1103290799843069, 0.48089824528228037, 0.44245938480960767, 0.5231333615395131, 0.46735258878721436, 0.45854577702216126, 0.45963946274178014, 0.7597256039027014, 0.6139363765418111, 1.362518635352784, 0.5456197929899995, 0.45511958109612294]}, {\"categories\": [\"0\", \"1\", \"2\", \"3\", \"4\", \"5\", \"6\", \"7\", \"8\", \"9\", \"10\", \"11\", \"12\", \"13\", \"14\", \"15\", \"16\", \"17\", \"18\", \"19\", \"20\", \"21\", \"22\", \"23\", \"24\", \"25\", \"26\", \"27\", \"28\", \"29\", \"30\", \"31\", \"32\", \"33\", \"34\", \"35\", \"36\", \"37\", \"38\", \"39\", \"40\", \"41\", \"42\", \"43\", \"47\", \"48\"], \"mode\": \"lines\", \"name\": \"log_loss_min\", \"stepped\": true, \"type\": \"scatter\", \"data\": [0.6454826394312672, 0.4502787036787847, 0.4502787036787847, 0.4502787036787847, 0.4502787036787847, 0.4502787036787847, 0.4502787036787847, 0.4502787036787847, 0.4502787036787847, 0.4502787036787847, 0.4502787036787847, 0.4502787036787847, 0.4502787036787847, 0.4502787036787847, 0.4502787036787847, 0.4502787036787847, 0.4502787036787847, 0.4502787036787847, 0.4502787036787847, 0.43772719777103913, 0.43772719777103913, 0.43772719777103913, 0.43772719777103913, 0.43772719777103913, 0.43772719777103913, 0.43772719777103913, 0.43772719777103913, 0.43772719777103913, 0.43772719777103913, 0.43772719777103913, 0.43772719777103913, 0.43772719777103913, 0.43772719777103913, 0.43772719777103913, 0.43772719777103913, 0.43772719777103913, 0.43772719777103913, 0.43772719777103913, 0.43772719777103913, 0.43772719777103913, 0.43772719777103913, 0.43772719777103913, 0.43772719777103913, 0.43772719777103913, 0.43772719777103913, 0.43772719777103913]}], \"recall_score_micro\": [{\"categories\": [\"0\", \"1\", \"2\", \"3\", \"4\", \"5\", \"6\", \"7\", \"8\", \"9\", \"10\", \"11\", \"12\", \"13\", \"14\", \"15\", \"16\", \"17\", \"18\", \"19\", \"20\", \"21\", \"22\", \"23\", \"24\", \"25\", \"26\", \"27\", \"28\", \"29\", \"30\", \"31\", \"32\", \"33\", \"34\", \"35\", \"36\", \"37\", \"38\", \"39\", \"40\", \"41\", \"42\", \"43\", \"47\", \"48\"], \"mode\": \"markers\", \"name\": \"recall_score_micro\", \"stepped\": false, \"type\": \"scatter\", \"data\": [0.7978050778050778, 0.8519246519246518, 0.8321539721539721, 0.6733169533169533, 0.7038656838656838, 0.7904995904995905, 0.8464701064701063, 0.8356920556920556, 0.8519082719082718, 0.8357575757575759, 0.8356592956592956, 0.8446355446355446, 0.842850122850123, 0.7472235872235873, 0.7491236691236691, 0.7509090909090909, 0.8230958230958232, 0.8573791973791975, 0.8338574938574939, 0.8519574119574118, 0.7364619164619165, 0.7436691236691237, 0.8447338247338247, 0.7364619164619164, 0.8158886158886158, 0.5794430794430794, 0.8086158886158886, 0.7581162981162981, 0.7364619164619164, 0.8410974610974613, 0.5794430794430794, 0.8483538083538082, 0.8465028665028665, 0.7327927927927929, 0.5794430794430794, 0.8356920556920556, 0.8555446355446354, 0.8500737100737101, 0.842932022932023, 0.8519410319410319, 0.8447010647010647, 0.8285503685503686, 0.8013595413595415, 0.6047338247338246, 0.8628009828009828, 0.851924651924652]}, {\"categories\": [\"0\", \"1\", \"2\", \"3\", \"4\", \"5\", \"6\", \"7\", \"8\", \"9\", \"10\", \"11\", \"12\", \"13\", \"14\", \"15\", \"16\", \"17\", \"18\", \"19\", \"20\", \"21\", \"22\", \"23\", \"24\", \"25\", \"26\", \"27\", \"28\", \"29\", \"30\", \"31\", \"32\", \"33\", \"34\", \"35\", \"36\", \"37\", \"38\", \"39\", \"40\", \"41\", \"42\", \"43\", \"47\", \"48\"], \"mode\": \"lines\", \"name\": \"recall_score_micro_max\", \"stepped\": true, \"type\": \"scatter\", \"data\": [0.7978050778050778, 0.8519246519246518, 0.8519246519246518, 0.8519246519246518, 0.8519246519246518, 0.8519246519246518, 0.8519246519246518, 0.8519246519246518, 0.8519246519246518, 0.8519246519246518, 0.8519246519246518, 0.8519246519246518, 0.8519246519246518, 0.8519246519246518, 0.8519246519246518, 0.8519246519246518, 0.8519246519246518, 0.8573791973791975, 0.8573791973791975, 0.8573791973791975, 0.8573791973791975, 0.8573791973791975, 0.8573791973791975, 0.8573791973791975, 0.8573791973791975, 0.8573791973791975, 0.8573791973791975, 0.8573791973791975, 0.8573791973791975, 0.8573791973791975, 0.8573791973791975, 0.8573791973791975, 0.8573791973791975, 0.8573791973791975, 0.8573791973791975, 0.8573791973791975, 0.8573791973791975, 0.8573791973791975, 0.8573791973791975, 0.8573791973791975, 0.8573791973791975, 0.8573791973791975, 0.8573791973791975, 0.8573791973791975, 0.8628009828009828, 0.8628009828009828]}], \"matthews_correlation\": [{\"categories\": [\"0\", \"1\", \"2\", \"3\", \"4\", \"5\", \"6\", \"7\", \"8\", \"9\", \"10\", \"11\", \"12\", \"13\", \"14\", \"15\", \"16\", \"17\", \"18\", \"19\", \"20\", \"21\", \"22\", \"23\", \"24\", \"25\", \"26\", \"27\", \"28\", \"29\", \"30\", \"31\", \"32\", \"33\", \"34\", \"35\", \"36\", \"37\", \"38\", \"39\", \"40\", \"41\", \"42\", \"43\", \"47\", \"48\"], \"mode\": \"markers\", \"name\": \"matthews_correlation\", \"stepped\": false, \"type\": \"scatter\", \"data\": [0.6482299090535568, 0.7447251805087101, 0.7100556002214409, 0.38520494404122474, 0.5378069050305717, 0.661881772519185, 0.7378003956308355, 0.7173837506570101, 0.7454767186488134, 0.7178338284225305, 0.7194988768732459, 0.733986577915281, 0.7306827597752418, 0.5558765422798289, 0.5551672760045832, 0.5535977708939515, 0.6975170713316232, 0.7547040922759338, 0.7118962150779945, 0.7459659163740151, 0.5219728211787201, 0.5367551806664016, 0.7325256927980257, 0.5317711108957377, 0.6834432474432318, 0.0, 0.666001846504124, 0.5694767655712891, 0.5203342968399925, 0.7261523452305185, 0.0, 0.7392030077693232, 0.7352878797001202, 0.5172925777486714, 0.0, 0.7148415426301346, 0.7514436136524645, 0.7427474269735221, 0.7297005149457328, 0.7449596872086776, 0.7333441191328745, 0.7026636975025875, 0.6785778326401706, 0.43238075863520675, 0.7650281927113572, 0.7468727363023888]}, {\"categories\": [\"0\", \"1\", \"2\", \"3\", \"4\", \"5\", \"6\", \"7\", \"8\", \"9\", \"10\", \"11\", \"12\", \"13\", \"14\", \"15\", \"16\", \"17\", \"18\", \"19\", \"20\", \"21\", \"22\", \"23\", \"24\", \"25\", \"26\", \"27\", \"28\", \"29\", \"30\", \"31\", \"32\", \"33\", \"34\", \"35\", \"36\", \"37\", \"38\", \"39\", \"40\", \"41\", \"42\", \"43\", \"47\", \"48\"], \"mode\": \"lines\", \"name\": \"matthews_correlation_max\", \"stepped\": true, \"type\": \"scatter\", \"data\": [0.6482299090535568, 0.7447251805087101, 0.7447251805087101, 0.7447251805087101, 0.7447251805087101, 0.7447251805087101, 0.7447251805087101, 0.7447251805087101, 0.7454767186488134, 0.7454767186488134, 0.7454767186488134, 0.7454767186488134, 0.7454767186488134, 0.7454767186488134, 0.7454767186488134, 0.7454767186488134, 0.7454767186488134, 0.7547040922759338, 0.7547040922759338, 0.7547040922759338, 0.7547040922759338, 0.7547040922759338, 0.7547040922759338, 0.7547040922759338, 0.7547040922759338, 0.7547040922759338, 0.7547040922759338, 0.7547040922759338, 0.7547040922759338, 0.7547040922759338, 0.7547040922759338, 0.7547040922759338, 0.7547040922759338, 0.7547040922759338, 0.7547040922759338, 0.7547040922759338, 0.7547040922759338, 0.7547040922759338, 0.7547040922759338, 0.7547040922759338, 0.7547040922759338, 0.7547040922759338, 0.7547040922759338, 0.7547040922759338, 0.7650281927113572, 0.7650281927113572]}], \"f1_score_micro\": [{\"categories\": [\"0\", \"1\", \"2\", \"3\", \"4\", \"5\", \"6\", \"7\", \"8\", \"9\", \"10\", \"11\", \"12\", \"13\", \"14\", \"15\", \"16\", \"17\", \"18\", \"19\", \"20\", \"21\", \"22\", \"23\", \"24\", \"25\", \"26\", \"27\", \"28\", \"29\", \"30\", \"31\", \"32\", \"33\", \"34\", \"35\", \"36\", \"37\", \"38\", \"39\", \"40\", \"41\", \"42\", \"43\", \"47\", \"48\"], \"mode\": \"markers\", \"name\": \"f1_score_micro\", \"stepped\": false, \"type\": \"scatter\", \"data\": [0.7978050778050778, 0.8519246519246518, 0.8321539721539721, 0.6733169533169533, 0.7038656838656838, 0.7904995904995905, 0.8464701064701063, 0.8356920556920556, 0.8519082719082718, 0.8357575757575759, 0.8356592956592956, 0.8446355446355446, 0.842850122850123, 0.7472235872235873, 0.7491236691236691, 0.7509090909090907, 0.8230958230958232, 0.8573791973791975, 0.8338574938574939, 0.8519574119574118, 0.7364619164619165, 0.7436691236691237, 0.8447338247338247, 0.7364619164619164, 0.815888615888616, 0.5794430794430794, 0.8086158886158886, 0.7581162981162981, 0.7364619164619164, 0.8410974610974613, 0.5794430794430794, 0.8483538083538082, 0.8465028665028665, 0.7327927927927927, 0.5794430794430794, 0.8356920556920556, 0.8555446355446354, 0.8500737100737101, 0.842932022932023, 0.8519410319410319, 0.8447010647010647, 0.8285503685503686, 0.8013595413595415, 0.6047338247338246, 0.8628009828009828, 0.851924651924652]}, {\"categories\": [\"0\", \"1\", \"2\", \"3\", \"4\", \"5\", \"6\", \"7\", \"8\", \"9\", \"10\", \"11\", \"12\", \"13\", \"14\", \"15\", \"16\", \"17\", \"18\", \"19\", \"20\", \"21\", \"22\", \"23\", \"24\", \"25\", \"26\", \"27\", \"28\", \"29\", \"30\", \"31\", \"32\", \"33\", \"34\", \"35\", \"36\", \"37\", \"38\", \"39\", \"40\", \"41\", \"42\", \"43\", \"47\", \"48\"], \"mode\": \"lines\", \"name\": \"f1_score_micro_max\", \"stepped\": true, \"type\": \"scatter\", \"data\": [0.7978050778050778, 0.8519246519246518, 0.8519246519246518, 0.8519246519246518, 0.8519246519246518, 0.8519246519246518, 0.8519246519246518, 0.8519246519246518, 0.8519246519246518, 0.8519246519246518, 0.8519246519246518, 0.8519246519246518, 0.8519246519246518, 0.8519246519246518, 0.8519246519246518, 0.8519246519246518, 0.8519246519246518, 0.8573791973791975, 0.8573791973791975, 0.8573791973791975, 0.8573791973791975, 0.8573791973791975, 0.8573791973791975, 0.8573791973791975, 0.8573791973791975, 0.8573791973791975, 0.8573791973791975, 0.8573791973791975, 0.8573791973791975, 0.8573791973791975, 0.8573791973791975, 0.8573791973791975, 0.8573791973791975, 0.8573791973791975, 0.8573791973791975, 0.8573791973791975, 0.8573791973791975, 0.8573791973791975, 0.8573791973791975, 0.8573791973791975, 0.8573791973791975, 0.8573791973791975, 0.8573791973791975, 0.8573791973791975, 0.8628009828009828, 0.8628009828009828]}], \"AUC_weighted\": [{\"categories\": [\"0\", \"1\", \"2\", \"3\", \"4\", \"5\", \"6\", \"7\", \"8\", \"9\", \"10\", \"11\", \"12\", \"13\", \"14\", \"15\", \"16\", \"17\", \"18\", \"19\", \"20\", \"21\", \"22\", \"23\", \"24\", \"25\", \"26\", \"27\", \"28\", \"29\", \"30\", \"31\", \"32\", \"33\", \"34\", \"35\", \"36\", \"37\", \"38\", \"39\", \"40\", \"41\", \"42\", \"43\", \"47\", \"48\"], \"mode\": \"markers\", \"name\": \"AUC_weighted\", \"stepped\": false, \"type\": \"scatter\", \"data\": [0.9361166079318565, 0.950513324973846, 0.9440041241097088, 0.8738722387616787, 0.8877716407040325, 0.9275385442396447, 0.9537325059198564, 0.950531679848624, 0.9540129737675003, 0.9437595243570108, 0.9514003977246646, 0.9509908971847141, 0.9518659824985912, 0.918958111212515, 0.9174443132020048, 0.9081691472823348, 0.9195714951307193, 0.9454654450108586, 0.9516284991116313, 0.9565938813264729, 0.8824329349842213, 0.8748513852183637, 0.9550097712483054, 0.9101706601107102, 0.9621987462870841, 0.5, 0.9415696902567434, 0.8994046965976883, 0.8699250371792692, 0.952964342531591, 0.5, 0.9543777073251011, 0.9514332644394929, 0.8537623158831389, 0.5, 0.9481436734847029, 0.9547323116724182, 0.9488287835847583, 0.949687268376145, 0.950361232623554, 0.9486465161124386, 0.9294078427917652, 0.9440788387333081, 0.8478654490220231, 0.9563329028792638, 0.9573805529046486]}, {\"categories\": [\"0\", \"1\", \"2\", \"3\", \"4\", \"5\", \"6\", \"7\", \"8\", \"9\", \"10\", \"11\", \"12\", \"13\", \"14\", \"15\", \"16\", \"17\", \"18\", \"19\", \"20\", \"21\", \"22\", \"23\", \"24\", \"25\", \"26\", \"27\", \"28\", \"29\", \"30\", \"31\", \"32\", \"33\", \"34\", \"35\", \"36\", \"37\", \"38\", \"39\", \"40\", \"41\", \"42\", \"43\", \"47\", \"48\"], \"mode\": \"lines\", \"name\": \"AUC_weighted_max\", \"stepped\": true, \"type\": \"scatter\", \"data\": [0.9361166079318565, 0.950513324973846, 0.950513324973846, 0.950513324973846, 0.950513324973846, 0.950513324973846, 0.9537325059198564, 0.9537325059198564, 0.9540129737675003, 0.9540129737675003, 0.9540129737675003, 0.9540129737675003, 0.9540129737675003, 0.9540129737675003, 0.9540129737675003, 0.9540129737675003, 0.9540129737675003, 0.9540129737675003, 0.9540129737675003, 0.9565938813264729, 0.9565938813264729, 0.9565938813264729, 0.9565938813264729, 0.9565938813264729, 0.9621987462870841, 0.9621987462870841, 0.9621987462870841, 0.9621987462870841, 0.9621987462870841, 0.9621987462870841, 0.9621987462870841, 0.9621987462870841, 0.9621987462870841, 0.9621987462870841, 0.9621987462870841, 0.9621987462870841, 0.9621987462870841, 0.9621987462870841, 0.9621987462870841, 0.9621987462870841, 0.9621987462870841, 0.9621987462870841, 0.9621987462870841, 0.9621987462870841, 0.9621987462870841, 0.9621987462870841]}], \"average_precision_score_macro\": [{\"categories\": [\"0\", \"1\", \"2\", \"3\", \"4\", \"5\", \"6\", \"7\", \"8\", \"9\", \"10\", \"11\", \"12\", \"13\", \"14\", \"15\", \"16\", \"17\", \"18\", \"19\", \"20\", \"21\", \"22\", \"23\", \"24\", \"25\", \"26\", \"27\", \"28\", \"29\", \"30\", \"31\", \"32\", \"33\", \"34\", \"35\", \"36\", \"37\", \"38\", \"39\", \"40\", \"41\", \"42\", \"43\", \"47\", \"48\"], \"mode\": \"markers\", \"name\": \"average_precision_score_macro\", \"stepped\": false, \"type\": \"scatter\", \"data\": [0.7719450054986459, 0.8445389483806057, 0.8279883688500961, 0.5820993815040095, 0.6673238837212703, 0.7866365921982621, 0.8503650758402598, 0.8324538256348054, 0.8523645138498447, 0.8321974238713125, 0.8418903763174829, 0.8528155112693095, 0.8489524023485149, 0.6504499961842442, 0.6883925987351278, 0.6749945814491565, 0.7779647659381961, 0.844577157854383, 0.8394951772166775, 0.8554174018138097, 0.6049600206598598, 0.6064766518216423, 0.8486230117825493, 0.636619815630694, 0.8557892257164132, 0.25, 0.8088838000010291, 0.6420320181867826, 0.568738956433033, 0.8520401742623666, 0.25, 0.8508037188624658, 0.8463372507521931, 0.5743785496066269, 0.25, 0.8341925162330004, 0.8531308862656106, 0.8478656468548685, 0.8426924889724183, 0.8499866628482359, 0.8425703620429019, 0.8112413474558287, 0.8299539986237232, 0.56219002505463, 0.856788954839962, 0.8608114623776786]}, {\"categories\": [\"0\", \"1\", \"2\", \"3\", \"4\", \"5\", \"6\", \"7\", \"8\", \"9\", \"10\", \"11\", \"12\", \"13\", \"14\", \"15\", \"16\", \"17\", \"18\", \"19\", \"20\", \"21\", \"22\", \"23\", \"24\", \"25\", \"26\", \"27\", \"28\", \"29\", \"30\", \"31\", \"32\", \"33\", \"34\", \"35\", \"36\", \"37\", \"38\", \"39\", \"40\", \"41\", \"42\", \"43\", \"47\", \"48\"], \"mode\": \"lines\", \"name\": \"average_precision_score_macro_max\", \"stepped\": true, \"type\": \"scatter\", \"data\": [0.7719450054986459, 0.8445389483806057, 0.8445389483806057, 0.8445389483806057, 0.8445389483806057, 0.8445389483806057, 0.8503650758402598, 0.8503650758402598, 0.8523645138498447, 0.8523645138498447, 0.8523645138498447, 0.8528155112693095, 0.8528155112693095, 0.8528155112693095, 0.8528155112693095, 0.8528155112693095, 0.8528155112693095, 0.8528155112693095, 0.8528155112693095, 0.8554174018138097, 0.8554174018138097, 0.8554174018138097, 0.8554174018138097, 0.8554174018138097, 0.8557892257164132, 0.8557892257164132, 0.8557892257164132, 0.8557892257164132, 0.8557892257164132, 0.8557892257164132, 0.8557892257164132, 0.8557892257164132, 0.8557892257164132, 0.8557892257164132, 0.8557892257164132, 0.8557892257164132, 0.8557892257164132, 0.8557892257164132, 0.8557892257164132, 0.8557892257164132, 0.8557892257164132, 0.8557892257164132, 0.8557892257164132, 0.8557892257164132, 0.856788954839962, 0.8608114623776786]}], \"weighted_accuracy\": [{\"categories\": [\"0\", \"1\", \"2\", \"3\", \"4\", \"5\", \"6\", \"7\", \"8\", \"9\", \"10\", \"11\", \"12\", \"13\", \"14\", \"15\", \"16\", \"17\", \"18\", \"19\", \"20\", \"21\", \"22\", \"23\", \"24\", \"25\", \"26\", \"27\", \"28\", \"29\", \"30\", \"31\", \"32\", \"33\", \"34\", \"35\", \"36\", \"37\", \"38\", \"39\", \"40\", \"41\", \"42\", \"43\", \"47\", \"48\"], \"mode\": \"markers\", \"name\": \"weighted_accuracy\", \"stepped\": false, \"type\": \"scatter\", \"data\": [0.8800243697937619, 0.9211108543180246, 0.9273765049105653, 0.8706444177090503, 0.7562052867093024, 0.8365741046397808, 0.9015455012689205, 0.9205942982667168, 0.918449534853677, 0.9283788641049989, 0.8986919662901425, 0.9062741590153631, 0.9100729516097689, 0.8737292293067147, 0.9065078920652037, 0.8929445694629164, 0.9231249524622547, 0.9220771338986381, 0.9114441523414489, 0.9261261431579358, 0.8900494029346773, 0.8880728625415546, 0.9207904563089718, 0.9042828951449657, 0.9301379584568228, 0.8180480092438309, 0.9046938530165111, 0.8975988525049194, 0.8915549069346573, 0.9153184933326385, 0.8180480092438309, 0.9175428714933129, 0.9215656760031028, 0.8685274924440559, 0.8180480092438309, 0.9119309042116719, 0.9233879989511452, 0.9149622661022846, 0.9255201515370496, 0.9213669487603449, 0.9157644633236345, 0.9150452058179248, 0.8383021042996045, 0.6412552647297427, 0.9336521559978221, 0.9116118259861719]}, {\"categories\": [\"0\", \"1\", \"2\", \"3\", \"4\", \"5\", \"6\", \"7\", \"8\", \"9\", \"10\", \"11\", \"12\", \"13\", \"14\", \"15\", \"16\", \"17\", \"18\", \"19\", \"20\", \"21\", \"22\", \"23\", \"24\", \"25\", \"26\", \"27\", \"28\", \"29\", \"30\", \"31\", \"32\", \"33\", \"34\", \"35\", \"36\", \"37\", \"38\", \"39\", \"40\", \"41\", \"42\", \"43\", \"47\", \"48\"], \"mode\": \"lines\", \"name\": \"weighted_accuracy_max\", \"stepped\": true, \"type\": \"scatter\", \"data\": [0.8800243697937619, 0.9211108543180246, 0.9273765049105653, 0.9273765049105653, 0.9273765049105653, 0.9273765049105653, 0.9273765049105653, 0.9273765049105653, 0.9273765049105653, 0.9283788641049989, 0.9283788641049989, 0.9283788641049989, 0.9283788641049989, 0.9283788641049989, 0.9283788641049989, 0.9283788641049989, 0.9283788641049989, 0.9283788641049989, 0.9283788641049989, 0.9283788641049989, 0.9283788641049989, 0.9283788641049989, 0.9283788641049989, 0.9283788641049989, 0.9301379584568228, 0.9301379584568228, 0.9301379584568228, 0.9301379584568228, 0.9301379584568228, 0.9301379584568228, 0.9301379584568228, 0.9301379584568228, 0.9301379584568228, 0.9301379584568228, 0.9301379584568228, 0.9301379584568228, 0.9301379584568228, 0.9301379584568228, 0.9301379584568228, 0.9301379584568228, 0.9301379584568228, 0.9301379584568228, 0.9301379584568228, 0.9301379584568228, 0.9336521559978221, 0.9336521559978221]}], \"f1_score_macro\": [{\"categories\": [\"0\", \"1\", \"2\", \"3\", \"4\", \"5\", \"6\", \"7\", \"8\", \"9\", \"10\", \"11\", \"12\", \"13\", \"14\", \"15\", \"16\", \"17\", \"18\", \"19\", \"20\", \"21\", \"22\", \"23\", \"24\", \"25\", \"26\", \"27\", \"28\", \"29\", \"30\", \"31\", \"32\", \"33\", \"34\", \"35\", \"36\", \"37\", \"38\", \"39\", \"40\", \"41\", \"42\", \"43\", \"47\", \"48\"], \"mode\": \"markers\", \"name\": \"f1_score_macro\", \"stepped\": false, \"type\": \"scatter\", \"data\": [0.665955199187966, 0.7740009273722558, 0.7169835377815901, 0.3308256744843582, 0.5789094135184388, 0.6881977952762146, 0.7610044202081195, 0.7423402142148798, 0.7616725593419551, 0.7364555702752378, 0.7579264332628293, 0.7544295989546113, 0.7515516837674034, 0.52707804213958, 0.4319223000349828, 0.5061353944712274, 0.7237616382216533, 0.7890025925785886, 0.7425233649107695, 0.7700084672234243, 0.4052767239511482, 0.43366866356384354, 0.7539029931385945, 0.40316413463045786, 0.6642352692568071, 0.18329855657564492, 0.6756562448334049, 0.49295901629344885, 0.40811700151498026, 0.7488877246896453, 0.18329855657564492, 0.7674973269471513, 0.7535139224585483, 0.45882976502313844, 0.18329855657564492, 0.741844887680093, 0.7681155970172429, 0.7604072693497306, 0.7550298965143909, 0.7731760047410854, 0.7665577636614219, 0.73790847203193, 0.7206170509324252, 0.49777552307876605, 0.7908986097932391, 0.7828228388347704]}, {\"categories\": [\"0\", \"1\", \"2\", \"3\", \"4\", \"5\", \"6\", \"7\", \"8\", \"9\", \"10\", \"11\", \"12\", \"13\", \"14\", \"15\", \"16\", \"17\", \"18\", \"19\", \"20\", \"21\", \"22\", \"23\", \"24\", \"25\", \"26\", \"27\", \"28\", \"29\", \"30\", \"31\", \"32\", \"33\", \"34\", \"35\", \"36\", \"37\", \"38\", \"39\", \"40\", \"41\", \"42\", \"43\", \"47\", \"48\"], \"mode\": \"lines\", \"name\": \"f1_score_macro_max\", \"stepped\": true, \"type\": \"scatter\", \"data\": [0.665955199187966, 0.7740009273722558, 0.7740009273722558, 0.7740009273722558, 0.7740009273722558, 0.7740009273722558, 0.7740009273722558, 0.7740009273722558, 0.7740009273722558, 0.7740009273722558, 0.7740009273722558, 0.7740009273722558, 0.7740009273722558, 0.7740009273722558, 0.7740009273722558, 0.7740009273722558, 0.7740009273722558, 0.7890025925785886, 0.7890025925785886, 0.7890025925785886, 0.7890025925785886, 0.7890025925785886, 0.7890025925785886, 0.7890025925785886, 0.7890025925785886, 0.7890025925785886, 0.7890025925785886, 0.7890025925785886, 0.7890025925785886, 0.7890025925785886, 0.7890025925785886, 0.7890025925785886, 0.7890025925785886, 0.7890025925785886, 0.7890025925785886, 0.7890025925785886, 0.7890025925785886, 0.7890025925785886, 0.7890025925785886, 0.7890025925785886, 0.7890025925785886, 0.7890025925785886, 0.7890025925785886, 0.7890025925785886, 0.7908986097932391, 0.7908986097932391]}], \"recall_score_weighted\": [{\"categories\": [\"0\", \"1\", \"2\", \"3\", \"4\", \"5\", \"6\", \"7\", \"8\", \"9\", \"10\", \"11\", \"12\", \"13\", \"14\", \"15\", \"16\", \"17\", \"18\", \"19\", \"20\", \"21\", \"22\", \"23\", \"24\", \"25\", \"26\", \"27\", \"28\", \"29\", \"30\", \"31\", \"32\", \"33\", \"34\", \"35\", \"36\", \"37\", \"38\", \"39\", \"40\", \"41\", \"42\", \"43\", \"47\", \"48\"], \"mode\": \"markers\", \"name\": \"recall_score_weighted\", \"stepped\": false, \"type\": \"scatter\", \"data\": [0.7978050778050778, 0.8519246519246518, 0.8321539721539721, 0.6733169533169533, 0.7038656838656838, 0.7904995904995905, 0.8464701064701063, 0.8356920556920556, 0.8519082719082718, 0.8357575757575759, 0.8356592956592956, 0.8446355446355446, 0.842850122850123, 0.7472235872235873, 0.7491236691236691, 0.7509090909090909, 0.8230958230958232, 0.8573791973791975, 0.8338574938574939, 0.8519574119574118, 0.7364619164619165, 0.7436691236691237, 0.8447338247338247, 0.7364619164619164, 0.8158886158886158, 0.5794430794430794, 0.8086158886158886, 0.7581162981162981, 0.7364619164619164, 0.8410974610974613, 0.5794430794430794, 0.8483538083538082, 0.8465028665028665, 0.7327927927927929, 0.5794430794430794, 0.8356920556920556, 0.8555446355446354, 0.8500737100737101, 0.842932022932023, 0.8519410319410319, 0.8447010647010647, 0.8285503685503686, 0.8013595413595415, 0.6047338247338246, 0.8628009828009828, 0.851924651924652]}, {\"categories\": [\"0\", \"1\", \"2\", \"3\", \"4\", \"5\", \"6\", \"7\", \"8\", \"9\", \"10\", \"11\", \"12\", \"13\", \"14\", \"15\", \"16\", \"17\", \"18\", \"19\", \"20\", \"21\", \"22\", \"23\", \"24\", \"25\", \"26\", \"27\", \"28\", \"29\", \"30\", \"31\", \"32\", \"33\", \"34\", \"35\", \"36\", \"37\", \"38\", \"39\", \"40\", \"41\", \"42\", \"43\", \"47\", \"48\"], \"mode\": \"lines\", \"name\": \"recall_score_weighted_max\", \"stepped\": true, \"type\": \"scatter\", \"data\": [0.7978050778050778, 0.8519246519246518, 0.8519246519246518, 0.8519246519246518, 0.8519246519246518, 0.8519246519246518, 0.8519246519246518, 0.8519246519246518, 0.8519246519246518, 0.8519246519246518, 0.8519246519246518, 0.8519246519246518, 0.8519246519246518, 0.8519246519246518, 0.8519246519246518, 0.8519246519246518, 0.8519246519246518, 0.8573791973791975, 0.8573791973791975, 0.8573791973791975, 0.8573791973791975, 0.8573791973791975, 0.8573791973791975, 0.8573791973791975, 0.8573791973791975, 0.8573791973791975, 0.8573791973791975, 0.8573791973791975, 0.8573791973791975, 0.8573791973791975, 0.8573791973791975, 0.8573791973791975, 0.8573791973791975, 0.8573791973791975, 0.8573791973791975, 0.8573791973791975, 0.8573791973791975, 0.8573791973791975, 0.8573791973791975, 0.8573791973791975, 0.8573791973791975, 0.8573791973791975, 0.8573791973791975, 0.8573791973791975, 0.8628009828009828, 0.8628009828009828]}], \"accuracy\": [{\"categories\": [\"0\", \"1\", \"2\", \"3\", \"4\", \"5\", \"6\", \"7\", \"8\", \"9\", \"10\", \"11\", \"12\", \"13\", \"14\", \"15\", \"16\", \"17\", \"18\", \"19\", \"20\", \"21\", \"22\", \"23\", \"24\", \"25\", \"26\", \"27\", \"28\", \"29\", \"30\", \"31\", \"32\", \"33\", \"34\", \"35\", \"36\", \"37\", \"38\", \"39\", \"40\", \"41\", \"42\", \"43\", \"47\", \"48\"], \"mode\": \"markers\", \"name\": \"accuracy\", \"stepped\": false, \"type\": \"scatter\", \"data\": [0.7978050778050778, 0.8519246519246518, 0.8321539721539721, 0.6733169533169533, 0.7038656838656838, 0.7904995904995905, 0.8464701064701063, 0.8356920556920556, 0.8519082719082718, 0.8357575757575759, 0.8356592956592956, 0.8446355446355446, 0.842850122850123, 0.7472235872235873, 0.7491236691236691, 0.7509090909090909, 0.8230958230958232, 0.8573791973791975, 0.8338574938574939, 0.8519574119574118, 0.7364619164619165, 0.7436691236691237, 0.8447338247338247, 0.7364619164619164, 0.8158886158886158, 0.5794430794430794, 0.8086158886158886, 0.7581162981162981, 0.7364619164619164, 0.8410974610974613, 0.5794430794430794, 0.8483538083538082, 0.8465028665028665, 0.7327927927927929, 0.5794430794430794, 0.8356920556920556, 0.8555446355446354, 0.8500737100737101, 0.842932022932023, 0.8519410319410319, 0.8447010647010647, 0.8285503685503686, 0.8013595413595415, 0.6047338247338246, 0.8628009828009828, 0.851924651924652]}, {\"categories\": [\"0\", \"1\", \"2\", \"3\", \"4\", \"5\", \"6\", \"7\", \"8\", \"9\", \"10\", \"11\", \"12\", \"13\", \"14\", \"15\", \"16\", \"17\", \"18\", \"19\", \"20\", \"21\", \"22\", \"23\", \"24\", \"25\", \"26\", \"27\", \"28\", \"29\", \"30\", \"31\", \"32\", \"33\", \"34\", \"35\", \"36\", \"37\", \"38\", \"39\", \"40\", \"41\", \"42\", \"43\", \"47\", \"48\"], \"mode\": \"lines\", \"name\": \"accuracy_max\", \"stepped\": true, \"type\": \"scatter\", \"data\": [0.7978050778050778, 0.8519246519246518, 0.8519246519246518, 0.8519246519246518, 0.8519246519246518, 0.8519246519246518, 0.8519246519246518, 0.8519246519246518, 0.8519246519246518, 0.8519246519246518, 0.8519246519246518, 0.8519246519246518, 0.8519246519246518, 0.8519246519246518, 0.8519246519246518, 0.8519246519246518, 0.8519246519246518, 0.8573791973791975, 0.8573791973791975, 0.8573791973791975, 0.8573791973791975, 0.8573791973791975, 0.8573791973791975, 0.8573791973791975, 0.8573791973791975, 0.8573791973791975, 0.8573791973791975, 0.8573791973791975, 0.8573791973791975, 0.8573791973791975, 0.8573791973791975, 0.8573791973791975, 0.8573791973791975, 0.8573791973791975, 0.8573791973791975, 0.8573791973791975, 0.8573791973791975, 0.8573791973791975, 0.8573791973791975, 0.8573791973791975, 0.8573791973791975, 0.8573791973791975, 0.8573791973791975, 0.8573791973791975, 0.8628009828009828, 0.8628009828009828]}], \"f1_score_weighted\": [{\"categories\": [\"0\", \"1\", \"2\", \"3\", \"4\", \"5\", \"6\", \"7\", \"8\", \"9\", \"10\", \"11\", \"12\", \"13\", \"14\", \"15\", \"16\", \"17\", \"18\", \"19\", \"20\", \"21\", \"22\", \"23\", \"24\", \"25\", \"26\", \"27\", \"28\", \"29\", \"30\", \"31\", \"32\", \"33\", \"34\", \"35\", \"36\", \"37\", \"38\", \"39\", \"40\", \"41\", \"42\", \"43\", \"47\", \"48\"], \"mode\": \"markers\", \"name\": \"f1_score_weighted\", \"stepped\": false, \"type\": \"scatter\", \"data\": [0.7856959622652464, 0.8438319621607622, 0.8119463215690924, 0.5787709413741985, 0.7268568833862921, 0.7990736866434256, 0.8421717452489789, 0.819863642306286, 0.8441740394596147, 0.8180918960048256, 0.8274152982735872, 0.8381954602222953, 0.8358852296535272, 0.7182478453543594, 0.6733803429115099, 0.6927204044375552, 0.802962871831707, 0.8486971139932848, 0.8223027548899436, 0.8398526065605727, 0.6590522756335401, 0.6759701041267557, 0.8317642064309331, 0.6571739464552745, 0.7873542318287482, 0.4256919325835792, 0.7844411391980541, 0.6968121911007472, 0.6622974057541583, 0.8270497987257551, 0.4256919325835792, 0.8372907901217337, 0.8350509191421664, 0.6771259178562834, 0.4256919325835792, 0.8232886602623509, 0.8466803407498693, 0.842542921227451, 0.8276348280377196, 0.840807916887201, 0.8336545925824641, 0.8138506151236576, 0.809483103123567, 0.6431749434971877, 0.851466145832142, 0.8433187496214058]}, {\"categories\": [\"0\", \"1\", \"2\", \"3\", \"4\", \"5\", \"6\", \"7\", \"8\", \"9\", \"10\", \"11\", \"12\", \"13\", \"14\", \"15\", \"16\", \"17\", \"18\", \"19\", \"20\", \"21\", \"22\", \"23\", \"24\", \"25\", \"26\", \"27\", \"28\", \"29\", \"30\", \"31\", \"32\", \"33\", \"34\", \"35\", \"36\", \"37\", \"38\", \"39\", \"40\", \"41\", \"42\", \"43\", \"47\", \"48\"], \"mode\": \"lines\", \"name\": \"f1_score_weighted_max\", \"stepped\": true, \"type\": \"scatter\", \"data\": [0.7856959622652464, 0.8438319621607622, 0.8438319621607622, 0.8438319621607622, 0.8438319621607622, 0.8438319621607622, 0.8438319621607622, 0.8438319621607622, 0.8441740394596147, 0.8441740394596147, 0.8441740394596147, 0.8441740394596147, 0.8441740394596147, 0.8441740394596147, 0.8441740394596147, 0.8441740394596147, 0.8441740394596147, 0.8486971139932848, 0.8486971139932848, 0.8486971139932848, 0.8486971139932848, 0.8486971139932848, 0.8486971139932848, 0.8486971139932848, 0.8486971139932848, 0.8486971139932848, 0.8486971139932848, 0.8486971139932848, 0.8486971139932848, 0.8486971139932848, 0.8486971139932848, 0.8486971139932848, 0.8486971139932848, 0.8486971139932848, 0.8486971139932848, 0.8486971139932848, 0.8486971139932848, 0.8486971139932848, 0.8486971139932848, 0.8486971139932848, 0.8486971139932848, 0.8486971139932848, 0.8486971139932848, 0.8486971139932848, 0.851466145832142, 0.851466145832142]}], \"average_precision_score_micro\": [{\"categories\": [\"0\", \"1\", \"2\", \"3\", \"4\", \"5\", \"6\", \"7\", \"8\", \"9\", \"10\", \"11\", \"12\", \"13\", \"14\", \"15\", \"16\", \"17\", \"18\", \"19\", \"20\", \"21\", \"22\", \"23\", \"24\", \"25\", \"26\", \"27\", \"28\", \"29\", \"30\", \"31\", \"32\", \"33\", \"34\", \"35\", \"36\", \"37\", \"38\", \"39\", \"40\", \"41\", \"42\", \"43\", \"47\", \"48\"], \"mode\": \"markers\", \"name\": \"average_precision_score_micro\", \"stepped\": false, \"type\": \"scatter\", \"data\": [0.8988494893409442, 0.9275142940134629, 0.9074952704144934, 0.7603711348350407, 0.8021082850808829, 0.8805213731749246, 0.9260601962359691, 0.9231838573622223, 0.9284875658456653, 0.9118947380341501, 0.9202671738472106, 0.9264364458707484, 0.9250548158452849, 0.8652017903416729, 0.8634846789648171, 0.8612720421773327, 0.880585072308612, 0.922650977838023, 0.9229089852496901, 0.9331623823551389, 0.8154337965193414, 0.8108118621000033, 0.929025974175962, 0.849011382858982, 0.9121372983238132, 0.48111347286531564, 0.8961816391210506, 0.836288834426071, 0.8012361116948912, 0.9288603008657834, 0.48111347286531564, 0.9266667028109221, 0.9224659977495839, 0.7986184251224747, 0.48111347286531564, 0.9197157389836971, 0.9282689679969283, 0.923464179469625, 0.9214644953830113, 0.9234472629292281, 0.9228279111905054, 0.9011642720239624, 0.90214080983082, 0.6961381108252569, 0.932784237997927, 0.9320811870101384]}, {\"categories\": [\"0\", \"1\", \"2\", \"3\", \"4\", \"5\", \"6\", \"7\", \"8\", \"9\", \"10\", \"11\", \"12\", \"13\", \"14\", \"15\", \"16\", \"17\", \"18\", \"19\", \"20\", \"21\", \"22\", \"23\", \"24\", \"25\", \"26\", \"27\", \"28\", \"29\", \"30\", \"31\", \"32\", \"33\", \"34\", \"35\", \"36\", \"37\", \"38\", \"39\", \"40\", \"41\", \"42\", \"43\", \"47\", \"48\"], \"mode\": \"lines\", \"name\": \"average_precision_score_micro_max\", \"stepped\": true, \"type\": \"scatter\", \"data\": [0.8988494893409442, 0.9275142940134629, 0.9275142940134629, 0.9275142940134629, 0.9275142940134629, 0.9275142940134629, 0.9275142940134629, 0.9275142940134629, 0.9284875658456653, 0.9284875658456653, 0.9284875658456653, 0.9284875658456653, 0.9284875658456653, 0.9284875658456653, 0.9284875658456653, 0.9284875658456653, 0.9284875658456653, 0.9284875658456653, 0.9284875658456653, 0.9331623823551389, 0.9331623823551389, 0.9331623823551389, 0.9331623823551389, 0.9331623823551389, 0.9331623823551389, 0.9331623823551389, 0.9331623823551389, 0.9331623823551389, 0.9331623823551389, 0.9331623823551389, 0.9331623823551389, 0.9331623823551389, 0.9331623823551389, 0.9331623823551389, 0.9331623823551389, 0.9331623823551389, 0.9331623823551389, 0.9331623823551389, 0.9331623823551389, 0.9331623823551389, 0.9331623823551389, 0.9331623823551389, 0.9331623823551389, 0.9331623823551389, 0.9331623823551389, 0.9331623823551389]}], \"norm_macro_recall\": [{\"categories\": [\"0\", \"1\", \"2\", \"3\", \"4\", \"5\", \"6\", \"7\", \"8\", \"9\", \"10\", \"11\", \"12\", \"13\", \"14\", \"15\", \"16\", \"17\", \"18\", \"19\", \"20\", \"21\", \"22\", \"23\", \"24\", \"25\", \"26\", \"27\", \"28\", \"29\", \"30\", \"31\", \"32\", \"33\", \"34\", \"35\", \"36\", \"37\", \"38\", \"39\", \"40\", \"41\", \"42\", \"43\", \"47\", \"48\"], \"mode\": \"markers\", \"name\": \"norm_macro_recall\", \"stepped\": false, \"type\": \"scatter\", \"data\": [0.5399910754298938, 0.642364207004922, 0.552874350930247, 0.1380190417611707, 0.48362544640566646, 0.620408144232422, 0.6752239799702242, 0.5955132868650566, 0.6535792971628969, 0.5788313733668253, 0.6448094482438006, 0.6535752251402969, 0.6468293516228464, 0.36211552178666095, 0.2651486210496705, 0.3274358042972402, 0.5563735048429896, 0.6687216863925597, 0.6031679647257768, 0.6377584543124821, 0.2463087797178829, 0.27527676627526326, 0.6238610558882295, 0.2315435615525571, 0.4776585624177355, 0.0, 0.5181862205164316, 0.3276504121542526, 0.2455225324906193, 0.6247501513896967, 0.0, 0.6468204970030556, 0.6274724336228628, 0.28836526171008564, 0.0, 0.6102256680866133, 0.6565726571947965, 0.6592106609681738, 0.6133953479693395, 0.6460118144527811, 0.6369185120129477, 0.5856199115240505, 0.649961720655091, 0.3749209072549261, 0.665201827138368, 0.6652111480618511]}, {\"categories\": [\"0\", \"1\", \"2\", \"3\", \"4\", \"5\", \"6\", \"7\", \"8\", \"9\", \"10\", \"11\", \"12\", \"13\", \"14\", \"15\", \"16\", \"17\", \"18\", \"19\", \"20\", \"21\", \"22\", \"23\", \"24\", \"25\", \"26\", \"27\", \"28\", \"29\", \"30\", \"31\", \"32\", \"33\", \"34\", \"35\", \"36\", \"37\", \"38\", \"39\", \"40\", \"41\", \"42\", \"43\", \"47\", \"48\"], \"mode\": \"lines\", \"name\": \"norm_macro_recall_max\", \"stepped\": true, \"type\": \"scatter\", \"data\": [0.5399910754298938, 0.642364207004922, 0.642364207004922, 0.642364207004922, 0.642364207004922, 0.642364207004922, 0.6752239799702242, 0.6752239799702242, 0.6752239799702242, 0.6752239799702242, 0.6752239799702242, 0.6752239799702242, 0.6752239799702242, 0.6752239799702242, 0.6752239799702242, 0.6752239799702242, 0.6752239799702242, 0.6752239799702242, 0.6752239799702242, 0.6752239799702242, 0.6752239799702242, 0.6752239799702242, 0.6752239799702242, 0.6752239799702242, 0.6752239799702242, 0.6752239799702242, 0.6752239799702242, 0.6752239799702242, 0.6752239799702242, 0.6752239799702242, 0.6752239799702242, 0.6752239799702242, 0.6752239799702242, 0.6752239799702242, 0.6752239799702242, 0.6752239799702242, 0.6752239799702242, 0.6752239799702242, 0.6752239799702242, 0.6752239799702242, 0.6752239799702242, 0.6752239799702242, 0.6752239799702242, 0.6752239799702242, 0.6752239799702242, 0.6752239799702242]}], \"AUC_micro\": [{\"categories\": [\"0\", \"1\", \"2\", \"3\", \"4\", \"5\", \"6\", \"7\", \"8\", \"9\", \"10\", \"11\", \"12\", \"13\", \"14\", \"15\", \"16\", \"17\", \"18\", \"19\", \"20\", \"21\", \"22\", \"23\", \"24\", \"25\", \"26\", \"27\", \"28\", \"29\", \"30\", \"31\", \"32\", \"33\", \"34\", \"35\", \"36\", \"37\", \"38\", \"39\", \"40\", \"41\", \"42\", \"43\", \"47\", \"48\"], \"mode\": \"markers\", \"name\": \"AUC_micro\", \"stepped\": false, \"type\": \"scatter\", \"data\": [0.9514922592907851, 0.9647309690749495, 0.9539354029034618, 0.8592173683623315, 0.8912494598686246, 0.9336333054072611, 0.9652666407752403, 0.963877838973662, 0.9647322296609765, 0.9573527903601613, 0.9623174736049428, 0.9654990089486404, 0.9649210403166176, 0.9310168922552216, 0.9293831960171026, 0.9285972812213599, 0.9445958162764061, 0.963703901802182, 0.9653445288039881, 0.9686844718294351, 0.8947432516277724, 0.8974891545554936, 0.9666053102465879, 0.9209806688529047, 0.9563431915274666, 0.7581217581217581, 0.9503250304134825, 0.9119151798660396, 0.8863895944190785, 0.9668138363961459, 0.7581217581217581, 0.9658483392930567, 0.9635921282014648, 0.8871541253113735, 0.7581217581217581, 0.9608567012399936, 0.9665243461017416, 0.9631829327652424, 0.9627760832085157, 0.9645374639772673, 0.9638612850062482, 0.9523346777646532, 0.9546466788432391, 0.823687825417555, 0.9676494985045352, 0.9678616820975545]}, {\"categories\": [\"0\", \"1\", \"2\", \"3\", \"4\", \"5\", \"6\", \"7\", \"8\", \"9\", \"10\", \"11\", \"12\", \"13\", \"14\", \"15\", \"16\", \"17\", \"18\", \"19\", \"20\", \"21\", \"22\", \"23\", \"24\", \"25\", \"26\", \"27\", \"28\", \"29\", \"30\", \"31\", \"32\", \"33\", \"34\", \"35\", \"36\", \"37\", \"38\", \"39\", \"40\", \"41\", \"42\", \"43\", \"47\", \"48\"], \"mode\": \"lines\", \"name\": \"AUC_micro_max\", \"stepped\": true, \"type\": \"scatter\", \"data\": [0.9514922592907851, 0.9647309690749495, 0.9647309690749495, 0.9647309690749495, 0.9647309690749495, 0.9647309690749495, 0.9652666407752403, 0.9652666407752403, 0.9652666407752403, 0.9652666407752403, 0.9652666407752403, 0.9654990089486404, 0.9654990089486404, 0.9654990089486404, 0.9654990089486404, 0.9654990089486404, 0.9654990089486404, 0.9654990089486404, 0.9654990089486404, 0.9686844718294351, 0.9686844718294351, 0.9686844718294351, 0.9686844718294351, 0.9686844718294351, 0.9686844718294351, 0.9686844718294351, 0.9686844718294351, 0.9686844718294351, 0.9686844718294351, 0.9686844718294351, 0.9686844718294351, 0.9686844718294351, 0.9686844718294351, 0.9686844718294351, 0.9686844718294351, 0.9686844718294351, 0.9686844718294351, 0.9686844718294351, 0.9686844718294351, 0.9686844718294351, 0.9686844718294351, 0.9686844718294351, 0.9686844718294351, 0.9686844718294351, 0.9686844718294351, 0.9686844718294351]}], \"precision_score_macro\": [{\"categories\": [\"0\", \"1\", \"2\", \"3\", \"4\", \"5\", \"6\", \"7\", \"8\", \"9\", \"10\", \"11\", \"12\", \"13\", \"14\", \"15\", \"16\", \"17\", \"18\", \"19\", \"20\", \"21\", \"22\", \"23\", \"24\", \"25\", \"26\", \"27\", \"28\", \"29\", \"30\", \"31\", \"32\", \"33\", \"34\", \"35\", \"36\", \"37\", \"38\", \"39\", \"40\", \"41\", \"42\", \"43\", \"47\", \"48\"], \"mode\": \"markers\", \"name\": \"precision_score_macro\", \"stepped\": false, \"type\": \"scatter\", \"data\": [0.7142453386577661, 0.8504334831834832, 0.8749097811776677, 0.3863518950501067, 0.6145216470719174, 0.6925756005466095, 0.7781386170334853, 0.8533238957633529, 0.8109386491676546, 0.8688138985143181, 0.8158326764118902, 0.7920523453047738, 0.790508437011739, 0.6074752113649793, 0.500438519069965, 0.7524967563396899, 0.8982881314286683, 0.8621256880673356, 0.8287854345354345, 0.8574274256443971, 0.38780263002501225, 0.482389775153279, 0.8349448326396522, 0.4061047107014849, 0.8936756451047113, 0.14486076986076984, 0.8123153633909954, 0.7261864586244773, 0.4118951686853949, 0.8320624779465225, 0.14486076986076984, 0.8389569432129138, 0.8343925896512102, 0.5776247960001777, 0.14486076986076984, 0.8279521492197789, 0.8234214138029202, 0.7995018000118395, 0.8641411877596088, 0.854327411211214, 0.847930467592041, 0.8683160230048493, 0.7305782660813201, 0.5458723599716807, 0.874059606700911, 0.8509185941438565]}, {\"categories\": [\"0\", \"1\", \"2\", \"3\", \"4\", \"5\", \"6\", \"7\", \"8\", \"9\", \"10\", \"11\", \"12\", \"13\", \"14\", \"15\", \"16\", \"17\", \"18\", \"19\", \"20\", \"21\", \"22\", \"23\", \"24\", \"25\", \"26\", \"27\", \"28\", \"29\", \"30\", \"31\", \"32\", \"33\", \"34\", \"35\", \"36\", \"37\", \"38\", \"39\", \"40\", \"41\", \"42\", \"43\", \"47\", \"48\"], \"mode\": \"lines\", \"name\": \"precision_score_macro_max\", \"stepped\": true, \"type\": \"scatter\", \"data\": [0.7142453386577661, 0.8504334831834832, 0.8749097811776677, 0.8749097811776677, 0.8749097811776677, 0.8749097811776677, 0.8749097811776677, 0.8749097811776677, 0.8749097811776677, 0.8749097811776677, 0.8749097811776677, 0.8749097811776677, 0.8749097811776677, 0.8749097811776677, 0.8749097811776677, 0.8749097811776677, 0.8982881314286683, 0.8982881314286683, 0.8982881314286683, 0.8982881314286683, 0.8982881314286683, 0.8982881314286683, 0.8982881314286683, 0.8982881314286683, 0.8982881314286683, 0.8982881314286683, 0.8982881314286683, 0.8982881314286683, 0.8982881314286683, 0.8982881314286683, 0.8982881314286683, 0.8982881314286683, 0.8982881314286683, 0.8982881314286683, 0.8982881314286683, 0.8982881314286683, 0.8982881314286683, 0.8982881314286683, 0.8982881314286683, 0.8982881314286683, 0.8982881314286683, 0.8982881314286683, 0.8982881314286683, 0.8982881314286683, 0.8982881314286683, 0.8982881314286683]}], \"balanced_accuracy\": [{\"categories\": [\"0\", \"1\", \"2\", \"3\", \"4\", \"5\", \"6\", \"7\", \"8\", \"9\", \"10\", \"11\", \"12\", \"13\", \"14\", \"15\", \"16\", \"17\", \"18\", \"19\", \"20\", \"21\", \"22\", \"23\", \"24\", \"25\", \"26\", \"27\", \"28\", \"29\", \"30\", \"31\", \"32\", \"33\", \"34\", \"35\", \"36\", \"37\", \"38\", \"39\", \"40\", \"41\", \"42\", \"43\", \"47\", \"48\"], \"mode\": \"markers\", \"name\": \"balanced_accuracy\", \"stepped\": false, \"type\": \"scatter\", \"data\": [0.6549933065724204, 0.7317731552536917, 0.6646557631976853, 0.353514281320878, 0.6127190848042499, 0.7153061081743164, 0.7564179849776681, 0.6966349651487924, 0.7401844728721727, 0.684123530025119, 0.7336070861828505, 0.7401814188552226, 0.7351220137171348, 0.5215866413399957, 0.4488614657872529, 0.49557685322293005, 0.6672801286322423, 0.7515412647944197, 0.7023759735443327, 0.7283188407343615, 0.43473158478841223, 0.4564575747064475, 0.7178957919161721, 0.4236576711644179, 0.6082439218133017, 0.25, 0.6386396653873236, 0.4957378091156895, 0.43414189936796455, 0.7185626135422727, 0.25, 0.7351153727522917, 0.720604325217147, 0.4662739462825642, 0.25, 0.7076692510649599, 0.7424294928960974, 0.7444079957261304, 0.7100465109770047, 0.7345088608395859, 0.7276888840097107, 0.6892149336430379, 0.7374712904913182, 0.5311906804411947, 0.748901370353776, 0.7489083610463884]}, {\"categories\": [\"0\", \"1\", \"2\", \"3\", \"4\", \"5\", \"6\", \"7\", \"8\", \"9\", \"10\", \"11\", \"12\", \"13\", \"14\", \"15\", \"16\", \"17\", \"18\", \"19\", \"20\", \"21\", \"22\", \"23\", \"24\", \"25\", \"26\", \"27\", \"28\", \"29\", \"30\", \"31\", \"32\", \"33\", \"34\", \"35\", \"36\", \"37\", \"38\", \"39\", \"40\", \"41\", \"42\", \"43\", \"47\", \"48\"], \"mode\": \"lines\", \"name\": \"balanced_accuracy_max\", \"stepped\": true, \"type\": \"scatter\", \"data\": [0.6549933065724204, 0.7317731552536917, 0.7317731552536917, 0.7317731552536917, 0.7317731552536917, 0.7317731552536917, 0.7564179849776681, 0.7564179849776681, 0.7564179849776681, 0.7564179849776681, 0.7564179849776681, 0.7564179849776681, 0.7564179849776681, 0.7564179849776681, 0.7564179849776681, 0.7564179849776681, 0.7564179849776681, 0.7564179849776681, 0.7564179849776681, 0.7564179849776681, 0.7564179849776681, 0.7564179849776681, 0.7564179849776681, 0.7564179849776681, 0.7564179849776681, 0.7564179849776681, 0.7564179849776681, 0.7564179849776681, 0.7564179849776681, 0.7564179849776681, 0.7564179849776681, 0.7564179849776681, 0.7564179849776681, 0.7564179849776681, 0.7564179849776681, 0.7564179849776681, 0.7564179849776681, 0.7564179849776681, 0.7564179849776681, 0.7564179849776681, 0.7564179849776681, 0.7564179849776681, 0.7564179849776681, 0.7564179849776681, 0.7564179849776681, 0.7564179849776681]}], \"recall_score_macro\": [{\"categories\": [\"0\", \"1\", \"2\", \"3\", \"4\", \"5\", \"6\", \"7\", \"8\", \"9\", \"10\", \"11\", \"12\", \"13\", \"14\", \"15\", \"16\", \"17\", \"18\", \"19\", \"20\", \"21\", \"22\", \"23\", \"24\", \"25\", \"26\", \"27\", \"28\", \"29\", \"30\", \"31\", \"32\", \"33\", \"34\", \"35\", \"36\", \"37\", \"38\", \"39\", \"40\", \"41\", \"42\", \"43\", \"47\", \"48\"], \"mode\": \"markers\", \"name\": \"recall_score_macro\", \"stepped\": false, \"type\": \"scatter\", \"data\": [0.6549933065724204, 0.7317731552536917, 0.6646557631976853, 0.353514281320878, 0.6127190848042499, 0.7153061081743164, 0.7564179849776681, 0.6966349651487924, 0.7401844728721727, 0.684123530025119, 0.7336070861828505, 0.7401814188552226, 0.7351220137171348, 0.5215866413399957, 0.4488614657872529, 0.49557685322293005, 0.6672801286322423, 0.7515412647944197, 0.7023759735443327, 0.7283188407343615, 0.43473158478841223, 0.4564575747064475, 0.7178957919161721, 0.4236576711644179, 0.6082439218133017, 0.25, 0.6386396653873236, 0.4957378091156895, 0.43414189936796455, 0.7185626135422727, 0.25, 0.7351153727522917, 0.720604325217147, 0.4662739462825642, 0.25, 0.7076692510649599, 0.7424294928960974, 0.7444079957261304, 0.7100465109770047, 0.7345088608395859, 0.7276888840097107, 0.6892149336430379, 0.7374712904913182, 0.5311906804411947, 0.748901370353776, 0.7489083610463884]}, {\"categories\": [\"0\", \"1\", \"2\", \"3\", \"4\", \"5\", \"6\", \"7\", \"8\", \"9\", \"10\", \"11\", \"12\", \"13\", \"14\", \"15\", \"16\", \"17\", \"18\", \"19\", \"20\", \"21\", \"22\", \"23\", \"24\", \"25\", \"26\", \"27\", \"28\", \"29\", \"30\", \"31\", \"32\", \"33\", \"34\", \"35\", \"36\", \"37\", \"38\", \"39\", \"40\", \"41\", \"42\", \"43\", \"47\", \"48\"], \"mode\": \"lines\", \"name\": \"recall_score_macro_max\", \"stepped\": true, \"type\": \"scatter\", \"data\": [0.6549933065724204, 0.7317731552536917, 0.7317731552536917, 0.7317731552536917, 0.7317731552536917, 0.7317731552536917, 0.7564179849776681, 0.7564179849776681, 0.7564179849776681, 0.7564179849776681, 0.7564179849776681, 0.7564179849776681, 0.7564179849776681, 0.7564179849776681, 0.7564179849776681, 0.7564179849776681, 0.7564179849776681, 0.7564179849776681, 0.7564179849776681, 0.7564179849776681, 0.7564179849776681, 0.7564179849776681, 0.7564179849776681, 0.7564179849776681, 0.7564179849776681, 0.7564179849776681, 0.7564179849776681, 0.7564179849776681, 0.7564179849776681, 0.7564179849776681, 0.7564179849776681, 0.7564179849776681, 0.7564179849776681, 0.7564179849776681, 0.7564179849776681, 0.7564179849776681, 0.7564179849776681, 0.7564179849776681, 0.7564179849776681, 0.7564179849776681, 0.7564179849776681, 0.7564179849776681, 0.7564179849776681, 0.7564179849776681, 0.7564179849776681, 0.7564179849776681]}], \"AUC_macro\": [{\"categories\": [\"0\", \"1\", \"2\", \"3\", \"4\", \"5\", \"6\", \"7\", \"8\", \"9\", \"10\", \"11\", \"12\", \"13\", \"14\", \"15\", \"16\", \"17\", \"18\", \"19\", \"20\", \"21\", \"22\", \"23\", \"24\", \"25\", \"26\", \"27\", \"28\", \"29\", \"30\", \"31\", \"32\", \"33\", \"34\", \"35\", \"36\", \"37\", \"38\", \"39\", \"40\", \"41\", \"42\", \"43\", \"47\", \"48\"], \"mode\": \"markers\", \"name\": \"AUC_macro\", \"stepped\": false, \"type\": \"scatter\", \"data\": [0.919644860253784, 0.9383769752704852, 0.9290267628798977, 0.8168095126443431, 0.8620713653916772, 0.9065220408862885, 0.9438978534596251, 0.9417563571345836, 0.9424116777119675, 0.9360887836197754, 0.9397012637973836, 0.9416873010043426, 0.941046824320867, 0.8864942367893187, 0.8919682743979642, 0.879745140293284, 0.9111966889483675, 0.936879177072042, 0.9418982500975712, 0.9481263894098391, 0.8422237735034408, 0.8328152970303334, 0.945479644538489, 0.8770208646751871, 0.9509641970492476, 0.5, 0.9324121952542501, 0.862895660068246, 0.8265878051920998, 0.947445189251324, 0.5, 0.9449979270607842, 0.9433657872334837, 0.805555308110175, 0.5, 0.9387733654623208, 0.9444244879366487, 0.9366533654996874, 0.9433133580099554, 0.9428597077553416, 0.939207344697443, 0.9213076020199263, 0.9329151045653248, 0.8106973496151898, 0.9459441892812599, 0.9467478329055087]}, {\"categories\": [\"0\", \"1\", \"2\", \"3\", \"4\", \"5\", \"6\", \"7\", \"8\", \"9\", \"10\", \"11\", \"12\", \"13\", \"14\", \"15\", \"16\", \"17\", \"18\", \"19\", \"20\", \"21\", \"22\", \"23\", \"24\", \"25\", \"26\", \"27\", \"28\", \"29\", \"30\", \"31\", \"32\", \"33\", \"34\", \"35\", \"36\", \"37\", \"38\", \"39\", \"40\", \"41\", \"42\", \"43\", \"47\", \"48\"], \"mode\": \"lines\", \"name\": \"AUC_macro_max\", \"stepped\": true, \"type\": \"scatter\", \"data\": [0.919644860253784, 0.9383769752704852, 0.9383769752704852, 0.9383769752704852, 0.9383769752704852, 0.9383769752704852, 0.9438978534596251, 0.9438978534596251, 0.9438978534596251, 0.9438978534596251, 0.9438978534596251, 0.9438978534596251, 0.9438978534596251, 0.9438978534596251, 0.9438978534596251, 0.9438978534596251, 0.9438978534596251, 0.9438978534596251, 0.9438978534596251, 0.9481263894098391, 0.9481263894098391, 0.9481263894098391, 0.9481263894098391, 0.9481263894098391, 0.9509641970492476, 0.9509641970492476, 0.9509641970492476, 0.9509641970492476, 0.9509641970492476, 0.9509641970492476, 0.9509641970492476, 0.9509641970492476, 0.9509641970492476, 0.9509641970492476, 0.9509641970492476, 0.9509641970492476, 0.9509641970492476, 0.9509641970492476, 0.9509641970492476, 0.9509641970492476, 0.9509641970492476, 0.9509641970492476, 0.9509641970492476, 0.9509641970492476, 0.9509641970492476, 0.9509641970492476]}], \"precision_score_weighted\": [{\"categories\": [\"0\", \"1\", \"2\", \"3\", \"4\", \"5\", \"6\", \"7\", \"8\", \"9\", \"10\", \"11\", \"12\", \"13\", \"14\", \"15\", \"16\", \"17\", \"18\", \"19\", \"20\", \"21\", \"22\", \"23\", \"24\", \"25\", \"26\", \"27\", \"28\", \"29\", \"30\", \"31\", \"32\", \"33\", \"34\", \"35\", \"36\", \"37\", \"38\", \"39\", \"40\", \"41\", \"42\", \"43\", \"47\", \"48\"], \"mode\": \"markers\", \"name\": \"precision_score_weighted\", \"stepped\": false, \"type\": \"scatter\", \"data\": [0.7967335751931734, 0.8561900351900352, 0.8451352099453364, 0.5844174879587922, 0.7802404658991262, 0.8255113301274966, 0.8471114601613948, 0.845872899506477, 0.8553992426356929, 0.8484139149992831, 0.8423440708044637, 0.8476703874885374, 0.8457065549295011, 0.7447014863551338, 0.6494500123489002, 0.7437260899541662, 0.8536641622598614, 0.8636488897438553, 0.8417146717146717, 0.8573789045248198, 0.6062760182187068, 0.6604186678426692, 0.8476959635444103, 0.6183978503010762, 0.842859498035654, 0.3367935614864362, 0.8166599031042567, 0.7513005739503718, 0.6245707143825775, 0.8448840325971695, 0.3367935614864362, 0.8500917484923045, 0.8526213696558524, 0.6896878565956542, 0.3367935614864362, 0.8400529969454776, 0.857871512198319, 0.8519881390750875, 0.8490627621153937, 0.856019852952666, 0.8505126710273837, 0.8445125277847406, 0.8313060319299268, 0.7374599153903916, 0.8664921229786093, 0.8575902688315598]}, {\"categories\": [\"0\", \"1\", \"2\", \"3\", \"4\", \"5\", \"6\", \"7\", \"8\", \"9\", \"10\", \"11\", \"12\", \"13\", \"14\", \"15\", \"16\", \"17\", \"18\", \"19\", \"20\", \"21\", \"22\", \"23\", \"24\", \"25\", \"26\", \"27\", \"28\", \"29\", \"30\", \"31\", \"32\", \"33\", \"34\", \"35\", \"36\", \"37\", \"38\", \"39\", \"40\", \"41\", \"42\", \"43\", \"47\", \"48\"], \"mode\": \"lines\", \"name\": \"precision_score_weighted_max\", \"stepped\": true, \"type\": \"scatter\", \"data\": [0.7967335751931734, 0.8561900351900352, 0.8561900351900352, 0.8561900351900352, 0.8561900351900352, 0.8561900351900352, 0.8561900351900352, 0.8561900351900352, 0.8561900351900352, 0.8561900351900352, 0.8561900351900352, 0.8561900351900352, 0.8561900351900352, 0.8561900351900352, 0.8561900351900352, 0.8561900351900352, 0.8561900351900352, 0.8636488897438553, 0.8636488897438553, 0.8636488897438553, 0.8636488897438553, 0.8636488897438553, 0.8636488897438553, 0.8636488897438553, 0.8636488897438553, 0.8636488897438553, 0.8636488897438553, 0.8636488897438553, 0.8636488897438553, 0.8636488897438553, 0.8636488897438553, 0.8636488897438553, 0.8636488897438553, 0.8636488897438553, 0.8636488897438553, 0.8636488897438553, 0.8636488897438553, 0.8636488897438553, 0.8636488897438553, 0.8636488897438553, 0.8636488897438553, 0.8636488897438553, 0.8636488897438553, 0.8636488897438553, 0.8664921229786093, 0.8664921229786093]}], \"average_precision_score_weighted\": [{\"categories\": [\"0\", \"1\", \"2\", \"3\", \"4\", \"5\", \"6\", \"7\", \"8\", \"9\", \"10\", \"11\", \"12\", \"13\", \"14\", \"15\", \"16\", \"17\", \"18\", \"19\", \"20\", \"21\", \"22\", \"23\", \"24\", \"25\", \"26\", \"27\", \"28\", \"29\", \"30\", \"31\", \"32\", \"33\", \"34\", \"35\", \"36\", \"37\", \"38\", \"39\", \"40\", \"41\", \"42\", \"43\", \"47\", \"48\"], \"mode\": \"markers\", \"name\": \"average_precision_score_weighted\", \"stepped\": false, \"type\": \"scatter\", \"data\": [0.8832742195634392, 0.9185376700804971, 0.9079523667788518, 0.7808876896612501, 0.8172773533206957, 0.8850750492996546, 0.919122352500551, 0.9125036072660067, 0.9215295986483115, 0.9060781319781557, 0.9155843871071607, 0.9174354501482955, 0.9175047779656229, 0.834975521983842, 0.8457510171127808, 0.8316164656889005, 0.860627275774478, 0.9134735073999778, 0.9148487143197904, 0.9245395597450334, 0.799875982852343, 0.7877922827842594, 0.9216420062485359, 0.8237548833057347, 0.9290740079825653, 0.4106386717295808, 0.8946336583826617, 0.8146725290723484, 0.7795315053134573, 0.9203509325556263, 0.4106386717295808, 0.9211989336345867, 0.9172161336787887, 0.7679364565841124, 0.4106386717295808, 0.9106716278631367, 0.92112816113698, 0.9147816587721547, 0.9136835289824639, 0.916418081987324, 0.9142748669217203, 0.8885065493175599, 0.904105347957971, 0.7637167984876954, 0.9252657309018921, 0.9258334161846292]}, {\"categories\": [\"0\", \"1\", \"2\", \"3\", \"4\", \"5\", \"6\", \"7\", \"8\", \"9\", \"10\", \"11\", \"12\", \"13\", \"14\", \"15\", \"16\", \"17\", \"18\", \"19\", \"20\", \"21\", \"22\", \"23\", \"24\", \"25\", \"26\", \"27\", \"28\", \"29\", \"30\", \"31\", \"32\", \"33\", \"34\", \"35\", \"36\", \"37\", \"38\", \"39\", \"40\", \"41\", \"42\", \"43\", \"47\", \"48\"], \"mode\": \"lines\", \"name\": \"average_precision_score_weighted_max\", \"stepped\": true, \"type\": \"scatter\", \"data\": [0.8832742195634392, 0.9185376700804971, 0.9185376700804971, 0.9185376700804971, 0.9185376700804971, 0.9185376700804971, 0.919122352500551, 0.919122352500551, 0.9215295986483115, 0.9215295986483115, 0.9215295986483115, 0.9215295986483115, 0.9215295986483115, 0.9215295986483115, 0.9215295986483115, 0.9215295986483115, 0.9215295986483115, 0.9215295986483115, 0.9215295986483115, 0.9245395597450334, 0.9245395597450334, 0.9245395597450334, 0.9245395597450334, 0.9245395597450334, 0.9290740079825653, 0.9290740079825653, 0.9290740079825653, 0.9290740079825653, 0.9290740079825653, 0.9290740079825653, 0.9290740079825653, 0.9290740079825653, 0.9290740079825653, 0.9290740079825653, 0.9290740079825653, 0.9290740079825653, 0.9290740079825653, 0.9290740079825653, 0.9290740079825653, 0.9290740079825653, 0.9290740079825653, 0.9290740079825653, 0.9290740079825653, 0.9290740079825653, 0.9290740079825653, 0.9290740079825653]}], \"precision_score_micro\": [{\"categories\": [\"0\", \"1\", \"2\", \"3\", \"4\", \"5\", \"6\", \"7\", \"8\", \"9\", \"10\", \"11\", \"12\", \"13\", \"14\", \"15\", \"16\", \"17\", \"18\", \"19\", \"20\", \"21\", \"22\", \"23\", \"24\", \"25\", \"26\", \"27\", \"28\", \"29\", \"30\", \"31\", \"32\", \"33\", \"34\", \"35\", \"36\", \"37\", \"38\", \"39\", \"40\", \"41\", \"42\", \"43\", \"47\", \"48\"], \"mode\": \"markers\", \"name\": \"precision_score_micro\", \"stepped\": false, \"type\": \"scatter\", \"data\": [0.7978050778050778, 0.8519246519246518, 0.8321539721539721, 0.6733169533169533, 0.7038656838656838, 0.7904995904995905, 0.8464701064701063, 0.8356920556920556, 0.8519082719082718, 0.8357575757575759, 0.8356592956592956, 0.8446355446355446, 0.842850122850123, 0.7472235872235873, 0.7491236691236691, 0.7509090909090909, 0.8230958230958232, 0.8573791973791975, 0.8338574938574939, 0.8519574119574118, 0.7364619164619165, 0.7436691236691237, 0.8447338247338247, 0.7364619164619164, 0.8158886158886158, 0.5794430794430794, 0.8086158886158886, 0.7581162981162981, 0.7364619164619164, 0.8410974610974613, 0.5794430794430794, 0.8483538083538082, 0.8465028665028665, 0.7327927927927929, 0.5794430794430794, 0.8356920556920556, 0.8555446355446354, 0.8500737100737101, 0.842932022932023, 0.8519410319410319, 0.8447010647010647, 0.8285503685503686, 0.8013595413595415, 0.6047338247338246, 0.8628009828009828, 0.851924651924652]}, {\"categories\": [\"0\", \"1\", \"2\", \"3\", \"4\", \"5\", \"6\", \"7\", \"8\", \"9\", \"10\", \"11\", \"12\", \"13\", \"14\", \"15\", \"16\", \"17\", \"18\", \"19\", \"20\", \"21\", \"22\", \"23\", \"24\", \"25\", \"26\", \"27\", \"28\", \"29\", \"30\", \"31\", \"32\", \"33\", \"34\", \"35\", \"36\", \"37\", \"38\", \"39\", \"40\", \"41\", \"42\", \"43\", \"47\", \"48\"], \"mode\": \"lines\", \"name\": \"precision_score_micro_max\", \"stepped\": true, \"type\": \"scatter\", \"data\": [0.7978050778050778, 0.8519246519246518, 0.8519246519246518, 0.8519246519246518, 0.8519246519246518, 0.8519246519246518, 0.8519246519246518, 0.8519246519246518, 0.8519246519246518, 0.8519246519246518, 0.8519246519246518, 0.8519246519246518, 0.8519246519246518, 0.8519246519246518, 0.8519246519246518, 0.8519246519246518, 0.8519246519246518, 0.8573791973791975, 0.8573791973791975, 0.8573791973791975, 0.8573791973791975, 0.8573791973791975, 0.8573791973791975, 0.8573791973791975, 0.8573791973791975, 0.8573791973791975, 0.8573791973791975, 0.8573791973791975, 0.8573791973791975, 0.8573791973791975, 0.8573791973791975, 0.8573791973791975, 0.8573791973791975, 0.8573791973791975, 0.8573791973791975, 0.8573791973791975, 0.8573791973791975, 0.8573791973791975, 0.8573791973791975, 0.8573791973791975, 0.8573791973791975, 0.8573791973791975, 0.8573791973791975, 0.8573791973791975, 0.8628009828009828, 0.8628009828009828]}]}, \"metricName\": null, \"primaryMetricName\": \"accuracy\", \"showLegend\": false}, \"run_metrics\": [{\"name\": \"experiment_status\", \"run_id\": \"AutoML_1e2f15f6-8fc8-4d3d-9050-a36fd6bdb60c\", \"categories\": [0, 1, 2, 3, 4, 5, 6, 7, 8, 9, 10, 11, 12, 13, 14], \"series\": [{\"data\": [\"DatasetEvaluation\", \"FeaturesGeneration\", \"DatasetFeaturization\", \"DatasetFeaturizationCompleted\", \"DatasetBalancing\", \"DatasetCrossValidationSplit\", \"ModelSelection\", \"BestRunExplainModel\", \"ModelExplanationDataSetSetup\", \"PickSurrogateModel\", \"EngineeredFeatureExplanations\", \"EngineeredFeatureExplanations\", \"RawFeaturesExplanations\", \"RawFeaturesExplanations\", \"BestRunExplainModel\"]}]}, {\"name\": \"experiment_status_description\", \"run_id\": \"AutoML_1e2f15f6-8fc8-4d3d-9050-a36fd6bdb60c\", \"categories\": [0, 1, 2, 3, 4, 5, 6, 7, 8, 9, 10, 11, 12, 13, 14], \"series\": [{\"data\": [\"Gathering dataset statistics.\", \"Generating features for the dataset.\", \"Beginning to fit featurizers and featurize the dataset.\", \"Completed fit featurizers and featurizing the dataset.\", \"Performing class balancing sweeping\", \"Generating individually featurized CV splits.\", \"Beginning model selection.\", \"Best run model explanations started\", \"Model explanations data setup completed\", \"Choosing LinearModel as the surrogate model for explanations\", \"Computation of engineered features started\", \"Computation of engineered features completed\", \"Computation of raw features started\", \"Computation of raw features completed\", \"Best run model explanations completed\"]}]}, {\"name\": \"recall_score_micro\", \"run_id\": \"AutoML_1e2f15f6-8fc8-4d3d-9050-a36fd6bdb60c\", \"categories\": [0], \"series\": [{\"data\": [0.8628009828009828]}]}, {\"name\": \"recall_score_weighted\", \"run_id\": \"AutoML_1e2f15f6-8fc8-4d3d-9050-a36fd6bdb60c\", \"categories\": [0], \"series\": [{\"data\": [0.8628009828009828]}]}, {\"name\": \"precision_score_micro\", \"run_id\": \"AutoML_1e2f15f6-8fc8-4d3d-9050-a36fd6bdb60c\", \"categories\": [0], \"series\": [{\"data\": [0.8628009828009828]}]}, {\"name\": \"precision_score_weighted\", \"run_id\": \"AutoML_1e2f15f6-8fc8-4d3d-9050-a36fd6bdb60c\", \"categories\": [0], \"series\": [{\"data\": [0.8664921229786093]}]}, {\"name\": \"f1_score_weighted\", \"run_id\": \"AutoML_1e2f15f6-8fc8-4d3d-9050-a36fd6bdb60c\", \"categories\": [0], \"series\": [{\"data\": [0.851466145832142]}]}, {\"name\": \"average_precision_score_micro\", \"run_id\": \"AutoML_1e2f15f6-8fc8-4d3d-9050-a36fd6bdb60c\", \"categories\": [0], \"series\": [{\"data\": [0.932784237997927]}]}, {\"name\": \"f1_score_macro\", \"run_id\": \"AutoML_1e2f15f6-8fc8-4d3d-9050-a36fd6bdb60c\", \"categories\": [0], \"series\": [{\"data\": [0.7908986097932391]}]}, {\"name\": \"f1_score_micro\", \"run_id\": \"AutoML_1e2f15f6-8fc8-4d3d-9050-a36fd6bdb60c\", \"categories\": [0], \"series\": [{\"data\": [0.8628009828009828]}]}, {\"name\": \"norm_macro_recall\", \"run_id\": \"AutoML_1e2f15f6-8fc8-4d3d-9050-a36fd6bdb60c\", \"categories\": [0], \"series\": [{\"data\": [0.665201827138368]}]}, {\"name\": \"AUC_micro\", \"run_id\": \"AutoML_1e2f15f6-8fc8-4d3d-9050-a36fd6bdb60c\", \"categories\": [0], \"series\": [{\"data\": [0.9676494985045352]}]}, {\"name\": \"AUC_macro\", \"run_id\": \"AutoML_1e2f15f6-8fc8-4d3d-9050-a36fd6bdb60c\", \"categories\": [0], \"series\": [{\"data\": [0.9459441892812599]}]}, {\"name\": \"log_loss\", \"run_id\": \"AutoML_1e2f15f6-8fc8-4d3d-9050-a36fd6bdb60c\", \"categories\": [0], \"series\": [{\"data\": [0.5456197929899995]}]}, {\"name\": \"average_precision_score_macro\", \"run_id\": \"AutoML_1e2f15f6-8fc8-4d3d-9050-a36fd6bdb60c\", \"categories\": [0], \"series\": [{\"data\": [0.856788954839962]}]}, {\"name\": \"weighted_accuracy\", \"run_id\": \"AutoML_1e2f15f6-8fc8-4d3d-9050-a36fd6bdb60c\", \"categories\": [0], \"series\": [{\"data\": [0.9336521559978221]}]}, {\"name\": \"balanced_accuracy\", \"run_id\": \"AutoML_1e2f15f6-8fc8-4d3d-9050-a36fd6bdb60c\", \"categories\": [0], \"series\": [{\"data\": [0.748901370353776]}]}, {\"name\": \"matthews_correlation\", \"run_id\": \"AutoML_1e2f15f6-8fc8-4d3d-9050-a36fd6bdb60c\", \"categories\": [0], \"series\": [{\"data\": [0.7650281927113572]}]}, {\"name\": \"accuracy\", \"run_id\": \"AutoML_1e2f15f6-8fc8-4d3d-9050-a36fd6bdb60c\", \"categories\": [0], \"series\": [{\"data\": [0.8628009828009828]}]}, {\"name\": \"average_precision_score_weighted\", \"run_id\": \"AutoML_1e2f15f6-8fc8-4d3d-9050-a36fd6bdb60c\", \"categories\": [0], \"series\": [{\"data\": [0.9252657309018921]}]}, {\"name\": \"recall_score_macro\", \"run_id\": \"AutoML_1e2f15f6-8fc8-4d3d-9050-a36fd6bdb60c\", \"categories\": [0], \"series\": [{\"data\": [0.748901370353776]}]}, {\"name\": \"precision_score_macro\", \"run_id\": \"AutoML_1e2f15f6-8fc8-4d3d-9050-a36fd6bdb60c\", \"categories\": [0], \"series\": [{\"data\": [0.874059606700911]}]}, {\"name\": \"AUC_weighted\", \"run_id\": \"AutoML_1e2f15f6-8fc8-4d3d-9050-a36fd6bdb60c\", \"categories\": [0], \"series\": [{\"data\": [0.9563329028792638]}]}], \"run_logs\": \"\\nRun is completed.\", \"graph\": {}, \"widget_settings\": {\"childWidgetDisplay\": \"popup\", \"send_telemetry\": false, \"log_level\": \"INFO\", \"sdk_version\": \"1.19.0\"}, \"loading\": false}"
          },
          "metadata": {}
        }
      ],
      "execution_count": 18,
      "metadata": {
        "gather": {
          "logged": 1609921836727
        },
        "jupyter": {
          "outputs_hidden": false,
          "source_hidden": false
        },
        "nteract": {
          "transient": {
            "deleting": false
          }
        }
      }
    },
    {
      "cell_type": "markdown",
      "source": [
        "## Best Model\n",
        "\n",
        "TODO: In the cell below, get the best model from the automl experiments and display all the properties of the model.\n",
        "\n"
      ],
      "metadata": {}
    },
    {
      "cell_type": "code",
      "source": [
        "best_run, fitted_model= remote_run.get_output()"
      ],
      "outputs": [],
      "execution_count": 19,
      "metadata": {
        "gather": {
          "logged": 1609922420866
        },
        "jupyter": {
          "outputs_hidden": false,
          "source_hidden": false
        },
        "nteract": {
          "transient": {
            "deleting": false
          }
        }
      }
    },
    {
      "cell_type": "code",
      "source": [
        "print(best_run)"
      ],
      "outputs": [
        {
          "output_type": "stream",
          "name": "stdout",
          "text": [
            "Run(Experiment: mental-health-classification,\n",
            "Id: AutoML_1e2f15f6-8fc8-4d3d-9050-a36fd6bdb60c_47,\n",
            "Type: azureml.scriptrun,\n",
            "Status: Completed)\n"
          ]
        }
      ],
      "execution_count": 20,
      "metadata": {
        "collapsed": true,
        "jupyter": {
          "source_hidden": false,
          "outputs_hidden": false
        },
        "nteract": {
          "transient": {
            "deleting": false
          }
        },
        "gather": {
          "logged": 1609922421216
        }
      }
    },
    {
      "cell_type": "code",
      "source": [
        "print(fitted_model)"
      ],
      "outputs": [
        {
          "output_type": "stream",
          "name": "stdout",
          "text": [
            "Pipeline(memory=None,\n",
            "         steps=[('datatransformer',\n",
            "                 DataTransformer(enable_dnn=None, enable_feature_sweeping=None,\n",
            "                                 feature_sweeping_config=None,\n",
            "                                 feature_sweeping_timeout=None,\n",
            "                                 featurization_config=None, force_text_dnn=None,\n",
            "                                 is_cross_validation=None,\n",
            "                                 is_onnx_compatible=None, logger=None,\n",
            "                                 observer=None, task=None, working_dir=None)),\n",
            "                ('prefittedsoftvotingclassifier',...\n",
            "                                                                                                    min_samples_split=0.2442105263157895,\n",
            "                                                                                                    min_weight_fraction_leaf=0.0,\n",
            "                                                                                                    n_estimators=10,\n",
            "                                                                                                    n_jobs=1,\n",
            "                                                                                                    oob_score=False,\n",
            "                                                                                                    random_state=None,\n",
            "                                                                                                    verbose=0,\n",
            "                                                                                                    warm_start=False))],\n",
            "                                                                     verbose=False))],\n",
            "                                               flatten_transform=None,\n",
            "                                               weights=[0.1111111111111111,\n",
            "                                                        0.1111111111111111,\n",
            "                                                        0.1111111111111111,\n",
            "                                                        0.1111111111111111,\n",
            "                                                        0.1111111111111111,\n",
            "                                                        0.1111111111111111,\n",
            "                                                        0.1111111111111111,\n",
            "                                                        0.2222222222222222]))],\n",
            "         verbose=False)\n",
            "Y_transformer(['LabelEncoder', LabelEncoder()])\n"
          ]
        }
      ],
      "execution_count": 21,
      "metadata": {
        "collapsed": true,
        "jupyter": {
          "source_hidden": false,
          "outputs_hidden": false
        },
        "nteract": {
          "transient": {
            "deleting": false
          }
        },
        "gather": {
          "logged": 1609922421556
        }
      }
    },
    {
      "cell_type": "code",
      "source": [
        "fitted_model.named_steps[\"datatransformer\"].get_engineered_feature_names()"
      ],
      "outputs": [
        {
          "output_type": "execute_result",
          "execution_count": 22,
          "data": {
            "text/plain": "['text_CharGramTfIdf_ , ',\n 'text_CharGramTfIdf_ ,h',\n 'text_CharGramTfIdf_ ,n',\n 'text_CharGramTfIdf_ -d',\n 'text_CharGramTfIdf_ -h',\n 'text_CharGramTfIdf_ a ',\n 'text_CharGramTfIdf_ ab',\n 'text_CharGramTfIdf_ ac',\n 'text_CharGramTfIdf_ ad',\n 'text_CharGramTfIdf_ af',\n 'text_CharGramTfIdf_ ag',\n 'text_CharGramTfIdf_ ah',\n 'text_CharGramTfIdf_ al',\n 'text_CharGramTfIdf_ am',\n 'text_CharGramTfIdf_ an',\n 'text_CharGramTfIdf_ ap',\n 'text_CharGramTfIdf_ ar',\n 'text_CharGramTfIdf_ as',\n 'text_CharGramTfIdf_ at',\n 'text_CharGramTfIdf_ av',\n 'text_CharGramTfIdf_ aw',\n 'text_CharGramTfIdf_ ba',\n 'text_CharGramTfIdf_ be',\n 'text_CharGramTfIdf_ bh',\n 'text_CharGramTfIdf_ bo',\n 'text_CharGramTfIdf_ br',\n 'text_CharGramTfIdf_ bu',\n 'text_CharGramTfIdf_ by',\n 'text_CharGramTfIdf_ ca',\n 'text_CharGramTfIdf_ ce',\n 'text_CharGramTfIdf_ ch',\n 'text_CharGramTfIdf_ cl',\n 'text_CharGramTfIdf_ co',\n 'text_CharGramTfIdf_ cr',\n 'text_CharGramTfIdf_ cu',\n 'text_CharGramTfIdf_ d ',\n 'text_CharGramTfIdf_ da',\n 'text_CharGramTfIdf_ de',\n 'text_CharGramTfIdf_ di',\n 'text_CharGramTfIdf_ do',\n 'text_CharGramTfIdf_ dr',\n 'text_CharGramTfIdf_ du',\n 'text_CharGramTfIdf_ ea',\n 'text_CharGramTfIdf_ ed',\n 'text_CharGramTfIdf_ ef',\n 'text_CharGramTfIdf_ el',\n 'text_CharGramTfIdf_ em',\n 'text_CharGramTfIdf_ en',\n 'text_CharGramTfIdf_ es',\n 'text_CharGramTfIdf_ ev',\n 'text_CharGramTfIdf_ ex',\n 'text_CharGramTfIdf_ fa',\n 'text_CharGramTfIdf_ fe',\n 'text_CharGramTfIdf_ fg',\n 'text_CharGramTfIdf_ fi',\n 'text_CharGramTfIdf_ fl',\n 'text_CharGramTfIdf_ fo',\n 'text_CharGramTfIdf_ fr',\n 'text_CharGramTfIdf_ fu',\n 'text_CharGramTfIdf_ ga',\n 'text_CharGramTfIdf_ ge',\n 'text_CharGramTfIdf_ gi',\n 'text_CharGramTfIdf_ go',\n 'text_CharGramTfIdf_ gr',\n 'text_CharGramTfIdf_ gu',\n 'text_CharGramTfIdf_ ha',\n 'text_CharGramTfIdf_ he',\n 'text_CharGramTfIdf_ hi',\n 'text_CharGramTfIdf_ ho',\n 'text_CharGramTfIdf_ hu',\n 'text_CharGramTfIdf_ hw',\n 'text_CharGramTfIdf_ hy',\n 'text_CharGramTfIdf_ i ',\n \"text_CharGramTfIdf_ i'\",\n 'text_CharGramTfIdf_ if',\n 'text_CharGramTfIdf_ ig',\n 'text_CharGramTfIdf_ ii',\n 'text_CharGramTfIdf_ im',\n 'text_CharGramTfIdf_ in',\n 'text_CharGramTfIdf_ ir',\n 'text_CharGramTfIdf_ is',\n 'text_CharGramTfIdf_ it',\n 'text_CharGramTfIdf_ jo',\n 'text_CharGramTfIdf_ ju',\n 'text_CharGramTfIdf_ ke',\n 'text_CharGramTfIdf_ ki',\n 'text_CharGramTfIdf_ kn',\n 'text_CharGramTfIdf_ la',\n 'text_CharGramTfIdf_ le',\n 'text_CharGramTfIdf_ li',\n 'text_CharGramTfIdf_ lo',\n 'text_CharGramTfIdf_ ma',\n 'text_CharGramTfIdf_ me',\n 'text_CharGramTfIdf_ mi',\n 'text_CharGramTfIdf_ mo',\n 'text_CharGramTfIdf_ mu',\n 'text_CharGramTfIdf_ my',\n 'text_CharGramTfIdf_ ne',\n 'text_CharGramTfIdf_ no',\n 'text_CharGramTfIdf_ np',\n 'text_CharGramTfIdf_ o ',\n 'text_CharGramTfIdf_ oc',\n 'text_CharGramTfIdf_ of',\n 'text_CharGramTfIdf_ ok',\n 'text_CharGramTfIdf_ ol',\n 'text_CharGramTfIdf_ on',\n 'text_CharGramTfIdf_ op',\n 'text_CharGramTfIdf_ or',\n 'text_CharGramTfIdf_ ot',\n 'text_CharGramTfIdf_ ou',\n 'text_CharGramTfIdf_ ov',\n 'text_CharGramTfIdf_ ow',\n 'text_CharGramTfIdf_ pa',\n 'text_CharGramTfIdf_ pe',\n 'text_CharGramTfIdf_ pi',\n 'text_CharGramTfIdf_ pl',\n 'text_CharGramTfIdf_ po',\n 'text_CharGramTfIdf_ pr',\n 'text_CharGramTfIdf_ ps',\n 'text_CharGramTfIdf_ pu',\n 'text_CharGramTfIdf_ qu',\n 'text_CharGramTfIdf_ ra',\n 'text_CharGramTfIdf_ re',\n 'text_CharGramTfIdf_ ri',\n 'text_CharGramTfIdf_ ro',\n 'text_CharGramTfIdf_ sa',\n 'text_CharGramTfIdf_ sc',\n 'text_CharGramTfIdf_ se',\n 'text_CharGramTfIdf_ sh',\n 'text_CharGramTfIdf_ si',\n 'text_CharGramTfIdf_ sl',\n 'text_CharGramTfIdf_ sm',\n 'text_CharGramTfIdf_ so',\n 'text_CharGramTfIdf_ sp',\n 'text_CharGramTfIdf_ st',\n 'text_CharGramTfIdf_ su',\n 'text_CharGramTfIdf_ ta',\n 'text_CharGramTfIdf_ te',\n 'text_CharGramTfIdf_ th',\n 'text_CharGramTfIdf_ ti',\n 'text_CharGramTfIdf_ to',\n 'text_CharGramTfIdf_ tr',\n 'text_CharGramTfIdf_ tw',\n 'text_CharGramTfIdf_ un',\n 'text_CharGramTfIdf_ up',\n 'text_CharGramTfIdf_ us',\n 'text_CharGramTfIdf_ ut',\n 'text_CharGramTfIdf_ va',\n 'text_CharGramTfIdf_ ve',\n 'text_CharGramTfIdf_ vi',\n 'text_CharGramTfIdf_ wa',\n 'text_CharGramTfIdf_ we',\n 'text_CharGramTfIdf_ wh',\n 'text_CharGramTfIdf_ wi',\n 'text_CharGramTfIdf_ wo',\n 'text_CharGramTfIdf_ ye',\n 'text_CharGramTfIdf_ yo',\n 'text_CharGramTfIdf_ …h',\n \"text_CharGramTfIdf_'m \",\n \"text_CharGramTfIdf_'s \",\n \"text_CharGramTfIdf_'t \",\n 'text_CharGramTfIdf_(po',\n 'text_CharGramTfIdf_)mo',\n 'text_CharGramTfIdf_, -',\n 'text_CharGramTfIdf_, a',\n 'text_CharGramTfIdf_, d',\n 'text_CharGramTfIdf_, e',\n 'text_CharGramTfIdf_, h',\n 'text_CharGramTfIdf_, i',\n 'text_CharGramTfIdf_, l',\n 'text_CharGramTfIdf_, m',\n 'text_CharGramTfIdf_, n',\n 'text_CharGramTfIdf_, p',\n 'text_CharGramTfIdf_, r',\n 'text_CharGramTfIdf_, s',\n 'text_CharGramTfIdf_, t',\n 'text_CharGramTfIdf_, u',\n 'text_CharGramTfIdf_, w',\n 'text_CharGramTfIdf_,ab',\n 'text_CharGramTfIdf_,al',\n 'text_CharGramTfIdf_,co',\n 'text_CharGramTfIdf_,di',\n 'text_CharGramTfIdf_,fe',\n 'text_CharGramTfIdf_,ha',\n 'text_CharGramTfIdf_,he',\n 'text_CharGramTfIdf_,ho',\n 'text_CharGramTfIdf_,i ',\n 'text_CharGramTfIdf_,is',\n 'text_CharGramTfIdf_,lo',\n 'text_CharGramTfIdf_,no',\n 'text_CharGramTfIdf_,sa',\n 'text_CharGramTfIdf_,sh',\n 'text_CharGramTfIdf_,si',\n 'text_CharGramTfIdf_,so',\n 'text_CharGramTfIdf_,st',\n 'text_CharGramTfIdf_,th',\n 'text_CharGramTfIdf_,un',\n 'text_CharGramTfIdf_,wa',\n 'text_CharGramTfIdf_,wh',\n 'text_CharGramTfIdf_,wi',\n 'text_CharGramTfIdf_-ar',\n 'text_CharGramTfIdf_-di',\n 'text_CharGramTfIdf_-ho',\n 'text_CharGramTfIdf_-on',\n 'text_CharGramTfIdf_. h',\n 'text_CharGramTfIdf_. i',\n 'text_CharGramTfIdf_. r',\n 'text_CharGramTfIdf_. w',\n 'text_CharGramTfIdf_/ r',\n 'text_CharGramTfIdf_/sh',\n 'text_CharGramTfIdf_? d',\n 'text_CharGramTfIdf_? o',\n 'text_CharGramTfIdf_? w',\n 'text_CharGramTfIdf_?wh',\n 'text_CharGramTfIdf_a b',\n 'text_CharGramTfIdf_a c',\n 'text_CharGramTfIdf_a d',\n 'text_CharGramTfIdf_a f',\n 'text_CharGramTfIdf_a g',\n 'text_CharGramTfIdf_a h',\n 'text_CharGramTfIdf_a l',\n 'text_CharGramTfIdf_a m',\n 'text_CharGramTfIdf_a n',\n 'text_CharGramTfIdf_a p',\n 'text_CharGramTfIdf_a r',\n 'text_CharGramTfIdf_a t',\n 'text_CharGramTfIdf_a w',\n 'text_CharGramTfIdf_a,h',\n 'text_CharGramTfIdf_aba',\n 'text_CharGramTfIdf_abi',\n 'text_CharGramTfIdf_abl',\n 'text_CharGramTfIdf_abo',\n 'text_CharGramTfIdf_abs',\n 'text_CharGramTfIdf_abu',\n 'text_CharGramTfIdf_aca',\n 'text_CharGramTfIdf_ace',\n 'text_CharGramTfIdf_ach',\n 'text_CharGramTfIdf_aci',\n 'text_CharGramTfIdf_ack',\n 'text_CharGramTfIdf_acr',\n 'text_CharGramTfIdf_act',\n 'text_CharGramTfIdf_acy',\n 'text_CharGramTfIdf_ad ',\n 'text_CharGramTfIdf_ad,',\n 'text_CharGramTfIdf_ad?',\n 'text_CharGramTfIdf_ada',\n 'text_CharGramTfIdf_add',\n 'text_CharGramTfIdf_ade',\n 'text_CharGramTfIdf_adn',\n 'text_CharGramTfIdf_adu',\n 'text_CharGramTfIdf_adv',\n 'text_CharGramTfIdf_afe',\n 'text_CharGramTfIdf_aff',\n 'text_CharGramTfIdf_aft',\n 'text_CharGramTfIdf_aga',\n 'text_CharGramTfIdf_age',\n 'text_CharGramTfIdf_ahd',\n 'text_CharGramTfIdf_ail',\n 'text_CharGramTfIdf_ain',\n 'text_CharGramTfIdf_air',\n 'text_CharGramTfIdf_ais',\n 'text_CharGramTfIdf_ak ',\n 'text_CharGramTfIdf_ak?',\n 'text_CharGramTfIdf_ake',\n 'text_CharGramTfIdf_aki',\n 'text_CharGramTfIdf_al ',\n 'text_CharGramTfIdf_alc',\n 'text_CharGramTfIdf_ali',\n 'text_CharGramTfIdf_alk',\n 'text_CharGramTfIdf_all',\n 'text_CharGramTfIdf_alm',\n 'text_CharGramTfIdf_alo',\n 'text_CharGramTfIdf_als',\n 'text_CharGramTfIdf_alt',\n 'text_CharGramTfIdf_alu',\n 'text_CharGramTfIdf_alw',\n 'text_CharGramTfIdf_am ',\n 'text_CharGramTfIdf_amb',\n 'text_CharGramTfIdf_ame',\n 'text_CharGramTfIdf_ami',\n 'text_CharGramTfIdf_amm',\n 'text_CharGramTfIdf_amp',\n 'text_CharGramTfIdf_ams',\n 'text_CharGramTfIdf_an ',\n \"text_CharGramTfIdf_an'\",\n 'text_CharGramTfIdf_ana',\n 'text_CharGramTfIdf_anc',\n 'text_CharGramTfIdf_and',\n 'text_CharGramTfIdf_ane',\n 'text_CharGramTfIdf_ang',\n 'text_CharGramTfIdf_ani',\n 'text_CharGramTfIdf_ank',\n 'text_CharGramTfIdf_ann',\n 'text_CharGramTfIdf_ano',\n 'text_CharGramTfIdf_ant',\n 'text_CharGramTfIdf_anu',\n 'text_CharGramTfIdf_anx',\n 'text_CharGramTfIdf_any',\n 'text_CharGramTfIdf_aot',\n 'text_CharGramTfIdf_apa',\n 'text_CharGramTfIdf_aph',\n 'text_CharGramTfIdf_app',\n 'text_CharGramTfIdf_ar ',\n 'text_CharGramTfIdf_ara',\n 'text_CharGramTfIdf_ard',\n 'text_CharGramTfIdf_are',\n 'text_CharGramTfIdf_arf',\n 'text_CharGramTfIdf_arg',\n 'text_CharGramTfIdf_ari',\n 'text_CharGramTfIdf_arm',\n 'text_CharGramTfIdf_aro',\n 'text_CharGramTfIdf_arr',\n 'text_CharGramTfIdf_art',\n 'text_CharGramTfIdf_as ',\n 'text_CharGramTfIdf_ase',\n 'text_CharGramTfIdf_asi',\n 'text_CharGramTfIdf_ask',\n 'text_CharGramTfIdf_aso',\n 'text_CharGramTfIdf_asp',\n 'text_CharGramTfIdf_ass',\n 'text_CharGramTfIdf_ast',\n 'text_CharGramTfIdf_asu',\n 'text_CharGramTfIdf_asy',\n 'text_CharGramTfIdf_at ',\n \"text_CharGramTfIdf_at'\",\n 'text_CharGramTfIdf_at(',\n 'text_CharGramTfIdf_ata',\n 'text_CharGramTfIdf_ate',\n 'text_CharGramTfIdf_ath',\n 'text_CharGramTfIdf_ati',\n 'text_CharGramTfIdf_ato',\n 'text_CharGramTfIdf_atr',\n 'text_CharGramTfIdf_att',\n 'text_CharGramTfIdf_aug',\n 'text_CharGramTfIdf_aus',\n 'text_CharGramTfIdf_ave',\n 'text_CharGramTfIdf_avi',\n 'text_CharGramTfIdf_avo',\n 'text_CharGramTfIdf_avy',\n 'text_CharGramTfIdf_aw ',\n 'text_CharGramTfIdf_awa',\n 'text_CharGramTfIdf_awf',\n 'text_CharGramTfIdf_awn',\n 'text_CharGramTfIdf_ax,',\n 'text_CharGramTfIdf_ay ',\n 'text_CharGramTfIdf_ay?',\n 'text_CharGramTfIdf_aye',\n 'text_CharGramTfIdf_ays',\n 'text_CharGramTfIdf_azy',\n 'text_CharGramTfIdf_b e',\n 'text_CharGramTfIdf_bab',\n 'text_CharGramTfIdf_bac',\n 'text_CharGramTfIdf_bad',\n 'text_CharGramTfIdf_ban',\n 'text_CharGramTfIdf_bas',\n 'text_CharGramTfIdf_be ',\n 'text_CharGramTfIdf_bea',\n 'text_CharGramTfIdf_bec',\n 'text_CharGramTfIdf_bed',\n 'text_CharGramTfIdf_bee',\n 'text_CharGramTfIdf_beh',\n 'text_CharGramTfIdf_bei',\n 'text_CharGramTfIdf_bel',\n 'text_CharGramTfIdf_ben',\n 'text_CharGramTfIdf_ber',\n 'text_CharGramTfIdf_bes',\n 'text_CharGramTfIdf_bet',\n 'text_CharGramTfIdf_bha',\n 'text_CharGramTfIdf_bil',\n 'text_CharGramTfIdf_bin',\n 'text_CharGramTfIdf_bit',\n 'text_CharGramTfIdf_ble',\n 'text_CharGramTfIdf_bli',\n 'text_CharGramTfIdf_bod',\n 'text_CharGramTfIdf_bor',\n 'text_CharGramTfIdf_bot',\n 'text_CharGramTfIdf_bou',\n 'text_CharGramTfIdf_bre',\n 'text_CharGramTfIdf_bro',\n 'text_CharGramTfIdf_bse',\n 'text_CharGramTfIdf_bts',\n 'text_CharGramTfIdf_bur',\n 'text_CharGramTfIdf_bus',\n 'text_CharGramTfIdf_but',\n 'text_CharGramTfIdf_by ',\n 'text_CharGramTfIdf_c i',\n 'text_CharGramTfIdf_c n',\n 'text_CharGramTfIdf_c p',\n 'text_CharGramTfIdf_c r',\n 'text_CharGramTfIdf_c t',\n 'text_CharGramTfIdf_c,s',\n 'text_CharGramTfIdf_cad',\n 'text_CharGramTfIdf_cal',\n 'text_CharGramTfIdf_cam',\n 'text_CharGramTfIdf_can',\n 'text_CharGramTfIdf_car',\n 'text_CharGramTfIdf_cat',\n 'text_CharGramTfIdf_cau',\n 'text_CharGramTfIdf_cce',\n 'text_CharGramTfIdf_cco',\n 'text_CharGramTfIdf_ccu',\n 'text_CharGramTfIdf_ce ',\n 'text_CharGramTfIdf_ce,',\n 'text_CharGramTfIdf_ce?',\n 'text_CharGramTfIdf_ced',\n 'text_CharGramTfIdf_cei',\n 'text_CharGramTfIdf_cen',\n 'text_CharGramTfIdf_ces',\n 'text_CharGramTfIdf_ch ',\n 'text_CharGramTfIdf_ch?',\n 'text_CharGramTfIdf_cha',\n 'text_CharGramTfIdf_che',\n 'text_CharGramTfIdf_chi',\n 'text_CharGramTfIdf_cho',\n 'text_CharGramTfIdf_chu',\n 'text_CharGramTfIdf_cia',\n 'text_CharGramTfIdf_cid',\n 'text_CharGramTfIdf_cie',\n 'text_CharGramTfIdf_cil',\n 'text_CharGramTfIdf_cin',\n 'text_CharGramTfIdf_ciz',\n 'text_CharGramTfIdf_ck ',\n 'text_CharGramTfIdf_ckg',\n 'text_CharGramTfIdf_cki',\n 'text_CharGramTfIdf_ckl',\n 'text_CharGramTfIdf_cla',\n 'text_CharGramTfIdf_cle',\n 'text_CharGramTfIdf_clo',\n 'text_CharGramTfIdf_coh',\n 'text_CharGramTfIdf_col',\n 'text_CharGramTfIdf_com',\n 'text_CharGramTfIdf_con',\n 'text_CharGramTfIdf_cop',\n 'text_CharGramTfIdf_cor',\n 'text_CharGramTfIdf_cou',\n 'text_CharGramTfIdf_cra',\n 'text_CharGramTfIdf_cri',\n 'text_CharGramTfIdf_cru',\n 'text_CharGramTfIdf_ct ',\n 'text_CharGramTfIdf_ct.',\n 'text_CharGramTfIdf_ct?',\n 'text_CharGramTfIdf_cta',\n 'text_CharGramTfIdf_cte',\n 'text_CharGramTfIdf_cti',\n 'text_CharGramTfIdf_ctl',\n 'text_CharGramTfIdf_cts',\n 'text_CharGramTfIdf_ctu',\n 'text_CharGramTfIdf_cul',\n 'text_CharGramTfIdf_cur',\n 'text_CharGramTfIdf_d a',\n 'text_CharGramTfIdf_d b',\n 'text_CharGramTfIdf_d c',\n 'text_CharGramTfIdf_d d',\n 'text_CharGramTfIdf_d e',\n 'text_CharGramTfIdf_d f',\n 'text_CharGramTfIdf_d g',\n 'text_CharGramTfIdf_d h',\n 'text_CharGramTfIdf_d i',\n 'text_CharGramTfIdf_d k',\n 'text_CharGramTfIdf_d l',\n 'text_CharGramTfIdf_d m',\n 'text_CharGramTfIdf_d n',\n 'text_CharGramTfIdf_d o',\n 'text_CharGramTfIdf_d p',\n 'text_CharGramTfIdf_d r',\n 'text_CharGramTfIdf_d s',\n 'text_CharGramTfIdf_d t',\n 'text_CharGramTfIdf_d u',\n 'text_CharGramTfIdf_d v',\n 'text_CharGramTfIdf_d w',\n 'text_CharGramTfIdf_d y',\n 'text_CharGramTfIdf_d, ',\n 'text_CharGramTfIdf_d,a',\n 'text_CharGramTfIdf_d,f',\n 'text_CharGramTfIdf_d,i',\n 'text_CharGramTfIdf_d,l',\n 'text_CharGramTfIdf_d,n',\n 'text_CharGramTfIdf_d,s',\n 'text_CharGramTfIdf_d,w',\n 'text_CharGramTfIdf_d. ',\n 'text_CharGramTfIdf_d? ',\n 'text_CharGramTfIdf_dac',\n 'text_CharGramTfIdf_dai',\n 'text_CharGramTfIdf_dal',\n 'text_CharGramTfIdf_dan',\n 'text_CharGramTfIdf_dau',\n 'text_CharGramTfIdf_day',\n 'text_CharGramTfIdf_dct',\n 'text_CharGramTfIdf_dd ',\n 'text_CharGramTfIdf_ddi',\n 'text_CharGramTfIdf_de ',\n 'text_CharGramTfIdf_de?',\n 'text_CharGramTfIdf_dea',\n 'text_CharGramTfIdf_deb',\n 'text_CharGramTfIdf_ded',\n 'text_CharGramTfIdf_dee',\n 'text_CharGramTfIdf_def',\n 'text_CharGramTfIdf_dem',\n 'text_CharGramTfIdf_den',\n 'text_CharGramTfIdf_dep',\n 'text_CharGramTfIdf_deq',\n 'text_CharGramTfIdf_der',\n 'text_CharGramTfIdf_des',\n 'text_CharGramTfIdf_det',\n 'text_CharGramTfIdf_dev',\n 'text_CharGramTfIdf_dge',\n 'text_CharGramTfIdf_di ',\n 'text_CharGramTfIdf_dia',\n 'text_CharGramTfIdf_dic',\n 'text_CharGramTfIdf_did',\n 'text_CharGramTfIdf_die',\n 'text_CharGramTfIdf_dif',\n 'text_CharGramTfIdf_din',\n 'text_CharGramTfIdf_dis',\n 'text_CharGramTfIdf_diz',\n 'text_CharGramTfIdf_dle',\n 'text_CharGramTfIdf_dli',\n 'text_CharGramTfIdf_dm[',\n 'text_CharGramTfIdf_dne',\n 'text_CharGramTfIdf_dno',\n 'text_CharGramTfIdf_dn’',\n 'text_CharGramTfIdf_do ',\n 'text_CharGramTfIdf_do?',\n 'text_CharGramTfIdf_doe',\n 'text_CharGramTfIdf_doi',\n 'text_CharGramTfIdf_dom',\n 'text_CharGramTfIdf_don',\n 'text_CharGramTfIdf_dot',\n 'text_CharGramTfIdf_dow',\n 'text_CharGramTfIdf_dra',\n 'text_CharGramTfIdf_dri',\n 'text_CharGramTfIdf_dru',\n 'text_CharGramTfIdf_ds ',\n 'text_CharGramTfIdf_ds?',\n 'text_CharGramTfIdf_ds…',\n 'text_CharGramTfIdf_dua',\n 'text_CharGramTfIdf_duc',\n 'text_CharGramTfIdf_dul',\n 'text_CharGramTfIdf_dum',\n 'text_CharGramTfIdf_dvi',\n 'text_CharGramTfIdf_dy ',\n 'text_CharGramTfIdf_dy?',\n 'text_CharGramTfIdf_e ,',\n 'text_CharGramTfIdf_e a',\n 'text_CharGramTfIdf_e b',\n 'text_CharGramTfIdf_e c',\n 'text_CharGramTfIdf_e d',\n 'text_CharGramTfIdf_e e',\n 'text_CharGramTfIdf_e f',\n 'text_CharGramTfIdf_e g',\n 'text_CharGramTfIdf_e h',\n 'text_CharGramTfIdf_e i',\n 'text_CharGramTfIdf_e j',\n 'text_CharGramTfIdf_e k',\n 'text_CharGramTfIdf_e l',\n 'text_CharGramTfIdf_e m',\n 'text_CharGramTfIdf_e n',\n 'text_CharGramTfIdf_e o',\n 'text_CharGramTfIdf_e p',\n 'text_CharGramTfIdf_e r',\n 'text_CharGramTfIdf_e s',\n 'text_CharGramTfIdf_e t',\n 'text_CharGramTfIdf_e u',\n 'text_CharGramTfIdf_e v',\n 'text_CharGramTfIdf_e w',\n 'text_CharGramTfIdf_e y',\n 'text_CharGramTfIdf_e, ',\n 'text_CharGramTfIdf_e,s',\n 'text_CharGramTfIdf_e,w',\n 'text_CharGramTfIdf_e/s',\n 'text_CharGramTfIdf_ead',\n 'text_CharGramTfIdf_eak',\n 'text_CharGramTfIdf_eal',\n 'text_CharGramTfIdf_eam',\n 'text_CharGramTfIdf_ean',\n 'text_CharGramTfIdf_ear',\n 'text_CharGramTfIdf_eas',\n 'text_CharGramTfIdf_eat',\n 'text_CharGramTfIdf_eav',\n 'text_CharGramTfIdf_ebt',\n 'text_CharGramTfIdf_eca',\n 'text_CharGramTfIdf_ece',\n 'text_CharGramTfIdf_ech',\n 'text_CharGramTfIdf_eci',\n 'text_CharGramTfIdf_eco',\n 'text_CharGramTfIdf_ect',\n 'text_CharGramTfIdf_ecu',\n 'text_CharGramTfIdf_ed ',\n 'text_CharGramTfIdf_ed,',\n 'text_CharGramTfIdf_ed.',\n 'text_CharGramTfIdf_ed?',\n 'text_CharGramTfIdf_ede',\n 'text_CharGramTfIdf_edi',\n 'text_CharGramTfIdf_edn',\n 'text_CharGramTfIdf_edo',\n 'text_CharGramTfIdf_eds',\n 'text_CharGramTfIdf_edu',\n 'text_CharGramTfIdf_edy',\n 'text_CharGramTfIdf_ee ',\n 'text_CharGramTfIdf_eed',\n 'text_CharGramTfIdf_eek',\n 'text_CharGramTfIdf_eel',\n 'text_CharGramTfIdf_eem',\n 'text_CharGramTfIdf_een',\n 'text_CharGramTfIdf_eep',\n 'text_CharGramTfIdf_eer',\n 'text_CharGramTfIdf_ees',\n 'text_CharGramTfIdf_ef?',\n 'text_CharGramTfIdf_efe',\n 'text_CharGramTfIdf_eff',\n 'text_CharGramTfIdf_efi',\n 'text_CharGramTfIdf_eft',\n 'text_CharGramTfIdf_ega',\n 'text_CharGramTfIdf_egi',\n 'text_CharGramTfIdf_egl',\n 'text_CharGramTfIdf_eha',\n 'text_CharGramTfIdf_ein',\n 'text_CharGramTfIdf_eir',\n 'text_CharGramTfIdf_eiv',\n 'text_CharGramTfIdf_eje',\n 'text_CharGramTfIdf_ek ',\n 'text_CharGramTfIdf_eki',\n 'text_CharGramTfIdf_el ',\n 'text_CharGramTfIdf_ela',\n 'text_CharGramTfIdf_eld',\n 'text_CharGramTfIdf_ele',\n 'text_CharGramTfIdf_elf',\n 'text_CharGramTfIdf_eli',\n 'text_CharGramTfIdf_ell',\n 'text_CharGramTfIdf_elm',\n 'text_CharGramTfIdf_elo',\n 'text_CharGramTfIdf_elp',\n 'text_CharGramTfIdf_els',\n 'text_CharGramTfIdf_elt',\n 'text_CharGramTfIdf_ely',\n 'text_CharGramTfIdf_em ',\n 'text_CharGramTfIdf_em?',\n 'text_CharGramTfIdf_emb',\n 'text_CharGramTfIdf_eme',\n 'text_CharGramTfIdf_emi',\n 'text_CharGramTfIdf_emo',\n 'text_CharGramTfIdf_emp',\n 'text_CharGramTfIdf_ems',\n 'text_CharGramTfIdf_en ',\n 'text_CharGramTfIdf_en?',\n 'text_CharGramTfIdf_enc',\n 'text_CharGramTfIdf_end',\n 'text_CharGramTfIdf_ene',\n 'text_CharGramTfIdf_eng',\n 'text_CharGramTfIdf_enl',\n 'text_CharGramTfIdf_eno',\n 'text_CharGramTfIdf_ens',\n 'text_CharGramTfIdf_ent',\n 'text_CharGramTfIdf_eny',\n 'text_CharGramTfIdf_eon',\n 'text_CharGramTfIdf_eop',\n 'text_CharGramTfIdf_ep ',\n 'text_CharGramTfIdf_ep,',\n 'text_CharGramTfIdf_epa',\n 'text_CharGramTfIdf_epi',\n 'text_CharGramTfIdf_epl',\n 'text_CharGramTfIdf_epr',\n 'text_CharGramTfIdf_eps',\n 'text_CharGramTfIdf_equ',\n 'text_CharGramTfIdf_er ',\n 'text_CharGramTfIdf_er,',\n 'text_CharGramTfIdf_er-',\n 'text_CharGramTfIdf_er?',\n 'text_CharGramTfIdf_era',\n 'text_CharGramTfIdf_erc',\n 'text_CharGramTfIdf_erd',\n 'text_CharGramTfIdf_ere',\n 'text_CharGramTfIdf_erf',\n 'text_CharGramTfIdf_erg',\n 'text_CharGramTfIdf_eri',\n 'text_CharGramTfIdf_erl',\n 'text_CharGramTfIdf_erm',\n 'text_CharGramTfIdf_ern',\n 'text_CharGramTfIdf_ero',\n 'text_CharGramTfIdf_err',\n 'text_CharGramTfIdf_ers',\n 'text_CharGramTfIdf_ert',\n 'text_CharGramTfIdf_erv',\n 'text_CharGramTfIdf_erw',\n 'text_CharGramTfIdf_ery',\n 'text_CharGramTfIdf_es ',\n 'text_CharGramTfIdf_es,',\n 'text_CharGramTfIdf_es-',\n 'text_CharGramTfIdf_esc',\n 'text_CharGramTfIdf_ese',\n 'text_CharGramTfIdf_esi',\n 'text_CharGramTfIdf_eso',\n 'text_CharGramTfIdf_esp',\n 'text_CharGramTfIdf_ess',\n 'text_CharGramTfIdf_est',\n 'text_CharGramTfIdf_esu',\n 'text_CharGramTfIdf_et ',\n 'text_CharGramTfIdf_ete',\n 'text_CharGramTfIdf_eth',\n 'text_CharGramTfIdf_eti',\n 'text_CharGramTfIdf_etr',\n 'text_CharGramTfIdf_ett',\n 'text_CharGramTfIdf_ety',\n 'text_CharGramTfIdf_eva',\n 'text_CharGramTfIdf_eve',\n 'text_CharGramTfIdf_ewe',\n 'text_CharGramTfIdf_ex ',\n 'text_CharGramTfIdf_ex?',\n 'text_CharGramTfIdf_exa',\n 'text_CharGramTfIdf_exc',\n 'text_CharGramTfIdf_exi',\n 'text_CharGramTfIdf_exp',\n 'text_CharGramTfIdf_ey ',\n 'text_CharGramTfIdf_e…i',\n 'text_CharGramTfIdf_e…w',\n 'text_CharGramTfIdf_f a',\n 'text_CharGramTfIdf_f b',\n 'text_CharGramTfIdf_f c',\n 'text_CharGramTfIdf_f d',\n 'text_CharGramTfIdf_f e',\n 'text_CharGramTfIdf_f f',\n 'text_CharGramTfIdf_f h',\n 'text_CharGramTfIdf_f i',\n 'text_CharGramTfIdf_f l',\n 'text_CharGramTfIdf_f m',\n 'text_CharGramTfIdf_f n',\n 'text_CharGramTfIdf_f o',\n 'text_CharGramTfIdf_f p',\n 'text_CharGramTfIdf_f r',\n 'text_CharGramTfIdf_f s',\n 'text_CharGramTfIdf_f t',\n 'text_CharGramTfIdf_f u',\n 'text_CharGramTfIdf_f w',\n 'text_CharGramTfIdf_f y',\n 'text_CharGramTfIdf_f, ',\n 'text_CharGramTfIdf_fac',\n 'text_CharGramTfIdf_fai',\n 'text_CharGramTfIdf_fal',\n 'text_CharGramTfIdf_fam',\n 'text_CharGramTfIdf_fan',\n 'text_CharGramTfIdf_fat',\n 'text_CharGramTfIdf_fe ',\n 'text_CharGramTfIdf_fe,',\n 'text_CharGramTfIdf_fe.',\n 'text_CharGramTfIdf_fe?',\n 'text_CharGramTfIdf_fea',\n 'text_CharGramTfIdf_fec',\n 'text_CharGramTfIdf_fee',\n 'text_CharGramTfIdf_fel',\n 'text_CharGramTfIdf_fer',\n 'text_CharGramTfIdf_ff ',\n 'text_CharGramTfIdf_ffa',\n 'text_CharGramTfIdf_ffe',\n 'text_CharGramTfIdf_ffi',\n 'text_CharGramTfIdf_ffo',\n 'text_CharGramTfIdf_fgm',\n 'text_CharGramTfIdf_fic',\n 'text_CharGramTfIdf_fie',\n 'text_CharGramTfIdf_fin',\n 'text_CharGramTfIdf_fir',\n 'text_CharGramTfIdf_fit',\n 'text_CharGramTfIdf_flu',\n 'text_CharGramTfIdf_fly',\n 'text_CharGramTfIdf_fo ',\n 'text_CharGramTfIdf_fol',\n 'text_CharGramTfIdf_for',\n 'text_CharGramTfIdf_fri',\n 'text_CharGramTfIdf_fro',\n 'text_CharGramTfIdf_fru',\n 'text_CharGramTfIdf_ft ',\n 'text_CharGramTfIdf_fte',\n 'text_CharGramTfIdf_ful',\n 'text_CharGramTfIdf_fus',\n 'text_CharGramTfIdf_fut',\n 'text_CharGramTfIdf_g a',\n 'text_CharGramTfIdf_g b',\n 'text_CharGramTfIdf_g c',\n 'text_CharGramTfIdf_g d',\n 'text_CharGramTfIdf_g e',\n 'text_CharGramTfIdf_g f',\n 'text_CharGramTfIdf_g h',\n 'text_CharGramTfIdf_g i',\n 'text_CharGramTfIdf_g k',\n 'text_CharGramTfIdf_g l',\n 'text_CharGramTfIdf_g m',\n 'text_CharGramTfIdf_g o',\n 'text_CharGramTfIdf_g p',\n 'text_CharGramTfIdf_g q',\n 'text_CharGramTfIdf_g r',\n 'text_CharGramTfIdf_g s',\n 'text_CharGramTfIdf_g t',\n 'text_CharGramTfIdf_g u',\n 'text_CharGramTfIdf_g w',\n 'text_CharGramTfIdf_g. ',\n 'text_CharGramTfIdf_gai',\n 'text_CharGramTfIdf_gam',\n 'text_CharGramTfIdf_gat',\n 'text_CharGramTfIdf_gav',\n 'text_CharGramTfIdf_ge ',\n 'text_CharGramTfIdf_ge?',\n 'text_CharGramTfIdf_ged',\n 'text_CharGramTfIdf_gem',\n 'text_CharGramTfIdf_ger',\n 'text_CharGramTfIdf_ges',\n 'text_CharGramTfIdf_get',\n 'text_CharGramTfIdf_gh ',\n 'text_CharGramTfIdf_gh?',\n 'text_CharGramTfIdf_ghs',\n 'text_CharGramTfIdf_ght',\n 'text_CharGramTfIdf_gi ',\n 'text_CharGramTfIdf_gic',\n 'text_CharGramTfIdf_gie',\n 'text_CharGramTfIdf_gin',\n 'text_CharGramTfIdf_gir',\n 'text_CharGramTfIdf_giv',\n 'text_CharGramTfIdf_gle',\n 'text_CharGramTfIdf_gm ',\n 'text_CharGramTfIdf_gno',\n 'text_CharGramTfIdf_go ',\n 'text_CharGramTfIdf_god',\n 'text_CharGramTfIdf_gof',\n 'text_CharGramTfIdf_goi',\n 'text_CharGramTfIdf_goo',\n 'text_CharGramTfIdf_got',\n 'text_CharGramTfIdf_gra',\n 'text_CharGramTfIdf_gro',\n 'text_CharGramTfIdf_gry',\n 'text_CharGramTfIdf_gs ',\n 'text_CharGramTfIdf_gs?',\n 'text_CharGramTfIdf_gsn',\n 'text_CharGramTfIdf_gui',\n 'text_CharGramTfIdf_gus',\n 'text_CharGramTfIdf_gy ',\n 'text_CharGramTfIdf_h a',\n 'text_CharGramTfIdf_h b',\n 'text_CharGramTfIdf_h c',\n 'text_CharGramTfIdf_h d',\n 'text_CharGramTfIdf_h e',\n 'text_CharGramTfIdf_h f',\n 'text_CharGramTfIdf_h h',\n 'text_CharGramTfIdf_h i',\n 'text_CharGramTfIdf_h l',\n 'text_CharGramTfIdf_h m',\n 'text_CharGramTfIdf_h n',\n 'text_CharGramTfIdf_h o',\n 'text_CharGramTfIdf_h p',\n 'text_CharGramTfIdf_h r',\n 'text_CharGramTfIdf_h s',\n 'text_CharGramTfIdf_h t',\n 'text_CharGramTfIdf_h w',\n 'text_CharGramTfIdf_h. ',\n 'text_CharGramTfIdf_hab',\n 'text_CharGramTfIdf_had',\n 'text_CharGramTfIdf_hal',\n 'text_CharGramTfIdf_ham',\n 'text_CharGramTfIdf_han',\n 'text_CharGramTfIdf_hao',\n 'text_CharGramTfIdf_hap',\n 'text_CharGramTfIdf_har',\n 'text_CharGramTfIdf_has',\n 'text_CharGramTfIdf_hat',\n 'text_CharGramTfIdf_hav',\n 'text_CharGramTfIdf_hd ',\n 'text_CharGramTfIdf_hdr',\n 'text_CharGramTfIdf_he ',\n 'text_CharGramTfIdf_he,',\n 'text_CharGramTfIdf_he/',\n 'text_CharGramTfIdf_hea',\n 'text_CharGramTfIdf_hed',\n 'text_CharGramTfIdf_hei',\n 'text_CharGramTfIdf_hel',\n 'text_CharGramTfIdf_hem',\n 'text_CharGramTfIdf_hen',\n 'text_CharGramTfIdf_her',\n 'text_CharGramTfIdf_hes',\n 'text_CharGramTfIdf_hey',\n 'text_CharGramTfIdf_hib',\n 'text_CharGramTfIdf_hic',\n 'text_CharGramTfIdf_hig',\n 'text_CharGramTfIdf_hil',\n 'text_CharGramTfIdf_hin',\n 'text_CharGramTfIdf_hip',\n 'text_CharGramTfIdf_his',\n 'text_CharGramTfIdf_hn ',\n 'text_CharGramTfIdf_ho ',\n 'text_CharGramTfIdf_hod',\n 'text_CharGramTfIdf_hoi',\n 'text_CharGramTfIdf_hol',\n 'text_CharGramTfIdf_hom',\n 'text_CharGramTfIdf_hoo',\n 'text_CharGramTfIdf_hop',\n 'text_CharGramTfIdf_hor',\n 'text_CharGramTfIdf_hou',\n 'text_CharGramTfIdf_how',\n 'text_CharGramTfIdf_hre',\n 'text_CharGramTfIdf_hro',\n 'text_CharGramTfIdf_hs ',\n 'text_CharGramTfIdf_hsc',\n 'text_CharGramTfIdf_ht ',\n 'text_CharGramTfIdf_hte',\n 'text_CharGramTfIdf_htl',\n 'text_CharGramTfIdf_hts',\n 'text_CharGramTfIdf_hun',\n 'text_CharGramTfIdf_hur',\n 'text_CharGramTfIdf_hus',\n 'text_CharGramTfIdf_hw ',\n 'text_CharGramTfIdf_hy ',\n 'text_CharGramTfIdf_hy?',\n 'text_CharGramTfIdf_hyn',\n 'text_CharGramTfIdf_hyp',\n 'text_CharGramTfIdf_i a',\n 'text_CharGramTfIdf_i b',\n 'text_CharGramTfIdf_i c',\n 'text_CharGramTfIdf_i d',\n 'text_CharGramTfIdf_i e',\n 'text_CharGramTfIdf_i f',\n 'text_CharGramTfIdf_i g',\n 'text_CharGramTfIdf_i h',\n 'text_CharGramTfIdf_i i',\n 'text_CharGramTfIdf_i j',\n 'text_CharGramTfIdf_i k',\n 'text_CharGramTfIdf_i l',\n 'text_CharGramTfIdf_i m',\n 'text_CharGramTfIdf_i n',\n 'text_CharGramTfIdf_i o',\n 'text_CharGramTfIdf_i q',\n 'text_CharGramTfIdf_i r',\n 'text_CharGramTfIdf_i s',\n 'text_CharGramTfIdf_i t',\n 'text_CharGramTfIdf_i u',\n 'text_CharGramTfIdf_i w',\n \"text_CharGramTfIdf_i'm\",\n 'text_CharGramTfIdf_ia,',\n 'text_CharGramTfIdf_iag',\n 'text_CharGramTfIdf_ial',\n 'text_CharGramTfIdf_iat',\n 'text_CharGramTfIdf_iba',\n 'text_CharGramTfIdf_ibi',\n 'text_CharGramTfIdf_ibl',\n 'text_CharGramTfIdf_ic ',\n 'text_CharGramTfIdf_ic,',\n 'text_CharGramTfIdf_ica',\n 'text_CharGramTfIdf_ice',\n 'text_CharGramTfIdf_ich',\n 'text_CharGramTfIdf_ici',\n 'text_CharGramTfIdf_ick',\n 'text_CharGramTfIdf_ics',\n 'text_CharGramTfIdf_ict',\n 'text_CharGramTfIdf_icu',\n 'text_CharGramTfIdf_id ',\n 'text_CharGramTfIdf_id?',\n 'text_CharGramTfIdf_ida',\n 'text_CharGramTfIdf_idc',\n 'text_CharGramTfIdf_ide',\n 'text_CharGramTfIdf_idn',\n 'text_CharGramTfIdf_iea',\n 'text_CharGramTfIdf_ied',\n 'text_CharGramTfIdf_ief',\n 'text_CharGramTfIdf_ien',\n 'text_CharGramTfIdf_ier',\n 'text_CharGramTfIdf_ies',\n 'text_CharGramTfIdf_iet',\n 'text_CharGramTfIdf_iev',\n 'text_CharGramTfIdf_iew',\n 'text_CharGramTfIdf_if ',\n 'text_CharGramTfIdf_ife',\n 'text_CharGramTfIdf_iff',\n 'text_CharGramTfIdf_ifi',\n 'text_CharGramTfIdf_igh',\n 'text_CharGramTfIdf_ign',\n 'text_CharGramTfIdf_igr',\n 'text_CharGramTfIdf_ii ',\n 'text_CharGramTfIdf_ike',\n 'text_CharGramTfIdf_il ',\n 'text_CharGramTfIdf_ild',\n 'text_CharGramTfIdf_ile',\n 'text_CharGramTfIdf_ili',\n 'text_CharGramTfIdf_ill',\n 'text_CharGramTfIdf_ilu',\n 'text_CharGramTfIdf_ily',\n 'text_CharGramTfIdf_im ',\n 'text_CharGramTfIdf_ime',\n 'text_CharGramTfIdf_imi',\n 'text_CharGramTfIdf_imp',\n 'text_CharGramTfIdf_in ',\n 'text_CharGramTfIdf_ina',\n 'text_CharGramTfIdf_inc',\n 'text_CharGramTfIdf_ind',\n 'text_CharGramTfIdf_ine',\n 'text_CharGramTfIdf_inf',\n 'text_CharGramTfIdf_ing',\n 'text_CharGramTfIdf_ini',\n 'text_CharGramTfIdf_ink',\n 'text_CharGramTfIdf_inm',\n 'text_CharGramTfIdf_inn',\n 'text_CharGramTfIdf_ino',\n 'text_CharGramTfIdf_ins',\n 'text_CharGramTfIdf_int',\n 'text_CharGramTfIdf_inu',\n 'text_CharGramTfIdf_inv',\n ...]"
          },
          "metadata": {}
        }
      ],
      "execution_count": 22,
      "metadata": {
        "collapsed": true,
        "jupyter": {
          "source_hidden": false,
          "outputs_hidden": false
        },
        "nteract": {
          "transient": {
            "deleting": false
          }
        },
        "gather": {
          "logged": 1609922431427
        }
      }
    },
    {
      "cell_type": "code",
      "source": [
        "fitted_model.named_steps[\"datatransformer\"].get_featurization_summary()"
      ],
      "outputs": [
        {
          "output_type": "execute_result",
          "execution_count": 23,
          "data": {
            "text/plain": "[{'RawFeatureName': 'text',\n  'TypeDetected': 'Text',\n  'Dropped': 'No',\n  'EngineeredFeatureCount': 5090,\n  'Transformations': ['StringCast-CharGramTfIdf', 'StringCast-WordGramTfIdf']}]"
          },
          "metadata": {}
        }
      ],
      "execution_count": 23,
      "metadata": {
        "collapsed": true,
        "jupyter": {
          "source_hidden": false,
          "outputs_hidden": false
        },
        "nteract": {
          "transient": {
            "deleting": false
          }
        },
        "gather": {
          "logged": 1609922437890
        }
      }
    },
    {
      "cell_type": "code",
      "source": [],
      "outputs": [],
      "execution_count": null,
      "metadata": {
        "collapsed": true,
        "jupyter": {
          "source_hidden": false,
          "outputs_hidden": false
        },
        "nteract": {
          "transient": {
            "deleting": false
          }
        }
      }
    },
    {
      "cell_type": "code",
      "source": [
        "fitted_model.steps"
      ],
      "outputs": [
        {
          "output_type": "execute_result",
          "execution_count": 24,
          "data": {
            "text/plain": "[('datatransformer',\n  DataTransformer(enable_dnn=None, enable_feature_sweeping=None,\n                  feature_sweeping_config=None, feature_sweeping_timeout=None,\n                  featurization_config=None, force_text_dnn=None,\n                  is_cross_validation=None, is_onnx_compatible=None, logger=None,\n                  observer=None, task=None, working_dir=None)),\n ('prefittedsoftvotingclassifier',\n  PreFittedSoftVotingClassifier(classification_labels=None,\n                                estimators=[('17',\n                                             Pipeline(memory=None,\n                                                      steps=[('sparsenormalizer',\n                                                              <azureml.automl.runtime.shared.model_wrappers.SparseNormalizer object at 0x7f6d725f7048>),\n                                                             ('xgboostclassifier',\n                                                              XGBoostClassifier(base_score=0.5,\n                                                                                booster='gbtree',\n                                                                                colsample_bylevel=1,\n                                                                                colsample_bynode=1,\n                                                                                colsample_bytree=0.9,\n                                                                                eta=0.3,\n                                                                                g...\n                                                                                     min_samples_split=0.2442105263157895,\n                                                                                     min_weight_fraction_leaf=0.0,\n                                                                                     n_estimators=10,\n                                                                                     n_jobs=1,\n                                                                                     oob_score=False,\n                                                                                     random_state=None,\n                                                                                     verbose=0,\n                                                                                     warm_start=False))],\n                                                      verbose=False))],\n                                flatten_transform=None,\n                                weights=[0.1111111111111111, 0.1111111111111111,\n                                         0.1111111111111111, 0.1111111111111111,\n                                         0.1111111111111111, 0.1111111111111111,\n                                         0.1111111111111111, 0.2222222222222222]))]"
          },
          "metadata": {}
        }
      ],
      "execution_count": 24,
      "metadata": {
        "collapsed": true,
        "jupyter": {
          "source_hidden": false,
          "outputs_hidden": false
        },
        "nteract": {
          "transient": {
            "deleting": false
          }
        },
        "gather": {
          "logged": 1609922448442
        }
      }
    },
    {
      "cell_type": "code",
      "source": [
        "test=pd.read_csv(\"./Test.csv\")\r\n",
        "test.head()"
      ],
      "outputs": [
        {
          "output_type": "execute_result",
          "execution_count": 25,
          "data": {
            "text/plain": "         ID                                               text\n0  02V56KMO          How to overcome bad feelings and emotions\n1  03BMGTOK                     I feel like giving up in life \n2  03LZVFM6  I was so depressed feel like got no strength t...\n3  0EPULUM5  I feel so low especially since I had no one to...\n4  0GM4C5GD       can i be successful when I am a drug addict?",
            "text/html": "<div>\n<style scoped>\n    .dataframe tbody tr th:only-of-type {\n        vertical-align: middle;\n    }\n\n    .dataframe tbody tr th {\n        vertical-align: top;\n    }\n\n    .dataframe thead th {\n        text-align: right;\n    }\n</style>\n<table border=\"1\" class=\"dataframe\">\n  <thead>\n    <tr style=\"text-align: right;\">\n      <th></th>\n      <th>ID</th>\n      <th>text</th>\n    </tr>\n  </thead>\n  <tbody>\n    <tr>\n      <th>0</th>\n      <td>02V56KMO</td>\n      <td>How to overcome bad feelings and emotions</td>\n    </tr>\n    <tr>\n      <th>1</th>\n      <td>03BMGTOK</td>\n      <td>I feel like giving up in life</td>\n    </tr>\n    <tr>\n      <th>2</th>\n      <td>03LZVFM6</td>\n      <td>I was so depressed feel like got no strength t...</td>\n    </tr>\n    <tr>\n      <th>3</th>\n      <td>0EPULUM5</td>\n      <td>I feel so low especially since I had no one to...</td>\n    </tr>\n    <tr>\n      <th>4</th>\n      <td>0GM4C5GD</td>\n      <td>can i be successful when I am a drug addict?</td>\n    </tr>\n  </tbody>\n</table>\n</div>"
          },
          "metadata": {}
        }
      ],
      "execution_count": 25,
      "metadata": {
        "collapsed": true,
        "jupyter": {
          "source_hidden": false,
          "outputs_hidden": false
        },
        "nteract": {
          "transient": {
            "deleting": false
          }
        },
        "gather": {
          "logged": 1609922492460
        }
      }
    },
    {
      "cell_type": "code",
      "source": [
        "test.columns"
      ],
      "outputs": [
        {
          "output_type": "execute_result",
          "execution_count": 26,
          "data": {
            "text/plain": "Index(['ID', 'text'], dtype='object')"
          },
          "metadata": {}
        }
      ],
      "execution_count": 26,
      "metadata": {
        "collapsed": true,
        "jupyter": {
          "source_hidden": false,
          "outputs_hidden": false
        },
        "nteract": {
          "transient": {
            "deleting": false
          }
        },
        "gather": {
          "logged": 1609922508406
        }
      }
    },
    {
      "cell_type": "code",
      "source": [
        "from sklearn.metrics import accuracy_score\r\n",
        "\r\n",
        "y_pred=fitted_model.predict(valid.iloc[:, :1])\r\n",
        "\r\n",
        "print(\"Model accuracy: \", accuracy_score(valid['label'], y_pred))"
      ],
      "outputs": [
        {
          "output_type": "stream",
          "name": "stdout",
          "text": [
            "Model accuracy:  0.7096774193548387\n"
          ]
        }
      ],
      "execution_count": 30,
      "metadata": {
        "collapsed": true,
        "jupyter": {
          "source_hidden": false,
          "outputs_hidden": false
        },
        "nteract": {
          "transient": {
            "deleting": false
          }
        },
        "gather": {
          "logged": 1609922671455
        }
      }
    },
    {
      "cell_type": "code",
      "source": [
        "y_proba=fitted_model.predict_proba(test[[\"text\"]])"
      ],
      "outputs": [],
      "execution_count": 31,
      "metadata": {
        "collapsed": true,
        "jupyter": {
          "source_hidden": false,
          "outputs_hidden": false
        },
        "nteract": {
          "transient": {
            "deleting": false
          }
        },
        "gather": {
          "logged": 1609922683412
        }
      }
    },
    {
      "cell_type": "code",
      "source": [
        "y_proba"
      ],
      "outputs": [
        {
          "output_type": "execute_result",
          "execution_count": 32,
          "data": {
            "text/plain": "     Alcohol  Depression  Drugs  Suicide\n0       0.09        0.71   0.08     0.12\n1       0.05        0.83   0.05     0.08\n2       0.05        0.79   0.06     0.10\n3       0.09        0.71   0.06     0.14\n4       0.13        0.39   0.20     0.28\n..       ...         ...    ...      ...\n304     0.13        0.58   0.13     0.16\n305     0.11        0.57   0.10     0.22\n306     0.20        0.52   0.12     0.16\n307     0.07        0.11   0.72     0.10\n308     0.41        0.29   0.11     0.19\n\n[309 rows x 4 columns]",
            "text/html": "<div>\n<style scoped>\n    .dataframe tbody tr th:only-of-type {\n        vertical-align: middle;\n    }\n\n    .dataframe tbody tr th {\n        vertical-align: top;\n    }\n\n    .dataframe thead th {\n        text-align: right;\n    }\n</style>\n<table border=\"1\" class=\"dataframe\">\n  <thead>\n    <tr style=\"text-align: right;\">\n      <th></th>\n      <th>Alcohol</th>\n      <th>Depression</th>\n      <th>Drugs</th>\n      <th>Suicide</th>\n    </tr>\n  </thead>\n  <tbody>\n    <tr>\n      <th>0</th>\n      <td>0.09</td>\n      <td>0.71</td>\n      <td>0.08</td>\n      <td>0.12</td>\n    </tr>\n    <tr>\n      <th>1</th>\n      <td>0.05</td>\n      <td>0.83</td>\n      <td>0.05</td>\n      <td>0.08</td>\n    </tr>\n    <tr>\n      <th>2</th>\n      <td>0.05</td>\n      <td>0.79</td>\n      <td>0.06</td>\n      <td>0.10</td>\n    </tr>\n    <tr>\n      <th>3</th>\n      <td>0.09</td>\n      <td>0.71</td>\n      <td>0.06</td>\n      <td>0.14</td>\n    </tr>\n    <tr>\n      <th>4</th>\n      <td>0.13</td>\n      <td>0.39</td>\n      <td>0.20</td>\n      <td>0.28</td>\n    </tr>\n    <tr>\n      <th>...</th>\n      <td>...</td>\n      <td>...</td>\n      <td>...</td>\n      <td>...</td>\n    </tr>\n    <tr>\n      <th>304</th>\n      <td>0.13</td>\n      <td>0.58</td>\n      <td>0.13</td>\n      <td>0.16</td>\n    </tr>\n    <tr>\n      <th>305</th>\n      <td>0.11</td>\n      <td>0.57</td>\n      <td>0.10</td>\n      <td>0.22</td>\n    </tr>\n    <tr>\n      <th>306</th>\n      <td>0.20</td>\n      <td>0.52</td>\n      <td>0.12</td>\n      <td>0.16</td>\n    </tr>\n    <tr>\n      <th>307</th>\n      <td>0.07</td>\n      <td>0.11</td>\n      <td>0.72</td>\n      <td>0.10</td>\n    </tr>\n    <tr>\n      <th>308</th>\n      <td>0.41</td>\n      <td>0.29</td>\n      <td>0.11</td>\n      <td>0.19</td>\n    </tr>\n  </tbody>\n</table>\n<p>309 rows × 4 columns</p>\n</div>"
          },
          "metadata": {}
        }
      ],
      "execution_count": 32,
      "metadata": {
        "collapsed": true,
        "jupyter": {
          "source_hidden": false,
          "outputs_hidden": false
        },
        "nteract": {
          "transient": {
            "deleting": false
          }
        },
        "gather": {
          "logged": 1609922690831
        }
      }
    },
    {
      "cell_type": "code",
      "source": [
        "sub=pd.DataFrame()"
      ],
      "outputs": [],
      "execution_count": 33,
      "metadata": {
        "collapsed": true,
        "jupyter": {
          "source_hidden": false,
          "outputs_hidden": false
        },
        "nteract": {
          "transient": {
            "deleting": false
          }
        },
        "gather": {
          "logged": 1609922697952
        }
      }
    },
    {
      "cell_type": "code",
      "source": [
        "sub[\"ID\"]=test.ID\r\n",
        "sub[\"Depression\"]=y_proba.Depression\r\n",
        "sub[\"Alcohol\"]=y_proba.Alcohol\r\n",
        "sub[\"Suicide\"]=y_proba.Suicide\r\n",
        "sub[\"Drugs\"]=y_proba.Drugs"
      ],
      "outputs": [],
      "execution_count": 34,
      "metadata": {
        "collapsed": true,
        "jupyter": {
          "source_hidden": false,
          "outputs_hidden": false
        },
        "nteract": {
          "transient": {
            "deleting": false
          }
        },
        "gather": {
          "logged": 1609922699911
        }
      }
    },
    {
      "cell_type": "code",
      "source": [
        "sub.head()"
      ],
      "outputs": [
        {
          "output_type": "execute_result",
          "execution_count": 35,
          "data": {
            "text/plain": "         ID  Depression  Alcohol  Suicide  Drugs\n0  02V56KMO        0.71     0.09     0.12   0.08\n1  03BMGTOK        0.83     0.05     0.08   0.05\n2  03LZVFM6        0.79     0.05     0.10   0.06\n3  0EPULUM5        0.71     0.09     0.14   0.06\n4  0GM4C5GD        0.39     0.13     0.28   0.20",
            "text/html": "<div>\n<style scoped>\n    .dataframe tbody tr th:only-of-type {\n        vertical-align: middle;\n    }\n\n    .dataframe tbody tr th {\n        vertical-align: top;\n    }\n\n    .dataframe thead th {\n        text-align: right;\n    }\n</style>\n<table border=\"1\" class=\"dataframe\">\n  <thead>\n    <tr style=\"text-align: right;\">\n      <th></th>\n      <th>ID</th>\n      <th>Depression</th>\n      <th>Alcohol</th>\n      <th>Suicide</th>\n      <th>Drugs</th>\n    </tr>\n  </thead>\n  <tbody>\n    <tr>\n      <th>0</th>\n      <td>02V56KMO</td>\n      <td>0.71</td>\n      <td>0.09</td>\n      <td>0.12</td>\n      <td>0.08</td>\n    </tr>\n    <tr>\n      <th>1</th>\n      <td>03BMGTOK</td>\n      <td>0.83</td>\n      <td>0.05</td>\n      <td>0.08</td>\n      <td>0.05</td>\n    </tr>\n    <tr>\n      <th>2</th>\n      <td>03LZVFM6</td>\n      <td>0.79</td>\n      <td>0.05</td>\n      <td>0.10</td>\n      <td>0.06</td>\n    </tr>\n    <tr>\n      <th>3</th>\n      <td>0EPULUM5</td>\n      <td>0.71</td>\n      <td>0.09</td>\n      <td>0.14</td>\n      <td>0.06</td>\n    </tr>\n    <tr>\n      <th>4</th>\n      <td>0GM4C5GD</td>\n      <td>0.39</td>\n      <td>0.13</td>\n      <td>0.28</td>\n      <td>0.20</td>\n    </tr>\n  </tbody>\n</table>\n</div>"
          },
          "metadata": {}
        }
      ],
      "execution_count": 35,
      "metadata": {
        "collapsed": true,
        "jupyter": {
          "source_hidden": false,
          "outputs_hidden": false
        },
        "nteract": {
          "transient": {
            "deleting": false
          }
        },
        "gather": {
          "logged": 1609922705330
        }
      }
    },
    {
      "cell_type": "code",
      "source": [
        "sub.to_csv(\"./automl_2.csv\", index=False)"
      ],
      "outputs": [],
      "execution_count": 36,
      "metadata": {
        "collapsed": true,
        "jupyter": {
          "source_hidden": false,
          "outputs_hidden": false
        },
        "nteract": {
          "transient": {
            "deleting": false
          }
        },
        "gather": {
          "logged": 1609922715692
        }
      }
    },
    {
      "cell_type": "markdown",
      "source": [
        "## Model Deployment\n",
        "\n",
        "Remember you have to deploy only one of the two models you trained.. Perform the steps in the rest of this notebook only if you wish to deploy this model.\n",
        "\n",
        "TODO: In the cell below, register the model, create an inference config and deploy the model as a web service."
      ],
      "metadata": {}
    },
    {
      "cell_type": "code",
      "source": [
        "description=\"AutoML model. 0.85 training accuracy valid 0.70\"\r\n",
        "model=remote_run.register_model(description=description,tags={\"area\": \"mental_health\", \"type\":\"classification\"})"
      ],
      "outputs": [],
      "execution_count": 37,
      "metadata": {
        "gather": {
          "logged": 1609923640492
        },
        "jupyter": {
          "outputs_hidden": false,
          "source_hidden": false
        },
        "nteract": {
          "transient": {
            "deleting": false
          }
        }
      }
    },
    {
      "cell_type": "code",
      "source": [
        "print(remote_run.model_id)"
      ],
      "outputs": [
        {
          "output_type": "stream",
          "name": "stdout",
          "text": [
            "AutoML1e2f15f6847\n"
          ]
        }
      ],
      "execution_count": 38,
      "metadata": {
        "collapsed": true,
        "jupyter": {
          "source_hidden": false,
          "outputs_hidden": false
        },
        "nteract": {
          "transient": {
            "deleting": false
          }
        },
        "gather": {
          "logged": 1609923680368
        }
      }
    },
    {
      "cell_type": "code",
      "source": [],
      "outputs": [],
      "execution_count": null,
      "metadata": {
        "collapsed": true,
        "jupyter": {
          "source_hidden": false,
          "outputs_hidden": false
        },
        "nteract": {
          "transient": {
            "deleting": false
          }
        }
      }
    },
    {
      "cell_type": "markdown",
      "source": [
        "Inference Config"
      ],
      "metadata": {
        "nteract": {
          "transient": {
            "deleting": false
          }
        }
      }
    },
    {
      "cell_type": "code",
      "source": [
        "from azureml.core.environment import Environment\r\n",
        "from azureml.core.model import InferenceConfig\r\n",
        "\r\n",
        "env_name=\"Inference Environment\"\r\n",
        "\r\n",
        "env = Environment.get(ws, \"AzureML-Minimal\").clone(env_name)\r\n",
        "\r\n",
        "for pip_package in [\"scikit-learn\"]:\r\n",
        "    env.python.conda_dependencies.add_pip_package(pip_package)\r\n",
        "\r\n",
        "inference_config = InferenceConfig(entry_script='path-to-score.py',\r\n",
        "                                    environment=env)"
      ],
      "outputs": [
        {
          "output_type": "stream",
          "name": "stderr",
          "text": [
            "ERROR:azureml._model_management._util:entry_script path-to-score.py doesn't exist. entry_script should be path relative to current working directory\n",
            "\n"
          ]
        },
        {
          "output_type": "error",
          "ename": "WebserviceException",
          "evalue": "WebserviceException:\n\tMessage: entry_script path-to-score.py doesn't exist. entry_script should be path relative to current working directory\n\tInnerException None\n\tErrorResponse \n{\n    \"error\": {\n        \"message\": \"entry_script path-to-score.py doesn't exist. entry_script should be path relative to current working directory\"\n    }\n}",
          "traceback": [
            "\u001b[0;31m---------------------------------------------------------------------------\u001b[0m",
            "\u001b[0;31mWebserviceException\u001b[0m                       Traceback (most recent call last)",
            "\u001b[0;32m<ipython-input-40-a5a00e5f0be7>\u001b[0m in \u001b[0;36m<module>\u001b[0;34m\u001b[0m\n\u001b[1;32m     10\u001b[0m \u001b[0;34m\u001b[0m\u001b[0m\n\u001b[1;32m     11\u001b[0m inference_config = InferenceConfig(entry_script='path-to-score.py',\n\u001b[0;32m---> 12\u001b[0;31m                                     environment=env)\n\u001b[0m",
            "\u001b[0;32m/anaconda/envs/azureml_py36/lib/python3.6/site-packages/azureml/core/model.py\u001b[0m in \u001b[0;36m__init__\u001b[0;34m(self, entry_script, runtime, conda_file, extra_docker_file_steps, source_directory, enable_gpu, description, base_image, base_image_registry, cuda_version, environment)\u001b[0m\n\u001b[1;32m   2050\u001b[0m         \u001b[0mself\u001b[0m\u001b[0;34m.\u001b[0m\u001b[0menvironment\u001b[0m \u001b[0;34m=\u001b[0m \u001b[0menvironment\u001b[0m\u001b[0;34m\u001b[0m\u001b[0;34m\u001b[0m\u001b[0m\n\u001b[1;32m   2051\u001b[0m \u001b[0;34m\u001b[0m\u001b[0m\n\u001b[0;32m-> 2052\u001b[0;31m         \u001b[0mself\u001b[0m\u001b[0;34m.\u001b[0m\u001b[0mvalidate_configuration\u001b[0m\u001b[0;34m(\u001b[0m\u001b[0;34m)\u001b[0m\u001b[0;34m\u001b[0m\u001b[0;34m\u001b[0m\u001b[0m\n\u001b[0m\u001b[1;32m   2053\u001b[0m \u001b[0;34m\u001b[0m\u001b[0m\n\u001b[1;32m   2054\u001b[0m     \u001b[0;32mdef\u001b[0m \u001b[0m__repr__\u001b[0m\u001b[0;34m(\u001b[0m\u001b[0mself\u001b[0m\u001b[0;34m)\u001b[0m\u001b[0;34m:\u001b[0m\u001b[0;34m\u001b[0m\u001b[0;34m\u001b[0m\u001b[0m\n",
            "\u001b[0;32m/anaconda/envs/azureml_py36/lib/python3.6/site-packages/azureml/core/model.py\u001b[0m in \u001b[0;36mvalidate_configuration\u001b[0;34m(self)\u001b[0m\n\u001b[1;32m   2158\u001b[0m         validate_path_exists_or_throw(joinPath(self.source_directory, self.entry_script),\n\u001b[1;32m   2159\u001b[0m                                       \u001b[0;34m'entry_script'\u001b[0m\u001b[0;34m,\u001b[0m\u001b[0;34m\u001b[0m\u001b[0;34m\u001b[0m\u001b[0m\n\u001b[0;32m-> 2160\u001b[0;31m                                       \u001b[0mextra_message\u001b[0m\u001b[0;34m=\u001b[0m\u001b[0;34m'entry_script should be path relative to '\u001b[0m\u001b[0;34m\u001b[0m\u001b[0;34m\u001b[0m\u001b[0m\n\u001b[0m\u001b[1;32m   2161\u001b[0m                                                     'current working directory')\n\u001b[1;32m   2162\u001b[0m \u001b[0;34m\u001b[0m\u001b[0m\n",
            "\u001b[0;32m/anaconda/envs/azureml_py36/lib/python3.6/site-packages/azureml/_model_management/_util.py\u001b[0m in \u001b[0;36mvalidate_path_exists_or_throw\u001b[0;34m(member, name, extra_message)\u001b[0m\n\u001b[1;32m    875\u001b[0m     \u001b[0;32mif\u001b[0m \u001b[0;32mnot\u001b[0m \u001b[0mos\u001b[0m\u001b[0;34m.\u001b[0m\u001b[0mpath\u001b[0m\u001b[0;34m.\u001b[0m\u001b[0mexists\u001b[0m\u001b[0;34m(\u001b[0m\u001b[0mmember\u001b[0m\u001b[0;34m)\u001b[0m\u001b[0;34m:\u001b[0m\u001b[0;34m\u001b[0m\u001b[0;34m\u001b[0m\u001b[0m\n\u001b[1;32m    876\u001b[0m         raise WebserviceException(\"{0} {1} doesn't exist. {2}\".format(name, member, extra_message),\n\u001b[0;32m--> 877\u001b[0;31m                                   logger=module_logger)\n\u001b[0m\u001b[1;32m    878\u001b[0m \u001b[0;34m\u001b[0m\u001b[0m\n\u001b[1;32m    879\u001b[0m \u001b[0;34m\u001b[0m\u001b[0m\n",
            "\u001b[0;31mWebserviceException\u001b[0m: WebserviceException:\n\tMessage: entry_script path-to-score.py doesn't exist. entry_script should be path relative to current working directory\n\tInnerException None\n\tErrorResponse \n{\n    \"error\": {\n        \"message\": \"entry_script path-to-score.py doesn't exist. entry_script should be path relative to current working directory\"\n    }\n}"
          ]
        }
      ],
      "execution_count": 40,
      "metadata": {
        "collapsed": true,
        "jupyter": {
          "source_hidden": false,
          "outputs_hidden": false
        },
        "nteract": {
          "transient": {
            "deleting": false
          }
        }
      }
    },
    {
      "cell_type": "markdown",
      "source": [
        "TODO: In the cell below, send a request to the web service you deployed to test it."
      ],
      "metadata": {
        "collapsed": true,
        "gather": {
          "logged": 1598431657736
        },
        "jupyter": {
          "outputs_hidden": false,
          "source_hidden": false
        },
        "nteract": {
          "transient": {
            "deleting": false
          }
        }
      }
    },
    {
      "cell_type": "code",
      "source": [],
      "outputs": [],
      "execution_count": null,
      "metadata": {
        "gather": {
          "logged": 1598432707604
        },
        "jupyter": {
          "outputs_hidden": false,
          "source_hidden": false
        },
        "nteract": {
          "transient": {
            "deleting": false
          }
        }
      }
    },
    {
      "cell_type": "markdown",
      "source": [
        "TODO: In the cell below, print the logs of the web service and delete the service"
      ],
      "metadata": {
        "collapsed": true,
        "gather": {
          "logged": 1598432765711
        },
        "jupyter": {
          "outputs_hidden": false,
          "source_hidden": false
        },
        "nteract": {
          "transient": {
            "deleting": false
          }
        }
      }
    },
    {
      "cell_type": "code",
      "source": [],
      "outputs": [],
      "execution_count": null,
      "metadata": {
        "jupyter": {
          "outputs_hidden": false,
          "source_hidden": false
        },
        "nteract": {
          "transient": {
            "deleting": false
          }
        }
      }
    }
  ],
  "metadata": {
    "kernel_info": {
      "name": "python3"
    },
    "kernelspec": {
      "name": "python3",
      "language": "python",
      "display_name": "Python 3"
    },
    "language_info": {
      "name": "python",
      "version": "3.6.9",
      "mimetype": "text/x-python",
      "codemirror_mode": {
        "name": "ipython",
        "version": 3
      },
      "pygments_lexer": "ipython3",
      "nbconvert_exporter": "python",
      "file_extension": ".py"
    },
    "nteract": {
      "version": "nteract-front-end@1.0.0"
    }
  },
  "nbformat": 4,
  "nbformat_minor": 2
}