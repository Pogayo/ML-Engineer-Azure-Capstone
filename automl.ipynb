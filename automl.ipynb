{
  "cells": [
    {
      "cell_type": "markdown",
      "source": [
        "# Automated ML\n",
        "\n",
        "TODO: Import Dependencies. In the cell below, import all the dependencies that you will need to complete the project."
      ],
      "metadata": {}
    },
    {
      "cell_type": "code",
      "source": [
        "from azureml.core import Workspace, Experiment\n",
        "\n",
        "from azureml.core.compute import ComputeTarget, AmlCompute\n",
        "from azureml.core.compute_target import ComputeTargetException\n",
        "\n",
        "from azureml.data.dataset_factory import TabularDatasetFactory\n",
        "from azureml.train.automl import AutoMLConfig\n",
        "\n",
        "from azureml.widgets import RunDetails\n",
        "\n",
        "import pandas as pd\n",
        "import numpy as np\n",
        "\n",
        "from sklearn.model_selection import train_test_split\n"
      ],
      "outputs": [],
      "execution_count": 1,
      "metadata": {
        "gather": {
          "logged": 1609911144781
        },
        "jupyter": {
          "outputs_hidden": false,
          "source_hidden": false
        },
        "nteract": {
          "transient": {
            "deleting": false
          }
        }
      }
    },
    {
      "cell_type": "markdown",
      "source": [
        "## Dataset\n",
        "\n",
        "### Overview\n",
        "TODO: In this markdown cell, give an overview of the dataset you are using. Also mention the task you will be performing.\n",
        "\n",
        "\n",
        "TODO: Get data. In the cell below, write code to access the data you will be using in this project. Remember that the dataset needs to be external."
      ],
      "metadata": {}
    },
    {
      "cell_type": "code",
      "source": [
        "ws = Workspace.from_config()\n",
        "\n",
        "# choose a name for experiment\n",
        "experiment_name = 'mental-health-classification'\n",
        "\n",
        "experiment=Experiment(ws, experiment_name)"
      ],
      "outputs": [
        {
          "output_type": "stream",
          "name": "stdout",
          "text": [
            "Performing interactive authentication. Please follow the instructions on the terminal.\n",
            "To sign in, use a web browser to open the page https://microsoft.com/devicelogin and enter the code EP5G6WL5Y to authenticate.\n",
            "You have logged in. Now let us find all the subscriptions to which you have access...\n",
            "Interactive authentication successfully completed.\n"
          ]
        }
      ],
      "execution_count": 2,
      "metadata": {
        "gather": {
          "logged": 1609911200129
        },
        "jupyter": {
          "outputs_hidden": false,
          "source_hidden": false
        },
        "nteract": {
          "transient": {
            "deleting": false
          }
        }
      }
    },
    {
      "cell_type": "markdown",
      "source": [
        "### Creating the compute"
      ],
      "metadata": {}
    },
    {
      "cell_type": "code",
      "source": [
        "cpu_cluster_name = \"cpu-cluster\"\n",
        "\n",
        "   # Verify that cluster does not exist already\n",
        "try:\n",
        "    cpu_cluster = ComputeTarget(workspace=ws, name=cpu_cluster_name)\n",
        "    print('Found existing cluster, use it.')\n",
        "except ComputeTargetException:\n",
        "    compute_config = AmlCompute.provisioning_configuration(vm_size='STANDARD_D2_V2',max_nodes=7)\n",
        "    cpu_cluster = ComputeTarget.create(ws, cpu_cluster_name, compute_config)\n",
        "\n",
        "cpu_cluster.wait_for_completion(show_output=True)"
      ],
      "outputs": [
        {
          "output_type": "stream",
          "name": "stdout",
          "text": [
            "Creating\n",
            "Succeeded\n",
            "AmlCompute wait for completion finished\n",
            "\n",
            "Minimum number of nodes requested have been provisioned\n"
          ]
        }
      ],
      "execution_count": 3,
      "metadata": {
        "gather": {
          "logged": 1609911283629
        }
      }
    },
    {
      "cell_type": "markdown",
      "source": [
        "### Data Preparation\n",
        "#### Access the data"
      ],
      "metadata": {}
    },
    {
      "cell_type": "code",
      "source": [
        "# Create a project_folder if it doesn't exist\n",
        "if not os.path.isdir('data'):\n",
        "    os.mkdir('data')\n",
        "    \n",
        "if not os.path.exists('project_folder'):\n",
        "    os.makedirs('project_folder')\n",
        "\n"
      ],
      "outputs": [],
      "execution_count": 4,
      "metadata": {
        "gather": {
          "logged": 1609911296999
        }
      }
    },
    {
      "cell_type": "code",
      "source": [
        "project_folder=\"./project_folder/\""
      ],
      "outputs": [],
      "execution_count": 18,
      "metadata": {
        "collapsed": true,
        "jupyter": {
          "source_hidden": false,
          "outputs_hidden": false
        },
        "nteract": {
          "transient": {
            "deleting": false
          }
        },
        "gather": {
          "logged": 1609911738251
        }
      }
    },
    {
      "cell_type": "code",
      "source": [
        "df = pd.read_csv(\"Train.csv\")\n",
        "train_data, test_data = train_test_split(df, test_size=0.1, random_state=42)\n",
        "label = \"label\""
      ],
      "outputs": [],
      "execution_count": 5,
      "metadata": {
        "gather": {
          "logged": 1609911307111
        }
      }
    },
    {
      "cell_type": "code",
      "source": [
        "train_data.head()"
      ],
      "outputs": [
        {
          "output_type": "execute_result",
          "execution_count": 6,
          "data": {
            "text/plain": "           ID                                           text       label\n56   6T8HVMG3        what can I do to minimize my alcoholism     Alcohol\n335  458NTYKE  Had a problem with my personal looks,feel sad  Depression\n439  43COYA4O                 What is the benefit of alcohol     Alcohol\n292  V0C7LKYN               I am very nervous and bothered,   Depression\n611  BOHSNXCN           What should I do to stop alcoholism?     Alcohol",
            "text/html": "<div>\n<style scoped>\n    .dataframe tbody tr th:only-of-type {\n        vertical-align: middle;\n    }\n\n    .dataframe tbody tr th {\n        vertical-align: top;\n    }\n\n    .dataframe thead th {\n        text-align: right;\n    }\n</style>\n<table border=\"1\" class=\"dataframe\">\n  <thead>\n    <tr style=\"text-align: right;\">\n      <th></th>\n      <th>ID</th>\n      <th>text</th>\n      <th>label</th>\n    </tr>\n  </thead>\n  <tbody>\n    <tr>\n      <th>56</th>\n      <td>6T8HVMG3</td>\n      <td>what can I do to minimize my alcoholism</td>\n      <td>Alcohol</td>\n    </tr>\n    <tr>\n      <th>335</th>\n      <td>458NTYKE</td>\n      <td>Had a problem with my personal looks,feel sad</td>\n      <td>Depression</td>\n    </tr>\n    <tr>\n      <th>439</th>\n      <td>43COYA4O</td>\n      <td>What is the benefit of alcohol</td>\n      <td>Alcohol</td>\n    </tr>\n    <tr>\n      <th>292</th>\n      <td>V0C7LKYN</td>\n      <td>I am very nervous and bothered,</td>\n      <td>Depression</td>\n    </tr>\n    <tr>\n      <th>611</th>\n      <td>BOHSNXCN</td>\n      <td>What should I do to stop alcoholism?</td>\n      <td>Alcohol</td>\n    </tr>\n  </tbody>\n</table>\n</div>"
          },
          "metadata": {}
        }
      ],
      "execution_count": 6,
      "metadata": {
        "gather": {
          "logged": 1609911312757
        }
      }
    },
    {
      "cell_type": "code",
      "source": [
        "train=train_data.iloc[:, 1:]\n",
        "test=test_data.iloc[:, 1:]\n",
        "\n",
        "\n",
        "train.to_csv('data/train.csv', index=False)\n",
        "test.to_csv('data/test.csv', index=False)"
      ],
      "outputs": [],
      "execution_count": 51,
      "metadata": {
        "gather": {
          "logged": 1609915532586
        }
      }
    },
    {
      "cell_type": "code",
      "source": [
        "train.head()"
      ],
      "outputs": [
        {
          "output_type": "execute_result",
          "execution_count": 52,
          "data": {
            "text/plain": "                                              text       label\n56         what can I do to minimize my alcoholism     Alcohol\n335  Had a problem with my personal looks,feel sad  Depression\n439                 What is the benefit of alcohol     Alcohol\n292               I am very nervous and bothered,   Depression\n611           What should I do to stop alcoholism?     Alcohol",
            "text/html": "<div>\n<style scoped>\n    .dataframe tbody tr th:only-of-type {\n        vertical-align: middle;\n    }\n\n    .dataframe tbody tr th {\n        vertical-align: top;\n    }\n\n    .dataframe thead th {\n        text-align: right;\n    }\n</style>\n<table border=\"1\" class=\"dataframe\">\n  <thead>\n    <tr style=\"text-align: right;\">\n      <th></th>\n      <th>text</th>\n      <th>label</th>\n    </tr>\n  </thead>\n  <tbody>\n    <tr>\n      <th>56</th>\n      <td>what can I do to minimize my alcoholism</td>\n      <td>Alcohol</td>\n    </tr>\n    <tr>\n      <th>335</th>\n      <td>Had a problem with my personal looks,feel sad</td>\n      <td>Depression</td>\n    </tr>\n    <tr>\n      <th>439</th>\n      <td>What is the benefit of alcohol</td>\n      <td>Alcohol</td>\n    </tr>\n    <tr>\n      <th>292</th>\n      <td>I am very nervous and bothered,</td>\n      <td>Depression</td>\n    </tr>\n    <tr>\n      <th>611</th>\n      <td>What should I do to stop alcoholism?</td>\n      <td>Alcohol</td>\n    </tr>\n  </tbody>\n</table>\n</div>"
          },
          "metadata": {}
        }
      ],
      "execution_count": 52,
      "metadata": {
        "collapsed": true,
        "jupyter": {
          "source_hidden": false,
          "outputs_hidden": false
        },
        "nteract": {
          "transient": {
            "deleting": false
          }
        },
        "gather": {
          "logged": 1609915545082
        }
      }
    },
    {
      "cell_type": "code",
      "source": [
        "datastore=ws.get_default_datastore()"
      ],
      "outputs": [],
      "execution_count": 53,
      "metadata": {
        "gather": {
          "logged": 1609915553448
        }
      }
    },
    {
      "cell_type": "code",
      "source": [
        "datastore.upload(src_dir=\"./data\", target_path=\"mental_health_clf\", show_progress=True)"
      ],
      "outputs": [
        {
          "output_type": "stream",
          "name": "stdout",
          "text": [
            "Uploading an estimated of 2 files\n",
            "Uploading ./data/test.csv\n",
            "Uploaded ./data/test.csv, 1 files out of an estimated total of 2\n",
            "Uploading ./data/train.csv\n",
            "Uploaded ./data/train.csv, 2 files out of an estimated total of 2\n",
            "Uploaded 2 files\n"
          ]
        },
        {
          "output_type": "execute_result",
          "execution_count": 55,
          "data": {
            "text/plain": "$AZUREML_DATAREFERENCE_5faee4741be7409f856140a97920a633"
          },
          "metadata": {}
        }
      ],
      "execution_count": 55,
      "metadata": {
        "gather": {
          "logged": 1609915673870
        }
      }
    },
    {
      "cell_type": "code",
      "source": [
        "train_set =TabularDatasetFactory.from_delimited_files(path=datastore.path(\"mental_health_clf/train.csv\"))"
      ],
      "outputs": [],
      "execution_count": 56,
      "metadata": {
        "gather": {
          "logged": 1609915691999
        }
      }
    },
    {
      "cell_type": "markdown",
      "source": [
        "## AutoML Configuration\n",
        "\n",
        "TODO: Explain why you chose the automl settings and cofiguration you used below."
      ],
      "metadata": {}
    },
    {
      "cell_type": "code",
      "source": [
        "# TODO: Put your automl settings here\n",
        "import time\n",
        "automl_settings = {\n",
        "    \"name\": \"AutoML_mental_health\".format(time.time()),\n",
        "    \"enable_early_stopping\" : True,\n",
        "    \"experiment_timeout_minutes\" : 40,\n",
        "    \"iteration_timeout_minutes\": 10,\n",
        "    \"n_cross_validations\": 5,\n",
        "    \"primary_metric\": 'accuracy',\n",
        "    \"max_concurrent_iterations\": 10,\n",
        "}\n",
        "\n",
        "# TODO: Put your automl config here\n",
        "automl_config = AutoMLConfig(task=\"classification\",\n",
        "                             training_data=train_set,\n",
        "                             label_column_name=\"label\",\n",
        "                             compute_target=cpu_cluster,\n",
        "                             debug_log='automl_errors.log',\n",
        "                             path=project_folder,\n",
        "                             model_explainability=True,\n",
        "                             **automl_settings,\n",
        "                            )"
      ],
      "outputs": [],
      "execution_count": 57,
      "metadata": {
        "gather": {
          "logged": 1609915711595
        },
        "jupyter": {
          "outputs_hidden": false,
          "source_hidden": false
        },
        "nteract": {
          "transient": {
            "deleting": false
          }
        }
      }
    },
    {
      "cell_type": "code",
      "source": [
        "# TODO: Submit your experiment\n",
        "remote_run = experiment.submit(config=automl_config, show_output=True)"
      ],
      "outputs": [
        {
          "output_type": "stream",
          "name": "stdout",
          "text": [
            "Running on remote.\n",
            "No run_configuration provided, running on cpu-cluster with default configuration\n",
            "Running on remote compute: cpu-cluster\n",
            "Parent Run ID: AutoML_690611a3-524f-4486-9e61-36a801aa4da6\n",
            "\n",
            "Current status: FeaturesGeneration. Generating features for the dataset.\n",
            "Current status: DatasetCrossValidationSplit. Generating individually featurized CV splits.\n",
            "Current status: ModelSelection. Beginning model selection.\n",
            "\n",
            "****************************************************************************************************\n",
            "DATA GUARDRAILS: \n",
            "\n",
            "TYPE:         Class balancing detection\n",
            "STATUS:       ALERTED\n",
            "DESCRIPTION:  To decrease model bias, please cancel the current run and fix balancing problem.\n",
            "              Learn more about imbalanced data: https://aka.ms/AutomatedMLImbalancedData\n",
            "DETAILS:      Imbalanced data can lead to a falsely perceived positive effect of a model's accuracy because the input data has bias towards one class.\n",
            "+---------------------------------+---------------------------------+--------------------------------------+\n",
            "|Size of the smallest class       |Name/Label of the smallest class |Number of samples in the training data|\n",
            "+=================================+=================================+======================================+\n",
            "|49                               |Drugs                            |554                                   |\n",
            "+---------------------------------+---------------------------------+--------------------------------------+\n",
            "\n",
            "****************************************************************************************************\n",
            "\n",
            "TYPE:         Missing feature values imputation\n",
            "STATUS:       PASSED\n",
            "DESCRIPTION:  No feature missing values were detected in the training data.\n",
            "              Learn more about missing value imputation: https://aka.ms/AutomatedMLFeaturization\n",
            "\n",
            "****************************************************************************************************\n",
            "\n",
            "TYPE:         High cardinality feature detection\n",
            "STATUS:       DONE\n",
            "DESCRIPTION:  High cardinality features were detected in your inputs and handled.\n",
            "              Learn more about high cardinality feature handling: https://aka.ms/AutomatedMLFeaturization\n",
            "DETAILS:      High cardinality features refer to columns that contain a large percentage of unique values.\n",
            "+---------------------------------+---------------------------------+\n",
            "|Column name                      |Column Content Type              |\n",
            "+=================================+=================================+\n",
            "|text                             |text                             |\n",
            "+---------------------------------+---------------------------------+\n",
            "\n",
            "****************************************************************************************************\n",
            "\n",
            "****************************************************************************************************\n",
            "ITERATION: The iteration being evaluated.\n",
            "PIPELINE: A summary description of the pipeline being evaluated.\n",
            "DURATION: Time taken for the current iteration.\n",
            "METRIC: The result of computing score on the fitted pipeline.\n",
            "BEST: The best observed score thus far.\n",
            "****************************************************************************************************\n",
            "\n",
            " ITERATION   PIPELINE                                       DURATION      METRIC      BEST\n",
            "         3   MaxAbsScaler RandomForest                      0:00:53       0.7022    0.7022\n",
            "         9   SparseNormalizer XGBoostClassifier             0:02:10       0.8375    0.8375\n",
            "         4   MaxAbsScaler RandomForest                      0:00:56       0.7328    0.8375\n",
            "         1   MaxAbsScaler XGBoostClassifier                 0:01:27       0.8519    0.8519\n",
            "        10   SparseNormalizer XGBoostClassifier             0:01:55       0.8502    0.8519\n",
            "         2   MaxAbsScaler RandomForest                      0:03:24       0.8303    0.8519\n",
            "         6   SparseNormalizer LightGBM                      0:03:24       0.7347    0.8519\n",
            "         0   MaxAbsScaler LightGBM                          0:03:33       0.7978    0.8519\n",
            "         7   MaxAbsScaler RandomForest                      0:03:32       0.6029    0.8519\n",
            "         5   MaxAbsScaler RandomForest                      0:03:42       0.7562    0.8519\n",
            "         8   SparseNormalizer XGBoostClassifier             0:03:49       0.8592    0.8592\n",
            "        14   SparseNormalizer LightGBM                      0:00:46       0.7365    0.8592\n",
            "        13   MaxAbsScaler LightGBM                          0:00:59       0.7654    0.8592\n",
            "        12   SparseNormalizer XGBoostClassifier             0:01:21       0.8574    0.8592\n",
            "        15   MaxAbsScaler RandomForest                      0:01:01       0.7491    0.8592\n",
            "        16   MaxAbsScaler LightGBM                          0:00:55       0.7346    0.8592\n",
            "        11   SparseNormalizer XGBoostClassifier             0:01:35       0.8465    0.8592\n",
            "        17   MaxAbsScaler LightGBM                          0:00:56       0.7690    0.8592\n",
            "        18   SparseNormalizer XGBoostClassifier             0:01:12       0.8502    0.8592\n",
            "        19   SparseNormalizer XGBoostClassifier             0:01:03       0.8484    0.8592\n",
            "        21   MaxAbsScaler LogisticRegression                0:00:57       0.8519    0.8592\n",
            "        24   StandardScalerWrapper ExtremeRandomTrees       0:00:54       0.7437    0.8592\n",
            "        22   StandardScalerWrapper XGBoostClassifier        0:01:40       0.8447    0.8592\n",
            "        23   MaxAbsScaler LogisticRegression                0:01:32       0.8411    0.8592\n",
            "        25   StandardScalerWrapper XGBoostClassifier        0:00:50       0.5794    0.8592\n",
            "        26   TruncatedSVDWrapper XGBoostClassifier          0:00:58       0.7906    0.8592\n",
            "        20   SparseNormalizer XGBoostClassifier             0:01:58       0.8484    0.8592\n",
            "        27   MaxAbsScaler LightGBM                          0:00:51       0.7509    0.8592\n",
            "        28   MaxAbsScaler ExtremeRandomTrees                0:01:03       0.7870    0.8592\n",
            "        29   MaxAbsScaler LightGBM                          0:00:53       0.7292    0.8592\n",
            "        30   SparseNormalizer XGBoostClassifier             0:00:55       0.5794    0.8592\n",
            "        31   SparseNormalizer XGBoostClassifier             0:00:52       0.8177    0.8592\n",
            "        32   SparseNormalizer XGBoostClassifier             0:00:58       0.8285    0.8592\n",
            "        34   StandardScalerWrapper LightGBM                 0:01:05       0.7383    0.8592\n",
            "        33   SparseNormalizer XGBoostClassifier             0:01:15       0.8483    0.8592\n",
            "        35   SparseNormalizer XGBoostClassifier             0:00:55       0.5794    0.8592\n",
            "        38   MaxAbsScaler LogisticRegression                0:00:54       0.8483    0.8592\n",
            "        39   MaxAbsScaler LogisticRegression                0:00:55       0.8447    0.8592\n",
            "        36   MaxAbsScaler LogisticRegression                0:01:10       0.8429    0.8592\n",
            "        37   StandardScalerWrapper LogisticRegression       0:01:21       0.8537    0.8592\n",
            "        40   StandardScalerWrapper XGBoostClassifier        0:00:59       0.8375    0.8592\n",
            "        41   MaxAbsScaler LogisticRegression                0:00:53       0.8447    0.8592\n",
            "        42   MaxAbsScaler LogisticRegression                0:00:45          nan    0.8592\n",
            "        43                                                  0:00:21          nan    0.8592\n",
            "        44                                                  0:00:08          nan    0.8592\n",
            "        45                                                  0:00:43          nan    0.8592\n",
            "        46                                                  0:00:20          nan    0.8592\n",
            "        47                                                  0:00:16          nan    0.8592\n",
            "        48    VotingEnsemble                                0:01:28       0.8700    0.8700\n",
            "        49    StackEnsemble                                 0:01:33       0.8591    0.8700\n"
          ]
        }
      ],
      "execution_count": 58,
      "metadata": {
        "gather": {
          "logged": 1609917349540
        },
        "jupyter": {
          "outputs_hidden": false,
          "source_hidden": false
        },
        "nteract": {
          "transient": {
            "deleting": false
          }
        }
      }
    },
    {
      "cell_type": "markdown",
      "source": [
        "## Run Details\n",
        "\n",
        "OPTIONAL: Write about the different models trained and their performance. Why do you think some models did better than others?\n",
        "\n",
        "TODO: In the cell below, use the `RunDetails` widget to show the different experiments."
      ],
      "metadata": {}
    },
    {
      "cell_type": "code",
      "source": [],
      "outputs": [],
      "execution_count": null,
      "metadata": {
        "collapsed": true,
        "jupyter": {
          "source_hidden": false,
          "outputs_hidden": false
        },
        "nteract": {
          "transient": {
            "deleting": false
          }
        }
      }
    },
    {
      "cell_type": "code",
      "source": [
        "RunDetails(remote_run).show()"
      ],
      "outputs": [
        {
          "output_type": "display_data",
          "data": {
            "text/plain": "_AutoMLWidget(widget_settings={'childWidgetDisplay': 'popup', 'send_telemetry': False, 'log_level': 'NOTSET', …",
            "application/vnd.jupyter.widget-view+json": {
              "version_major": 2,
              "version_minor": 0,
              "model_id": "96c2db5b114d4a75ba1c5c26a485a495"
            }
          },
          "metadata": {}
        },
        {
          "output_type": "display_data",
          "data": {
            "application/aml.mini.widget.v1": "{\"status\": \"Completed\", \"workbench_run_details_uri\": \"https://ml.azure.com/experiments/mental-health-classification/runs/AutoML_690611a3-524f-4486-9e61-36a801aa4da6?wsid=/subscriptions/61c5c3f0-6dc7-4ed9-a7f3-c704b20e3b30/resourcegroups/aml-quickstarts-133599/workspaces/quick-starts-ws-133599\", \"run_id\": \"AutoML_690611a3-524f-4486-9e61-36a801aa4da6\", \"run_properties\": {\"run_id\": \"AutoML_690611a3-524f-4486-9e61-36a801aa4da6\", \"created_utc\": \"2021-01-06T06:48:42.163565Z\", \"properties\": {\"num_iterations\": \"1000\", \"training_type\": \"TrainFull\", \"acquisition_function\": \"EI\", \"primary_metric\": \"accuracy\", \"train_split\": \"0\", \"acquisition_parameter\": \"0\", \"num_cross_validation\": \"5\", \"target\": \"cpu-cluster\", \"AMLSettingsJsonString\": \"{\\\"path\\\":null,\\\"name\\\":\\\"AutoML_mental_health\\\",\\\"subscription_id\\\":\\\"61c5c3f0-6dc7-4ed9-a7f3-c704b20e3b30\\\",\\\"resource_group\\\":\\\"aml-quickstarts-133599\\\",\\\"workspace_name\\\":\\\"quick-starts-ws-133599\\\",\\\"region\\\":\\\"southcentralus\\\",\\\"compute_target\\\":\\\"cpu-cluster\\\",\\\"spark_service\\\":null,\\\"azure_service\\\":\\\"remote\\\",\\\"many_models\\\":false,\\\"pipeline_fetch_max_batch_size\\\":1,\\\"iterations\\\":1000,\\\"primary_metric\\\":\\\"accuracy\\\",\\\"task_type\\\":\\\"classification\\\",\\\"data_script\\\":null,\\\"validation_size\\\":0.0,\\\"n_cross_validations\\\":5,\\\"y_min\\\":null,\\\"y_max\\\":null,\\\"num_classes\\\":null,\\\"featurization\\\":\\\"auto\\\",\\\"_ignore_package_version_incompatibilities\\\":false,\\\"is_timeseries\\\":false,\\\"max_cores_per_iteration\\\":1,\\\"max_concurrent_iterations\\\":10,\\\"iteration_timeout_minutes\\\":10,\\\"mem_in_mb\\\":null,\\\"enforce_time_on_windows\\\":false,\\\"experiment_timeout_minutes\\\":40,\\\"experiment_exit_score\\\":null,\\\"whitelist_models\\\":null,\\\"blacklist_algos\\\":[\\\"TensorFlowLinearClassifier\\\",\\\"TensorFlowDNN\\\"],\\\"supported_models\\\":[\\\"LinearSVM\\\",\\\"BernoulliNaiveBayes\\\",\\\"RandomForest\\\",\\\"LogisticRegression\\\",\\\"AveragedPerceptronClassifier\\\",\\\"GradientBoosting\\\",\\\"TensorFlowLinearClassifier\\\",\\\"MultinomialNaiveBayes\\\",\\\"SVM\\\",\\\"KNN\\\",\\\"SGD\\\",\\\"XGBoostClassifier\\\",\\\"DecisionTree\\\",\\\"ExtremeRandomTrees\\\",\\\"TensorFlowDNN\\\",\\\"LightGBM\\\"],\\\"auto_blacklist\\\":true,\\\"blacklist_samples_reached\\\":false,\\\"exclude_nan_labels\\\":true,\\\"verbosity\\\":20,\\\"_debug_log\\\":\\\"azureml_automl.log\\\",\\\"show_warnings\\\":false,\\\"model_explainability\\\":true,\\\"service_url\\\":null,\\\"sdk_url\\\":null,\\\"sdk_packages\\\":null,\\\"enable_onnx_compatible_models\\\":false,\\\"enable_split_onnx_featurizer_estimator_models\\\":false,\\\"vm_type\\\":\\\"STANDARD_D2_V2\\\",\\\"telemetry_verbosity\\\":20,\\\"send_telemetry\\\":true,\\\"enable_dnn\\\":false,\\\"scenario\\\":\\\"SDK-1.13.0\\\",\\\"environment_label\\\":null,\\\"force_text_dnn\\\":false,\\\"enable_feature_sweeping\\\":true,\\\"enable_early_stopping\\\":true,\\\"early_stopping_n_iters\\\":10,\\\"metrics\\\":null,\\\"enable_ensembling\\\":true,\\\"enable_stack_ensembling\\\":true,\\\"ensemble_iterations\\\":15,\\\"enable_tf\\\":false,\\\"enable_subsampling\\\":null,\\\"subsample_seed\\\":null,\\\"enable_nimbusml\\\":false,\\\"enable_streaming\\\":false,\\\"force_streaming\\\":false,\\\"track_child_runs\\\":true,\\\"allowed_private_models\\\":[],\\\"label_column_name\\\":\\\"label\\\",\\\"weight_column_name\\\":null,\\\"cv_split_column_names\\\":null,\\\"enable_local_managed\\\":false,\\\"_local_managed_run_id\\\":null,\\\"cost_mode\\\":1,\\\"lag_length\\\":0,\\\"metric_operation\\\":\\\"maximize\\\",\\\"preprocess\\\":true}\", \"DataPrepJsonString\": \"{\\\\\\\"training_data\\\\\\\": \\\\\\\"{\\\\\\\\\\\\\\\"blocks\\\\\\\\\\\\\\\": [{\\\\\\\\\\\\\\\"id\\\\\\\\\\\\\\\": \\\\\\\\\\\\\\\"04d7e6b0-75ff-4bfc-a4cb-69c8246fc7d6\\\\\\\\\\\\\\\", \\\\\\\\\\\\\\\"type\\\\\\\\\\\\\\\": \\\\\\\\\\\\\\\"Microsoft.DPrep.GetDatastoreFilesBlock\\\\\\\\\\\\\\\", \\\\\\\\\\\\\\\"arguments\\\\\\\\\\\\\\\": {\\\\\\\\\\\\\\\"datastores\\\\\\\\\\\\\\\": [{\\\\\\\\\\\\\\\"datastoreName\\\\\\\\\\\\\\\": \\\\\\\\\\\\\\\"workspaceblobstore\\\\\\\\\\\\\\\", \\\\\\\\\\\\\\\"path\\\\\\\\\\\\\\\": \\\\\\\\\\\\\\\"mental_health_clf/train.csv\\\\\\\\\\\\\\\", \\\\\\\\\\\\\\\"resourceGroup\\\\\\\\\\\\\\\": \\\\\\\\\\\\\\\"aml-quickstarts-133599\\\\\\\\\\\\\\\", \\\\\\\\\\\\\\\"subscription\\\\\\\\\\\\\\\": \\\\\\\\\\\\\\\"61c5c3f0-6dc7-4ed9-a7f3-c704b20e3b30\\\\\\\\\\\\\\\", \\\\\\\\\\\\\\\"workspaceName\\\\\\\\\\\\\\\": \\\\\\\\\\\\\\\"quick-starts-ws-133599\\\\\\\\\\\\\\\"}]}, \\\\\\\\\\\\\\\"localData\\\\\\\\\\\\\\\": {}, \\\\\\\\\\\\\\\"isEnabled\\\\\\\\\\\\\\\": true, \\\\\\\\\\\\\\\"name\\\\\\\\\\\\\\\": null, \\\\\\\\\\\\\\\"annotation\\\\\\\\\\\\\\\": null}, {\\\\\\\\\\\\\\\"id\\\\\\\\\\\\\\\": \\\\\\\\\\\\\\\"21486821-814c-4431-bbab-a81e2773c5ae\\\\\\\\\\\\\\\", \\\\\\\\\\\\\\\"type\\\\\\\\\\\\\\\": \\\\\\\\\\\\\\\"Microsoft.DPrep.ParseDelimitedBlock\\\\\\\\\\\\\\\", \\\\\\\\\\\\\\\"arguments\\\\\\\\\\\\\\\": {\\\\\\\\\\\\\\\"columnHeadersMode\\\\\\\\\\\\\\\": 3, \\\\\\\\\\\\\\\"fileEncoding\\\\\\\\\\\\\\\": 0, \\\\\\\\\\\\\\\"handleQuotedLineBreaks\\\\\\\\\\\\\\\": false, \\\\\\\\\\\\\\\"preview\\\\\\\\\\\\\\\": false, \\\\\\\\\\\\\\\"separator\\\\\\\\\\\\\\\": \\\\\\\\\\\\\\\",\\\\\\\\\\\\\\\", \\\\\\\\\\\\\\\"skipRows\\\\\\\\\\\\\\\": 0, \\\\\\\\\\\\\\\"skipRowsMode\\\\\\\\\\\\\\\": 0}, \\\\\\\\\\\\\\\"localData\\\\\\\\\\\\\\\": {}, \\\\\\\\\\\\\\\"isEnabled\\\\\\\\\\\\\\\": true, \\\\\\\\\\\\\\\"name\\\\\\\\\\\\\\\": null, \\\\\\\\\\\\\\\"annotation\\\\\\\\\\\\\\\": null}, {\\\\\\\\\\\\\\\"id\\\\\\\\\\\\\\\": \\\\\\\\\\\\\\\"4adbdc16-329e-4f81-a22c-547a0a1b0bee\\\\\\\\\\\\\\\", \\\\\\\\\\\\\\\"type\\\\\\\\\\\\\\\": \\\\\\\\\\\\\\\"Microsoft.DPrep.DropColumnsBlock\\\\\\\\\\\\\\\", \\\\\\\\\\\\\\\"arguments\\\\\\\\\\\\\\\": {\\\\\\\\\\\\\\\"columns\\\\\\\\\\\\\\\": {\\\\\\\\\\\\\\\"type\\\\\\\\\\\\\\\": 0, \\\\\\\\\\\\\\\"details\\\\\\\\\\\\\\\": {\\\\\\\\\\\\\\\"selectedColumns\\\\\\\\\\\\\\\": [\\\\\\\\\\\\\\\"Path\\\\\\\\\\\\\\\"]}}}, \\\\\\\\\\\\\\\"localData\\\\\\\\\\\\\\\": {}, \\\\\\\\\\\\\\\"isEnabled\\\\\\\\\\\\\\\": true, \\\\\\\\\\\\\\\"name\\\\\\\\\\\\\\\": null, \\\\\\\\\\\\\\\"annotation\\\\\\\\\\\\\\\": null}, {\\\\\\\\\\\\\\\"id\\\\\\\\\\\\\\\": \\\\\\\\\\\\\\\"df591eea-78e8-4f16-ac0e-f1aa2e24b2e1\\\\\\\\\\\\\\\", \\\\\\\\\\\\\\\"type\\\\\\\\\\\\\\\": \\\\\\\\\\\\\\\"Microsoft.DPrep.SetColumnTypesBlock\\\\\\\\\\\\\\\", \\\\\\\\\\\\\\\"arguments\\\\\\\\\\\\\\\": {\\\\\\\\\\\\\\\"columnConversion\\\\\\\\\\\\\\\": [{\\\\\\\\\\\\\\\"column\\\\\\\\\\\\\\\": {\\\\\\\\\\\\\\\"type\\\\\\\\\\\\\\\": 2, \\\\\\\\\\\\\\\"details\\\\\\\\\\\\\\\": {\\\\\\\\\\\\\\\"selectedColumn\\\\\\\\\\\\\\\": \\\\\\\\\\\\\\\"text\\\\\\\\\\\\\\\"}}, \\\\\\\\\\\\\\\"typeProperty\\\\\\\\\\\\\\\": 0}, {\\\\\\\\\\\\\\\"column\\\\\\\\\\\\\\\": {\\\\\\\\\\\\\\\"type\\\\\\\\\\\\\\\": 2, \\\\\\\\\\\\\\\"details\\\\\\\\\\\\\\\": {\\\\\\\\\\\\\\\"selectedColumn\\\\\\\\\\\\\\\": \\\\\\\\\\\\\\\"label\\\\\\\\\\\\\\\"}}, \\\\\\\\\\\\\\\"typeProperty\\\\\\\\\\\\\\\": 0}]}, \\\\\\\\\\\\\\\"localData\\\\\\\\\\\\\\\": {}, \\\\\\\\\\\\\\\"isEnabled\\\\\\\\\\\\\\\": true, \\\\\\\\\\\\\\\"name\\\\\\\\\\\\\\\": null, \\\\\\\\\\\\\\\"annotation\\\\\\\\\\\\\\\": null}], \\\\\\\\\\\\\\\"inspectors\\\\\\\\\\\\\\\": [], \\\\\\\\\\\\\\\"meta\\\\\\\\\\\\\\\": {\\\\\\\\\\\\\\\"savedDatasetId\\\\\\\\\\\\\\\": \\\\\\\\\\\\\\\"e615a22c-0064-494e-996e-0f54f91f49b9\\\\\\\\\\\\\\\", \\\\\\\\\\\\\\\"datasetType\\\\\\\\\\\\\\\": \\\\\\\\\\\\\\\"tabular\\\\\\\\\\\\\\\", \\\\\\\\\\\\\\\"subscriptionId\\\\\\\\\\\\\\\": \\\\\\\\\\\\\\\"61c5c3f0-6dc7-4ed9-a7f3-c704b20e3b30\\\\\\\\\\\\\\\", \\\\\\\\\\\\\\\"workspaceId\\\\\\\\\\\\\\\": \\\\\\\\\\\\\\\"eee06498-db7e-4013-a564-8e45ea309962\\\\\\\\\\\\\\\", \\\\\\\\\\\\\\\"workspaceLocation\\\\\\\\\\\\\\\": \\\\\\\\\\\\\\\"southcentralus\\\\\\\\\\\\\\\"}}\\\\\\\", \\\\\\\"activities\\\\\\\": 0}\", \"EnableSubsampling\": null, \"runTemplate\": \"AutoML\", \"azureml.runsource\": \"automl\", \"display_task_type\": \"classification\", \"dependencies_versions\": \"{\\\"azureml-widgets\\\": \\\"1.19.0\\\", \\\"azureml-train\\\": \\\"1.19.0\\\", \\\"azureml-train-restclients-hyperdrive\\\": \\\"1.19.0\\\", \\\"azureml-train-core\\\": \\\"1.19.0\\\", \\\"azureml-train-automl\\\": \\\"1.19.0\\\", \\\"azureml-train-automl-runtime\\\": \\\"1.19.0\\\", \\\"azureml-train-automl-client\\\": \\\"1.19.0\\\", \\\"azureml-tensorboard\\\": \\\"1.19.0\\\", \\\"azureml-telemetry\\\": \\\"1.19.0\\\", \\\"azureml-sdk\\\": \\\"1.19.0\\\", \\\"azureml-samples\\\": \\\"0+unknown\\\", \\\"azureml-pipeline\\\": \\\"1.19.0\\\", \\\"azureml-pipeline-steps\\\": \\\"1.19.0\\\", \\\"azureml-pipeline-core\\\": \\\"1.19.0\\\", \\\"azureml-opendatasets\\\": \\\"1.19.0\\\", \\\"azureml-model-management-sdk\\\": \\\"1.0.1b6.post1\\\", \\\"azureml-mlflow\\\": \\\"1.19.0\\\", \\\"azureml-interpret\\\": \\\"1.19.0\\\", \\\"azureml-explain-model\\\": \\\"1.19.0\\\", \\\"azureml-defaults\\\": \\\"1.19.0\\\", \\\"azureml-dataset-runtime\\\": \\\"1.19.0\\\", \\\"azureml-dataprep\\\": \\\"2.6.1\\\", \\\"azureml-dataprep-rslex\\\": \\\"1.4.0\\\", \\\"azureml-dataprep-native\\\": \\\"26.0.0\\\", \\\"azureml-datadrift\\\": \\\"1.19.0\\\", \\\"azureml-core\\\": \\\"1.19.0\\\", \\\"azureml-contrib-services\\\": \\\"1.19.0\\\", \\\"azureml-contrib-server\\\": \\\"1.19.0\\\", \\\"azureml-contrib-reinforcementlearning\\\": \\\"1.19.0\\\", \\\"azureml-contrib-pipeline-steps\\\": \\\"1.19.0\\\", \\\"azureml-contrib-notebook\\\": \\\"1.19.0\\\", \\\"azureml-contrib-interpret\\\": \\\"1.19.0\\\", \\\"azureml-contrib-gbdt\\\": \\\"1.19.0\\\", \\\"azureml-contrib-fairness\\\": \\\"1.19.0\\\", \\\"azureml-contrib-dataset\\\": \\\"1.19.0\\\", \\\"azureml-cli-common\\\": \\\"1.19.0\\\", \\\"azureml-automl-runtime\\\": \\\"1.19.0\\\", \\\"azureml-automl-core\\\": \\\"1.19.0\\\", \\\"azureml-accel-models\\\": \\\"1.19.0\\\"}\", \"_aml_system_scenario_identification\": \"Remote.Parent\", \"ClientType\": \"SDK\", \"environment_cpu_name\": \"AzureML-AutoML\", \"environment_cpu_label\": \"prod\", \"environment_gpu_name\": \"AzureML-AutoML-GPU\", \"environment_gpu_label\": \"prod\", \"root_attribution\": \"automl\", \"attribution\": \"AutoML\", \"Orchestrator\": \"AutoML\", \"CancelUri\": \"https://southcentralus.experiments.azureml.net/jasmine/v1.0/subscriptions/61c5c3f0-6dc7-4ed9-a7f3-c704b20e3b30/resourceGroups/aml-quickstarts-133599/providers/Microsoft.MachineLearningServices/workspaces/quick-starts-ws-133599/experimentids/d59e3a73-6d24-498b-87e0-a930006a7899/cancel/AutoML_690611a3-524f-4486-9e61-36a801aa4da6\", \"ClientSdkVersion\": \"1.19.0\", \"snapshotId\": \"00000000-0000-0000-0000-000000000000\", \"SetupRunId\": \"AutoML_690611a3-524f-4486-9e61-36a801aa4da6_setup\", \"SetupRunContainerId\": \"dcid.AutoML_690611a3-524f-4486-9e61-36a801aa4da6_setup\", \"FeaturizationRunJsonPath\": \"featurizer_container.json\", \"FeaturizationRunId\": \"AutoML_690611a3-524f-4486-9e61-36a801aa4da6_featurize\", \"ProblemInfoJsonString\": \"{\\\"dataset_num_categorical\\\": 0, \\\"is_sparse\\\": true, \\\"subsampling\\\": false, \\\"dataset_classes\\\": 4, \\\"dataset_features\\\": 5090, \\\"dataset_samples\\\": 554, \\\"single_frequency_class_detected\\\": false}\", \"ModelExplainRunId\": \"AutoML_690611a3-524f-4486-9e61-36a801aa4da6_ModelExplain\"}, \"tags\": {\"model_explain_run\": \"best_run\", \"_aml_system_azureml.automlComponent\": \"AutoML\", \"pipeline_id\": \"\", \"score\": \"\", \"predicted_cost\": \"\", \"fit_time\": \"\", \"training_percent\": \"\", \"iteration\": \"\", \"run_preprocessor\": \"\", \"run_algorithm\": \"\", \"dynamic_whitelisting_iterations\": \"<25>;<30>;<35>;<40>;<45>;\", \"automl_best_child_run_id\": \"AutoML_690611a3-524f-4486-9e61-36a801aa4da6_48\", \"model_explain_best_run_child_id\": \"AutoML_690611a3-524f-4486-9e61-36a801aa4da6_48\"}, \"end_time_utc\": \"2021-01-06T07:15:43.343986Z\", \"status\": \"Completed\", \"log_files\": {}, \"log_groups\": [], \"run_duration\": \"0:27:01\"}, \"child_runs\": [{\"run_id\": \"AutoML_690611a3-524f-4486-9e61-36a801aa4da6_0\", \"run_number\": 60, \"metric\": null, \"status\": \"Completed\", \"run_type\": \"azureml.scriptrun\", \"training_percent\": \"100\", \"start_time\": \"2021-01-06T07:04:54.249819Z\", \"end_time\": \"2021-01-06T07:08:27.19454Z\", \"created_time\": \"2021-01-06T07:00:31.959197Z\", \"created_time_dt\": \"2021-01-06T07:00:31.959197Z\", \"duration\": \"0:07:55\", \"iteration\": \"0\", \"goal\": \"accuracy_max\", \"run_name\": \"MaxAbsScaler, LightGBM\", \"run_properties\": \"copy=True\", \"primary_metric\": 0.79780508, \"best_metric\": 0.79780508}, {\"run_id\": \"AutoML_690611a3-524f-4486-9e61-36a801aa4da6_3\", \"run_number\": 61, \"metric\": null, \"status\": \"Completed\", \"run_type\": \"azureml.scriptrun\", \"training_percent\": \"100\", \"start_time\": \"2021-01-06T07:00:42.858307Z\", \"end_time\": \"2021-01-06T07:01:36.11117Z\", \"created_time\": \"2021-01-06T07:00:32.093455Z\", \"created_time_dt\": \"2021-01-06T07:00:32.093455Z\", \"duration\": \"0:01:04\", \"iteration\": \"3\", \"goal\": \"accuracy_max\", \"run_name\": \"MaxAbsScaler, RandomForest\", \"run_properties\": \"copy=True\", \"primary_metric\": 0.7022113, \"best_metric\": 0.85192465}, {\"run_id\": \"AutoML_690611a3-524f-4486-9e61-36a801aa4da6_8\", \"run_number\": 62, \"metric\": null, \"status\": \"Completed\", \"run_type\": \"azureml.scriptrun\", \"training_percent\": \"100\", \"start_time\": \"2021-01-06T07:04:53.952783Z\", \"end_time\": \"2021-01-06T07:08:42.920919Z\", \"created_time\": \"2021-01-06T07:00:32.107659Z\", \"created_time_dt\": \"2021-01-06T07:00:32.107659Z\", \"duration\": \"0:08:10\", \"iteration\": \"8\", \"goal\": \"accuracy_max\", \"run_name\": \"SparseNormalizer, XGBoostClassifier\", \"run_properties\": \"<azureml.automl.runtime.shared.model_wrappers.SparseNormalizer object at 0x7f7cf9514d68\", \"primary_metric\": 0.85919738, \"best_metric\": 0.85919738}, {\"run_id\": \"AutoML_690611a3-524f-4486-9e61-36a801aa4da6_6\", \"run_number\": 63, \"metric\": null, \"status\": \"Completed\", \"run_type\": \"azureml.scriptrun\", \"training_percent\": \"100\", \"start_time\": \"2021-01-06T07:04:53.519733Z\", \"end_time\": \"2021-01-06T07:08:17.29058Z\", \"created_time\": \"2021-01-06T07:00:32.109264Z\", \"created_time_dt\": \"2021-01-06T07:00:32.109264Z\", \"duration\": \"0:07:45\", \"iteration\": \"6\", \"goal\": \"accuracy_max\", \"run_name\": \"SparseNormalizer, LightGBM\", \"run_properties\": \"<azureml.automl.runtime.shared.model_wrappers.SparseNormalizer object at 0x7f20bc0602b0\", \"primary_metric\": 0.73467649, \"best_metric\": 0.85192465}, {\"run_id\": \"AutoML_690611a3-524f-4486-9e61-36a801aa4da6_9\", \"run_number\": 64, \"metric\": null, \"status\": \"Completed\", \"run_type\": \"azureml.scriptrun\", \"training_percent\": \"100\", \"start_time\": \"2021-01-06T07:01:39.121663Z\", \"end_time\": \"2021-01-06T07:03:48.900943Z\", \"created_time\": \"2021-01-06T07:00:32.119212Z\", \"created_time_dt\": \"2021-01-06T07:00:32.119212Z\", \"duration\": \"0:03:16\", \"iteration\": \"9\", \"goal\": \"accuracy_max\", \"run_name\": \"SparseNormalizer, XGBoostClassifier\", \"run_properties\": \"<azureml.automl.runtime.shared.model_wrappers.SparseNormalizer object at 0x7fcd2d15a9b0\", \"primary_metric\": 0.83751024, \"best_metric\": 0.85919738}, {\"run_id\": \"AutoML_690611a3-524f-4486-9e61-36a801aa4da6_5\", \"run_number\": 65, \"metric\": null, \"status\": \"Completed\", \"run_type\": \"azureml.scriptrun\", \"training_percent\": \"100\", \"start_time\": \"2021-01-06T07:04:52.725177Z\", \"end_time\": \"2021-01-06T07:08:34.460782Z\", \"created_time\": \"2021-01-06T07:00:32.129948Z\", \"created_time_dt\": \"2021-01-06T07:00:32.129948Z\", \"duration\": \"0:08:02\", \"iteration\": \"5\", \"goal\": \"accuracy_max\", \"run_name\": \"MaxAbsScaler, RandomForest\", \"run_properties\": \"copy=True\", \"primary_metric\": 0.75616708, \"best_metric\": 0.85192465}, {\"run_id\": \"AutoML_690611a3-524f-4486-9e61-36a801aa4da6_4\", \"run_number\": 66, \"metric\": null, \"status\": \"Completed\", \"run_type\": \"azureml.scriptrun\", \"training_percent\": \"100\", \"start_time\": \"2021-01-06T07:03:53.780435Z\", \"end_time\": \"2021-01-06T07:04:49.282076Z\", \"created_time\": \"2021-01-06T07:00:32.142749Z\", \"created_time_dt\": \"2021-01-06T07:00:32.142749Z\", \"duration\": \"0:04:17\", \"iteration\": \"4\", \"goal\": \"accuracy_max\", \"run_name\": \"MaxAbsScaler, RandomForest\", \"run_properties\": \"copy=True\", \"primary_metric\": 0.73282555, \"best_metric\": 0.85192465}, {\"run_id\": \"AutoML_690611a3-524f-4486-9e61-36a801aa4da6_2\", \"run_number\": 67, \"metric\": null, \"status\": \"Completed\", \"run_type\": \"azureml.scriptrun\", \"training_percent\": \"100\", \"start_time\": \"2021-01-06T07:04:55.313789Z\", \"end_time\": \"2021-01-06T07:08:19.79784Z\", \"created_time\": \"2021-01-06T07:00:32.174699Z\", \"created_time_dt\": \"2021-01-06T07:00:32.174699Z\", \"duration\": \"0:07:47\", \"iteration\": \"2\", \"goal\": \"accuracy_max\", \"run_name\": \"MaxAbsScaler, RandomForest\", \"run_properties\": \"copy=True\", \"primary_metric\": 0.83028665, \"best_metric\": 0.85192465}, {\"run_id\": \"AutoML_690611a3-524f-4486-9e61-36a801aa4da6_7\", \"run_number\": 68, \"metric\": null, \"status\": \"Completed\", \"run_type\": \"azureml.scriptrun\", \"training_percent\": \"100\", \"start_time\": \"2021-01-06T07:04:51.075785Z\", \"end_time\": \"2021-01-06T07:08:22.598391Z\", \"created_time\": \"2021-01-06T07:00:32.108243Z\", \"created_time_dt\": \"2021-01-06T07:00:32.108243Z\", \"duration\": \"0:07:50\", \"iteration\": \"7\", \"goal\": \"accuracy_max\", \"run_name\": \"MaxAbsScaler, RandomForest\", \"run_properties\": \"copy=True\", \"primary_metric\": 0.6028665, \"best_metric\": 0.85192465}, {\"run_id\": \"AutoML_690611a3-524f-4486-9e61-36a801aa4da6_1\", \"run_number\": 69, \"metric\": null, \"status\": \"Completed\", \"run_type\": \"azureml.scriptrun\", \"training_percent\": \"100\", \"start_time\": \"2021-01-06T07:04:56.109115Z\", \"end_time\": \"2021-01-06T07:06:23.022785Z\", \"created_time\": \"2021-01-06T07:00:32.121539Z\", \"created_time_dt\": \"2021-01-06T07:00:32.121539Z\", \"duration\": \"0:05:50\", \"iteration\": \"1\", \"goal\": \"accuracy_max\", \"run_name\": \"MaxAbsScaler, XGBoostClassifier\", \"run_properties\": \"copy=True\", \"primary_metric\": 0.85192465, \"best_metric\": 0.85192465}, {\"run_id\": \"AutoML_690611a3-524f-4486-9e61-36a801aa4da6_10\", \"run_number\": 70, \"metric\": null, \"status\": \"Completed\", \"run_type\": \"azureml.scriptrun\", \"training_percent\": \"100\", \"start_time\": \"2021-01-06T07:06:20.068558Z\", \"end_time\": \"2021-01-06T07:08:15.121912Z\", \"created_time\": \"2021-01-06T07:01:41.518444Z\", \"created_time_dt\": \"2021-01-06T07:01:41.518444Z\", \"duration\": \"0:06:33\", \"iteration\": \"10\", \"goal\": \"accuracy_max\", \"run_name\": \"SparseNormalizer, XGBoostClassifier\", \"run_properties\": \"<azureml.automl.runtime.shared.model_wrappers.SparseNormalizer object at 0x7f32cca831d0\", \"primary_metric\": 0.85017199, \"best_metric\": 0.85919738}, {\"run_id\": \"AutoML_690611a3-524f-4486-9e61-36a801aa4da6_11\", \"run_number\": 71, \"metric\": null, \"status\": \"Completed\", \"run_type\": \"azureml.scriptrun\", \"training_percent\": \"100\", \"start_time\": \"2021-01-06T07:08:17.751243Z\", \"end_time\": \"2021-01-06T07:09:53.152693Z\", \"created_time\": \"2021-01-06T07:03:51.380875Z\", \"created_time_dt\": \"2021-01-06T07:03:51.380875Z\", \"duration\": \"0:06:01\", \"iteration\": \"11\", \"goal\": \"accuracy_max\", \"run_name\": \"SparseNormalizer, XGBoostClassifier\", \"run_properties\": \"<azureml.automl.runtime.shared.model_wrappers.SparseNormalizer object at 0x7fb53f86dc50\", \"primary_metric\": 0.84650287, \"best_metric\": 0.85919738}, {\"run_id\": \"AutoML_690611a3-524f-4486-9e61-36a801aa4da6_12\", \"run_number\": 72, \"metric\": null, \"status\": \"Completed\", \"run_type\": \"azureml.scriptrun\", \"training_percent\": \"100\", \"start_time\": \"2021-01-06T07:08:18.731908Z\", \"end_time\": \"2021-01-06T07:09:39.634779Z\", \"created_time\": \"2021-01-06T07:04:53.772348Z\", \"created_time_dt\": \"2021-01-06T07:04:53.772348Z\", \"duration\": \"0:04:45\", \"iteration\": \"12\", \"goal\": \"accuracy_max\", \"run_name\": \"SparseNormalizer, XGBoostClassifier\", \"run_properties\": \"<azureml.automl.runtime.shared.model_wrappers.SparseNormalizer object at 0x7f4d8075dc18\", \"primary_metric\": 0.8573792, \"best_metric\": 0.85919738}, {\"run_id\": \"AutoML_690611a3-524f-4486-9e61-36a801aa4da6_13\", \"run_number\": 73, \"metric\": null, \"status\": \"Completed\", \"run_type\": \"azureml.scriptrun\", \"training_percent\": \"100\", \"start_time\": \"2021-01-06T07:08:19.289012Z\", \"end_time\": \"2021-01-06T07:09:18.307905Z\", \"created_time\": \"2021-01-06T07:06:25.451278Z\", \"created_time_dt\": \"2021-01-06T07:06:25.451278Z\", \"duration\": \"0:02:52\", \"iteration\": \"13\", \"goal\": \"accuracy_max\", \"run_name\": \"MaxAbsScaler, LightGBM\", \"run_properties\": \"copy=True\", \"primary_metric\": 0.76538903, \"best_metric\": 0.85919738}, {\"run_id\": \"AutoML_690611a3-524f-4486-9e61-36a801aa4da6_14\", \"run_number\": 74, \"metric\": null, \"status\": \"Completed\", \"run_type\": \"azureml.scriptrun\", \"training_percent\": \"100\", \"start_time\": \"2021-01-06T07:08:31.012806Z\", \"end_time\": \"2021-01-06T07:09:16.872512Z\", \"created_time\": \"2021-01-06T07:08:17.371375Z\", \"created_time_dt\": \"2021-01-06T07:08:17.371375Z\", \"duration\": \"0:00:59\", \"iteration\": \"14\", \"goal\": \"accuracy_max\", \"run_name\": \"SparseNormalizer, LightGBM\", \"run_properties\": \"<azureml.automl.runtime.shared.model_wrappers.SparseNormalizer object at 0x7f943c1cc518\", \"primary_metric\": 0.73646192, \"best_metric\": 0.85919738}, {\"run_id\": \"AutoML_690611a3-524f-4486-9e61-36a801aa4da6_15\", \"run_number\": 75, \"metric\": null, \"status\": \"Completed\", \"run_type\": \"azureml.scriptrun\", \"training_percent\": \"100\", \"start_time\": \"2021-01-06T07:08:34.86841Z\", \"end_time\": \"2021-01-06T07:09:35.626247Z\", \"created_time\": \"2021-01-06T07:08:22.42535Z\", \"created_time_dt\": \"2021-01-06T07:08:22.42535Z\", \"duration\": \"0:01:13\", \"iteration\": \"15\", \"goal\": \"accuracy_max\", \"run_name\": \"MaxAbsScaler, RandomForest\", \"run_properties\": \"copy=True\", \"primary_metric\": 0.74910729, \"best_metric\": 0.85919738}, {\"run_id\": \"AutoML_690611a3-524f-4486-9e61-36a801aa4da6_16\", \"run_number\": 76, \"metric\": null, \"status\": \"Completed\", \"run_type\": \"azureml.scriptrun\", \"training_percent\": \"100\", \"start_time\": \"2021-01-06T07:08:34.606613Z\", \"end_time\": \"2021-01-06T07:09:29.110158Z\", \"created_time\": \"2021-01-06T07:08:22.74446Z\", \"created_time_dt\": \"2021-01-06T07:08:22.74446Z\", \"duration\": \"0:01:06\", \"iteration\": \"16\", \"goal\": \"accuracy_max\", \"run_name\": \"MaxAbsScaler, LightGBM\", \"run_properties\": \"copy=True\", \"primary_metric\": 0.73461097, \"best_metric\": 0.85919738}, {\"run_id\": \"AutoML_690611a3-524f-4486-9e61-36a801aa4da6_17\", \"run_number\": 77, \"metric\": null, \"status\": \"Completed\", \"run_type\": \"azureml.scriptrun\", \"training_percent\": \"100\", \"start_time\": \"2021-01-06T07:08:45.286635Z\", \"end_time\": \"2021-01-06T07:09:41.11746Z\", \"created_time\": \"2021-01-06T07:08:28.054589Z\", \"created_time_dt\": \"2021-01-06T07:08:28.054589Z\", \"duration\": \"0:01:13\", \"iteration\": \"17\", \"goal\": \"accuracy_max\", \"run_name\": \"MaxAbsScaler, LightGBM\", \"run_properties\": \"copy=True\", \"primary_metric\": 0.76895987, \"best_metric\": 0.85919738}, {\"run_id\": \"AutoML_690611a3-524f-4486-9e61-36a801aa4da6_18\", \"run_number\": 78, \"metric\": null, \"status\": \"Completed\", \"run_type\": \"azureml.scriptrun\", \"training_percent\": \"100\", \"start_time\": \"2021-01-06T07:09:19.170527Z\", \"end_time\": \"2021-01-06T07:10:30.989393Z\", \"created_time\": \"2021-01-06T07:08:33.35248Z\", \"created_time_dt\": \"2021-01-06T07:08:33.35248Z\", \"duration\": \"0:01:57\", \"iteration\": \"18\", \"goal\": \"accuracy_max\", \"run_name\": \"SparseNormalizer, XGBoostClassifier\", \"run_properties\": \"<azureml.automl.runtime.shared.model_wrappers.SparseNormalizer object at 0x7f5baea38be0\", \"primary_metric\": 0.85017199, \"best_metric\": 0.85919738}, {\"run_id\": \"AutoML_690611a3-524f-4486-9e61-36a801aa4da6_19\", \"run_number\": 79, \"metric\": null, \"status\": \"Completed\", \"run_type\": \"azureml.scriptrun\", \"training_percent\": \"100\", \"start_time\": \"2021-01-06T07:09:21.63627Z\", \"end_time\": \"2021-01-06T07:10:24.768393Z\", \"created_time\": \"2021-01-06T07:08:38.274012Z\", \"created_time_dt\": \"2021-01-06T07:08:38.274012Z\", \"duration\": \"0:01:46\", \"iteration\": \"19\", \"goal\": \"accuracy_max\", \"run_name\": \"SparseNormalizer, XGBoostClassifier\", \"run_properties\": \"<azureml.automl.runtime.shared.model_wrappers.SparseNormalizer object at 0x7f064c480630\", \"primary_metric\": 0.84837019, \"best_metric\": 0.85919738}, {\"run_id\": \"AutoML_690611a3-524f-4486-9e61-36a801aa4da6_20\", \"run_number\": 80, \"metric\": null, \"status\": \"Completed\", \"run_type\": \"azureml.scriptrun\", \"training_percent\": \"100\", \"start_time\": \"2021-01-06T07:09:31.798584Z\", \"end_time\": \"2021-01-06T07:11:29.61025Z\", \"created_time\": \"2021-01-06T07:08:45.779567Z\", \"created_time_dt\": \"2021-01-06T07:08:45.779567Z\", \"duration\": \"0:02:43\", \"iteration\": \"20\", \"goal\": \"accuracy_max\", \"run_name\": \"SparseNormalizer, XGBoostClassifier\", \"run_properties\": \"<azureml.automl.runtime.shared.model_wrappers.SparseNormalizer object at 0x7fca7c9e3630\", \"primary_metric\": 0.84835381, \"best_metric\": 0.85919738}, {\"run_id\": \"AutoML_690611a3-524f-4486-9e61-36a801aa4da6_21\", \"run_number\": 81, \"metric\": null, \"status\": \"Completed\", \"run_type\": \"azureml.scriptrun\", \"training_percent\": \"100\", \"start_time\": \"2021-01-06T07:09:40.248623Z\", \"end_time\": \"2021-01-06T07:10:37.46952Z\", \"created_time\": \"2021-01-06T07:09:20.250036Z\", \"created_time_dt\": \"2021-01-06T07:09:20.250036Z\", \"duration\": \"0:01:17\", \"iteration\": \"21\", \"goal\": \"accuracy_max\", \"run_name\": \"MaxAbsScaler, LogisticRegression\", \"run_properties\": \"copy=True\", \"primary_metric\": 0.85189189, \"best_metric\": 0.85919738}, {\"run_id\": \"AutoML_690611a3-524f-4486-9e61-36a801aa4da6_22\", \"run_number\": 82, \"metric\": null, \"status\": \"Completed\", \"run_type\": \"azureml.scriptrun\", \"training_percent\": \"100\", \"start_time\": \"2021-01-06T07:09:41.277331Z\", \"end_time\": \"2021-01-06T07:11:21.222653Z\", \"created_time\": \"2021-01-06T07:09:26.203172Z\", \"created_time_dt\": \"2021-01-06T07:09:26.203172Z\", \"duration\": \"0:01:55\", \"iteration\": \"22\", \"goal\": \"accuracy_max\", \"run_name\": \"StandardScalerWrapper, XGBoostClassifier\", \"run_properties\": \"<azureml.automl.runtime.shared.model_wrappers.StandardScalerWrapper object at 0x7fe4928eb358\", \"primary_metric\": 0.84473382, \"best_metric\": 0.85919738}, {\"run_id\": \"AutoML_690611a3-524f-4486-9e61-36a801aa4da6_23\", \"run_number\": 83, \"metric\": null, \"status\": \"Completed\", \"run_type\": \"azureml.scriptrun\", \"training_percent\": \"100\", \"start_time\": \"2021-01-06T07:09:46.568849Z\", \"end_time\": \"2021-01-06T07:11:18.997967Z\", \"created_time\": \"2021-01-06T07:09:32.405349Z\", \"created_time_dt\": \"2021-01-06T07:09:32.405349Z\", \"duration\": \"0:01:46\", \"iteration\": \"23\", \"goal\": \"accuracy_max\", \"run_name\": \"MaxAbsScaler, LogisticRegression\", \"run_properties\": \"copy=True\", \"primary_metric\": 0.8410647, \"best_metric\": 0.85919738}, {\"run_id\": \"AutoML_690611a3-524f-4486-9e61-36a801aa4da6_24\", \"run_number\": 84, \"metric\": null, \"status\": \"Completed\", \"run_type\": \"azureml.scriptrun\", \"training_percent\": \"100\", \"start_time\": \"2021-01-06T07:09:52.379709Z\", \"end_time\": \"2021-01-06T07:10:46.563916Z\", \"created_time\": \"2021-01-06T07:09:38.903298Z\", \"created_time_dt\": \"2021-01-06T07:09:38.903298Z\", \"duration\": \"0:01:07\", \"iteration\": \"24\", \"goal\": \"accuracy_max\", \"run_name\": \"StandardScalerWrapper, ExtremeRandomTrees\", \"run_properties\": \"<azureml.automl.runtime.shared.model_wrappers.StandardScalerWrapper object at 0x7f18c85d9dd8\", \"primary_metric\": 0.74371826, \"best_metric\": 0.85919738}, {\"run_id\": \"AutoML_690611a3-524f-4486-9e61-36a801aa4da6_26\", \"run_number\": 85, \"metric\": null, \"status\": \"Completed\", \"run_type\": \"azureml.scriptrun\", \"training_percent\": \"100\", \"start_time\": \"2021-01-06T07:10:25.227919Z\", \"end_time\": \"2021-01-06T07:11:23.716007Z\", \"created_time\": \"2021-01-06T07:09:45.390609Z\", \"created_time_dt\": \"2021-01-06T07:09:45.390609Z\", \"duration\": \"0:01:38\", \"iteration\": \"26\", \"goal\": \"accuracy_max\", \"run_name\": \"TruncatedSVDWrapper, XGBoostClassifier\", \"run_properties\": \"n_components=0.95, random_state=None\", \"primary_metric\": 0.79061425, \"best_metric\": 0.85919738}, {\"run_id\": \"AutoML_690611a3-524f-4486-9e61-36a801aa4da6_25\", \"run_number\": 86, \"metric\": null, \"status\": \"Completed\", \"run_type\": \"azureml.scriptrun\", \"training_percent\": \"100\", \"start_time\": \"2021-01-06T07:10:31.196011Z\", \"end_time\": \"2021-01-06T07:11:20.908615Z\", \"created_time\": \"2021-01-06T07:09:45.517321Z\", \"created_time_dt\": \"2021-01-06T07:09:45.517321Z\", \"duration\": \"0:01:35\", \"iteration\": \"25\", \"goal\": \"accuracy_max\", \"run_name\": \"StandardScalerWrapper, XGBoostClassifier\", \"run_properties\": \"<azureml.automl.runtime.shared.model_wrappers.StandardScalerWrapper object at 0x7f8a39076ba8\", \"primary_metric\": 0.57944308, \"best_metric\": 0.85919738}, {\"run_id\": \"AutoML_690611a3-524f-4486-9e61-36a801aa4da6_27\", \"run_number\": 87, \"metric\": null, \"status\": \"Completed\", \"run_type\": \"azureml.scriptrun\", \"training_percent\": \"100\", \"start_time\": \"2021-01-06T07:10:37.586776Z\", \"end_time\": \"2021-01-06T07:11:29.053374Z\", \"created_time\": \"2021-01-06T07:09:57.02576Z\", \"created_time_dt\": \"2021-01-06T07:09:57.02576Z\", \"duration\": \"0:01:32\", \"iteration\": \"27\", \"goal\": \"accuracy_max\", \"run_name\": \"MaxAbsScaler, LightGBM\", \"run_properties\": \"copy=True\", \"primary_metric\": 0.75090909, \"best_metric\": 0.85919738}, {\"run_id\": \"AutoML_690611a3-524f-4486-9e61-36a801aa4da6_28\", \"run_number\": 88, \"metric\": null, \"status\": \"Completed\", \"run_type\": \"azureml.scriptrun\", \"training_percent\": \"100\", \"start_time\": \"2021-01-06T07:10:50.234671Z\", \"end_time\": \"2021-01-06T07:11:53.223427Z\", \"created_time\": \"2021-01-06T07:10:27.905572Z\", \"created_time_dt\": \"2021-01-06T07:10:27.905572Z\", \"duration\": \"0:01:25\", \"iteration\": \"28\", \"goal\": \"accuracy_max\", \"run_name\": \"MaxAbsScaler, ExtremeRandomTrees\", \"run_properties\": \"copy=True\", \"primary_metric\": 0.78701065, \"best_metric\": 0.85919738}, {\"run_id\": \"AutoML_690611a3-524f-4486-9e61-36a801aa4da6_29\", \"run_number\": 89, \"metric\": null, \"status\": \"Completed\", \"run_type\": \"azureml.scriptrun\", \"training_percent\": \"100\", \"start_time\": \"2021-01-06T07:11:22.809193Z\", \"end_time\": \"2021-01-06T07:12:15.918722Z\", \"created_time\": \"2021-01-06T07:10:35.140094Z\", \"created_time_dt\": \"2021-01-06T07:10:35.140094Z\", \"duration\": \"0:01:40\", \"iteration\": \"29\", \"goal\": \"accuracy_max\", \"run_name\": \"MaxAbsScaler, LightGBM\", \"run_properties\": \"copy=True\", \"primary_metric\": 0.72920557, \"best_metric\": 0.85919738}, {\"run_id\": \"AutoML_690611a3-524f-4486-9e61-36a801aa4da6_30\", \"run_number\": 90, \"metric\": null, \"status\": \"Completed\", \"run_type\": \"azureml.scriptrun\", \"training_percent\": \"100\", \"start_time\": \"2021-01-06T07:11:23.13308Z\", \"end_time\": \"2021-01-06T07:12:17.818902Z\", \"created_time\": \"2021-01-06T07:10:42.179771Z\", \"created_time_dt\": \"2021-01-06T07:10:42.179771Z\", \"duration\": \"0:01:35\", \"iteration\": \"30\", \"goal\": \"accuracy_max\", \"run_name\": \"SparseNormalizer, XGBoostClassifier\", \"run_properties\": \"<azureml.automl.runtime.shared.model_wrappers.SparseNormalizer object at 0x7f4ceb214390\", \"primary_metric\": 0.57944308, \"best_metric\": 0.85919738}, {\"run_id\": \"AutoML_690611a3-524f-4486-9e61-36a801aa4da6_31\", \"run_number\": 91, \"metric\": null, \"status\": \"Completed\", \"run_type\": \"azureml.scriptrun\", \"training_percent\": \"100\", \"start_time\": \"2021-01-06T07:11:23.929384Z\", \"end_time\": \"2021-01-06T07:12:16.33852Z\", \"created_time\": \"2021-01-06T07:10:48.346144Z\", \"created_time_dt\": \"2021-01-06T07:10:48.346144Z\", \"duration\": \"0:01:27\", \"iteration\": \"31\", \"goal\": \"accuracy_max\", \"run_name\": \"SparseNormalizer, XGBoostClassifier\", \"run_properties\": \"<azureml.automl.runtime.shared.model_wrappers.SparseNormalizer object at 0x7f9b2687db00\", \"primary_metric\": 0.81769042, \"best_metric\": 0.85919738}, {\"run_id\": \"AutoML_690611a3-524f-4486-9e61-36a801aa4da6_32\", \"run_number\": 92, \"metric\": null, \"status\": \"Completed\", \"run_type\": \"azureml.scriptrun\", \"training_percent\": \"100\", \"start_time\": \"2021-01-06T07:11:32.610431Z\", \"end_time\": \"2021-01-06T07:12:30.358588Z\", \"created_time\": \"2021-01-06T07:11:20.697995Z\", \"created_time_dt\": \"2021-01-06T07:11:20.697995Z\", \"duration\": \"0:01:09\", \"iteration\": \"32\", \"goal\": \"accuracy_max\", \"run_name\": \"SparseNormalizer, XGBoostClassifier\", \"run_properties\": \"<azureml.automl.runtime.shared.model_wrappers.SparseNormalizer object at 0x7f7d1f8025f8\", \"primary_metric\": 0.82851761, \"best_metric\": 0.85919738}, {\"run_id\": \"AutoML_690611a3-524f-4486-9e61-36a801aa4da6_33\", \"run_number\": 93, \"metric\": null, \"status\": \"Completed\", \"run_type\": \"azureml.scriptrun\", \"training_percent\": \"100\", \"start_time\": \"2021-01-06T07:11:33.762236Z\", \"end_time\": \"2021-01-06T07:12:48.808328Z\", \"created_time\": \"2021-01-06T07:11:23.899066Z\", \"created_time_dt\": \"2021-01-06T07:11:23.899066Z\", \"duration\": \"0:01:24\", \"iteration\": \"33\", \"goal\": \"accuracy_max\", \"run_name\": \"SparseNormalizer, XGBoostClassifier\", \"run_properties\": \"<azureml.automl.runtime.shared.model_wrappers.SparseNormalizer object at 0x7fc637b2a128\", \"primary_metric\": 0.84833743, \"best_metric\": 0.85919738}, {\"run_id\": \"AutoML_690611a3-524f-4486-9e61-36a801aa4da6_34\", \"run_number\": 94, \"metric\": null, \"status\": \"Completed\", \"run_type\": \"azureml.scriptrun\", \"training_percent\": \"100\", \"start_time\": \"2021-01-06T07:11:34.261502Z\", \"end_time\": \"2021-01-06T07:12:39.708845Z\", \"created_time\": \"2021-01-06T07:11:23.941313Z\", \"created_time_dt\": \"2021-01-06T07:11:23.941313Z\", \"duration\": \"0:01:15\", \"iteration\": \"34\", \"goal\": \"accuracy_max\", \"run_name\": \"StandardScalerWrapper, LightGBM\", \"run_properties\": \"<azureml.automl.runtime.shared.model_wrappers.StandardScalerWrapper object at 0x7f95f6444d30\", \"primary_metric\": 0.73826372, \"best_metric\": 0.85919738}, {\"run_id\": \"AutoML_690611a3-524f-4486-9e61-36a801aa4da6_35\", \"run_number\": 95, \"metric\": null, \"status\": \"Completed\", \"run_type\": \"azureml.scriptrun\", \"training_percent\": \"100\", \"start_time\": \"2021-01-06T07:11:58.649875Z\", \"end_time\": \"2021-01-06T07:12:53.479133Z\", \"created_time\": \"2021-01-06T07:11:28.017189Z\", \"created_time_dt\": \"2021-01-06T07:11:28.017189Z\", \"duration\": \"0:01:25\", \"iteration\": \"35\", \"goal\": \"accuracy_max\", \"run_name\": \"SparseNormalizer, XGBoostClassifier\", \"run_properties\": \"<azureml.automl.runtime.shared.model_wrappers.SparseNormalizer object at 0x7f08fc6c10f0\", \"primary_metric\": 0.57944308, \"best_metric\": 0.85919738}, {\"run_id\": \"AutoML_690611a3-524f-4486-9e61-36a801aa4da6_36\", \"run_number\": 96, \"metric\": null, \"status\": \"Completed\", \"run_type\": \"azureml.scriptrun\", \"training_percent\": \"100\", \"start_time\": \"2021-01-06T07:12:22.712618Z\", \"end_time\": \"2021-01-06T07:13:32.702497Z\", \"created_time\": \"2021-01-06T07:11:31.290994Z\", \"created_time_dt\": \"2021-01-06T07:11:31.290994Z\", \"duration\": \"0:02:01\", \"iteration\": \"36\", \"goal\": \"accuracy_max\", \"run_name\": \"MaxAbsScaler, LogisticRegression\", \"run_properties\": \"copy=True\", \"primary_metric\": 0.8428665, \"best_metric\": 0.85919738}, {\"run_id\": \"AutoML_690611a3-524f-4486-9e61-36a801aa4da6_37\", \"run_number\": 97, \"metric\": null, \"status\": \"Canceled\", \"run_type\": \"azureml.scriptrun\", \"training_percent\": \"100\", \"start_time\": \"2021-01-06T07:12:19.870224Z\", \"end_time\": \"2021-01-06T07:13:41.277722Z\", \"created_time\": \"2021-01-06T07:11:31.293387Z\", \"created_time_dt\": \"2021-01-06T07:11:31.293387Z\", \"duration\": \"0:02:09\", \"iteration\": \"37\", \"goal\": \"accuracy_max\", \"run_name\": \"StandardScalerWrapper, LogisticRegression\", \"run_properties\": \"<azureml.automl.runtime.shared.model_wrappers.StandardScalerWrapper object at 0x7eff861f6b00\", \"primary_metric\": 0.85371007, \"best_metric\": 0.85919738}, {\"run_id\": \"AutoML_690611a3-524f-4486-9e61-36a801aa4da6_38\", \"run_number\": 98, \"metric\": null, \"status\": \"Completed\", \"run_type\": \"azureml.scriptrun\", \"training_percent\": \"100\", \"start_time\": \"2021-01-06T07:12:23.986186Z\", \"end_time\": \"2021-01-06T07:13:18.007429Z\", \"created_time\": \"2021-01-06T07:11:55.619175Z\", \"created_time_dt\": \"2021-01-06T07:11:55.619175Z\", \"duration\": \"0:01:22\", \"iteration\": \"38\", \"goal\": \"accuracy_max\", \"run_name\": \"MaxAbsScaler, LogisticRegression\", \"run_properties\": \"copy=True\", \"primary_metric\": 0.84827191, \"best_metric\": 0.85919738}, {\"run_id\": \"AutoML_690611a3-524f-4486-9e61-36a801aa4da6_39\", \"run_number\": 99, \"metric\": null, \"status\": \"Completed\", \"run_type\": \"azureml.scriptrun\", \"training_percent\": \"100\", \"start_time\": \"2021-01-06T07:12:31.987834Z\", \"end_time\": \"2021-01-06T07:13:26.735075Z\", \"created_time\": \"2021-01-06T07:12:17.615633Z\", \"created_time_dt\": \"2021-01-06T07:12:17.615633Z\", \"duration\": \"0:01:09\", \"iteration\": \"39\", \"goal\": \"accuracy_max\", \"run_name\": \"MaxAbsScaler, LogisticRegression\", \"run_properties\": \"copy=True\", \"primary_metric\": 0.8446683, \"best_metric\": 0.85919738}, {\"run_id\": \"AutoML_690611a3-524f-4486-9e61-36a801aa4da6_40\", \"run_number\": 100, \"metric\": null, \"status\": \"Canceled\", \"run_type\": \"azureml.scriptrun\", \"training_percent\": \"100\", \"start_time\": \"2021-01-06T07:12:41.746786Z\", \"end_time\": \"2021-01-06T07:13:41.026092Z\", \"created_time\": \"2021-01-06T07:12:21.837571Z\", \"created_time_dt\": \"2021-01-06T07:12:21.837571Z\", \"duration\": \"0:01:19\", \"iteration\": \"40\", \"goal\": \"accuracy_max\", \"run_name\": \"StandardScalerWrapper, XGBoostClassifier\", \"run_properties\": \"<azureml.automl.runtime.shared.model_wrappers.StandardScalerWrapper object at 0x7fa2a27d1c88\", \"primary_metric\": 0.83751024, \"best_metric\": 0.85919738}, {\"run_id\": \"AutoML_690611a3-524f-4486-9e61-36a801aa4da6_41\", \"run_number\": 101, \"metric\": null, \"status\": \"Canceled\", \"run_type\": \"azureml.scriptrun\", \"training_percent\": \"100\", \"start_time\": \"2021-01-06T07:12:49.499624Z\", \"end_time\": \"2021-01-06T07:13:42.345499Z\", \"created_time\": \"2021-01-06T07:12:21.88992Z\", \"created_time_dt\": \"2021-01-06T07:12:21.88992Z\", \"duration\": \"0:01:20\", \"iteration\": \"41\", \"goal\": \"accuracy_max\", \"run_name\": \"MaxAbsScaler, LogisticRegression\", \"run_properties\": \"copy=True\", \"primary_metric\": 0.8446683, \"best_metric\": 0.85919738}, {\"run_id\": \"AutoML_690611a3-524f-4486-9e61-36a801aa4da6_42\", \"run_number\": 102, \"metric\": null, \"status\": \"Canceled\", \"run_type\": \"azureml.scriptrun\", \"training_percent\": \"100\", \"start_time\": \"2021-01-06T07:12:55.775001Z\", \"end_time\": \"2021-01-06T07:13:41.060704Z\", \"created_time\": \"2021-01-06T07:12:31.987168Z\", \"created_time_dt\": \"2021-01-06T07:12:31.987168Z\", \"duration\": \"0:01:09\", \"iteration\": \"42\", \"goal\": null, \"run_name\": \"MaxAbsScaler, LogisticRegression\", \"run_properties\": null}, {\"run_id\": \"AutoML_690611a3-524f-4486-9e61-36a801aa4da6_43\", \"run_number\": 103, \"metric\": null, \"status\": \"Canceled\", \"run_type\": \"azureml.scriptrun\", \"training_percent\": \"100\", \"start_time\": \"2021-01-06T07:13:19.776747Z\", \"end_time\": \"2021-01-06T07:13:41.100229Z\", \"created_time\": \"2021-01-06T07:12:41.388798Z\", \"created_time_dt\": \"2021-01-06T07:12:41.388798Z\", \"duration\": \"0:00:59\", \"iteration\": \"43\", \"goal\": null, \"run_name\": \"Canceled\", \"run_properties\": null}, {\"run_id\": \"AutoML_690611a3-524f-4486-9e61-36a801aa4da6_44\", \"run_number\": 104, \"metric\": null, \"status\": \"Canceled\", \"run_type\": \"azureml.scriptrun\", \"training_percent\": \"100\", \"start_time\": \"2021-01-06T07:13:33.566858Z\", \"end_time\": \"2021-01-06T07:13:41.583175Z\", \"created_time\": \"2021-01-06T07:12:50.331396Z\", \"created_time_dt\": \"2021-01-06T07:12:50.331396Z\", \"duration\": \"0:00:51\", \"iteration\": \"44\", \"goal\": null, \"run_name\": \"Canceled\", \"run_properties\": null}, {\"run_id\": \"AutoML_690611a3-524f-4486-9e61-36a801aa4da6_45\", \"run_number\": 105, \"metric\": null, \"status\": \"Canceled\", \"run_type\": \"azureml.scriptrun\", \"training_percent\": \"100\", \"start_time\": \"2021-01-06T07:12:58.133521Z\", \"end_time\": \"2021-01-06T07:13:41.405812Z\", \"created_time\": \"2021-01-06T07:12:58.133521Z\", \"created_time_dt\": \"2021-01-06T07:12:58.133521Z\", \"duration\": \"0:00:43\", \"iteration\": \"45\", \"goal\": null, \"run_name\": \"Canceled\", \"run_properties\": null}, {\"run_id\": \"AutoML_690611a3-524f-4486-9e61-36a801aa4da6_46\", \"run_number\": 106, \"metric\": null, \"status\": \"Canceled\", \"run_type\": \"azureml.scriptrun\", \"training_percent\": \"100\", \"start_time\": \"2021-01-06T07:13:19.732828Z\", \"end_time\": \"2021-01-06T07:13:40.087664Z\", \"created_time\": \"2021-01-06T07:13:19.732828Z\", \"created_time_dt\": \"2021-01-06T07:13:19.732828Z\", \"duration\": \"0:00:20\", \"iteration\": \"46\", \"goal\": null, \"run_name\": \"Canceled\", \"run_properties\": null}, {\"run_id\": \"AutoML_690611a3-524f-4486-9e61-36a801aa4da6_47\", \"run_number\": 107, \"metric\": null, \"status\": \"Canceled\", \"run_type\": \"azureml.scriptrun\", \"training_percent\": \"100\", \"start_time\": \"2021-01-06T07:13:28.516251Z\", \"end_time\": \"2021-01-06T07:13:44.886488Z\", \"created_time\": \"2021-01-06T07:13:28.516251Z\", \"created_time_dt\": \"2021-01-06T07:13:28.516251Z\", \"duration\": \"0:00:16\", \"iteration\": \"47\", \"goal\": null, \"run_name\": \"Canceled\", \"run_properties\": null}, {\"run_id\": \"AutoML_690611a3-524f-4486-9e61-36a801aa4da6_48\", \"run_number\": 108, \"metric\": null, \"status\": \"Completed\", \"run_type\": \"azureml.scriptrun\", \"training_percent\": \"100\", \"start_time\": \"2021-01-06T07:14:02.500903Z\", \"end_time\": \"2021-01-06T07:15:30.968727Z\", \"created_time\": \"2021-01-06T07:13:47.952953Z\", \"created_time_dt\": \"2021-01-06T07:13:47.952953Z\", \"duration\": \"0:01:43\", \"iteration\": \"48\", \"goal\": \"accuracy_max\", \"run_name\": \"VotingEnsemble\", \"run_properties\": \"classification_labels=None,\\n                              estimators=[('8',\\n                                           Pipeline(memory=None,\\n                                                    steps=[('sparsenormalizer',\\n                                                            <azureml.automl.runtime.shared.model_wrappers.SparseNormalizer object at 0x7f3cb0f427b8>\", \"primary_metric\": 0.87000819, \"best_metric\": 0.87000819}, {\"run_id\": \"AutoML_690611a3-524f-4486-9e61-36a801aa4da6_49\", \"run_number\": 109, \"metric\": null, \"status\": \"Completed\", \"run_type\": \"azureml.scriptrun\", \"training_percent\": \"100\", \"start_time\": \"2021-01-06T07:14:00.714261Z\", \"end_time\": \"2021-01-06T07:15:33.540272Z\", \"created_time\": \"2021-01-06T07:13:47.95391Z\", \"created_time_dt\": \"2021-01-06T07:13:47.95391Z\", \"duration\": \"0:01:45\", \"iteration\": \"49\", \"goal\": \"accuracy_max\", \"run_name\": \"StackEnsemble\", \"run_properties\": \"base_learners=[('8',\\n                                        Pipeline(memory=None,\\n                                                 steps=[('sparsenormalizer',\\n                                                         <azureml.automl.runtime.shared.model_wrappers.SparseNormalizer object at 0x7f099d716da0>\", \"primary_metric\": 0.85913186, \"best_metric\": 0.87000819}], \"children_metrics\": {\"categories\": [0], \"series\": {\"recall_score_micro\": [{\"categories\": [\"0\", \"1\", \"2\", \"3\", \"4\", \"5\", \"6\", \"7\", \"8\", \"9\", \"10\", \"11\", \"12\", \"13\", \"14\", \"15\", \"16\", \"17\", \"18\", \"19\", \"20\", \"21\", \"22\", \"23\", \"24\", \"25\", \"26\", \"27\", \"28\", \"29\", \"30\", \"31\", \"32\", \"33\", \"34\", \"35\", \"36\", \"37\", \"38\", \"39\", \"40\", \"41\", \"48\", \"49\"], \"mode\": \"markers\", \"name\": \"recall_score_micro\", \"stepped\": false, \"type\": \"scatter\", \"data\": [0.7978050778050778, 0.8519246519246518, 0.8302866502866504, 0.7022113022113021, 0.7328255528255528, 0.7561670761670761, 0.7346764946764947, 0.6028665028665029, 0.8591973791973793, 0.8375102375102376, 0.8501719901719902, 0.8465028665028665, 0.8573791973791975, 0.7653890253890255, 0.7364619164619165, 0.7491072891072891, 0.7346109746109745, 0.7689598689598689, 0.8501719901719902, 0.8483701883701883, 0.8483538083538082, 0.8518918918918919, 0.8447338247338247, 0.8410647010647011, 0.7437182637182638, 0.5794430794430794, 0.7906142506142506, 0.7509090909090909, 0.787010647010647, 0.7292055692055692, 0.5794430794430794, 0.8176904176904177, 0.8285176085176087, 0.8483374283374283, 0.7382637182637183, 0.5794430794430794, 0.8428665028665028, 0.8537100737100737, 0.8482719082719082, 0.8446683046683047, 0.8375102375102375, 0.8446683046683047, 0.87000819000819, 0.8591318591318592]}, {\"categories\": [\"0\", \"1\", \"2\", \"3\", \"4\", \"5\", \"6\", \"7\", \"8\", \"9\", \"10\", \"11\", \"12\", \"13\", \"14\", \"15\", \"16\", \"17\", \"18\", \"19\", \"20\", \"21\", \"22\", \"23\", \"24\", \"25\", \"26\", \"27\", \"28\", \"29\", \"30\", \"31\", \"32\", \"33\", \"34\", \"35\", \"36\", \"37\", \"38\", \"39\", \"40\", \"41\", \"48\", \"49\"], \"mode\": \"lines\", \"name\": \"recall_score_micro_max\", \"stepped\": true, \"type\": \"scatter\", \"data\": [0.7978050778050778, 0.8519246519246518, 0.8519246519246518, 0.8519246519246518, 0.8519246519246518, 0.8519246519246518, 0.8519246519246518, 0.8519246519246518, 0.8591973791973793, 0.8591973791973793, 0.8591973791973793, 0.8591973791973793, 0.8591973791973793, 0.8591973791973793, 0.8591973791973793, 0.8591973791973793, 0.8591973791973793, 0.8591973791973793, 0.8591973791973793, 0.8591973791973793, 0.8591973791973793, 0.8591973791973793, 0.8591973791973793, 0.8591973791973793, 0.8591973791973793, 0.8591973791973793, 0.8591973791973793, 0.8591973791973793, 0.8591973791973793, 0.8591973791973793, 0.8591973791973793, 0.8591973791973793, 0.8591973791973793, 0.8591973791973793, 0.8591973791973793, 0.8591973791973793, 0.8591973791973793, 0.8591973791973793, 0.8591973791973793, 0.8591973791973793, 0.8591973791973793, 0.8591973791973793, 0.87000819000819, 0.87000819000819]}], \"matthews_correlation\": [{\"categories\": [\"0\", \"1\", \"2\", \"3\", \"4\", \"5\", \"6\", \"7\", \"8\", \"9\", \"10\", \"11\", \"12\", \"13\", \"14\", \"15\", \"16\", \"17\", \"18\", \"19\", \"20\", \"21\", \"22\", \"23\", \"24\", \"25\", \"26\", \"27\", \"28\", \"29\", \"30\", \"31\", \"32\", \"33\", \"34\", \"35\", \"36\", \"37\", \"38\", \"39\", \"40\", \"41\", \"48\", \"49\"], \"mode\": \"markers\", \"name\": \"matthews_correlation\", \"stepped\": false, \"type\": \"scatter\", \"data\": [0.6482299090535568, 0.7447251805087101, 0.7071499324821123, 0.4636800069021817, 0.5760864227696617, 0.618347818828761, 0.5291362448151825, 0.4389724098257397, 0.7595752823515532, 0.7195271732070452, 0.7433353919464565, 0.7374639516487453, 0.7547040922759338, 0.5888912748914399, 0.5219728211787201, 0.55559076711543, 0.5233665613863978, 0.5960094959783315, 0.7432543131033104, 0.7391288631890173, 0.7392030077693232, 0.7453221245161838, 0.7327287900102795, 0.7272776484843849, 0.5444266344285159, 0.0, 0.6307900038987041, 0.5621266262981534, 0.6276768745196254, 0.5151805051752081, 0.0, 0.6866151398439778, 0.7047712294652977, 0.7390486780189234, 0.5266259721983039, 0.0, 0.7315925694176822, 0.7481792818993086, 0.7406986078704014, 0.7333702220587506, 0.7177637954160443, 0.7336983302986957, 0.77803415907693, 0.7592128508568728]}, {\"categories\": [\"0\", \"1\", \"2\", \"3\", \"4\", \"5\", \"6\", \"7\", \"8\", \"9\", \"10\", \"11\", \"12\", \"13\", \"14\", \"15\", \"16\", \"17\", \"18\", \"19\", \"20\", \"21\", \"22\", \"23\", \"24\", \"25\", \"26\", \"27\", \"28\", \"29\", \"30\", \"31\", \"32\", \"33\", \"34\", \"35\", \"36\", \"37\", \"38\", \"39\", \"40\", \"41\", \"48\", \"49\"], \"mode\": \"lines\", \"name\": \"matthews_correlation_max\", \"stepped\": true, \"type\": \"scatter\", \"data\": [0.6482299090535568, 0.7447251805087101, 0.7447251805087101, 0.7447251805087101, 0.7447251805087101, 0.7447251805087101, 0.7447251805087101, 0.7447251805087101, 0.7595752823515532, 0.7595752823515532, 0.7595752823515532, 0.7595752823515532, 0.7595752823515532, 0.7595752823515532, 0.7595752823515532, 0.7595752823515532, 0.7595752823515532, 0.7595752823515532, 0.7595752823515532, 0.7595752823515532, 0.7595752823515532, 0.7595752823515532, 0.7595752823515532, 0.7595752823515532, 0.7595752823515532, 0.7595752823515532, 0.7595752823515532, 0.7595752823515532, 0.7595752823515532, 0.7595752823515532, 0.7595752823515532, 0.7595752823515532, 0.7595752823515532, 0.7595752823515532, 0.7595752823515532, 0.7595752823515532, 0.7595752823515532, 0.7595752823515532, 0.7595752823515532, 0.7595752823515532, 0.7595752823515532, 0.7595752823515532, 0.77803415907693, 0.77803415907693]}], \"AUC_weighted\": [{\"categories\": [\"0\", \"1\", \"2\", \"3\", \"4\", \"5\", \"6\", \"7\", \"8\", \"9\", \"10\", \"11\", \"12\", \"13\", \"14\", \"15\", \"16\", \"17\", \"18\", \"19\", \"20\", \"21\", \"22\", \"23\", \"24\", \"25\", \"26\", \"27\", \"28\", \"29\", \"30\", \"31\", \"32\", \"33\", \"34\", \"35\", \"36\", \"37\", \"38\", \"39\", \"40\", \"41\", \"48\", \"49\"], \"mode\": \"markers\", \"name\": \"AUC_weighted\", \"stepped\": false, \"type\": \"scatter\", \"data\": [0.9361166079318565, 0.950513324973846, 0.9437241129484015, 0.8969075791383855, 0.896175025557518, 0.9391807883460036, 0.9042022391472759, 0.8642823259079963, 0.952302326054507, 0.947188092979178, 0.956969556780526, 0.9520607392370095, 0.9454654450108586, 0.9286981046057274, 0.8824329349842213, 0.9182000622846221, 0.8769485864324771, 0.9254050177313413, 0.9496397230438658, 0.9376575058553043, 0.9543777073251011, 0.9496967468414766, 0.9488471622963679, 0.9521488918446573, 0.9150308049404151, 0.5, 0.9081813959632233, 0.9242499981940127, 0.9309784644007719, 0.9089826282208501, 0.5, 0.9247814974242463, 0.929580729438601, 0.9547142040406428, 0.8818748935642609, 0.5, 0.9507595496800324, 0.9421210390474954, 0.9497935192063423, 0.9533123851851617, 0.9523305412064751, 0.9533977543718418, 0.9573523019812871, 0.9583730182161639]}, {\"categories\": [\"0\", \"1\", \"2\", \"3\", \"4\", \"5\", \"6\", \"7\", \"8\", \"9\", \"10\", \"11\", \"12\", \"13\", \"14\", \"15\", \"16\", \"17\", \"18\", \"19\", \"20\", \"21\", \"22\", \"23\", \"24\", \"25\", \"26\", \"27\", \"28\", \"29\", \"30\", \"31\", \"32\", \"33\", \"34\", \"35\", \"36\", \"37\", \"38\", \"39\", \"40\", \"41\", \"48\", \"49\"], \"mode\": \"lines\", \"name\": \"AUC_weighted_max\", \"stepped\": true, \"type\": \"scatter\", \"data\": [0.9361166079318565, 0.950513324973846, 0.950513324973846, 0.950513324973846, 0.950513324973846, 0.950513324973846, 0.950513324973846, 0.950513324973846, 0.952302326054507, 0.952302326054507, 0.956969556780526, 0.956969556780526, 0.956969556780526, 0.956969556780526, 0.956969556780526, 0.956969556780526, 0.956969556780526, 0.956969556780526, 0.956969556780526, 0.956969556780526, 0.956969556780526, 0.956969556780526, 0.956969556780526, 0.956969556780526, 0.956969556780526, 0.956969556780526, 0.956969556780526, 0.956969556780526, 0.956969556780526, 0.956969556780526, 0.956969556780526, 0.956969556780526, 0.956969556780526, 0.956969556780526, 0.956969556780526, 0.956969556780526, 0.956969556780526, 0.956969556780526, 0.956969556780526, 0.956969556780526, 0.956969556780526, 0.956969556780526, 0.9573523019812871, 0.9583730182161639]}], \"precision_score_macro\": [{\"categories\": [\"0\", \"1\", \"2\", \"3\", \"4\", \"5\", \"6\", \"7\", \"8\", \"9\", \"10\", \"11\", \"12\", \"13\", \"14\", \"15\", \"16\", \"17\", \"18\", \"19\", \"20\", \"21\", \"22\", \"23\", \"24\", \"25\", \"26\", \"27\", \"28\", \"29\", \"30\", \"31\", \"32\", \"33\", \"34\", \"35\", \"36\", \"37\", \"38\", \"39\", \"40\", \"41\", \"48\", \"49\"], \"mode\": \"markers\", \"name\": \"precision_score_macro\", \"stepped\": false, \"type\": \"scatter\", \"data\": [0.7142453386577661, 0.8504334831834832, 0.8867643363346229, 0.4054946148940125, 0.6527000311638248, 0.6604892886587491, 0.4076219448995266, 0.5354876562740623, 0.8766412573733833, 0.8176617801476956, 0.8723431598594642, 0.8543257761301242, 0.8621256880673356, 0.8597343319673975, 0.38780263002501225, 0.45136088008918546, 0.5747593742613575, 0.8092065003982942, 0.8807851407851407, 0.8438039948615831, 0.8389569432129138, 0.8119932344521846, 0.8334436591525634, 0.7815851984145874, 0.5329100573384205, 0.14486076986076984, 0.8257924465155846, 0.6576165591248604, 0.8675681816285838, 0.5300318692222212, 0.14486076986076984, 0.9039139765943206, 0.8775654720524573, 0.846538151038151, 0.389533069465052, 0.14486076986076984, 0.7748720907615819, 0.8073340823230529, 0.7848139586042103, 0.789742506792484, 0.8448030124265822, 0.7903988002716675, 0.8677850622448753, 0.8712736182464864]}, {\"categories\": [\"0\", \"1\", \"2\", \"3\", \"4\", \"5\", \"6\", \"7\", \"8\", \"9\", \"10\", \"11\", \"12\", \"13\", \"14\", \"15\", \"16\", \"17\", \"18\", \"19\", \"20\", \"21\", \"22\", \"23\", \"24\", \"25\", \"26\", \"27\", \"28\", \"29\", \"30\", \"31\", \"32\", \"33\", \"34\", \"35\", \"36\", \"37\", \"38\", \"39\", \"40\", \"41\", \"48\", \"49\"], \"mode\": \"lines\", \"name\": \"precision_score_macro_max\", \"stepped\": true, \"type\": \"scatter\", \"data\": [0.7142453386577661, 0.8504334831834832, 0.8867643363346229, 0.8867643363346229, 0.8867643363346229, 0.8867643363346229, 0.8867643363346229, 0.8867643363346229, 0.8867643363346229, 0.8867643363346229, 0.8867643363346229, 0.8867643363346229, 0.8867643363346229, 0.8867643363346229, 0.8867643363346229, 0.8867643363346229, 0.8867643363346229, 0.8867643363346229, 0.8867643363346229, 0.8867643363346229, 0.8867643363346229, 0.8867643363346229, 0.8867643363346229, 0.8867643363346229, 0.8867643363346229, 0.8867643363346229, 0.8867643363346229, 0.8867643363346229, 0.8867643363346229, 0.8867643363346229, 0.8867643363346229, 0.9039139765943206, 0.9039139765943206, 0.9039139765943206, 0.9039139765943206, 0.9039139765943206, 0.9039139765943206, 0.9039139765943206, 0.9039139765943206, 0.9039139765943206, 0.9039139765943206, 0.9039139765943206, 0.9039139765943206, 0.9039139765943206]}], \"norm_macro_recall\": [{\"categories\": [\"0\", \"1\", \"2\", \"3\", \"4\", \"5\", \"6\", \"7\", \"8\", \"9\", \"10\", \"11\", \"12\", \"13\", \"14\", \"15\", \"16\", \"17\", \"18\", \"19\", \"20\", \"21\", \"22\", \"23\", \"24\", \"25\", \"26\", \"27\", \"28\", \"29\", \"30\", \"31\", \"32\", \"33\", \"34\", \"35\", \"36\", \"37\", \"38\", \"39\", \"40\", \"41\", \"48\", \"49\"], \"mode\": \"markers\", \"name\": \"norm_macro_recall\", \"stepped\": false, \"type\": \"scatter\", \"data\": [0.5399910754298938, 0.642364207004922, 0.54532029732661, 0.1794479042530017, 0.5507266447333633, 0.5828567512902778, 0.2276036853368188, 0.36919037645549335, 0.6462765812516138, 0.6157907145162385, 0.6122687225654163, 0.6477858513013396, 0.6687216863925597, 0.34900108377146166, 0.2463087797178829, 0.2570177292306228, 0.29839303495921077, 0.35529168206206, 0.6199608686702336, 0.6401689741043931, 0.6468204970030556, 0.6573474131049258, 0.617311233055285, 0.6463708507145703, 0.26334965199229343, 0.0, 0.430545021955247, 0.3067067687157642, 0.40728598726144505, 0.29790345740366625, 0.0, 0.5365200448701267, 0.5682495383974099, 0.6421687481959217, 0.2459263309071697, 0.0, 0.6718312942758888, 0.6737406104795951, 0.6773932921395364, 0.652984607328327, 0.6150375693755128, 0.6485784770601277, 0.6672494459213932, 0.6624813047394589]}, {\"categories\": [\"0\", \"1\", \"2\", \"3\", \"4\", \"5\", \"6\", \"7\", \"8\", \"9\", \"10\", \"11\", \"12\", \"13\", \"14\", \"15\", \"16\", \"17\", \"18\", \"19\", \"20\", \"21\", \"22\", \"23\", \"24\", \"25\", \"26\", \"27\", \"28\", \"29\", \"30\", \"31\", \"32\", \"33\", \"34\", \"35\", \"36\", \"37\", \"38\", \"39\", \"40\", \"41\", \"48\", \"49\"], \"mode\": \"lines\", \"name\": \"norm_macro_recall_max\", \"stepped\": true, \"type\": \"scatter\", \"data\": [0.5399910754298938, 0.642364207004922, 0.642364207004922, 0.642364207004922, 0.642364207004922, 0.642364207004922, 0.642364207004922, 0.642364207004922, 0.6462765812516138, 0.6462765812516138, 0.6462765812516138, 0.6477858513013396, 0.6687216863925597, 0.6687216863925597, 0.6687216863925597, 0.6687216863925597, 0.6687216863925597, 0.6687216863925597, 0.6687216863925597, 0.6687216863925597, 0.6687216863925597, 0.6687216863925597, 0.6687216863925597, 0.6687216863925597, 0.6687216863925597, 0.6687216863925597, 0.6687216863925597, 0.6687216863925597, 0.6687216863925597, 0.6687216863925597, 0.6687216863925597, 0.6687216863925597, 0.6687216863925597, 0.6687216863925597, 0.6687216863925597, 0.6687216863925597, 0.6718312942758888, 0.6737406104795951, 0.6773932921395364, 0.6773932921395364, 0.6773932921395364, 0.6773932921395364, 0.6773932921395364, 0.6773932921395364]}], \"recall_score_macro\": [{\"categories\": [\"0\", \"1\", \"2\", \"3\", \"4\", \"5\", \"6\", \"7\", \"8\", \"9\", \"10\", \"11\", \"12\", \"13\", \"14\", \"15\", \"16\", \"17\", \"18\", \"19\", \"20\", \"21\", \"22\", \"23\", \"24\", \"25\", \"26\", \"27\", \"28\", \"29\", \"30\", \"31\", \"32\", \"33\", \"34\", \"35\", \"36\", \"37\", \"38\", \"39\", \"40\", \"41\", \"48\", \"49\"], \"mode\": \"markers\", \"name\": \"recall_score_macro\", \"stepped\": false, \"type\": \"scatter\", \"data\": [0.6549933065724204, 0.7317731552536917, 0.6589902229949576, 0.38458592818975135, 0.6630449835500226, 0.6871425634677084, 0.42070276400261414, 0.5268927823416201, 0.7347074359387105, 0.7118430358871788, 0.7092015419240622, 0.7358393884760046, 0.7515412647944197, 0.5117508128285962, 0.43473158478841223, 0.44276329692296706, 0.47379477621940813, 0.516468761546545, 0.7149706515026752, 0.7301267305782948, 0.7351153727522917, 0.7430105598286945, 0.7129834247914637, 0.7347781380359277, 0.44751223899422, 0.25, 0.5729087664664353, 0.4800300765368231, 0.5554644904460837, 0.47342759305274973, 0.25, 0.6523900336525951, 0.6761871537980575, 0.7316265611469414, 0.43444474818037726, 0.25, 0.7538734707069166, 0.7553054578596963, 0.7580449691046522, 0.7397384554962452, 0.7112781770316348, 0.7364338577950958, 0.7504370844410448, 0.7468609785545943]}, {\"categories\": [\"0\", \"1\", \"2\", \"3\", \"4\", \"5\", \"6\", \"7\", \"8\", \"9\", \"10\", \"11\", \"12\", \"13\", \"14\", \"15\", \"16\", \"17\", \"18\", \"19\", \"20\", \"21\", \"22\", \"23\", \"24\", \"25\", \"26\", \"27\", \"28\", \"29\", \"30\", \"31\", \"32\", \"33\", \"34\", \"35\", \"36\", \"37\", \"38\", \"39\", \"40\", \"41\", \"48\", \"49\"], \"mode\": \"lines\", \"name\": \"recall_score_macro_max\", \"stepped\": true, \"type\": \"scatter\", \"data\": [0.6549933065724204, 0.7317731552536917, 0.7317731552536917, 0.7317731552536917, 0.7317731552536917, 0.7317731552536917, 0.7317731552536917, 0.7317731552536917, 0.7347074359387105, 0.7347074359387105, 0.7347074359387105, 0.7358393884760046, 0.7515412647944197, 0.7515412647944197, 0.7515412647944197, 0.7515412647944197, 0.7515412647944197, 0.7515412647944197, 0.7515412647944197, 0.7515412647944197, 0.7515412647944197, 0.7515412647944197, 0.7515412647944197, 0.7515412647944197, 0.7515412647944197, 0.7515412647944197, 0.7515412647944197, 0.7515412647944197, 0.7515412647944197, 0.7515412647944197, 0.7515412647944197, 0.7515412647944197, 0.7515412647944197, 0.7515412647944197, 0.7515412647944197, 0.7515412647944197, 0.7538734707069166, 0.7553054578596963, 0.7580449691046522, 0.7580449691046522, 0.7580449691046522, 0.7580449691046522, 0.7580449691046522, 0.7580449691046522]}], \"average_precision_score_macro\": [{\"categories\": [\"0\", \"1\", \"2\", \"3\", \"4\", \"5\", \"6\", \"7\", \"8\", \"9\", \"10\", \"11\", \"12\", \"13\", \"14\", \"15\", \"16\", \"17\", \"18\", \"19\", \"20\", \"21\", \"22\", \"23\", \"24\", \"25\", \"26\", \"27\", \"28\", \"29\", \"30\", \"31\", \"32\", \"33\", \"34\", \"35\", \"36\", \"37\", \"38\", \"39\", \"40\", \"41\", \"48\", \"49\"], \"mode\": \"markers\", \"name\": \"average_precision_score_macro\", \"stepped\": false, \"type\": \"scatter\", \"data\": [0.7719450054986459, 0.8445389483806057, 0.8279086309749711, 0.6164508167321345, 0.7301114215937305, 0.7995463751263262, 0.6130693367193278, 0.5608195054883297, 0.8476815217981037, 0.845102756440075, 0.8605408509917517, 0.8484010338690648, 0.844577157854383, 0.7742331481571263, 0.6049600206598598, 0.682064858686115, 0.6304820655813622, 0.759826918035626, 0.8543923443059347, 0.8272082861121935, 0.8508037188624658, 0.8489188624852757, 0.836994212849938, 0.8477626797306851, 0.6768904460344864, 0.25, 0.7341510578793333, 0.7234006338105566, 0.7525622776058143, 0.6275149096484915, 0.25, 0.7754166840988087, 0.8050832105854436, 0.8579440949596375, 0.6089437940033534, 0.25, 0.8529008413490521, 0.8269668563946382, 0.8487761567972001, 0.8481521448334437, 0.8447730541938444, 0.8497048580646597, 0.8597467012103674, 0.8621931228249258]}, {\"categories\": [\"0\", \"1\", \"2\", \"3\", \"4\", \"5\", \"6\", \"7\", \"8\", \"9\", \"10\", \"11\", \"12\", \"13\", \"14\", \"15\", \"16\", \"17\", \"18\", \"19\", \"20\", \"21\", \"22\", \"23\", \"24\", \"25\", \"26\", \"27\", \"28\", \"29\", \"30\", \"31\", \"32\", \"33\", \"34\", \"35\", \"36\", \"37\", \"38\", \"39\", \"40\", \"41\", \"48\", \"49\"], \"mode\": \"lines\", \"name\": \"average_precision_score_macro_max\", \"stepped\": true, \"type\": \"scatter\", \"data\": [0.7719450054986459, 0.8445389483806057, 0.8445389483806057, 0.8445389483806057, 0.8445389483806057, 0.8445389483806057, 0.8445389483806057, 0.8445389483806057, 0.8476815217981037, 0.8476815217981037, 0.8605408509917517, 0.8605408509917517, 0.8605408509917517, 0.8605408509917517, 0.8605408509917517, 0.8605408509917517, 0.8605408509917517, 0.8605408509917517, 0.8605408509917517, 0.8605408509917517, 0.8605408509917517, 0.8605408509917517, 0.8605408509917517, 0.8605408509917517, 0.8605408509917517, 0.8605408509917517, 0.8605408509917517, 0.8605408509917517, 0.8605408509917517, 0.8605408509917517, 0.8605408509917517, 0.8605408509917517, 0.8605408509917517, 0.8605408509917517, 0.8605408509917517, 0.8605408509917517, 0.8605408509917517, 0.8605408509917517, 0.8605408509917517, 0.8605408509917517, 0.8605408509917517, 0.8605408509917517, 0.8605408509917517, 0.8621931228249258]}], \"f1_score_weighted\": [{\"categories\": [\"0\", \"1\", \"2\", \"3\", \"4\", \"5\", \"6\", \"7\", \"8\", \"9\", \"10\", \"11\", \"12\", \"13\", \"14\", \"15\", \"16\", \"17\", \"18\", \"19\", \"20\", \"21\", \"22\", \"23\", \"24\", \"25\", \"26\", \"27\", \"28\", \"29\", \"30\", \"31\", \"32\", \"33\", \"34\", \"35\", \"36\", \"37\", \"38\", \"39\", \"40\", \"41\", \"48\", \"49\"], \"mode\": \"markers\", \"name\": \"f1_score_weighted\", \"stepped\": false, \"type\": \"scatter\", \"data\": [0.7856959622652464, 0.8438319621607622, 0.8089107529214123, 0.6197382005241533, 0.7502916179658243, 0.7724899766688091, 0.654990066110878, 0.6569968115753746, 0.8470315729184575, 0.8246288429555493, 0.8355455893026585, 0.837521989850875, 0.8486971139932848, 0.7072051599858769, 0.6590522756335401, 0.6707707075412154, 0.6821768554945793, 0.7107709185549607, 0.8356939471361367, 0.8369739126585196, 0.8372907901217337, 0.8438511281479093, 0.8308583033235315, 0.8335866672516181, 0.6714038352744642, 0.4256919325835792, 0.7522486084218033, 0.6831868120801305, 0.7479223323957938, 0.6902027761314383, 0.4256919325835792, 0.7964861466325314, 0.8109577522439313, 0.8376760134420131, 0.6597895200597088, 0.4256919325835792, 0.8380876636988018, 0.8468681792841316, 0.8431566845803697, 0.8372586651663022, 0.8254183142879448, 0.8367709995810326, 0.8589484627049273, 0.8500235278976384]}, {\"categories\": [\"0\", \"1\", \"2\", \"3\", \"4\", \"5\", \"6\", \"7\", \"8\", \"9\", \"10\", \"11\", \"12\", \"13\", \"14\", \"15\", \"16\", \"17\", \"18\", \"19\", \"20\", \"21\", \"22\", \"23\", \"24\", \"25\", \"26\", \"27\", \"28\", \"29\", \"30\", \"31\", \"32\", \"33\", \"34\", \"35\", \"36\", \"37\", \"38\", \"39\", \"40\", \"41\", \"48\", \"49\"], \"mode\": \"lines\", \"name\": \"f1_score_weighted_max\", \"stepped\": true, \"type\": \"scatter\", \"data\": [0.7856959622652464, 0.8438319621607622, 0.8438319621607622, 0.8438319621607622, 0.8438319621607622, 0.8438319621607622, 0.8438319621607622, 0.8438319621607622, 0.8470315729184575, 0.8470315729184575, 0.8470315729184575, 0.8470315729184575, 0.8486971139932848, 0.8486971139932848, 0.8486971139932848, 0.8486971139932848, 0.8486971139932848, 0.8486971139932848, 0.8486971139932848, 0.8486971139932848, 0.8486971139932848, 0.8486971139932848, 0.8486971139932848, 0.8486971139932848, 0.8486971139932848, 0.8486971139932848, 0.8486971139932848, 0.8486971139932848, 0.8486971139932848, 0.8486971139932848, 0.8486971139932848, 0.8486971139932848, 0.8486971139932848, 0.8486971139932848, 0.8486971139932848, 0.8486971139932848, 0.8486971139932848, 0.8486971139932848, 0.8486971139932848, 0.8486971139932848, 0.8486971139932848, 0.8486971139932848, 0.8589484627049273, 0.8589484627049273]}], \"AUC_macro\": [{\"categories\": [\"0\", \"1\", \"2\", \"3\", \"4\", \"5\", \"6\", \"7\", \"8\", \"9\", \"10\", \"11\", \"12\", \"13\", \"14\", \"15\", \"16\", \"17\", \"18\", \"19\", \"20\", \"21\", \"22\", \"23\", \"24\", \"25\", \"26\", \"27\", \"28\", \"29\", \"30\", \"31\", \"32\", \"33\", \"34\", \"35\", \"36\", \"37\", \"38\", \"39\", \"40\", \"41\", \"48\", \"49\"], \"mode\": \"markers\", \"name\": \"AUC_macro\", \"stepped\": false, \"type\": \"scatter\", \"data\": [0.919644860253784, 0.9383769752704852, 0.9290504721979194, 0.8559798480743019, 0.879430047384939, 0.9191279244538038, 0.8676323292996342, 0.8206001723484511, 0.944676065079252, 0.9398410247474993, 0.9493317535164232, 0.942271443745101, 0.936879177072042, 0.9094608877119686, 0.8422237735034408, 0.8924250589525012, 0.8347217947272789, 0.9048895993193433, 0.9451149682280284, 0.9197906939065413, 0.9449979270607842, 0.9371283334927831, 0.9381661963322191, 0.9419777916567031, 0.8883558236533113, 0.5, 0.8887384465163066, 0.8982336917050635, 0.9105913988080824, 0.8778312702548419, 0.5, 0.9151861737038983, 0.920848923477967, 0.9460729966797132, 0.8433661789473392, 0.5, 0.9390644511968278, 0.929242891899742, 0.9370359916435497, 0.9426529179595576, 0.942605806993253, 0.9430071293815155, 0.9461493543874046, 0.9457421743609883]}, {\"categories\": [\"0\", \"1\", \"2\", \"3\", \"4\", \"5\", \"6\", \"7\", \"8\", \"9\", \"10\", \"11\", \"12\", \"13\", \"14\", \"15\", \"16\", \"17\", \"18\", \"19\", \"20\", \"21\", \"22\", \"23\", \"24\", \"25\", \"26\", \"27\", \"28\", \"29\", \"30\", \"31\", \"32\", \"33\", \"34\", \"35\", \"36\", \"37\", \"38\", \"39\", \"40\", \"41\", \"48\", \"49\"], \"mode\": \"lines\", \"name\": \"AUC_macro_max\", \"stepped\": true, \"type\": \"scatter\", \"data\": [0.919644860253784, 0.9383769752704852, 0.9383769752704852, 0.9383769752704852, 0.9383769752704852, 0.9383769752704852, 0.9383769752704852, 0.9383769752704852, 0.944676065079252, 0.944676065079252, 0.9493317535164232, 0.9493317535164232, 0.9493317535164232, 0.9493317535164232, 0.9493317535164232, 0.9493317535164232, 0.9493317535164232, 0.9493317535164232, 0.9493317535164232, 0.9493317535164232, 0.9493317535164232, 0.9493317535164232, 0.9493317535164232, 0.9493317535164232, 0.9493317535164232, 0.9493317535164232, 0.9493317535164232, 0.9493317535164232, 0.9493317535164232, 0.9493317535164232, 0.9493317535164232, 0.9493317535164232, 0.9493317535164232, 0.9493317535164232, 0.9493317535164232, 0.9493317535164232, 0.9493317535164232, 0.9493317535164232, 0.9493317535164232, 0.9493317535164232, 0.9493317535164232, 0.9493317535164232, 0.9493317535164232, 0.9493317535164232]}], \"f1_score_macro\": [{\"categories\": [\"0\", \"1\", \"2\", \"3\", \"4\", \"5\", \"6\", \"7\", \"8\", \"9\", \"10\", \"11\", \"12\", \"13\", \"14\", \"15\", \"16\", \"17\", \"18\", \"19\", \"20\", \"21\", \"22\", \"23\", \"24\", \"25\", \"26\", \"27\", \"28\", \"29\", \"30\", \"31\", \"32\", \"33\", \"34\", \"35\", \"36\", \"37\", \"38\", \"39\", \"40\", \"41\", \"48\", \"49\"], \"mode\": \"markers\", \"name\": \"f1_score_macro\", \"stepped\": false, \"type\": \"scatter\", \"data\": [0.665955199187966, 0.7740009273722558, 0.7142808109908344, 0.36943323288265345, 0.6380451370371467, 0.649663157714329, 0.40114772497969087, 0.4968985291508717, 0.7829611510154393, 0.74224707234994, 0.7567117618923764, 0.7728882917299241, 0.7890025925785886, 0.5344614854775109, 0.4052767239511482, 0.4220217145411073, 0.46650250649492236, 0.5365798025258197, 0.7594657938764189, 0.7670466238869095, 0.7674973269471513, 0.764522058458736, 0.7482624369767112, 0.7484099107740834, 0.4395468135967885, 0.18329855657564492, 0.6027148274457585, 0.4899235268117651, 0.5972673322191956, 0.4745114306108501, 0.18329855657564492, 0.714164231688861, 0.7263015533705252, 0.7690188807141489, 0.4053798990329126, 0.18329855657564492, 0.7570892892424239, 0.7724093112705155, 0.7639728541452394, 0.7538919657575265, 0.7545915621941408, 0.7514555020154501, 0.7899964024489233, 0.7872906638184058]}, {\"categories\": [\"0\", \"1\", \"2\", \"3\", \"4\", \"5\", \"6\", \"7\", \"8\", \"9\", \"10\", \"11\", \"12\", \"13\", \"14\", \"15\", \"16\", \"17\", \"18\", \"19\", \"20\", \"21\", \"22\", \"23\", \"24\", \"25\", \"26\", \"27\", \"28\", \"29\", \"30\", \"31\", \"32\", \"33\", \"34\", \"35\", \"36\", \"37\", \"38\", \"39\", \"40\", \"41\", \"48\", \"49\"], \"mode\": \"lines\", \"name\": \"f1_score_macro_max\", \"stepped\": true, \"type\": \"scatter\", \"data\": [0.665955199187966, 0.7740009273722558, 0.7740009273722558, 0.7740009273722558, 0.7740009273722558, 0.7740009273722558, 0.7740009273722558, 0.7740009273722558, 0.7829611510154393, 0.7829611510154393, 0.7829611510154393, 0.7829611510154393, 0.7890025925785886, 0.7890025925785886, 0.7890025925785886, 0.7890025925785886, 0.7890025925785886, 0.7890025925785886, 0.7890025925785886, 0.7890025925785886, 0.7890025925785886, 0.7890025925785886, 0.7890025925785886, 0.7890025925785886, 0.7890025925785886, 0.7890025925785886, 0.7890025925785886, 0.7890025925785886, 0.7890025925785886, 0.7890025925785886, 0.7890025925785886, 0.7890025925785886, 0.7890025925785886, 0.7890025925785886, 0.7890025925785886, 0.7890025925785886, 0.7890025925785886, 0.7890025925785886, 0.7890025925785886, 0.7890025925785886, 0.7890025925785886, 0.7890025925785886, 0.7899964024489233, 0.7899964024489233]}], \"average_precision_score_weighted\": [{\"categories\": [\"0\", \"1\", \"2\", \"3\", \"4\", \"5\", \"6\", \"7\", \"8\", \"9\", \"10\", \"11\", \"12\", \"13\", \"14\", \"15\", \"16\", \"17\", \"18\", \"19\", \"20\", \"21\", \"22\", \"23\", \"24\", \"25\", \"26\", \"27\", \"28\", \"29\", \"30\", \"31\", \"32\", \"33\", \"34\", \"35\", \"36\", \"37\", \"38\", \"39\", \"40\", \"41\", \"48\", \"49\"], \"mode\": \"markers\", \"name\": \"average_precision_score_weighted\", \"stepped\": false, \"type\": \"scatter\", \"data\": [0.8832742195634392, 0.9185376700804971, 0.9055394882866917, 0.8093924959049238, 0.8393127616512837, 0.8951819355733062, 0.8149371561819383, 0.7733965677221518, 0.9174345271465845, 0.9128095850045261, 0.9255459482517929, 0.9186373661822357, 0.9134735073999778, 0.8810621992573775, 0.799875982852343, 0.8443848359812123, 0.8003534903701215, 0.8755538145256303, 0.9181076197299785, 0.9039694083232244, 0.9211989336345867, 0.9155533116567603, 0.9128876752996373, 0.917174569430016, 0.8369404602031476, 0.4106386717295808, 0.8517370490513103, 0.8596722511073033, 0.8753146801235561, 0.8206546582406915, 0.4106386717295808, 0.8631104299719492, 0.883186326585421, 0.9234483387514663, 0.7999785268106312, 0.4106386717295808, 0.917632311138577, 0.9021065191373004, 0.9158219324299519, 0.9182922835042888, 0.9181816339719097, 0.9183072599306685, 0.9264804735401772, 0.9284187586660148]}, {\"categories\": [\"0\", \"1\", \"2\", \"3\", \"4\", \"5\", \"6\", \"7\", \"8\", \"9\", \"10\", \"11\", \"12\", \"13\", \"14\", \"15\", \"16\", \"17\", \"18\", \"19\", \"20\", \"21\", \"22\", \"23\", \"24\", \"25\", \"26\", \"27\", \"28\", \"29\", \"30\", \"31\", \"32\", \"33\", \"34\", \"35\", \"36\", \"37\", \"38\", \"39\", \"40\", \"41\", \"48\", \"49\"], \"mode\": \"lines\", \"name\": \"average_precision_score_weighted_max\", \"stepped\": true, \"type\": \"scatter\", \"data\": [0.8832742195634392, 0.9185376700804971, 0.9185376700804971, 0.9185376700804971, 0.9185376700804971, 0.9185376700804971, 0.9185376700804971, 0.9185376700804971, 0.9185376700804971, 0.9185376700804971, 0.9255459482517929, 0.9255459482517929, 0.9255459482517929, 0.9255459482517929, 0.9255459482517929, 0.9255459482517929, 0.9255459482517929, 0.9255459482517929, 0.9255459482517929, 0.9255459482517929, 0.9255459482517929, 0.9255459482517929, 0.9255459482517929, 0.9255459482517929, 0.9255459482517929, 0.9255459482517929, 0.9255459482517929, 0.9255459482517929, 0.9255459482517929, 0.9255459482517929, 0.9255459482517929, 0.9255459482517929, 0.9255459482517929, 0.9255459482517929, 0.9255459482517929, 0.9255459482517929, 0.9255459482517929, 0.9255459482517929, 0.9255459482517929, 0.9255459482517929, 0.9255459482517929, 0.9255459482517929, 0.9264804735401772, 0.9284187586660148]}], \"accuracy\": [{\"categories\": [\"0\", \"1\", \"2\", \"3\", \"4\", \"5\", \"6\", \"7\", \"8\", \"9\", \"10\", \"11\", \"12\", \"13\", \"14\", \"15\", \"16\", \"17\", \"18\", \"19\", \"20\", \"21\", \"22\", \"23\", \"24\", \"25\", \"26\", \"27\", \"28\", \"29\", \"30\", \"31\", \"32\", \"33\", \"34\", \"35\", \"36\", \"37\", \"38\", \"39\", \"40\", \"41\", \"48\", \"49\"], \"mode\": \"markers\", \"name\": \"accuracy\", \"stepped\": false, \"type\": \"scatter\", \"data\": [0.7978050778050778, 0.8519246519246518, 0.8302866502866504, 0.7022113022113021, 0.7328255528255528, 0.7561670761670761, 0.7346764946764947, 0.6028665028665029, 0.8591973791973793, 0.8375102375102376, 0.8501719901719902, 0.8465028665028665, 0.8573791973791975, 0.7653890253890255, 0.7364619164619165, 0.7491072891072891, 0.7346109746109745, 0.7689598689598689, 0.8501719901719902, 0.8483701883701883, 0.8483538083538082, 0.8518918918918919, 0.8447338247338247, 0.8410647010647011, 0.7437182637182638, 0.5794430794430794, 0.7906142506142506, 0.7509090909090909, 0.787010647010647, 0.7292055692055692, 0.5794430794430794, 0.8176904176904177, 0.8285176085176087, 0.8483374283374283, 0.7382637182637183, 0.5794430794430794, 0.8428665028665028, 0.8537100737100737, 0.8482719082719082, 0.8446683046683047, 0.8375102375102375, 0.8446683046683047, 0.87000819000819, 0.8591318591318592]}, {\"categories\": [\"0\", \"1\", \"2\", \"3\", \"4\", \"5\", \"6\", \"7\", \"8\", \"9\", \"10\", \"11\", \"12\", \"13\", \"14\", \"15\", \"16\", \"17\", \"18\", \"19\", \"20\", \"21\", \"22\", \"23\", \"24\", \"25\", \"26\", \"27\", \"28\", \"29\", \"30\", \"31\", \"32\", \"33\", \"34\", \"35\", \"36\", \"37\", \"38\", \"39\", \"40\", \"41\", \"48\", \"49\"], \"mode\": \"lines\", \"name\": \"accuracy_max\", \"stepped\": true, \"type\": \"scatter\", \"data\": [0.7978050778050778, 0.8519246519246518, 0.8519246519246518, 0.8519246519246518, 0.8519246519246518, 0.8519246519246518, 0.8519246519246518, 0.8519246519246518, 0.8591973791973793, 0.8591973791973793, 0.8591973791973793, 0.8591973791973793, 0.8591973791973793, 0.8591973791973793, 0.8591973791973793, 0.8591973791973793, 0.8591973791973793, 0.8591973791973793, 0.8591973791973793, 0.8591973791973793, 0.8591973791973793, 0.8591973791973793, 0.8591973791973793, 0.8591973791973793, 0.8591973791973793, 0.8591973791973793, 0.8591973791973793, 0.8591973791973793, 0.8591973791973793, 0.8591973791973793, 0.8591973791973793, 0.8591973791973793, 0.8591973791973793, 0.8591973791973793, 0.8591973791973793, 0.8591973791973793, 0.8591973791973793, 0.8591973791973793, 0.8591973791973793, 0.8591973791973793, 0.8591973791973793, 0.8591973791973793, 0.87000819000819, 0.87000819000819]}], \"precision_score_micro\": [{\"categories\": [\"0\", \"1\", \"2\", \"3\", \"4\", \"5\", \"6\", \"7\", \"8\", \"9\", \"10\", \"11\", \"12\", \"13\", \"14\", \"15\", \"16\", \"17\", \"18\", \"19\", \"20\", \"21\", \"22\", \"23\", \"24\", \"25\", \"26\", \"27\", \"28\", \"29\", \"30\", \"31\", \"32\", \"33\", \"34\", \"35\", \"36\", \"37\", \"38\", \"39\", \"40\", \"41\", \"48\", \"49\"], \"mode\": \"markers\", \"name\": \"precision_score_micro\", \"stepped\": false, \"type\": \"scatter\", \"data\": [0.7978050778050778, 0.8519246519246518, 0.8302866502866504, 0.7022113022113021, 0.7328255528255528, 0.7561670761670761, 0.7346764946764947, 0.6028665028665029, 0.8591973791973793, 0.8375102375102376, 0.8501719901719902, 0.8465028665028665, 0.8573791973791975, 0.7653890253890255, 0.7364619164619165, 0.7491072891072891, 0.7346109746109745, 0.7689598689598689, 0.8501719901719902, 0.8483701883701883, 0.8483538083538082, 0.8518918918918919, 0.8447338247338247, 0.8410647010647011, 0.7437182637182638, 0.5794430794430794, 0.7906142506142506, 0.7509090909090909, 0.787010647010647, 0.7292055692055692, 0.5794430794430794, 0.8176904176904177, 0.8285176085176087, 0.8483374283374283, 0.7382637182637183, 0.5794430794430794, 0.8428665028665028, 0.8537100737100737, 0.8482719082719082, 0.8446683046683047, 0.8375102375102375, 0.8446683046683047, 0.87000819000819, 0.8591318591318592]}, {\"categories\": [\"0\", \"1\", \"2\", \"3\", \"4\", \"5\", \"6\", \"7\", \"8\", \"9\", \"10\", \"11\", \"12\", \"13\", \"14\", \"15\", \"16\", \"17\", \"18\", \"19\", \"20\", \"21\", \"22\", \"23\", \"24\", \"25\", \"26\", \"27\", \"28\", \"29\", \"30\", \"31\", \"32\", \"33\", \"34\", \"35\", \"36\", \"37\", \"38\", \"39\", \"40\", \"41\", \"48\", \"49\"], \"mode\": \"lines\", \"name\": \"precision_score_micro_max\", \"stepped\": true, \"type\": \"scatter\", \"data\": [0.7978050778050778, 0.8519246519246518, 0.8519246519246518, 0.8519246519246518, 0.8519246519246518, 0.8519246519246518, 0.8519246519246518, 0.8519246519246518, 0.8591973791973793, 0.8591973791973793, 0.8591973791973793, 0.8591973791973793, 0.8591973791973793, 0.8591973791973793, 0.8591973791973793, 0.8591973791973793, 0.8591973791973793, 0.8591973791973793, 0.8591973791973793, 0.8591973791973793, 0.8591973791973793, 0.8591973791973793, 0.8591973791973793, 0.8591973791973793, 0.8591973791973793, 0.8591973791973793, 0.8591973791973793, 0.8591973791973793, 0.8591973791973793, 0.8591973791973793, 0.8591973791973793, 0.8591973791973793, 0.8591973791973793, 0.8591973791973793, 0.8591973791973793, 0.8591973791973793, 0.8591973791973793, 0.8591973791973793, 0.8591973791973793, 0.8591973791973793, 0.8591973791973793, 0.8591973791973793, 0.87000819000819, 0.87000819000819]}], \"weighted_accuracy\": [{\"categories\": [\"0\", \"1\", \"2\", \"3\", \"4\", \"5\", \"6\", \"7\", \"8\", \"9\", \"10\", \"11\", \"12\", \"13\", \"14\", \"15\", \"16\", \"17\", \"18\", \"19\", \"20\", \"21\", \"22\", \"23\", \"24\", \"25\", \"26\", \"27\", \"28\", \"29\", \"30\", \"31\", \"32\", \"33\", \"34\", \"35\", \"36\", \"37\", \"38\", \"39\", \"40\", \"41\", \"48\", \"49\"], \"mode\": \"markers\", \"name\": \"weighted_accuracy\", \"stepped\": false, \"type\": \"scatter\", \"data\": [0.8800243697937619, 0.9211108543180246, 0.9284700370666942, 0.885995877058112, 0.7759089617259065, 0.7990911617901814, 0.904892548516791, 0.6357835358955364, 0.938064441434195, 0.9119386552586481, 0.9347549379060505, 0.9146448232677582, 0.9220771338986381, 0.9119705825905011, 0.8900494029346773, 0.910457818991433, 0.867189026751376, 0.9123015413793073, 0.9306912819557296, 0.9204822312788703, 0.9175428714933129, 0.9179385261056743, 0.9200425761223616, 0.9073713647441946, 0.9029647699172276, 0.8180480092438309, 0.9102332402088674, 0.9081525522927981, 0.9169097673289262, 0.8646324929745524, 0.8180480092438309, 0.9234462137533814, 0.9209385603634134, 0.9176029620221934, 0.8944364981310668, 0.8180480092438309, 0.8981769035881213, 0.9110519274653937, 0.9039646786130258, 0.9104709684888441, 0.9135125710769696, 0.9125576094505133, 0.9387067019862924, 0.923410388089188]}, {\"categories\": [\"0\", \"1\", \"2\", \"3\", \"4\", \"5\", \"6\", \"7\", \"8\", \"9\", \"10\", \"11\", \"12\", \"13\", \"14\", \"15\", \"16\", \"17\", \"18\", \"19\", \"20\", \"21\", \"22\", \"23\", \"24\", \"25\", \"26\", \"27\", \"28\", \"29\", \"30\", \"31\", \"32\", \"33\", \"34\", \"35\", \"36\", \"37\", \"38\", \"39\", \"40\", \"41\", \"48\", \"49\"], \"mode\": \"lines\", \"name\": \"weighted_accuracy_max\", \"stepped\": true, \"type\": \"scatter\", \"data\": [0.8800243697937619, 0.9211108543180246, 0.9284700370666942, 0.9284700370666942, 0.9284700370666942, 0.9284700370666942, 0.9284700370666942, 0.9284700370666942, 0.938064441434195, 0.938064441434195, 0.938064441434195, 0.938064441434195, 0.938064441434195, 0.938064441434195, 0.938064441434195, 0.938064441434195, 0.938064441434195, 0.938064441434195, 0.938064441434195, 0.938064441434195, 0.938064441434195, 0.938064441434195, 0.938064441434195, 0.938064441434195, 0.938064441434195, 0.938064441434195, 0.938064441434195, 0.938064441434195, 0.938064441434195, 0.938064441434195, 0.938064441434195, 0.938064441434195, 0.938064441434195, 0.938064441434195, 0.938064441434195, 0.938064441434195, 0.938064441434195, 0.938064441434195, 0.938064441434195, 0.938064441434195, 0.938064441434195, 0.938064441434195, 0.9387067019862924, 0.9387067019862924]}], \"f1_score_micro\": [{\"categories\": [\"0\", \"1\", \"2\", \"3\", \"4\", \"5\", \"6\", \"7\", \"8\", \"9\", \"10\", \"11\", \"12\", \"13\", \"14\", \"15\", \"16\", \"17\", \"18\", \"19\", \"20\", \"21\", \"22\", \"23\", \"24\", \"25\", \"26\", \"27\", \"28\", \"29\", \"30\", \"31\", \"32\", \"33\", \"34\", \"35\", \"36\", \"37\", \"38\", \"39\", \"40\", \"41\", \"48\", \"49\"], \"mode\": \"markers\", \"name\": \"f1_score_micro\", \"stepped\": false, \"type\": \"scatter\", \"data\": [0.7978050778050778, 0.8519246519246518, 0.8302866502866504, 0.7022113022113023, 0.7328255528255528, 0.7561670761670761, 0.7346764946764947, 0.6028665028665029, 0.8591973791973793, 0.8375102375102376, 0.8501719901719902, 0.8465028665028665, 0.8573791973791975, 0.7653890253890254, 0.7364619164619165, 0.7491072891072891, 0.7346109746109745, 0.7689598689598689, 0.8501719901719902, 0.8483701883701883, 0.8483538083538082, 0.8518918918918919, 0.8447338247338247, 0.8410647010647011, 0.7437182637182638, 0.5794430794430794, 0.7906142506142506, 0.7509090909090909, 0.787010647010647, 0.7292055692055692, 0.5794430794430794, 0.8176904176904177, 0.8285176085176087, 0.8483374283374283, 0.7382637182637183, 0.5794430794430794, 0.8428665028665028, 0.8537100737100737, 0.8482719082719082, 0.8446683046683047, 0.8375102375102375, 0.8446683046683047, 0.87000819000819, 0.8591318591318592]}, {\"categories\": [\"0\", \"1\", \"2\", \"3\", \"4\", \"5\", \"6\", \"7\", \"8\", \"9\", \"10\", \"11\", \"12\", \"13\", \"14\", \"15\", \"16\", \"17\", \"18\", \"19\", \"20\", \"21\", \"22\", \"23\", \"24\", \"25\", \"26\", \"27\", \"28\", \"29\", \"30\", \"31\", \"32\", \"33\", \"34\", \"35\", \"36\", \"37\", \"38\", \"39\", \"40\", \"41\", \"48\", \"49\"], \"mode\": \"lines\", \"name\": \"f1_score_micro_max\", \"stepped\": true, \"type\": \"scatter\", \"data\": [0.7978050778050778, 0.8519246519246518, 0.8519246519246518, 0.8519246519246518, 0.8519246519246518, 0.8519246519246518, 0.8519246519246518, 0.8519246519246518, 0.8591973791973793, 0.8591973791973793, 0.8591973791973793, 0.8591973791973793, 0.8591973791973793, 0.8591973791973793, 0.8591973791973793, 0.8591973791973793, 0.8591973791973793, 0.8591973791973793, 0.8591973791973793, 0.8591973791973793, 0.8591973791973793, 0.8591973791973793, 0.8591973791973793, 0.8591973791973793, 0.8591973791973793, 0.8591973791973793, 0.8591973791973793, 0.8591973791973793, 0.8591973791973793, 0.8591973791973793, 0.8591973791973793, 0.8591973791973793, 0.8591973791973793, 0.8591973791973793, 0.8591973791973793, 0.8591973791973793, 0.8591973791973793, 0.8591973791973793, 0.8591973791973793, 0.8591973791973793, 0.8591973791973793, 0.8591973791973793, 0.87000819000819, 0.87000819000819]}], \"balanced_accuracy\": [{\"categories\": [\"0\", \"1\", \"2\", \"3\", \"4\", \"5\", \"6\", \"7\", \"8\", \"9\", \"10\", \"11\", \"12\", \"13\", \"14\", \"15\", \"16\", \"17\", \"18\", \"19\", \"20\", \"21\", \"22\", \"23\", \"24\", \"25\", \"26\", \"27\", \"28\", \"29\", \"30\", \"31\", \"32\", \"33\", \"34\", \"35\", \"36\", \"37\", \"38\", \"39\", \"40\", \"41\", \"48\", \"49\"], \"mode\": \"markers\", \"name\": \"balanced_accuracy\", \"stepped\": false, \"type\": \"scatter\", \"data\": [0.6549933065724204, 0.7317731552536917, 0.6589902229949576, 0.38458592818975135, 0.6630449835500226, 0.6871425634677084, 0.42070276400261414, 0.5268927823416201, 0.7347074359387105, 0.7118430358871788, 0.7092015419240622, 0.7358393884760046, 0.7515412647944197, 0.5117508128285962, 0.43473158478841223, 0.44276329692296706, 0.47379477621940813, 0.516468761546545, 0.7149706515026752, 0.7301267305782948, 0.7351153727522917, 0.7430105598286945, 0.7129834247914637, 0.7347781380359277, 0.44751223899422, 0.25, 0.5729087664664353, 0.4800300765368231, 0.5554644904460837, 0.47342759305274973, 0.25, 0.6523900336525951, 0.6761871537980575, 0.7316265611469414, 0.43444474818037726, 0.25, 0.7538734707069166, 0.7553054578596963, 0.7580449691046522, 0.7397384554962452, 0.7112781770316348, 0.7364338577950958, 0.7504370844410448, 0.7468609785545943]}, {\"categories\": [\"0\", \"1\", \"2\", \"3\", \"4\", \"5\", \"6\", \"7\", \"8\", \"9\", \"10\", \"11\", \"12\", \"13\", \"14\", \"15\", \"16\", \"17\", \"18\", \"19\", \"20\", \"21\", \"22\", \"23\", \"24\", \"25\", \"26\", \"27\", \"28\", \"29\", \"30\", \"31\", \"32\", \"33\", \"34\", \"35\", \"36\", \"37\", \"38\", \"39\", \"40\", \"41\", \"48\", \"49\"], \"mode\": \"lines\", \"name\": \"balanced_accuracy_max\", \"stepped\": true, \"type\": \"scatter\", \"data\": [0.6549933065724204, 0.7317731552536917, 0.7317731552536917, 0.7317731552536917, 0.7317731552536917, 0.7317731552536917, 0.7317731552536917, 0.7317731552536917, 0.7347074359387105, 0.7347074359387105, 0.7347074359387105, 0.7358393884760046, 0.7515412647944197, 0.7515412647944197, 0.7515412647944197, 0.7515412647944197, 0.7515412647944197, 0.7515412647944197, 0.7515412647944197, 0.7515412647944197, 0.7515412647944197, 0.7515412647944197, 0.7515412647944197, 0.7515412647944197, 0.7515412647944197, 0.7515412647944197, 0.7515412647944197, 0.7515412647944197, 0.7515412647944197, 0.7515412647944197, 0.7515412647944197, 0.7515412647944197, 0.7515412647944197, 0.7515412647944197, 0.7515412647944197, 0.7515412647944197, 0.7538734707069166, 0.7553054578596963, 0.7580449691046522, 0.7580449691046522, 0.7580449691046522, 0.7580449691046522, 0.7580449691046522, 0.7580449691046522]}], \"log_loss\": [{\"categories\": [\"0\", \"1\", \"2\", \"3\", \"4\", \"5\", \"6\", \"7\", \"8\", \"9\", \"10\", \"11\", \"12\", \"13\", \"14\", \"15\", \"16\", \"17\", \"18\", \"19\", \"20\", \"21\", \"22\", \"23\", \"24\", \"25\", \"26\", \"27\", \"28\", \"29\", \"30\", \"31\", \"32\", \"33\", \"34\", \"35\", \"36\", \"37\", \"38\", \"39\", \"40\", \"41\", \"48\", \"49\"], \"mode\": \"markers\", \"name\": \"log_loss\", \"stepped\": false, \"type\": \"scatter\", \"data\": [0.6454826394312672, 0.4502787036787847, 0.544867565114099, 0.8759592287071403, 1.181820937633371, 0.7573677034043629, 0.7126943127705102, 1.259335843142551, 0.4494014597727487, 0.462900419635181, 0.44569542358728825, 0.4762771754599961, 0.4876684407161803, 0.7048131065735097, 0.7927944164205044, 0.6516270083551567, 0.7620437357386695, 0.7132530914808135, 0.4906681822141012, 0.7167034314192225, 0.4489769822811952, 0.4613431193176162, 0.4690887784438553, 0.5207155851674559, 0.6444846186726241, 1.1718301847547494, 0.8166240884604254, 0.7565073778703791, 0.5675997817353144, 0.656038598397256, 1.1103290799843069, 0.8140862812535508, 0.7653623741403652, 0.4435726662116431, 0.8048214196685851, 1.1724094729073273, 0.4835288676645055, 0.49336497533330553, 0.5016433451679336, 0.5214786861355153, 0.4562715905084486, 0.5175380199313148, 0.4428171033574017, 0.46976628382182034]}, {\"categories\": [\"0\", \"1\", \"2\", \"3\", \"4\", \"5\", \"6\", \"7\", \"8\", \"9\", \"10\", \"11\", \"12\", \"13\", \"14\", \"15\", \"16\", \"17\", \"18\", \"19\", \"20\", \"21\", \"22\", \"23\", \"24\", \"25\", \"26\", \"27\", \"28\", \"29\", \"30\", \"31\", \"32\", \"33\", \"34\", \"35\", \"36\", \"37\", \"38\", \"39\", \"40\", \"41\", \"48\", \"49\"], \"mode\": \"lines\", \"name\": \"log_loss_min\", \"stepped\": true, \"type\": \"scatter\", \"data\": [0.6454826394312672, 0.4502787036787847, 0.4502787036787847, 0.4502787036787847, 0.4502787036787847, 0.4502787036787847, 0.4502787036787847, 0.4502787036787847, 0.4494014597727487, 0.4494014597727487, 0.44569542358728825, 0.44569542358728825, 0.44569542358728825, 0.44569542358728825, 0.44569542358728825, 0.44569542358728825, 0.44569542358728825, 0.44569542358728825, 0.44569542358728825, 0.44569542358728825, 0.44569542358728825, 0.44569542358728825, 0.44569542358728825, 0.44569542358728825, 0.44569542358728825, 0.44569542358728825, 0.44569542358728825, 0.44569542358728825, 0.44569542358728825, 0.44569542358728825, 0.44569542358728825, 0.44569542358728825, 0.44569542358728825, 0.4435726662116431, 0.4435726662116431, 0.4435726662116431, 0.4435726662116431, 0.4435726662116431, 0.4435726662116431, 0.4435726662116431, 0.4435726662116431, 0.4435726662116431, 0.4428171033574017, 0.4428171033574017]}], \"average_precision_score_micro\": [{\"categories\": [\"0\", \"1\", \"2\", \"3\", \"4\", \"5\", \"6\", \"7\", \"8\", \"9\", \"10\", \"11\", \"12\", \"13\", \"14\", \"15\", \"16\", \"17\", \"18\", \"19\", \"20\", \"21\", \"22\", \"23\", \"24\", \"25\", \"26\", \"27\", \"28\", \"29\", \"30\", \"31\", \"32\", \"33\", \"34\", \"35\", \"36\", \"37\", \"38\", \"39\", \"40\", \"41\", \"48\", \"49\"], \"mode\": \"markers\", \"name\": \"average_precision_score_micro\", \"stepped\": false, \"type\": \"scatter\", \"data\": [0.8988494893409442, 0.9275142940134629, 0.904574238138102, 0.789633094068865, 0.8357821266234685, 0.87784336355259, 0.8478944174852886, 0.7320849730098027, 0.9259704801783247, 0.9197447843967883, 0.9290672796581976, 0.9256427564468914, 0.922650977838023, 0.8608225904859717, 0.8154337965193414, 0.8642458264654695, 0.8181760578904795, 0.8574900175296815, 0.9246703641649571, 0.9177736664882709, 0.9266667028109221, 0.9246193075609078, 0.9216370027385723, 0.9255309997518351, 0.8614229290016017, 0.48111347286531564, 0.8667856898986143, 0.8470574597971912, 0.8897491250551373, 0.8531241681798427, 0.48111347286531564, 0.8837676164737545, 0.9011609838324756, 0.9296823013605289, 0.812535907558771, 0.48111347286531564, 0.9243116156187956, 0.9115734586217158, 0.9237912783920292, 0.926156990926958, 0.9263520483937191, 0.9262278748739321, 0.9336150030785078, 0.9286980480735245]}, {\"categories\": [\"0\", \"1\", \"2\", \"3\", \"4\", \"5\", \"6\", \"7\", \"8\", \"9\", \"10\", \"11\", \"12\", \"13\", \"14\", \"15\", \"16\", \"17\", \"18\", \"19\", \"20\", \"21\", \"22\", \"23\", \"24\", \"25\", \"26\", \"27\", \"28\", \"29\", \"30\", \"31\", \"32\", \"33\", \"34\", \"35\", \"36\", \"37\", \"38\", \"39\", \"40\", \"41\", \"48\", \"49\"], \"mode\": \"lines\", \"name\": \"average_precision_score_micro_max\", \"stepped\": true, \"type\": \"scatter\", \"data\": [0.8988494893409442, 0.9275142940134629, 0.9275142940134629, 0.9275142940134629, 0.9275142940134629, 0.9275142940134629, 0.9275142940134629, 0.9275142940134629, 0.9275142940134629, 0.9275142940134629, 0.9290672796581976, 0.9290672796581976, 0.9290672796581976, 0.9290672796581976, 0.9290672796581976, 0.9290672796581976, 0.9290672796581976, 0.9290672796581976, 0.9290672796581976, 0.9290672796581976, 0.9290672796581976, 0.9290672796581976, 0.9290672796581976, 0.9290672796581976, 0.9290672796581976, 0.9290672796581976, 0.9290672796581976, 0.9290672796581976, 0.9290672796581976, 0.9290672796581976, 0.9290672796581976, 0.9290672796581976, 0.9290672796581976, 0.9296823013605289, 0.9296823013605289, 0.9296823013605289, 0.9296823013605289, 0.9296823013605289, 0.9296823013605289, 0.9296823013605289, 0.9296823013605289, 0.9296823013605289, 0.9336150030785078, 0.9336150030785078]}], \"AUC_micro\": [{\"categories\": [\"0\", \"1\", \"2\", \"3\", \"4\", \"5\", \"6\", \"7\", \"8\", \"9\", \"10\", \"11\", \"12\", \"13\", \"14\", \"15\", \"16\", \"17\", \"18\", \"19\", \"20\", \"21\", \"22\", \"23\", \"24\", \"25\", \"26\", \"27\", \"28\", \"29\", \"30\", \"31\", \"32\", \"33\", \"34\", \"35\", \"36\", \"37\", \"38\", \"39\", \"40\", \"41\", \"48\", \"49\"], \"mode\": \"markers\", \"name\": \"AUC_micro\", \"stepped\": false, \"type\": \"scatter\", \"data\": [0.9514922592907851, 0.9647309690749495, 0.9539469914408489, 0.8759422232149505, 0.9140836462998625, 0.9384644617814152, 0.9187743897571907, 0.8377257069443802, 0.9654650607721861, 0.9628143041410855, 0.9670491948280645, 0.9648902049246029, 0.963703901802182, 0.9253122369633425, 0.8947432516277724, 0.9297781856012814, 0.9019836401064902, 0.9236087935154274, 0.964792266467942, 0.9588639392128335, 0.9658483392930567, 0.9636323515832114, 0.9629037686334984, 0.9652529281571052, 0.9272815012913294, 0.7581217581217581, 0.9304200224347644, 0.9115530509289723, 0.9447781527339266, 0.924691277831327, 0.7581217581217581, 0.9466948422624097, 0.9533722827138063, 0.9673264307416642, 0.8917203104377552, 0.7581217581217581, 0.9637067690876044, 0.958123523568241, 0.963327616649484, 0.9653513111056107, 0.964732722894885, 0.965575032258079, 0.9681698267398513, 0.9671635875321378]}, {\"categories\": [\"0\", \"1\", \"2\", \"3\", \"4\", \"5\", \"6\", \"7\", \"8\", \"9\", \"10\", \"11\", \"12\", \"13\", \"14\", \"15\", \"16\", \"17\", \"18\", \"19\", \"20\", \"21\", \"22\", \"23\", \"24\", \"25\", \"26\", \"27\", \"28\", \"29\", \"30\", \"31\", \"32\", \"33\", \"34\", \"35\", \"36\", \"37\", \"38\", \"39\", \"40\", \"41\", \"48\", \"49\"], \"mode\": \"lines\", \"name\": \"AUC_micro_max\", \"stepped\": true, \"type\": \"scatter\", \"data\": [0.9514922592907851, 0.9647309690749495, 0.9647309690749495, 0.9647309690749495, 0.9647309690749495, 0.9647309690749495, 0.9647309690749495, 0.9647309690749495, 0.9654650607721861, 0.9654650607721861, 0.9670491948280645, 0.9670491948280645, 0.9670491948280645, 0.9670491948280645, 0.9670491948280645, 0.9670491948280645, 0.9670491948280645, 0.9670491948280645, 0.9670491948280645, 0.9670491948280645, 0.9670491948280645, 0.9670491948280645, 0.9670491948280645, 0.9670491948280645, 0.9670491948280645, 0.9670491948280645, 0.9670491948280645, 0.9670491948280645, 0.9670491948280645, 0.9670491948280645, 0.9670491948280645, 0.9670491948280645, 0.9670491948280645, 0.9673264307416642, 0.9673264307416642, 0.9673264307416642, 0.9673264307416642, 0.9673264307416642, 0.9673264307416642, 0.9673264307416642, 0.9673264307416642, 0.9673264307416642, 0.9681698267398513, 0.9681698267398513]}], \"recall_score_weighted\": [{\"categories\": [\"0\", \"1\", \"2\", \"3\", \"4\", \"5\", \"6\", \"7\", \"8\", \"9\", \"10\", \"11\", \"12\", \"13\", \"14\", \"15\", \"16\", \"17\", \"18\", \"19\", \"20\", \"21\", \"22\", \"23\", \"24\", \"25\", \"26\", \"27\", \"28\", \"29\", \"30\", \"31\", \"32\", \"33\", \"34\", \"35\", \"36\", \"37\", \"38\", \"39\", \"40\", \"41\", \"48\", \"49\"], \"mode\": \"markers\", \"name\": \"recall_score_weighted\", \"stepped\": false, \"type\": \"scatter\", \"data\": [0.7978050778050778, 0.8519246519246518, 0.8302866502866504, 0.7022113022113021, 0.7328255528255528, 0.7561670761670761, 0.7346764946764947, 0.6028665028665029, 0.8591973791973793, 0.8375102375102376, 0.8501719901719902, 0.8465028665028665, 0.8573791973791975, 0.7653890253890255, 0.7364619164619165, 0.7491072891072891, 0.7346109746109745, 0.7689598689598689, 0.8501719901719902, 0.8483701883701883, 0.8483538083538082, 0.8518918918918919, 0.8447338247338247, 0.8410647010647011, 0.7437182637182638, 0.5794430794430794, 0.7906142506142506, 0.7509090909090909, 0.787010647010647, 0.7292055692055692, 0.5794430794430794, 0.8176904176904177, 0.8285176085176087, 0.8483374283374283, 0.7382637182637183, 0.5794430794430794, 0.8428665028665028, 0.8537100737100737, 0.8482719082719082, 0.8446683046683047, 0.8375102375102375, 0.8446683046683047, 0.87000819000819, 0.8591318591318592]}, {\"categories\": [\"0\", \"1\", \"2\", \"3\", \"4\", \"5\", \"6\", \"7\", \"8\", \"9\", \"10\", \"11\", \"12\", \"13\", \"14\", \"15\", \"16\", \"17\", \"18\", \"19\", \"20\", \"21\", \"22\", \"23\", \"24\", \"25\", \"26\", \"27\", \"28\", \"29\", \"30\", \"31\", \"32\", \"33\", \"34\", \"35\", \"36\", \"37\", \"38\", \"39\", \"40\", \"41\", \"48\", \"49\"], \"mode\": \"lines\", \"name\": \"recall_score_weighted_max\", \"stepped\": true, \"type\": \"scatter\", \"data\": [0.7978050778050778, 0.8519246519246518, 0.8519246519246518, 0.8519246519246518, 0.8519246519246518, 0.8519246519246518, 0.8519246519246518, 0.8519246519246518, 0.8591973791973793, 0.8591973791973793, 0.8591973791973793, 0.8591973791973793, 0.8591973791973793, 0.8591973791973793, 0.8591973791973793, 0.8591973791973793, 0.8591973791973793, 0.8591973791973793, 0.8591973791973793, 0.8591973791973793, 0.8591973791973793, 0.8591973791973793, 0.8591973791973793, 0.8591973791973793, 0.8591973791973793, 0.8591973791973793, 0.8591973791973793, 0.8591973791973793, 0.8591973791973793, 0.8591973791973793, 0.8591973791973793, 0.8591973791973793, 0.8591973791973793, 0.8591973791973793, 0.8591973791973793, 0.8591973791973793, 0.8591973791973793, 0.8591973791973793, 0.8591973791973793, 0.8591973791973793, 0.8591973791973793, 0.8591973791973793, 0.87000819000819, 0.87000819000819]}], \"precision_score_weighted\": [{\"categories\": [\"0\", \"1\", \"2\", \"3\", \"4\", \"5\", \"6\", \"7\", \"8\", \"9\", \"10\", \"11\", \"12\", \"13\", \"14\", \"15\", \"16\", \"17\", \"18\", \"19\", \"20\", \"21\", \"22\", \"23\", \"24\", \"25\", \"26\", \"27\", \"28\", \"29\", \"30\", \"31\", \"32\", \"33\", \"34\", \"35\", \"36\", \"37\", \"38\", \"39\", \"40\", \"41\", \"48\", \"49\"], \"mode\": \"markers\", \"name\": \"precision_score_weighted\", \"stepped\": false, \"type\": \"scatter\", \"data\": [0.7967335751931734, 0.8561900351900352, 0.8473076906940816, 0.6081558922509925, 0.7877817080256854, 0.8121048528719266, 0.618972278689115, 0.7634204806709699, 0.8662565928291217, 0.8393956302490754, 0.8607663572663572, 0.8559397067253064, 0.8636488897438553, 0.8032011387252229, 0.6062760182187068, 0.6333755568811676, 0.6971094963913971, 0.7805448981642373, 0.8658854066732855, 0.8552015455422086, 0.8500917484923045, 0.8543212086084855, 0.8461925934578656, 0.8409844212152725, 0.6597132658807524, 0.3367935614864362, 0.806691223304808, 0.6903968624134615, 0.825830746934116, 0.6909433225750055, 0.3367935614864362, 0.8503058350830759, 0.8517291276018095, 0.851809470944606, 0.6077772039536745, 0.3367935614864362, 0.843599978656122, 0.8515983735621688, 0.8490913153088204, 0.8465651222900448, 0.8418439526402913, 0.8469152871461386, 0.8720872221366791, 0.8656658067834317]}, {\"categories\": [\"0\", \"1\", \"2\", \"3\", \"4\", \"5\", \"6\", \"7\", \"8\", \"9\", \"10\", \"11\", \"12\", \"13\", \"14\", \"15\", \"16\", \"17\", \"18\", \"19\", \"20\", \"21\", \"22\", \"23\", \"24\", \"25\", \"26\", \"27\", \"28\", \"29\", \"30\", \"31\", \"32\", \"33\", \"34\", \"35\", \"36\", \"37\", \"38\", \"39\", \"40\", \"41\", \"48\", \"49\"], \"mode\": \"lines\", \"name\": \"precision_score_weighted_max\", \"stepped\": true, \"type\": \"scatter\", \"data\": [0.7967335751931734, 0.8561900351900352, 0.8561900351900352, 0.8561900351900352, 0.8561900351900352, 0.8561900351900352, 0.8561900351900352, 0.8561900351900352, 0.8662565928291217, 0.8662565928291217, 0.8662565928291217, 0.8662565928291217, 0.8662565928291217, 0.8662565928291217, 0.8662565928291217, 0.8662565928291217, 0.8662565928291217, 0.8662565928291217, 0.8662565928291217, 0.8662565928291217, 0.8662565928291217, 0.8662565928291217, 0.8662565928291217, 0.8662565928291217, 0.8662565928291217, 0.8662565928291217, 0.8662565928291217, 0.8662565928291217, 0.8662565928291217, 0.8662565928291217, 0.8662565928291217, 0.8662565928291217, 0.8662565928291217, 0.8662565928291217, 0.8662565928291217, 0.8662565928291217, 0.8662565928291217, 0.8662565928291217, 0.8662565928291217, 0.8662565928291217, 0.8662565928291217, 0.8662565928291217, 0.8720872221366791, 0.8720872221366791]}]}, \"metricName\": null, \"primaryMetricName\": \"accuracy\", \"showLegend\": false}, \"run_metrics\": [{\"name\": \"experiment_status\", \"run_id\": \"AutoML_690611a3-524f-4486-9e61-36a801aa4da6\", \"categories\": [0, 1, 2, 3, 4, 5, 6, 7, 8, 9, 10, 11, 12, 13, 14], \"series\": [{\"data\": [\"DatasetEvaluation\", \"FeaturesGeneration\", \"DatasetFeaturization\", \"DatasetFeaturizationCompleted\", \"DatasetBalancing\", \"DatasetCrossValidationSplit\", \"ModelSelection\", \"BestRunExplainModel\", \"ModelExplanationDataSetSetup\", \"PickSurrogateModel\", \"EngineeredFeatureExplanations\", \"EngineeredFeatureExplanations\", \"RawFeaturesExplanations\", \"RawFeaturesExplanations\", \"BestRunExplainModel\"]}]}, {\"name\": \"experiment_status_description\", \"run_id\": \"AutoML_690611a3-524f-4486-9e61-36a801aa4da6\", \"categories\": [0, 1, 2, 3, 4, 5, 6, 7, 8, 9, 10, 11, 12, 13, 14], \"series\": [{\"data\": [\"Gathering dataset statistics.\", \"Generating features for the dataset.\", \"Beginning to fit featurizers and featurize the dataset.\", \"Completed fit featurizers and featurizing the dataset.\", \"Performing class balancing sweeping\", \"Generating individually featurized CV splits.\", \"Beginning model selection.\", \"Best run model explanations started\", \"Model explanations data setup completed\", \"Choosing LinearModel as the surrogate model for explanations\", \"Computation of engineered features started\", \"Computation of engineered features completed\", \"Computation of raw features started\", \"Computation of raw features completed\", \"Best run model explanations completed\"]}]}, {\"name\": \"recall_score_micro\", \"run_id\": \"AutoML_690611a3-524f-4486-9e61-36a801aa4da6\", \"categories\": [0], \"series\": [{\"data\": [0.87000819000819]}]}, {\"name\": \"recall_score_weighted\", \"run_id\": \"AutoML_690611a3-524f-4486-9e61-36a801aa4da6\", \"categories\": [0], \"series\": [{\"data\": [0.87000819000819]}]}, {\"name\": \"weighted_accuracy\", \"run_id\": \"AutoML_690611a3-524f-4486-9e61-36a801aa4da6\", \"categories\": [0], \"series\": [{\"data\": [0.9387067019862924]}]}, {\"name\": \"f1_score_weighted\", \"run_id\": \"AutoML_690611a3-524f-4486-9e61-36a801aa4da6\", \"categories\": [0], \"series\": [{\"data\": [0.8589484627049273]}]}, {\"name\": \"precision_score_macro\", \"run_id\": \"AutoML_690611a3-524f-4486-9e61-36a801aa4da6\", \"categories\": [0], \"series\": [{\"data\": [0.8677850622448753]}]}, {\"name\": \"AUC_weighted\", \"run_id\": \"AutoML_690611a3-524f-4486-9e61-36a801aa4da6\", \"categories\": [0], \"series\": [{\"data\": [0.9573523019812871]}]}, {\"name\": \"AUC_macro\", \"run_id\": \"AutoML_690611a3-524f-4486-9e61-36a801aa4da6\", \"categories\": [0], \"series\": [{\"data\": [0.9461493543874046]}]}, {\"name\": \"recall_score_macro\", \"run_id\": \"AutoML_690611a3-524f-4486-9e61-36a801aa4da6\", \"categories\": [0], \"series\": [{\"data\": [0.7504370844410448]}]}, {\"name\": \"accuracy\", \"run_id\": \"AutoML_690611a3-524f-4486-9e61-36a801aa4da6\", \"categories\": [0], \"series\": [{\"data\": [0.87000819000819]}]}, {\"name\": \"precision_score_weighted\", \"run_id\": \"AutoML_690611a3-524f-4486-9e61-36a801aa4da6\", \"categories\": [0], \"series\": [{\"data\": [0.8720872221366791]}]}, {\"name\": \"average_precision_score_weighted\", \"run_id\": \"AutoML_690611a3-524f-4486-9e61-36a801aa4da6\", \"categories\": [0], \"series\": [{\"data\": [0.9264804735401772]}]}, {\"name\": \"balanced_accuracy\", \"run_id\": \"AutoML_690611a3-524f-4486-9e61-36a801aa4da6\", \"categories\": [0], \"series\": [{\"data\": [0.7504370844410448]}]}, {\"name\": \"AUC_micro\", \"run_id\": \"AutoML_690611a3-524f-4486-9e61-36a801aa4da6\", \"categories\": [0], \"series\": [{\"data\": [0.9681698267398513]}]}, {\"name\": \"matthews_correlation\", \"run_id\": \"AutoML_690611a3-524f-4486-9e61-36a801aa4da6\", \"categories\": [0], \"series\": [{\"data\": [0.77803415907693]}]}, {\"name\": \"precision_score_micro\", \"run_id\": \"AutoML_690611a3-524f-4486-9e61-36a801aa4da6\", \"categories\": [0], \"series\": [{\"data\": [0.87000819000819]}]}, {\"name\": \"f1_score_micro\", \"run_id\": \"AutoML_690611a3-524f-4486-9e61-36a801aa4da6\", \"categories\": [0], \"series\": [{\"data\": [0.87000819000819]}]}, {\"name\": \"average_precision_score_macro\", \"run_id\": \"AutoML_690611a3-524f-4486-9e61-36a801aa4da6\", \"categories\": [0], \"series\": [{\"data\": [0.8597467012103674]}]}, {\"name\": \"average_precision_score_micro\", \"run_id\": \"AutoML_690611a3-524f-4486-9e61-36a801aa4da6\", \"categories\": [0], \"series\": [{\"data\": [0.9336150030785078]}]}, {\"name\": \"log_loss\", \"run_id\": \"AutoML_690611a3-524f-4486-9e61-36a801aa4da6\", \"categories\": [0], \"series\": [{\"data\": [0.4428171033574017]}]}, {\"name\": \"norm_macro_recall\", \"run_id\": \"AutoML_690611a3-524f-4486-9e61-36a801aa4da6\", \"categories\": [0], \"series\": [{\"data\": [0.6672494459213932]}]}, {\"name\": \"f1_score_macro\", \"run_id\": \"AutoML_690611a3-524f-4486-9e61-36a801aa4da6\", \"categories\": [0], \"series\": [{\"data\": [0.7899964024489233]}]}], \"run_logs\": \"\\nRun is completed.\", \"graph\": {}, \"widget_settings\": {\"childWidgetDisplay\": \"popup\", \"send_telemetry\": false, \"log_level\": \"NOTSET\", \"sdk_version\": \"1.19.0\"}, \"loading\": false}"
          },
          "metadata": {}
        }
      ],
      "execution_count": 62,
      "metadata": {
        "gather": {
          "logged": 1609918023724
        },
        "jupyter": {
          "outputs_hidden": false,
          "source_hidden": false
        },
        "nteract": {
          "transient": {
            "deleting": false
          }
        }
      }
    },
    {
      "cell_type": "markdown",
      "source": [
        "## Best Model\n",
        "\n",
        "TODO: In the cell below, get the best model from the automl experiments and display all the properties of the model.\n",
        "\n"
      ],
      "metadata": {}
    },
    {
      "cell_type": "code",
      "source": [
        "best_run, fitted_model= remote_run.get_output()"
      ],
      "outputs": [],
      "execution_count": 63,
      "metadata": {
        "gather": {
          "logged": 1609918062340
        },
        "jupyter": {
          "outputs_hidden": false,
          "source_hidden": false
        },
        "nteract": {
          "transient": {
            "deleting": false
          }
        }
      }
    },
    {
      "cell_type": "code",
      "source": [
        "print(best_run)"
      ],
      "outputs": [
        {
          "output_type": "stream",
          "name": "stdout",
          "text": [
            "Run(Experiment: mental-health-classification,\n",
            "Id: AutoML_690611a3-524f-4486-9e61-36a801aa4da6_48,\n",
            "Type: azureml.scriptrun,\n",
            "Status: Completed)\n"
          ]
        }
      ],
      "execution_count": 64,
      "metadata": {
        "collapsed": true,
        "jupyter": {
          "source_hidden": false,
          "outputs_hidden": false
        },
        "nteract": {
          "transient": {
            "deleting": false
          }
        },
        "gather": {
          "logged": 1609918065093
        }
      }
    },
    {
      "cell_type": "code",
      "source": [
        "print(fitted_model)"
      ],
      "outputs": [
        {
          "output_type": "stream",
          "name": "stdout",
          "text": [
            "Pipeline(memory=None,\n",
            "         steps=[('datatransformer',\n",
            "                 DataTransformer(enable_dnn=None, enable_feature_sweeping=None,\n",
            "                                 feature_sweeping_config=None,\n",
            "                                 feature_sweeping_timeout=None,\n",
            "                                 featurization_config=None, force_text_dnn=None,\n",
            "                                 is_cross_validation=None,\n",
            "                                 is_onnx_compatible=None, logger=None,\n",
            "                                 observer=None, task=None, working_dir=None)),\n",
            "                ('prefittedsoftvotingclassifier',...\n",
            "                                                                                               min_child_weight=1,\n",
            "                                                                                               missing=nan,\n",
            "                                                                                               n_estimators=25,\n",
            "                                                                                               n_jobs=1,\n",
            "                                                                                               nthread=None,\n",
            "                                                                                               objective='multi:softprob',\n",
            "                                                                                               random_state=0,\n",
            "                                                                                               reg_alpha=0,\n",
            "                                                                                               reg_lambda=0.5208333333333334,\n",
            "                                                                                               scale_pos_weight=1,\n",
            "                                                                                               seed=None,\n",
            "                                                                                               silent=None,\n",
            "                                                                                               subsample=0.6,\n",
            "                                                                                               tree_method='auto',\n",
            "                                                                                               verbose=-10,\n",
            "                                                                                               verbosity=0))],\n",
            "                                                                     verbose=False))],\n",
            "                                               flatten_transform=None,\n",
            "                                               weights=[0.125, 0.125, 0.375,\n",
            "                                                        0.125, 0.125,\n",
            "                                                        0.125]))],\n",
            "         verbose=False)\n",
            "Y_transformer(['LabelEncoder', LabelEncoder()])\n"
          ]
        }
      ],
      "execution_count": 65,
      "metadata": {
        "collapsed": true,
        "jupyter": {
          "source_hidden": false,
          "outputs_hidden": false
        },
        "nteract": {
          "transient": {
            "deleting": false
          }
        },
        "gather": {
          "logged": 1609918073364
        }
      }
    },
    {
      "cell_type": "code",
      "source": [
        "fitted_model.named_steps[\"datatransformer\"].get_engineered_feature_names()"
      ],
      "outputs": [
        {
          "output_type": "execute_result",
          "execution_count": 66,
          "data": {
            "text/plain": "['text_CharGramTfIdf_ , ',\n 'text_CharGramTfIdf_ ,h',\n 'text_CharGramTfIdf_ ,n',\n 'text_CharGramTfIdf_ -d',\n 'text_CharGramTfIdf_ -h',\n 'text_CharGramTfIdf_ a ',\n 'text_CharGramTfIdf_ ab',\n 'text_CharGramTfIdf_ ac',\n 'text_CharGramTfIdf_ ad',\n 'text_CharGramTfIdf_ af',\n 'text_CharGramTfIdf_ ag',\n 'text_CharGramTfIdf_ ah',\n 'text_CharGramTfIdf_ al',\n 'text_CharGramTfIdf_ am',\n 'text_CharGramTfIdf_ an',\n 'text_CharGramTfIdf_ ap',\n 'text_CharGramTfIdf_ ar',\n 'text_CharGramTfIdf_ as',\n 'text_CharGramTfIdf_ at',\n 'text_CharGramTfIdf_ av',\n 'text_CharGramTfIdf_ aw',\n 'text_CharGramTfIdf_ ba',\n 'text_CharGramTfIdf_ be',\n 'text_CharGramTfIdf_ bh',\n 'text_CharGramTfIdf_ bo',\n 'text_CharGramTfIdf_ br',\n 'text_CharGramTfIdf_ bu',\n 'text_CharGramTfIdf_ by',\n 'text_CharGramTfIdf_ ca',\n 'text_CharGramTfIdf_ ce',\n 'text_CharGramTfIdf_ ch',\n 'text_CharGramTfIdf_ cl',\n 'text_CharGramTfIdf_ co',\n 'text_CharGramTfIdf_ cr',\n 'text_CharGramTfIdf_ cu',\n 'text_CharGramTfIdf_ d ',\n 'text_CharGramTfIdf_ da',\n 'text_CharGramTfIdf_ de',\n 'text_CharGramTfIdf_ di',\n 'text_CharGramTfIdf_ do',\n 'text_CharGramTfIdf_ dr',\n 'text_CharGramTfIdf_ du',\n 'text_CharGramTfIdf_ ea',\n 'text_CharGramTfIdf_ ed',\n 'text_CharGramTfIdf_ ef',\n 'text_CharGramTfIdf_ el',\n 'text_CharGramTfIdf_ em',\n 'text_CharGramTfIdf_ en',\n 'text_CharGramTfIdf_ es',\n 'text_CharGramTfIdf_ ev',\n 'text_CharGramTfIdf_ ex',\n 'text_CharGramTfIdf_ fa',\n 'text_CharGramTfIdf_ fe',\n 'text_CharGramTfIdf_ fg',\n 'text_CharGramTfIdf_ fi',\n 'text_CharGramTfIdf_ fl',\n 'text_CharGramTfIdf_ fo',\n 'text_CharGramTfIdf_ fr',\n 'text_CharGramTfIdf_ fu',\n 'text_CharGramTfIdf_ ga',\n 'text_CharGramTfIdf_ ge',\n 'text_CharGramTfIdf_ gi',\n 'text_CharGramTfIdf_ go',\n 'text_CharGramTfIdf_ gr',\n 'text_CharGramTfIdf_ gu',\n 'text_CharGramTfIdf_ ha',\n 'text_CharGramTfIdf_ he',\n 'text_CharGramTfIdf_ hi',\n 'text_CharGramTfIdf_ ho',\n 'text_CharGramTfIdf_ hu',\n 'text_CharGramTfIdf_ hw',\n 'text_CharGramTfIdf_ hy',\n 'text_CharGramTfIdf_ i ',\n \"text_CharGramTfIdf_ i'\",\n 'text_CharGramTfIdf_ if',\n 'text_CharGramTfIdf_ ig',\n 'text_CharGramTfIdf_ ii',\n 'text_CharGramTfIdf_ im',\n 'text_CharGramTfIdf_ in',\n 'text_CharGramTfIdf_ ir',\n 'text_CharGramTfIdf_ is',\n 'text_CharGramTfIdf_ it',\n 'text_CharGramTfIdf_ jo',\n 'text_CharGramTfIdf_ ju',\n 'text_CharGramTfIdf_ ke',\n 'text_CharGramTfIdf_ ki',\n 'text_CharGramTfIdf_ kn',\n 'text_CharGramTfIdf_ la',\n 'text_CharGramTfIdf_ le',\n 'text_CharGramTfIdf_ li',\n 'text_CharGramTfIdf_ lo',\n 'text_CharGramTfIdf_ ma',\n 'text_CharGramTfIdf_ me',\n 'text_CharGramTfIdf_ mi',\n 'text_CharGramTfIdf_ mo',\n 'text_CharGramTfIdf_ mu',\n 'text_CharGramTfIdf_ my',\n 'text_CharGramTfIdf_ ne',\n 'text_CharGramTfIdf_ no',\n 'text_CharGramTfIdf_ np',\n 'text_CharGramTfIdf_ o ',\n 'text_CharGramTfIdf_ oc',\n 'text_CharGramTfIdf_ of',\n 'text_CharGramTfIdf_ ok',\n 'text_CharGramTfIdf_ ol',\n 'text_CharGramTfIdf_ on',\n 'text_CharGramTfIdf_ op',\n 'text_CharGramTfIdf_ or',\n 'text_CharGramTfIdf_ ot',\n 'text_CharGramTfIdf_ ou',\n 'text_CharGramTfIdf_ ov',\n 'text_CharGramTfIdf_ ow',\n 'text_CharGramTfIdf_ pa',\n 'text_CharGramTfIdf_ pe',\n 'text_CharGramTfIdf_ pi',\n 'text_CharGramTfIdf_ pl',\n 'text_CharGramTfIdf_ po',\n 'text_CharGramTfIdf_ pr',\n 'text_CharGramTfIdf_ ps',\n 'text_CharGramTfIdf_ pu',\n 'text_CharGramTfIdf_ qu',\n 'text_CharGramTfIdf_ ra',\n 'text_CharGramTfIdf_ re',\n 'text_CharGramTfIdf_ ri',\n 'text_CharGramTfIdf_ ro',\n 'text_CharGramTfIdf_ sa',\n 'text_CharGramTfIdf_ sc',\n 'text_CharGramTfIdf_ se',\n 'text_CharGramTfIdf_ sh',\n 'text_CharGramTfIdf_ si',\n 'text_CharGramTfIdf_ sl',\n 'text_CharGramTfIdf_ sm',\n 'text_CharGramTfIdf_ so',\n 'text_CharGramTfIdf_ sp',\n 'text_CharGramTfIdf_ st',\n 'text_CharGramTfIdf_ su',\n 'text_CharGramTfIdf_ ta',\n 'text_CharGramTfIdf_ te',\n 'text_CharGramTfIdf_ th',\n 'text_CharGramTfIdf_ ti',\n 'text_CharGramTfIdf_ to',\n 'text_CharGramTfIdf_ tr',\n 'text_CharGramTfIdf_ tw',\n 'text_CharGramTfIdf_ un',\n 'text_CharGramTfIdf_ up',\n 'text_CharGramTfIdf_ us',\n 'text_CharGramTfIdf_ ut',\n 'text_CharGramTfIdf_ va',\n 'text_CharGramTfIdf_ ve',\n 'text_CharGramTfIdf_ vi',\n 'text_CharGramTfIdf_ wa',\n 'text_CharGramTfIdf_ we',\n 'text_CharGramTfIdf_ wh',\n 'text_CharGramTfIdf_ wi',\n 'text_CharGramTfIdf_ wo',\n 'text_CharGramTfIdf_ ye',\n 'text_CharGramTfIdf_ yo',\n 'text_CharGramTfIdf_ …h',\n \"text_CharGramTfIdf_'m \",\n \"text_CharGramTfIdf_'s \",\n \"text_CharGramTfIdf_'t \",\n 'text_CharGramTfIdf_(po',\n 'text_CharGramTfIdf_)mo',\n 'text_CharGramTfIdf_, -',\n 'text_CharGramTfIdf_, a',\n 'text_CharGramTfIdf_, d',\n 'text_CharGramTfIdf_, e',\n 'text_CharGramTfIdf_, h',\n 'text_CharGramTfIdf_, i',\n 'text_CharGramTfIdf_, l',\n 'text_CharGramTfIdf_, m',\n 'text_CharGramTfIdf_, n',\n 'text_CharGramTfIdf_, p',\n 'text_CharGramTfIdf_, r',\n 'text_CharGramTfIdf_, s',\n 'text_CharGramTfIdf_, t',\n 'text_CharGramTfIdf_, u',\n 'text_CharGramTfIdf_, w',\n 'text_CharGramTfIdf_,ab',\n 'text_CharGramTfIdf_,al',\n 'text_CharGramTfIdf_,co',\n 'text_CharGramTfIdf_,di',\n 'text_CharGramTfIdf_,fe',\n 'text_CharGramTfIdf_,ha',\n 'text_CharGramTfIdf_,he',\n 'text_CharGramTfIdf_,ho',\n 'text_CharGramTfIdf_,i ',\n 'text_CharGramTfIdf_,is',\n 'text_CharGramTfIdf_,lo',\n 'text_CharGramTfIdf_,no',\n 'text_CharGramTfIdf_,sa',\n 'text_CharGramTfIdf_,sh',\n 'text_CharGramTfIdf_,si',\n 'text_CharGramTfIdf_,so',\n 'text_CharGramTfIdf_,st',\n 'text_CharGramTfIdf_,th',\n 'text_CharGramTfIdf_,un',\n 'text_CharGramTfIdf_,wa',\n 'text_CharGramTfIdf_,wh',\n 'text_CharGramTfIdf_,wi',\n 'text_CharGramTfIdf_-ar',\n 'text_CharGramTfIdf_-di',\n 'text_CharGramTfIdf_-ho',\n 'text_CharGramTfIdf_-on',\n 'text_CharGramTfIdf_. h',\n 'text_CharGramTfIdf_. i',\n 'text_CharGramTfIdf_. r',\n 'text_CharGramTfIdf_. w',\n 'text_CharGramTfIdf_/ r',\n 'text_CharGramTfIdf_/sh',\n 'text_CharGramTfIdf_? d',\n 'text_CharGramTfIdf_? o',\n 'text_CharGramTfIdf_? w',\n 'text_CharGramTfIdf_?wh',\n 'text_CharGramTfIdf_a b',\n 'text_CharGramTfIdf_a c',\n 'text_CharGramTfIdf_a d',\n 'text_CharGramTfIdf_a f',\n 'text_CharGramTfIdf_a g',\n 'text_CharGramTfIdf_a h',\n 'text_CharGramTfIdf_a l',\n 'text_CharGramTfIdf_a m',\n 'text_CharGramTfIdf_a n',\n 'text_CharGramTfIdf_a p',\n 'text_CharGramTfIdf_a r',\n 'text_CharGramTfIdf_a t',\n 'text_CharGramTfIdf_a w',\n 'text_CharGramTfIdf_a,h',\n 'text_CharGramTfIdf_aba',\n 'text_CharGramTfIdf_abi',\n 'text_CharGramTfIdf_abl',\n 'text_CharGramTfIdf_abo',\n 'text_CharGramTfIdf_abs',\n 'text_CharGramTfIdf_abu',\n 'text_CharGramTfIdf_aca',\n 'text_CharGramTfIdf_ace',\n 'text_CharGramTfIdf_ach',\n 'text_CharGramTfIdf_aci',\n 'text_CharGramTfIdf_ack',\n 'text_CharGramTfIdf_acr',\n 'text_CharGramTfIdf_act',\n 'text_CharGramTfIdf_acy',\n 'text_CharGramTfIdf_ad ',\n 'text_CharGramTfIdf_ad,',\n 'text_CharGramTfIdf_ad?',\n 'text_CharGramTfIdf_ada',\n 'text_CharGramTfIdf_add',\n 'text_CharGramTfIdf_ade',\n 'text_CharGramTfIdf_adn',\n 'text_CharGramTfIdf_adu',\n 'text_CharGramTfIdf_adv',\n 'text_CharGramTfIdf_afe',\n 'text_CharGramTfIdf_aff',\n 'text_CharGramTfIdf_aft',\n 'text_CharGramTfIdf_aga',\n 'text_CharGramTfIdf_age',\n 'text_CharGramTfIdf_ahd',\n 'text_CharGramTfIdf_ail',\n 'text_CharGramTfIdf_ain',\n 'text_CharGramTfIdf_air',\n 'text_CharGramTfIdf_ais',\n 'text_CharGramTfIdf_ak ',\n 'text_CharGramTfIdf_ak?',\n 'text_CharGramTfIdf_ake',\n 'text_CharGramTfIdf_aki',\n 'text_CharGramTfIdf_al ',\n 'text_CharGramTfIdf_alc',\n 'text_CharGramTfIdf_ali',\n 'text_CharGramTfIdf_alk',\n 'text_CharGramTfIdf_all',\n 'text_CharGramTfIdf_alm',\n 'text_CharGramTfIdf_alo',\n 'text_CharGramTfIdf_als',\n 'text_CharGramTfIdf_alt',\n 'text_CharGramTfIdf_alu',\n 'text_CharGramTfIdf_alw',\n 'text_CharGramTfIdf_am ',\n 'text_CharGramTfIdf_amb',\n 'text_CharGramTfIdf_ame',\n 'text_CharGramTfIdf_ami',\n 'text_CharGramTfIdf_amm',\n 'text_CharGramTfIdf_amp',\n 'text_CharGramTfIdf_ams',\n 'text_CharGramTfIdf_an ',\n \"text_CharGramTfIdf_an'\",\n 'text_CharGramTfIdf_ana',\n 'text_CharGramTfIdf_anc',\n 'text_CharGramTfIdf_and',\n 'text_CharGramTfIdf_ane',\n 'text_CharGramTfIdf_ang',\n 'text_CharGramTfIdf_ani',\n 'text_CharGramTfIdf_ank',\n 'text_CharGramTfIdf_ann',\n 'text_CharGramTfIdf_ano',\n 'text_CharGramTfIdf_ant',\n 'text_CharGramTfIdf_anu',\n 'text_CharGramTfIdf_anx',\n 'text_CharGramTfIdf_any',\n 'text_CharGramTfIdf_aot',\n 'text_CharGramTfIdf_apa',\n 'text_CharGramTfIdf_aph',\n 'text_CharGramTfIdf_app',\n 'text_CharGramTfIdf_ar ',\n 'text_CharGramTfIdf_ara',\n 'text_CharGramTfIdf_ard',\n 'text_CharGramTfIdf_are',\n 'text_CharGramTfIdf_arf',\n 'text_CharGramTfIdf_arg',\n 'text_CharGramTfIdf_ari',\n 'text_CharGramTfIdf_arm',\n 'text_CharGramTfIdf_aro',\n 'text_CharGramTfIdf_arr',\n 'text_CharGramTfIdf_art',\n 'text_CharGramTfIdf_as ',\n 'text_CharGramTfIdf_ase',\n 'text_CharGramTfIdf_asi',\n 'text_CharGramTfIdf_ask',\n 'text_CharGramTfIdf_aso',\n 'text_CharGramTfIdf_asp',\n 'text_CharGramTfIdf_ass',\n 'text_CharGramTfIdf_ast',\n 'text_CharGramTfIdf_asu',\n 'text_CharGramTfIdf_asy',\n 'text_CharGramTfIdf_at ',\n \"text_CharGramTfIdf_at'\",\n 'text_CharGramTfIdf_at(',\n 'text_CharGramTfIdf_ata',\n 'text_CharGramTfIdf_ate',\n 'text_CharGramTfIdf_ath',\n 'text_CharGramTfIdf_ati',\n 'text_CharGramTfIdf_ato',\n 'text_CharGramTfIdf_atr',\n 'text_CharGramTfIdf_att',\n 'text_CharGramTfIdf_aug',\n 'text_CharGramTfIdf_aus',\n 'text_CharGramTfIdf_ave',\n 'text_CharGramTfIdf_avi',\n 'text_CharGramTfIdf_avo',\n 'text_CharGramTfIdf_avy',\n 'text_CharGramTfIdf_aw ',\n 'text_CharGramTfIdf_awa',\n 'text_CharGramTfIdf_awf',\n 'text_CharGramTfIdf_awn',\n 'text_CharGramTfIdf_ax,',\n 'text_CharGramTfIdf_ay ',\n 'text_CharGramTfIdf_ay?',\n 'text_CharGramTfIdf_aye',\n 'text_CharGramTfIdf_ays',\n 'text_CharGramTfIdf_azy',\n 'text_CharGramTfIdf_b e',\n 'text_CharGramTfIdf_bab',\n 'text_CharGramTfIdf_bac',\n 'text_CharGramTfIdf_bad',\n 'text_CharGramTfIdf_ban',\n 'text_CharGramTfIdf_bas',\n 'text_CharGramTfIdf_be ',\n 'text_CharGramTfIdf_bea',\n 'text_CharGramTfIdf_bec',\n 'text_CharGramTfIdf_bed',\n 'text_CharGramTfIdf_bee',\n 'text_CharGramTfIdf_beh',\n 'text_CharGramTfIdf_bei',\n 'text_CharGramTfIdf_bel',\n 'text_CharGramTfIdf_ben',\n 'text_CharGramTfIdf_ber',\n 'text_CharGramTfIdf_bes',\n 'text_CharGramTfIdf_bet',\n 'text_CharGramTfIdf_bha',\n 'text_CharGramTfIdf_bil',\n 'text_CharGramTfIdf_bin',\n 'text_CharGramTfIdf_bit',\n 'text_CharGramTfIdf_ble',\n 'text_CharGramTfIdf_bli',\n 'text_CharGramTfIdf_bod',\n 'text_CharGramTfIdf_bor',\n 'text_CharGramTfIdf_bot',\n 'text_CharGramTfIdf_bou',\n 'text_CharGramTfIdf_bre',\n 'text_CharGramTfIdf_bro',\n 'text_CharGramTfIdf_bse',\n 'text_CharGramTfIdf_bts',\n 'text_CharGramTfIdf_bur',\n 'text_CharGramTfIdf_bus',\n 'text_CharGramTfIdf_but',\n 'text_CharGramTfIdf_by ',\n 'text_CharGramTfIdf_c i',\n 'text_CharGramTfIdf_c n',\n 'text_CharGramTfIdf_c p',\n 'text_CharGramTfIdf_c r',\n 'text_CharGramTfIdf_c t',\n 'text_CharGramTfIdf_c,s',\n 'text_CharGramTfIdf_cad',\n 'text_CharGramTfIdf_cal',\n 'text_CharGramTfIdf_cam',\n 'text_CharGramTfIdf_can',\n 'text_CharGramTfIdf_car',\n 'text_CharGramTfIdf_cat',\n 'text_CharGramTfIdf_cau',\n 'text_CharGramTfIdf_cce',\n 'text_CharGramTfIdf_cco',\n 'text_CharGramTfIdf_ccu',\n 'text_CharGramTfIdf_ce ',\n 'text_CharGramTfIdf_ce,',\n 'text_CharGramTfIdf_ce?',\n 'text_CharGramTfIdf_ced',\n 'text_CharGramTfIdf_cei',\n 'text_CharGramTfIdf_cen',\n 'text_CharGramTfIdf_ces',\n 'text_CharGramTfIdf_ch ',\n 'text_CharGramTfIdf_ch?',\n 'text_CharGramTfIdf_cha',\n 'text_CharGramTfIdf_che',\n 'text_CharGramTfIdf_chi',\n 'text_CharGramTfIdf_cho',\n 'text_CharGramTfIdf_chu',\n 'text_CharGramTfIdf_cia',\n 'text_CharGramTfIdf_cid',\n 'text_CharGramTfIdf_cie',\n 'text_CharGramTfIdf_cil',\n 'text_CharGramTfIdf_cin',\n 'text_CharGramTfIdf_ciz',\n 'text_CharGramTfIdf_ck ',\n 'text_CharGramTfIdf_ckg',\n 'text_CharGramTfIdf_cki',\n 'text_CharGramTfIdf_ckl',\n 'text_CharGramTfIdf_cla',\n 'text_CharGramTfIdf_cle',\n 'text_CharGramTfIdf_clo',\n 'text_CharGramTfIdf_coh',\n 'text_CharGramTfIdf_col',\n 'text_CharGramTfIdf_com',\n 'text_CharGramTfIdf_con',\n 'text_CharGramTfIdf_cop',\n 'text_CharGramTfIdf_cor',\n 'text_CharGramTfIdf_cou',\n 'text_CharGramTfIdf_cra',\n 'text_CharGramTfIdf_cri',\n 'text_CharGramTfIdf_cru',\n 'text_CharGramTfIdf_ct ',\n 'text_CharGramTfIdf_ct.',\n 'text_CharGramTfIdf_ct?',\n 'text_CharGramTfIdf_cta',\n 'text_CharGramTfIdf_cte',\n 'text_CharGramTfIdf_cti',\n 'text_CharGramTfIdf_ctl',\n 'text_CharGramTfIdf_cts',\n 'text_CharGramTfIdf_ctu',\n 'text_CharGramTfIdf_cul',\n 'text_CharGramTfIdf_cur',\n 'text_CharGramTfIdf_d a',\n 'text_CharGramTfIdf_d b',\n 'text_CharGramTfIdf_d c',\n 'text_CharGramTfIdf_d d',\n 'text_CharGramTfIdf_d e',\n 'text_CharGramTfIdf_d f',\n 'text_CharGramTfIdf_d g',\n 'text_CharGramTfIdf_d h',\n 'text_CharGramTfIdf_d i',\n 'text_CharGramTfIdf_d k',\n 'text_CharGramTfIdf_d l',\n 'text_CharGramTfIdf_d m',\n 'text_CharGramTfIdf_d n',\n 'text_CharGramTfIdf_d o',\n 'text_CharGramTfIdf_d p',\n 'text_CharGramTfIdf_d r',\n 'text_CharGramTfIdf_d s',\n 'text_CharGramTfIdf_d t',\n 'text_CharGramTfIdf_d u',\n 'text_CharGramTfIdf_d v',\n 'text_CharGramTfIdf_d w',\n 'text_CharGramTfIdf_d y',\n 'text_CharGramTfIdf_d, ',\n 'text_CharGramTfIdf_d,a',\n 'text_CharGramTfIdf_d,f',\n 'text_CharGramTfIdf_d,i',\n 'text_CharGramTfIdf_d,l',\n 'text_CharGramTfIdf_d,n',\n 'text_CharGramTfIdf_d,s',\n 'text_CharGramTfIdf_d,w',\n 'text_CharGramTfIdf_d. ',\n 'text_CharGramTfIdf_d? ',\n 'text_CharGramTfIdf_dac',\n 'text_CharGramTfIdf_dai',\n 'text_CharGramTfIdf_dal',\n 'text_CharGramTfIdf_dan',\n 'text_CharGramTfIdf_dau',\n 'text_CharGramTfIdf_day',\n 'text_CharGramTfIdf_dct',\n 'text_CharGramTfIdf_dd ',\n 'text_CharGramTfIdf_ddi',\n 'text_CharGramTfIdf_de ',\n 'text_CharGramTfIdf_de?',\n 'text_CharGramTfIdf_dea',\n 'text_CharGramTfIdf_deb',\n 'text_CharGramTfIdf_ded',\n 'text_CharGramTfIdf_dee',\n 'text_CharGramTfIdf_def',\n 'text_CharGramTfIdf_dem',\n 'text_CharGramTfIdf_den',\n 'text_CharGramTfIdf_dep',\n 'text_CharGramTfIdf_deq',\n 'text_CharGramTfIdf_der',\n 'text_CharGramTfIdf_des',\n 'text_CharGramTfIdf_det',\n 'text_CharGramTfIdf_dev',\n 'text_CharGramTfIdf_dge',\n 'text_CharGramTfIdf_di ',\n 'text_CharGramTfIdf_dia',\n 'text_CharGramTfIdf_dic',\n 'text_CharGramTfIdf_did',\n 'text_CharGramTfIdf_die',\n 'text_CharGramTfIdf_dif',\n 'text_CharGramTfIdf_din',\n 'text_CharGramTfIdf_dis',\n 'text_CharGramTfIdf_diz',\n 'text_CharGramTfIdf_dle',\n 'text_CharGramTfIdf_dli',\n 'text_CharGramTfIdf_dm[',\n 'text_CharGramTfIdf_dne',\n 'text_CharGramTfIdf_dno',\n 'text_CharGramTfIdf_dn’',\n 'text_CharGramTfIdf_do ',\n 'text_CharGramTfIdf_do?',\n 'text_CharGramTfIdf_doe',\n 'text_CharGramTfIdf_doi',\n 'text_CharGramTfIdf_dom',\n 'text_CharGramTfIdf_don',\n 'text_CharGramTfIdf_dot',\n 'text_CharGramTfIdf_dow',\n 'text_CharGramTfIdf_dra',\n 'text_CharGramTfIdf_dri',\n 'text_CharGramTfIdf_dru',\n 'text_CharGramTfIdf_ds ',\n 'text_CharGramTfIdf_ds?',\n 'text_CharGramTfIdf_ds…',\n 'text_CharGramTfIdf_dua',\n 'text_CharGramTfIdf_duc',\n 'text_CharGramTfIdf_dul',\n 'text_CharGramTfIdf_dum',\n 'text_CharGramTfIdf_dvi',\n 'text_CharGramTfIdf_dy ',\n 'text_CharGramTfIdf_dy?',\n 'text_CharGramTfIdf_e ,',\n 'text_CharGramTfIdf_e a',\n 'text_CharGramTfIdf_e b',\n 'text_CharGramTfIdf_e c',\n 'text_CharGramTfIdf_e d',\n 'text_CharGramTfIdf_e e',\n 'text_CharGramTfIdf_e f',\n 'text_CharGramTfIdf_e g',\n 'text_CharGramTfIdf_e h',\n 'text_CharGramTfIdf_e i',\n 'text_CharGramTfIdf_e j',\n 'text_CharGramTfIdf_e k',\n 'text_CharGramTfIdf_e l',\n 'text_CharGramTfIdf_e m',\n 'text_CharGramTfIdf_e n',\n 'text_CharGramTfIdf_e o',\n 'text_CharGramTfIdf_e p',\n 'text_CharGramTfIdf_e r',\n 'text_CharGramTfIdf_e s',\n 'text_CharGramTfIdf_e t',\n 'text_CharGramTfIdf_e u',\n 'text_CharGramTfIdf_e v',\n 'text_CharGramTfIdf_e w',\n 'text_CharGramTfIdf_e y',\n 'text_CharGramTfIdf_e, ',\n 'text_CharGramTfIdf_e,s',\n 'text_CharGramTfIdf_e,w',\n 'text_CharGramTfIdf_e/s',\n 'text_CharGramTfIdf_ead',\n 'text_CharGramTfIdf_eak',\n 'text_CharGramTfIdf_eal',\n 'text_CharGramTfIdf_eam',\n 'text_CharGramTfIdf_ean',\n 'text_CharGramTfIdf_ear',\n 'text_CharGramTfIdf_eas',\n 'text_CharGramTfIdf_eat',\n 'text_CharGramTfIdf_eav',\n 'text_CharGramTfIdf_ebt',\n 'text_CharGramTfIdf_eca',\n 'text_CharGramTfIdf_ece',\n 'text_CharGramTfIdf_ech',\n 'text_CharGramTfIdf_eci',\n 'text_CharGramTfIdf_eco',\n 'text_CharGramTfIdf_ect',\n 'text_CharGramTfIdf_ecu',\n 'text_CharGramTfIdf_ed ',\n 'text_CharGramTfIdf_ed,',\n 'text_CharGramTfIdf_ed.',\n 'text_CharGramTfIdf_ed?',\n 'text_CharGramTfIdf_ede',\n 'text_CharGramTfIdf_edi',\n 'text_CharGramTfIdf_edn',\n 'text_CharGramTfIdf_edo',\n 'text_CharGramTfIdf_eds',\n 'text_CharGramTfIdf_edu',\n 'text_CharGramTfIdf_edy',\n 'text_CharGramTfIdf_ee ',\n 'text_CharGramTfIdf_eed',\n 'text_CharGramTfIdf_eek',\n 'text_CharGramTfIdf_eel',\n 'text_CharGramTfIdf_eem',\n 'text_CharGramTfIdf_een',\n 'text_CharGramTfIdf_eep',\n 'text_CharGramTfIdf_eer',\n 'text_CharGramTfIdf_ees',\n 'text_CharGramTfIdf_ef?',\n 'text_CharGramTfIdf_efe',\n 'text_CharGramTfIdf_eff',\n 'text_CharGramTfIdf_efi',\n 'text_CharGramTfIdf_eft',\n 'text_CharGramTfIdf_ega',\n 'text_CharGramTfIdf_egi',\n 'text_CharGramTfIdf_egl',\n 'text_CharGramTfIdf_eha',\n 'text_CharGramTfIdf_ein',\n 'text_CharGramTfIdf_eir',\n 'text_CharGramTfIdf_eiv',\n 'text_CharGramTfIdf_eje',\n 'text_CharGramTfIdf_ek ',\n 'text_CharGramTfIdf_eki',\n 'text_CharGramTfIdf_el ',\n 'text_CharGramTfIdf_ela',\n 'text_CharGramTfIdf_eld',\n 'text_CharGramTfIdf_ele',\n 'text_CharGramTfIdf_elf',\n 'text_CharGramTfIdf_eli',\n 'text_CharGramTfIdf_ell',\n 'text_CharGramTfIdf_elm',\n 'text_CharGramTfIdf_elo',\n 'text_CharGramTfIdf_elp',\n 'text_CharGramTfIdf_els',\n 'text_CharGramTfIdf_elt',\n 'text_CharGramTfIdf_ely',\n 'text_CharGramTfIdf_em ',\n 'text_CharGramTfIdf_em?',\n 'text_CharGramTfIdf_emb',\n 'text_CharGramTfIdf_eme',\n 'text_CharGramTfIdf_emi',\n 'text_CharGramTfIdf_emo',\n 'text_CharGramTfIdf_emp',\n 'text_CharGramTfIdf_ems',\n 'text_CharGramTfIdf_en ',\n 'text_CharGramTfIdf_en?',\n 'text_CharGramTfIdf_enc',\n 'text_CharGramTfIdf_end',\n 'text_CharGramTfIdf_ene',\n 'text_CharGramTfIdf_eng',\n 'text_CharGramTfIdf_enl',\n 'text_CharGramTfIdf_eno',\n 'text_CharGramTfIdf_ens',\n 'text_CharGramTfIdf_ent',\n 'text_CharGramTfIdf_eny',\n 'text_CharGramTfIdf_eon',\n 'text_CharGramTfIdf_eop',\n 'text_CharGramTfIdf_ep ',\n 'text_CharGramTfIdf_ep,',\n 'text_CharGramTfIdf_epa',\n 'text_CharGramTfIdf_epi',\n 'text_CharGramTfIdf_epl',\n 'text_CharGramTfIdf_epr',\n 'text_CharGramTfIdf_eps',\n 'text_CharGramTfIdf_equ',\n 'text_CharGramTfIdf_er ',\n 'text_CharGramTfIdf_er,',\n 'text_CharGramTfIdf_er-',\n 'text_CharGramTfIdf_er?',\n 'text_CharGramTfIdf_era',\n 'text_CharGramTfIdf_erc',\n 'text_CharGramTfIdf_erd',\n 'text_CharGramTfIdf_ere',\n 'text_CharGramTfIdf_erf',\n 'text_CharGramTfIdf_erg',\n 'text_CharGramTfIdf_eri',\n 'text_CharGramTfIdf_erl',\n 'text_CharGramTfIdf_erm',\n 'text_CharGramTfIdf_ern',\n 'text_CharGramTfIdf_ero',\n 'text_CharGramTfIdf_err',\n 'text_CharGramTfIdf_ers',\n 'text_CharGramTfIdf_ert',\n 'text_CharGramTfIdf_erv',\n 'text_CharGramTfIdf_erw',\n 'text_CharGramTfIdf_ery',\n 'text_CharGramTfIdf_es ',\n 'text_CharGramTfIdf_es,',\n 'text_CharGramTfIdf_es-',\n 'text_CharGramTfIdf_esc',\n 'text_CharGramTfIdf_ese',\n 'text_CharGramTfIdf_esi',\n 'text_CharGramTfIdf_eso',\n 'text_CharGramTfIdf_esp',\n 'text_CharGramTfIdf_ess',\n 'text_CharGramTfIdf_est',\n 'text_CharGramTfIdf_esu',\n 'text_CharGramTfIdf_et ',\n 'text_CharGramTfIdf_ete',\n 'text_CharGramTfIdf_eth',\n 'text_CharGramTfIdf_eti',\n 'text_CharGramTfIdf_etr',\n 'text_CharGramTfIdf_ett',\n 'text_CharGramTfIdf_ety',\n 'text_CharGramTfIdf_eva',\n 'text_CharGramTfIdf_eve',\n 'text_CharGramTfIdf_ewe',\n 'text_CharGramTfIdf_ex ',\n 'text_CharGramTfIdf_ex?',\n 'text_CharGramTfIdf_exa',\n 'text_CharGramTfIdf_exc',\n 'text_CharGramTfIdf_exi',\n 'text_CharGramTfIdf_exp',\n 'text_CharGramTfIdf_ey ',\n 'text_CharGramTfIdf_e…i',\n 'text_CharGramTfIdf_e…w',\n 'text_CharGramTfIdf_f a',\n 'text_CharGramTfIdf_f b',\n 'text_CharGramTfIdf_f c',\n 'text_CharGramTfIdf_f d',\n 'text_CharGramTfIdf_f e',\n 'text_CharGramTfIdf_f f',\n 'text_CharGramTfIdf_f h',\n 'text_CharGramTfIdf_f i',\n 'text_CharGramTfIdf_f l',\n 'text_CharGramTfIdf_f m',\n 'text_CharGramTfIdf_f n',\n 'text_CharGramTfIdf_f o',\n 'text_CharGramTfIdf_f p',\n 'text_CharGramTfIdf_f r',\n 'text_CharGramTfIdf_f s',\n 'text_CharGramTfIdf_f t',\n 'text_CharGramTfIdf_f u',\n 'text_CharGramTfIdf_f w',\n 'text_CharGramTfIdf_f y',\n 'text_CharGramTfIdf_f, ',\n 'text_CharGramTfIdf_fac',\n 'text_CharGramTfIdf_fai',\n 'text_CharGramTfIdf_fal',\n 'text_CharGramTfIdf_fam',\n 'text_CharGramTfIdf_fan',\n 'text_CharGramTfIdf_fat',\n 'text_CharGramTfIdf_fe ',\n 'text_CharGramTfIdf_fe,',\n 'text_CharGramTfIdf_fe.',\n 'text_CharGramTfIdf_fe?',\n 'text_CharGramTfIdf_fea',\n 'text_CharGramTfIdf_fec',\n 'text_CharGramTfIdf_fee',\n 'text_CharGramTfIdf_fel',\n 'text_CharGramTfIdf_fer',\n 'text_CharGramTfIdf_ff ',\n 'text_CharGramTfIdf_ffa',\n 'text_CharGramTfIdf_ffe',\n 'text_CharGramTfIdf_ffi',\n 'text_CharGramTfIdf_ffo',\n 'text_CharGramTfIdf_fgm',\n 'text_CharGramTfIdf_fic',\n 'text_CharGramTfIdf_fie',\n 'text_CharGramTfIdf_fin',\n 'text_CharGramTfIdf_fir',\n 'text_CharGramTfIdf_fit',\n 'text_CharGramTfIdf_flu',\n 'text_CharGramTfIdf_fly',\n 'text_CharGramTfIdf_fo ',\n 'text_CharGramTfIdf_fol',\n 'text_CharGramTfIdf_for',\n 'text_CharGramTfIdf_fri',\n 'text_CharGramTfIdf_fro',\n 'text_CharGramTfIdf_fru',\n 'text_CharGramTfIdf_ft ',\n 'text_CharGramTfIdf_fte',\n 'text_CharGramTfIdf_ful',\n 'text_CharGramTfIdf_fus',\n 'text_CharGramTfIdf_fut',\n 'text_CharGramTfIdf_g a',\n 'text_CharGramTfIdf_g b',\n 'text_CharGramTfIdf_g c',\n 'text_CharGramTfIdf_g d',\n 'text_CharGramTfIdf_g e',\n 'text_CharGramTfIdf_g f',\n 'text_CharGramTfIdf_g h',\n 'text_CharGramTfIdf_g i',\n 'text_CharGramTfIdf_g k',\n 'text_CharGramTfIdf_g l',\n 'text_CharGramTfIdf_g m',\n 'text_CharGramTfIdf_g o',\n 'text_CharGramTfIdf_g p',\n 'text_CharGramTfIdf_g q',\n 'text_CharGramTfIdf_g r',\n 'text_CharGramTfIdf_g s',\n 'text_CharGramTfIdf_g t',\n 'text_CharGramTfIdf_g u',\n 'text_CharGramTfIdf_g w',\n 'text_CharGramTfIdf_g. ',\n 'text_CharGramTfIdf_gai',\n 'text_CharGramTfIdf_gam',\n 'text_CharGramTfIdf_gat',\n 'text_CharGramTfIdf_gav',\n 'text_CharGramTfIdf_ge ',\n 'text_CharGramTfIdf_ge?',\n 'text_CharGramTfIdf_ged',\n 'text_CharGramTfIdf_gem',\n 'text_CharGramTfIdf_ger',\n 'text_CharGramTfIdf_ges',\n 'text_CharGramTfIdf_get',\n 'text_CharGramTfIdf_gh ',\n 'text_CharGramTfIdf_gh?',\n 'text_CharGramTfIdf_ghs',\n 'text_CharGramTfIdf_ght',\n 'text_CharGramTfIdf_gi ',\n 'text_CharGramTfIdf_gic',\n 'text_CharGramTfIdf_gie',\n 'text_CharGramTfIdf_gin',\n 'text_CharGramTfIdf_gir',\n 'text_CharGramTfIdf_giv',\n 'text_CharGramTfIdf_gle',\n 'text_CharGramTfIdf_gm ',\n 'text_CharGramTfIdf_gno',\n 'text_CharGramTfIdf_go ',\n 'text_CharGramTfIdf_god',\n 'text_CharGramTfIdf_gof',\n 'text_CharGramTfIdf_goi',\n 'text_CharGramTfIdf_goo',\n 'text_CharGramTfIdf_got',\n 'text_CharGramTfIdf_gra',\n 'text_CharGramTfIdf_gro',\n 'text_CharGramTfIdf_gry',\n 'text_CharGramTfIdf_gs ',\n 'text_CharGramTfIdf_gs?',\n 'text_CharGramTfIdf_gsn',\n 'text_CharGramTfIdf_gui',\n 'text_CharGramTfIdf_gus',\n 'text_CharGramTfIdf_gy ',\n 'text_CharGramTfIdf_h a',\n 'text_CharGramTfIdf_h b',\n 'text_CharGramTfIdf_h c',\n 'text_CharGramTfIdf_h d',\n 'text_CharGramTfIdf_h e',\n 'text_CharGramTfIdf_h f',\n 'text_CharGramTfIdf_h h',\n 'text_CharGramTfIdf_h i',\n 'text_CharGramTfIdf_h l',\n 'text_CharGramTfIdf_h m',\n 'text_CharGramTfIdf_h n',\n 'text_CharGramTfIdf_h o',\n 'text_CharGramTfIdf_h p',\n 'text_CharGramTfIdf_h r',\n 'text_CharGramTfIdf_h s',\n 'text_CharGramTfIdf_h t',\n 'text_CharGramTfIdf_h w',\n 'text_CharGramTfIdf_h. ',\n 'text_CharGramTfIdf_hab',\n 'text_CharGramTfIdf_had',\n 'text_CharGramTfIdf_hal',\n 'text_CharGramTfIdf_ham',\n 'text_CharGramTfIdf_han',\n 'text_CharGramTfIdf_hao',\n 'text_CharGramTfIdf_hap',\n 'text_CharGramTfIdf_har',\n 'text_CharGramTfIdf_has',\n 'text_CharGramTfIdf_hat',\n 'text_CharGramTfIdf_hav',\n 'text_CharGramTfIdf_hd ',\n 'text_CharGramTfIdf_hdr',\n 'text_CharGramTfIdf_he ',\n 'text_CharGramTfIdf_he,',\n 'text_CharGramTfIdf_he/',\n 'text_CharGramTfIdf_hea',\n 'text_CharGramTfIdf_hed',\n 'text_CharGramTfIdf_hei',\n 'text_CharGramTfIdf_hel',\n 'text_CharGramTfIdf_hem',\n 'text_CharGramTfIdf_hen',\n 'text_CharGramTfIdf_her',\n 'text_CharGramTfIdf_hes',\n 'text_CharGramTfIdf_hey',\n 'text_CharGramTfIdf_hib',\n 'text_CharGramTfIdf_hic',\n 'text_CharGramTfIdf_hig',\n 'text_CharGramTfIdf_hil',\n 'text_CharGramTfIdf_hin',\n 'text_CharGramTfIdf_hip',\n 'text_CharGramTfIdf_his',\n 'text_CharGramTfIdf_hn ',\n 'text_CharGramTfIdf_ho ',\n 'text_CharGramTfIdf_hod',\n 'text_CharGramTfIdf_hoi',\n 'text_CharGramTfIdf_hol',\n 'text_CharGramTfIdf_hom',\n 'text_CharGramTfIdf_hoo',\n 'text_CharGramTfIdf_hop',\n 'text_CharGramTfIdf_hor',\n 'text_CharGramTfIdf_hou',\n 'text_CharGramTfIdf_how',\n 'text_CharGramTfIdf_hre',\n 'text_CharGramTfIdf_hro',\n 'text_CharGramTfIdf_hs ',\n 'text_CharGramTfIdf_hsc',\n 'text_CharGramTfIdf_ht ',\n 'text_CharGramTfIdf_hte',\n 'text_CharGramTfIdf_htl',\n 'text_CharGramTfIdf_hts',\n 'text_CharGramTfIdf_hun',\n 'text_CharGramTfIdf_hur',\n 'text_CharGramTfIdf_hus',\n 'text_CharGramTfIdf_hw ',\n 'text_CharGramTfIdf_hy ',\n 'text_CharGramTfIdf_hy?',\n 'text_CharGramTfIdf_hyn',\n 'text_CharGramTfIdf_hyp',\n 'text_CharGramTfIdf_i a',\n 'text_CharGramTfIdf_i b',\n 'text_CharGramTfIdf_i c',\n 'text_CharGramTfIdf_i d',\n 'text_CharGramTfIdf_i e',\n 'text_CharGramTfIdf_i f',\n 'text_CharGramTfIdf_i g',\n 'text_CharGramTfIdf_i h',\n 'text_CharGramTfIdf_i i',\n 'text_CharGramTfIdf_i j',\n 'text_CharGramTfIdf_i k',\n 'text_CharGramTfIdf_i l',\n 'text_CharGramTfIdf_i m',\n 'text_CharGramTfIdf_i n',\n 'text_CharGramTfIdf_i o',\n 'text_CharGramTfIdf_i q',\n 'text_CharGramTfIdf_i r',\n 'text_CharGramTfIdf_i s',\n 'text_CharGramTfIdf_i t',\n 'text_CharGramTfIdf_i u',\n 'text_CharGramTfIdf_i w',\n \"text_CharGramTfIdf_i'm\",\n 'text_CharGramTfIdf_ia,',\n 'text_CharGramTfIdf_iag',\n 'text_CharGramTfIdf_ial',\n 'text_CharGramTfIdf_iat',\n 'text_CharGramTfIdf_iba',\n 'text_CharGramTfIdf_ibi',\n 'text_CharGramTfIdf_ibl',\n 'text_CharGramTfIdf_ic ',\n 'text_CharGramTfIdf_ic,',\n 'text_CharGramTfIdf_ica',\n 'text_CharGramTfIdf_ice',\n 'text_CharGramTfIdf_ich',\n 'text_CharGramTfIdf_ici',\n 'text_CharGramTfIdf_ick',\n 'text_CharGramTfIdf_ics',\n 'text_CharGramTfIdf_ict',\n 'text_CharGramTfIdf_icu',\n 'text_CharGramTfIdf_id ',\n 'text_CharGramTfIdf_id?',\n 'text_CharGramTfIdf_ida',\n 'text_CharGramTfIdf_idc',\n 'text_CharGramTfIdf_ide',\n 'text_CharGramTfIdf_idn',\n 'text_CharGramTfIdf_iea',\n 'text_CharGramTfIdf_ied',\n 'text_CharGramTfIdf_ief',\n 'text_CharGramTfIdf_ien',\n 'text_CharGramTfIdf_ier',\n 'text_CharGramTfIdf_ies',\n 'text_CharGramTfIdf_iet',\n 'text_CharGramTfIdf_iev',\n 'text_CharGramTfIdf_iew',\n 'text_CharGramTfIdf_if ',\n 'text_CharGramTfIdf_ife',\n 'text_CharGramTfIdf_iff',\n 'text_CharGramTfIdf_ifi',\n 'text_CharGramTfIdf_igh',\n 'text_CharGramTfIdf_ign',\n 'text_CharGramTfIdf_igr',\n 'text_CharGramTfIdf_ii ',\n 'text_CharGramTfIdf_ike',\n 'text_CharGramTfIdf_il ',\n 'text_CharGramTfIdf_ild',\n 'text_CharGramTfIdf_ile',\n 'text_CharGramTfIdf_ili',\n 'text_CharGramTfIdf_ill',\n 'text_CharGramTfIdf_ilu',\n 'text_CharGramTfIdf_ily',\n 'text_CharGramTfIdf_im ',\n 'text_CharGramTfIdf_ime',\n 'text_CharGramTfIdf_imi',\n 'text_CharGramTfIdf_imp',\n 'text_CharGramTfIdf_in ',\n 'text_CharGramTfIdf_ina',\n 'text_CharGramTfIdf_inc',\n 'text_CharGramTfIdf_ind',\n 'text_CharGramTfIdf_ine',\n 'text_CharGramTfIdf_inf',\n 'text_CharGramTfIdf_ing',\n 'text_CharGramTfIdf_ini',\n 'text_CharGramTfIdf_ink',\n 'text_CharGramTfIdf_inm',\n 'text_CharGramTfIdf_inn',\n 'text_CharGramTfIdf_ino',\n 'text_CharGramTfIdf_ins',\n 'text_CharGramTfIdf_int',\n 'text_CharGramTfIdf_inu',\n 'text_CharGramTfIdf_inv',\n ...]"
          },
          "metadata": {}
        }
      ],
      "execution_count": 66,
      "metadata": {
        "collapsed": true,
        "jupyter": {
          "source_hidden": false,
          "outputs_hidden": false
        },
        "nteract": {
          "transient": {
            "deleting": false
          }
        },
        "gather": {
          "logged": 1609918085756
        }
      }
    },
    {
      "cell_type": "code",
      "source": [
        "fitted_model.named_steps[\"datatransformer\"].get_featurization_summary()"
      ],
      "outputs": [
        {
          "output_type": "execute_result",
          "execution_count": 67,
          "data": {
            "text/plain": "[{'RawFeatureName': 'text',\n  'TypeDetected': 'Text',\n  'Dropped': 'No',\n  'EngineeredFeatureCount': 5090,\n  'Transformations': ['StringCast-CharGramTfIdf', 'StringCast-WordGramTfIdf']}]"
          },
          "metadata": {}
        }
      ],
      "execution_count": 67,
      "metadata": {
        "collapsed": true,
        "jupyter": {
          "source_hidden": false,
          "outputs_hidden": false
        },
        "nteract": {
          "transient": {
            "deleting": false
          }
        },
        "gather": {
          "logged": 1609918095370
        }
      }
    },
    {
      "cell_type": "code",
      "source": [],
      "outputs": [],
      "execution_count": null,
      "metadata": {
        "collapsed": true,
        "jupyter": {
          "source_hidden": false,
          "outputs_hidden": false
        },
        "nteract": {
          "transient": {
            "deleting": false
          }
        }
      }
    },
    {
      "cell_type": "code",
      "source": [
        "fitted_model.steps"
      ],
      "outputs": [
        {
          "output_type": "execute_result",
          "execution_count": 68,
          "data": {
            "text/plain": "[('datatransformer',\n  DataTransformer(enable_dnn=None, enable_feature_sweeping=None,\n                  feature_sweeping_config=None, feature_sweeping_timeout=None,\n                  featurization_config=None, force_text_dnn=None,\n                  is_cross_validation=None, is_onnx_compatible=None, logger=None,\n                  observer=None, task=None, working_dir=None)),\n ('prefittedsoftvotingclassifier',\n  PreFittedSoftVotingClassifier(classification_labels=None,\n                                estimators=[('8',\n                                             Pipeline(memory=None,\n                                                      steps=[('sparsenormalizer',\n                                                              <azureml.automl.runtime.shared.model_wrappers.SparseNormalizer object at 0x7fdf4a4aef28>),\n                                                             ('xgboostclassifier',\n                                                              XGBoostClassifier(base_score=0.5,\n                                                                                booster='gbtree',\n                                                                                colsample_bylevel=0.6,\n                                                                                colsample_bynode=1,\n                                                                                colsample_bytree=1,\n                                                                                eta=0.3,\n                                                                                ga...\n                                                                                max_leaves=15,\n                                                                                min_child_weight=1,\n                                                                                missing=nan,\n                                                                                n_estimators=25,\n                                                                                n_jobs=1,\n                                                                                nthread=None,\n                                                                                objective='multi:softprob',\n                                                                                random_state=0,\n                                                                                reg_alpha=0,\n                                                                                reg_lambda=0.5208333333333334,\n                                                                                scale_pos_weight=1,\n                                                                                seed=None,\n                                                                                silent=None,\n                                                                                subsample=0.6,\n                                                                                tree_method='auto',\n                                                                                verbose=-10,\n                                                                                verbosity=0))],\n                                                      verbose=False))],\n                                flatten_transform=None,\n                                weights=[0.125, 0.125, 0.375, 0.125, 0.125,\n                                         0.125]))]"
          },
          "metadata": {}
        }
      ],
      "execution_count": 68,
      "metadata": {
        "collapsed": true,
        "jupyter": {
          "source_hidden": false,
          "outputs_hidden": false
        },
        "nteract": {
          "transient": {
            "deleting": false
          }
        },
        "gather": {
          "logged": 1609918123318
        }
      }
    },
    {
      "cell_type": "code",
      "source": [
        "test.columns"
      ],
      "outputs": [
        {
          "output_type": "execute_result",
          "execution_count": 69,
          "data": {
            "text/plain": "Index(['text', 'label'], dtype='object')"
          },
          "metadata": {}
        }
      ],
      "execution_count": 69,
      "metadata": {
        "collapsed": true,
        "jupyter": {
          "source_hidden": false,
          "outputs_hidden": false
        },
        "nteract": {
          "transient": {
            "deleting": false
          }
        },
        "gather": {
          "logged": 1609918168962
        }
      }
    },
    {
      "cell_type": "code",
      "source": [
        "from sklearn.metrics import accuracy_score\r\n",
        "\r\n",
        "y_pred=fitted_model.predict(test.iloc[:, :1])\r\n",
        "\r\n",
        "print(\"Model accuracy: \", accuracy_score(test['label'], y_pred))"
      ],
      "outputs": [
        {
          "output_type": "stream",
          "name": "stdout",
          "text": [
            "Model accuracy:  0.7580645161290323\n"
          ]
        }
      ],
      "execution_count": 70,
      "metadata": {
        "collapsed": true,
        "jupyter": {
          "source_hidden": false,
          "outputs_hidden": false
        },
        "nteract": {
          "transient": {
            "deleting": false
          }
        },
        "gather": {
          "logged": 1609918196497
        }
      }
    },
    {
      "cell_type": "code",
      "source": [
        "test=pd.read_csv(\"./Test.csv\")\r\n",
        "test.head()"
      ],
      "outputs": [
        {
          "output_type": "execute_result",
          "execution_count": 72,
          "data": {
            "text/plain": "         ID                                               text\n0  02V56KMO          How to overcome bad feelings and emotions\n1  03BMGTOK                     I feel like giving up in life \n2  03LZVFM6  I was so depressed feel like got no strength t...\n3  0EPULUM5  I feel so low especially since I had no one to...\n4  0GM4C5GD       can i be successful when I am a drug addict?",
            "text/html": "<div>\n<style scoped>\n    .dataframe tbody tr th:only-of-type {\n        vertical-align: middle;\n    }\n\n    .dataframe tbody tr th {\n        vertical-align: top;\n    }\n\n    .dataframe thead th {\n        text-align: right;\n    }\n</style>\n<table border=\"1\" class=\"dataframe\">\n  <thead>\n    <tr style=\"text-align: right;\">\n      <th></th>\n      <th>ID</th>\n      <th>text</th>\n    </tr>\n  </thead>\n  <tbody>\n    <tr>\n      <th>0</th>\n      <td>02V56KMO</td>\n      <td>How to overcome bad feelings and emotions</td>\n    </tr>\n    <tr>\n      <th>1</th>\n      <td>03BMGTOK</td>\n      <td>I feel like giving up in life</td>\n    </tr>\n    <tr>\n      <th>2</th>\n      <td>03LZVFM6</td>\n      <td>I was so depressed feel like got no strength t...</td>\n    </tr>\n    <tr>\n      <th>3</th>\n      <td>0EPULUM5</td>\n      <td>I feel so low especially since I had no one to...</td>\n    </tr>\n    <tr>\n      <th>4</th>\n      <td>0GM4C5GD</td>\n      <td>can i be successful when I am a drug addict?</td>\n    </tr>\n  </tbody>\n</table>\n</div>"
          },
          "metadata": {}
        }
      ],
      "execution_count": 72,
      "metadata": {
        "collapsed": true,
        "jupyter": {
          "source_hidden": false,
          "outputs_hidden": false
        },
        "nteract": {
          "transient": {
            "deleting": false
          }
        },
        "gather": {
          "logged": 1609918481058
        }
      }
    },
    {
      "cell_type": "code",
      "source": [
        "y_proba=fitted_model.predict_proba(test[[\"text\"]])"
      ],
      "outputs": [],
      "execution_count": 74,
      "metadata": {
        "collapsed": true,
        "jupyter": {
          "source_hidden": false,
          "outputs_hidden": false
        },
        "nteract": {
          "transient": {
            "deleting": false
          }
        },
        "gather": {
          "logged": 1609918540062
        }
      }
    },
    {
      "cell_type": "code",
      "source": [
        "y_proba"
      ],
      "outputs": [
        {
          "output_type": "execute_result",
          "execution_count": 75,
          "data": {
            "text/plain": "     Alcohol  Depression  Drugs  Suicide\n0       0.09        0.71   0.02     0.17\n1       0.01        0.95   0.01     0.02\n2       0.01        0.96   0.01     0.02\n3       0.02        0.90   0.02     0.06\n4       0.17        0.38   0.25     0.20\n..       ...         ...    ...      ...\n304     0.16        0.52   0.16     0.16\n305     0.05        0.58   0.06     0.31\n306     0.30        0.51   0.05     0.14\n307     0.03        0.04   0.88     0.04\n308     0.48        0.31   0.05     0.17\n\n[309 rows x 4 columns]",
            "text/html": "<div>\n<style scoped>\n    .dataframe tbody tr th:only-of-type {\n        vertical-align: middle;\n    }\n\n    .dataframe tbody tr th {\n        vertical-align: top;\n    }\n\n    .dataframe thead th {\n        text-align: right;\n    }\n</style>\n<table border=\"1\" class=\"dataframe\">\n  <thead>\n    <tr style=\"text-align: right;\">\n      <th></th>\n      <th>Alcohol</th>\n      <th>Depression</th>\n      <th>Drugs</th>\n      <th>Suicide</th>\n    </tr>\n  </thead>\n  <tbody>\n    <tr>\n      <th>0</th>\n      <td>0.09</td>\n      <td>0.71</td>\n      <td>0.02</td>\n      <td>0.17</td>\n    </tr>\n    <tr>\n      <th>1</th>\n      <td>0.01</td>\n      <td>0.95</td>\n      <td>0.01</td>\n      <td>0.02</td>\n    </tr>\n    <tr>\n      <th>2</th>\n      <td>0.01</td>\n      <td>0.96</td>\n      <td>0.01</td>\n      <td>0.02</td>\n    </tr>\n    <tr>\n      <th>3</th>\n      <td>0.02</td>\n      <td>0.90</td>\n      <td>0.02</td>\n      <td>0.06</td>\n    </tr>\n    <tr>\n      <th>4</th>\n      <td>0.17</td>\n      <td>0.38</td>\n      <td>0.25</td>\n      <td>0.20</td>\n    </tr>\n    <tr>\n      <th>...</th>\n      <td>...</td>\n      <td>...</td>\n      <td>...</td>\n      <td>...</td>\n    </tr>\n    <tr>\n      <th>304</th>\n      <td>0.16</td>\n      <td>0.52</td>\n      <td>0.16</td>\n      <td>0.16</td>\n    </tr>\n    <tr>\n      <th>305</th>\n      <td>0.05</td>\n      <td>0.58</td>\n      <td>0.06</td>\n      <td>0.31</td>\n    </tr>\n    <tr>\n      <th>306</th>\n      <td>0.30</td>\n      <td>0.51</td>\n      <td>0.05</td>\n      <td>0.14</td>\n    </tr>\n    <tr>\n      <th>307</th>\n      <td>0.03</td>\n      <td>0.04</td>\n      <td>0.88</td>\n      <td>0.04</td>\n    </tr>\n    <tr>\n      <th>308</th>\n      <td>0.48</td>\n      <td>0.31</td>\n      <td>0.05</td>\n      <td>0.17</td>\n    </tr>\n  </tbody>\n</table>\n<p>309 rows × 4 columns</p>\n</div>"
          },
          "metadata": {}
        }
      ],
      "execution_count": 75,
      "metadata": {
        "collapsed": true,
        "jupyter": {
          "source_hidden": false,
          "outputs_hidden": false
        },
        "nteract": {
          "transient": {
            "deleting": false
          }
        },
        "gather": {
          "logged": 1609918551318
        }
      }
    },
    {
      "cell_type": "code",
      "source": [
        "sub=pd.DataFrame()"
      ],
      "outputs": [],
      "execution_count": 76,
      "metadata": {
        "collapsed": true,
        "jupyter": {
          "source_hidden": false,
          "outputs_hidden": false
        },
        "nteract": {
          "transient": {
            "deleting": false
          }
        },
        "gather": {
          "logged": 1609918697971
        }
      }
    },
    {
      "cell_type": "code",
      "source": [
        "sub[\"ID\"]=test.ID\r\n",
        "sub[\"Depression\"]=y_proba.Depression\r\n",
        "sub[\"Alcohol\"]=y_proba.Alcohol\r\n",
        "sub[\"Suicide\"]=y_proba.Suicide\r\n",
        "sub[\"Drugs\"]=y_proba.Drugs"
      ],
      "outputs": [],
      "execution_count": 77,
      "metadata": {
        "collapsed": true,
        "jupyter": {
          "source_hidden": false,
          "outputs_hidden": false
        },
        "nteract": {
          "transient": {
            "deleting": false
          }
        },
        "gather": {
          "logged": 1609918878587
        }
      }
    },
    {
      "cell_type": "code",
      "source": [
        "sub.head()"
      ],
      "outputs": [
        {
          "output_type": "execute_result",
          "execution_count": 78,
          "data": {
            "text/plain": "         ID  Depression  Alcohol  Suicide  Drugs\n0  02V56KMO        0.71     0.09     0.17   0.02\n1  03BMGTOK        0.95     0.01     0.02   0.01\n2  03LZVFM6        0.96     0.01     0.02   0.01\n3  0EPULUM5        0.90     0.02     0.06   0.02\n4  0GM4C5GD        0.38     0.17     0.20   0.25",
            "text/html": "<div>\n<style scoped>\n    .dataframe tbody tr th:only-of-type {\n        vertical-align: middle;\n    }\n\n    .dataframe tbody tr th {\n        vertical-align: top;\n    }\n\n    .dataframe thead th {\n        text-align: right;\n    }\n</style>\n<table border=\"1\" class=\"dataframe\">\n  <thead>\n    <tr style=\"text-align: right;\">\n      <th></th>\n      <th>ID</th>\n      <th>Depression</th>\n      <th>Alcohol</th>\n      <th>Suicide</th>\n      <th>Drugs</th>\n    </tr>\n  </thead>\n  <tbody>\n    <tr>\n      <th>0</th>\n      <td>02V56KMO</td>\n      <td>0.71</td>\n      <td>0.09</td>\n      <td>0.17</td>\n      <td>0.02</td>\n    </tr>\n    <tr>\n      <th>1</th>\n      <td>03BMGTOK</td>\n      <td>0.95</td>\n      <td>0.01</td>\n      <td>0.02</td>\n      <td>0.01</td>\n    </tr>\n    <tr>\n      <th>2</th>\n      <td>03LZVFM6</td>\n      <td>0.96</td>\n      <td>0.01</td>\n      <td>0.02</td>\n      <td>0.01</td>\n    </tr>\n    <tr>\n      <th>3</th>\n      <td>0EPULUM5</td>\n      <td>0.90</td>\n      <td>0.02</td>\n      <td>0.06</td>\n      <td>0.02</td>\n    </tr>\n    <tr>\n      <th>4</th>\n      <td>0GM4C5GD</td>\n      <td>0.38</td>\n      <td>0.17</td>\n      <td>0.20</td>\n      <td>0.25</td>\n    </tr>\n  </tbody>\n</table>\n</div>"
          },
          "metadata": {}
        }
      ],
      "execution_count": 78,
      "metadata": {
        "collapsed": true,
        "jupyter": {
          "source_hidden": false,
          "outputs_hidden": false
        },
        "nteract": {
          "transient": {
            "deleting": false
          }
        },
        "gather": {
          "logged": 1609918890534
        }
      }
    },
    {
      "cell_type": "code",
      "source": [
        "sub.to_csv(\"./automl_1.csv\", index=False)"
      ],
      "outputs": [],
      "execution_count": 79,
      "metadata": {
        "collapsed": true,
        "jupyter": {
          "source_hidden": false,
          "outputs_hidden": false
        },
        "nteract": {
          "transient": {
            "deleting": false
          }
        },
        "gather": {
          "logged": 1609918950887
        }
      }
    },
    {
      "cell_type": "markdown",
      "source": [
        "## Model Deployment\n",
        "\n",
        "Remember you have to deploy only one of the two models you trained.. Perform the steps in the rest of this notebook only if you wish to deploy this model.\n",
        "\n",
        "TODO: In the cell below, register the model, create an inference config and deploy the model as a web service."
      ],
      "metadata": {}
    },
    {
      "cell_type": "code",
      "source": [],
      "outputs": [],
      "execution_count": null,
      "metadata": {
        "gather": {
          "logged": 1598431435189
        },
        "jupyter": {
          "outputs_hidden": false,
          "source_hidden": false
        },
        "nteract": {
          "transient": {
            "deleting": false
          }
        }
      }
    },
    {
      "cell_type": "markdown",
      "source": [
        "TODO: In the cell below, send a request to the web service you deployed to test it."
      ],
      "metadata": {
        "collapsed": true,
        "gather": {
          "logged": 1598431657736
        },
        "jupyter": {
          "outputs_hidden": false,
          "source_hidden": false
        },
        "nteract": {
          "transient": {
            "deleting": false
          }
        }
      }
    },
    {
      "cell_type": "code",
      "source": [],
      "outputs": [],
      "execution_count": null,
      "metadata": {
        "gather": {
          "logged": 1598432707604
        },
        "jupyter": {
          "outputs_hidden": false,
          "source_hidden": false
        },
        "nteract": {
          "transient": {
            "deleting": false
          }
        }
      }
    },
    {
      "cell_type": "markdown",
      "source": [
        "TODO: In the cell below, print the logs of the web service and delete the service"
      ],
      "metadata": {
        "collapsed": true,
        "gather": {
          "logged": 1598432765711
        },
        "jupyter": {
          "outputs_hidden": false,
          "source_hidden": false
        },
        "nteract": {
          "transient": {
            "deleting": false
          }
        }
      }
    },
    {
      "cell_type": "code",
      "source": [],
      "outputs": [],
      "execution_count": null,
      "metadata": {
        "jupyter": {
          "outputs_hidden": false,
          "source_hidden": false
        },
        "nteract": {
          "transient": {
            "deleting": false
          }
        }
      }
    }
  ],
  "metadata": {
    "kernel_info": {
      "name": "python3"
    },
    "kernelspec": {
      "name": "python3",
      "language": "python",
      "display_name": "Python 3"
    },
    "language_info": {
      "name": "python",
      "version": "3.6.9",
      "mimetype": "text/x-python",
      "codemirror_mode": {
        "name": "ipython",
        "version": 3
      },
      "pygments_lexer": "ipython3",
      "nbconvert_exporter": "python",
      "file_extension": ".py"
    },
    "nteract": {
      "version": "nteract-front-end@1.0.0"
    }
  },
  "nbformat": 4,
  "nbformat_minor": 2
}